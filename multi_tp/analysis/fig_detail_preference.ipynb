{
 "cells": [
  {
   "cell_type": "code",
   "execution_count": 130,
   "metadata": {},
   "outputs": [],
   "source": [
    "# %%\n",
    "import sys\n",
    "\n",
    "sys.path.append(\"../../\")"
   ]
  },
  {
   "cell_type": "code",
   "execution_count": 131,
   "metadata": {},
   "outputs": [
    {
     "name": "stdout",
     "output_type": "stream",
     "text": [
      "File ../../data/performance/B=meta-llama_Meta-Llama-3.1-8B-Instruct/microsoft_Phi-3.5-MoE-instruct_normal_en+google_tr+google_performance_v2.csv does not exist\n"
     ]
    }
   ],
   "source": [
    "import pandas as pd\n",
    "import plotly.graph_objects as go\n",
    "from plotly.subplots import make_subplots\n",
    "import os\n",
    "\n",
    "from multi_tp.utils import LANGUAGES, get_model_name_path, get_suffix, performance_file_v2_tmpl\n",
    "from multi_tp.models_ids import *\n",
    "\n",
    "system_role = \"normal\"\n",
    "translator_provider_forward = \"google\"\n",
    "translator_provider_backward = \"google\"\n",
    "analysis_backend_model_version = \"meta-llama/Meta-Llama-3.1-8B-Instruct\"\n",
    "add_paraphrase = False\n",
    "country = None\n",
    "\n",
    "lang=\"en\"\n",
    "\n",
    "\n",
    "criteria = [\n",
    "    \"Species_Humans_Bin_Choice\",\n",
    "    \"Age_Young_Bin_Choice\",\n",
    "    \"Fitness_Fit_Bin_Choice\",\n",
    "    \"Gender_Female_Bin_Choice\",\n",
    "    \"SocialValue_High_Bin_Choice\",\n",
    "    \"Utilitarianism_More_Bin_Choice\",\n",
    "]\n",
    "custom_order = [\"Species_Humans_Bin_Choice\", \n",
    "                \"Utilitarianism_More_Bin_Choice\",\n",
    "                \"Age_Young_Bin_Choice\",\n",
    "                \"SocialValue_High_Bin_Choice\",\n",
    "                \"Fitness_Fit_Bin_Choice\",\n",
    "                \"Gender_Female_Bin_Choice\"\n",
    "                ]\n",
    "\n",
    "\n",
    "model_version = LLAMA_3_1_70B\n",
    "\n",
    "all_data = {}\n",
    "for model_version in MODELS:\n",
    "    in_path = performance_file_v2_tmpl.format(\n",
    "                model_version=get_model_name_path(model_version),\n",
    "                system_role=system_role,\n",
    "                lang=lang,\n",
    "                suffix=get_suffix(add_paraphrase, country),\n",
    "                translator_provider_forward=translator_provider_forward,\n",
    "                translator_provider_backward=translator_provider_backward,\n",
    "                analysis_backend_model_version=get_model_name_path(\n",
    "                    analysis_backend_model_version\n",
    "                ),\n",
    "            )\n",
    "    in_path= os.path.join(\"../../\", in_path)\n",
    "    # check if the file exists\n",
    "    if not os.path.exists(in_path):\n",
    "        print(f\"File {in_path} does not exist\")\n",
    "        continue\n",
    "    # Assuming you have the CSV file in the same directory\n",
    "    data = pd.read_csv(in_path)\n",
    "\n",
    "    data.index = data[\"criterion\"]\n",
    "\n",
    "    index = [d for d in data.index if d in criteria]\n",
    "    data = data.loc[index]\n",
    "    data = data[[\"criterion\", \"percentage\"]]\n",
    "\n",
    "    data[\"percentage\"] = data[\"percentage\"] / 100\n",
    "\n",
    "    data.reset_index(drop=True, inplace=True)\n",
    "    data['criterion']= pd.Categorical(data['criterion'], categories=custom_order, ordered=True)\n",
    "    data = data.sort_values('criterion')\n",
    "    all_data[model_version] = data\n"
   ]
  },
  {
   "cell_type": "code",
   "execution_count": 132,
   "metadata": {},
   "outputs": [
    {
     "data": {
      "text/html": [
       "<div>\n",
       "<style scoped>\n",
       "    .dataframe tbody tr th:only-of-type {\n",
       "        vertical-align: middle;\n",
       "    }\n",
       "\n",
       "    .dataframe tbody tr th {\n",
       "        vertical-align: top;\n",
       "    }\n",
       "\n",
       "    .dataframe thead th {\n",
       "        text-align: right;\n",
       "    }\n",
       "</style>\n",
       "<table border=\"1\" class=\"dataframe\">\n",
       "  <thead>\n",
       "    <tr style=\"text-align: right;\">\n",
       "      <th></th>\n",
       "      <th>criterion</th>\n",
       "      <th>percentage</th>\n",
       "    </tr>\n",
       "  </thead>\n",
       "  <tbody>\n",
       "    <tr>\n",
       "      <th>5</th>\n",
       "      <td>Species_Humans_Bin_Choice</td>\n",
       "      <td>0.797445</td>\n",
       "    </tr>\n",
       "    <tr>\n",
       "      <th>3</th>\n",
       "      <td>Utilitarianism_More_Bin_Choice</td>\n",
       "      <td>0.753526</td>\n",
       "    </tr>\n",
       "    <tr>\n",
       "      <th>0</th>\n",
       "      <td>Age_Young_Bin_Choice</td>\n",
       "      <td>0.724156</td>\n",
       "    </tr>\n",
       "    <tr>\n",
       "      <th>4</th>\n",
       "      <td>SocialValue_High_Bin_Choice</td>\n",
       "      <td>0.661781</td>\n",
       "    </tr>\n",
       "    <tr>\n",
       "      <th>1</th>\n",
       "      <td>Fitness_Fit_Bin_Choice</td>\n",
       "      <td>0.576128</td>\n",
       "    </tr>\n",
       "    <tr>\n",
       "      <th>2</th>\n",
       "      <td>Gender_Female_Bin_Choice</td>\n",
       "      <td>0.562544</td>\n",
       "    </tr>\n",
       "  </tbody>\n",
       "</table>\n",
       "</div>"
      ],
      "text/plain": [
       "                        criterion  percentage\n",
       "5       Species_Humans_Bin_Choice    0.797445\n",
       "3  Utilitarianism_More_Bin_Choice    0.753526\n",
       "0            Age_Young_Bin_Choice    0.724156\n",
       "4     SocialValue_High_Bin_Choice    0.661781\n",
       "1          Fitness_Fit_Bin_Choice    0.576128\n",
       "2        Gender_Female_Bin_Choice    0.562544"
      ]
     },
     "execution_count": 132,
     "metadata": {},
     "output_type": "execute_result"
    }
   ],
   "source": [
    "humans = pd.read_csv(\"../../data/human/human_preferences_by_lang_converted.csv\")\n",
    "humans_to_our = {\"Age\": \"Age_Young_Bin_Choice\", \"Fitness\": \"Fitness_Fit_Bin_Choice\", \"Gender\": \"Gender_Female_Bin_Choice\" , \"Social Status\": \"SocialValue_High_Bin_Choice\", \"Species\": \"Species_Humans_Bin_Choice\", \"No. Characters\": \"Utilitarianism_More_Bin_Choice\"}\n",
    "humans[\"Label\"] = humans[\"Label\"].apply(lambda x: humans_to_our[x])\n",
    "humans = humans.rename(columns={\"Label\": \"criterion\"})\n",
    "humans = humans[[\"criterion\", lang]]\n",
    "humans.rename(columns={lang: \"percentage\"}, inplace=True)\n",
    "humans[\"percentage\"] = humans[\"percentage\"] / 100\n",
    "humans['criterion']= pd.Categorical(humans['criterion'], categories=custom_order, ordered=True)\n",
    "humans = humans.sort_values('criterion')\n",
    "humans"
   ]
  },
  {
   "cell_type": "code",
   "execution_count": 133,
   "metadata": {},
   "outputs": [
    {
     "data": {
      "application/vnd.plotly.v1+json": {
       "config": {
        "plotlyServerURL": "https://plot.ly"
       },
       "data": [
        {
         "marker": {
          "color": "#0077ad",
          "line": {
           "color": "#0077ad",
           "width": 2
          }
         },
         "name": "Mistral 7B",
         "opacity": 0.7,
         "orientation": "h",
         "type": "bar",
         "width": 0.3,
         "x": [
          1,
          1,
          0.5,
          0.8571,
          1
         ],
         "y": [
          "Species_Humans_Bin_Choice",
          "Utilitarianism_More_Bin_Choice",
          "Age_Young_Bin_Choice",
          "SocialValue_High_Bin_Choice",
          "Gender_Female_Bin_Choice"
         ]
        },
        {
         "marker": {
          "color": "white",
          "line": {
           "color": "#ad0077",
           "width": 2
          },
          "size": 20
         },
         "mode": "markers",
         "name": "Human Preference",
         "showlegend": true,
         "type": "scatter",
         "x": [
          0.7974454552522746,
          0.753525616600679,
          0.7241555080471478,
          0.6617809934377845,
          0.576127833908965,
          0.5625438093111024
         ],
         "y": [
          "Species_Humans_Bin_Choice",
          "Utilitarianism_More_Bin_Choice",
          "Age_Young_Bin_Choice",
          "SocialValue_High_Bin_Choice",
          "Fitness_Fit_Bin_Choice",
          "Gender_Female_Bin_Choice"
         ]
        }
       ],
       "layout": {
        "annotations": [
         {
          "align": "left",
          "font": {
           "size": 14
          },
          "showarrow": false,
          "text": "Sparing females",
          "x": 1.06,
          "xanchor": "left",
          "xref": "paper",
          "y": 0,
          "yref": "y"
         },
         {
          "align": "left",
          "font": {
           "size": 14
          },
          "showarrow": false,
          "text": "Sparing the fit",
          "x": 1.06,
          "xanchor": "left",
          "xref": "paper",
          "y": 1,
          "yref": "y"
         },
         {
          "align": "left",
          "font": {
           "size": 14
          },
          "showarrow": false,
          "text": "Sparing higher status",
          "x": 1.06,
          "xanchor": "left",
          "xref": "paper",
          "y": 2,
          "yref": "y"
         },
         {
          "align": "left",
          "font": {
           "size": 14
          },
          "showarrow": false,
          "text": "Sparing the young",
          "x": 1.06,
          "xanchor": "left",
          "xref": "paper",
          "y": 3,
          "yref": "y"
         },
         {
          "align": "left",
          "font": {
           "size": 14
          },
          "showarrow": false,
          "text": "Sparing more characters",
          "x": 1.06,
          "xanchor": "left",
          "xref": "paper",
          "y": 4,
          "yref": "y"
         },
         {
          "align": "left",
          "font": {
           "size": 14
          },
          "showarrow": false,
          "text": "Sparing humans",
          "x": 1.06,
          "xanchor": "left",
          "xref": "paper",
          "y": 5,
          "yref": "y"
         },
         {
          "align": "right",
          "font": {
           "size": 14
          },
          "showarrow": false,
          "text": "Sparing males",
          "x": -0.02,
          "xanchor": "right",
          "xref": "paper",
          "y": 0,
          "yref": "y"
         },
         {
          "align": "right",
          "font": {
           "size": 14
          },
          "showarrow": false,
          "text": "Sparing the large",
          "x": -0.02,
          "xanchor": "right",
          "xref": "paper",
          "y": 1,
          "yref": "y"
         },
         {
          "align": "right",
          "font": {
           "size": 14
          },
          "showarrow": false,
          "text": "Sparing lower status",
          "x": -0.02,
          "xanchor": "right",
          "xref": "paper",
          "y": 2,
          "yref": "y"
         },
         {
          "align": "right",
          "font": {
           "size": 14
          },
          "showarrow": false,
          "text": "Sparing the elderly",
          "x": -0.02,
          "xanchor": "right",
          "xref": "paper",
          "y": 3,
          "yref": "y"
         },
         {
          "align": "right",
          "font": {
           "size": 14
          },
          "showarrow": false,
          "text": "Sparing fewer characters",
          "x": -0.02,
          "xanchor": "right",
          "xref": "paper",
          "y": 4,
          "yref": "y"
         },
         {
          "align": "right",
          "font": {
           "size": 14
          },
          "showarrow": false,
          "text": "Sparing pets",
          "x": -0.02,
          "xanchor": "right",
          "xref": "paper",
          "y": 5,
          "yref": "y"
         }
        ],
        "font": {
         "family": "Times New Roman",
         "size": 12
        },
        "height": 400,
        "images": [
         {
          "sizex": 0.5,
          "sizey": 0.5,
          "source": "./icons/icons_tradeoff/female.png",
          "x": 0.95,
          "xanchor": "left",
          "xref": "paper",
          "y": 0,
          "yanchor": "middle",
          "yref": "y"
         },
         {
          "sizex": 0.5,
          "sizey": 0.5,
          "source": "./icons/icons_tradeoff/fit.png",
          "x": 0.95,
          "xanchor": "left",
          "xref": "paper",
          "y": 1,
          "yanchor": "middle",
          "yref": "y"
         },
         {
          "sizex": 0.5,
          "sizey": 0.5,
          "source": "./icons/icons_tradeoff/higher_status.png",
          "x": 0.95,
          "xanchor": "left",
          "xref": "paper",
          "y": 2,
          "yanchor": "middle",
          "yref": "y"
         },
         {
          "sizex": 0.5,
          "sizey": 0.5,
          "source": "./icons/icons_tradeoff/young.png",
          "x": 0.95,
          "xanchor": "left",
          "xref": "paper",
          "y": 3,
          "yanchor": "middle",
          "yref": "y"
         },
         {
          "sizex": 0.5,
          "sizey": 0.5,
          "source": "./icons/icons_tradeoff/more_character.png",
          "x": 0.95,
          "xanchor": "left",
          "xref": "paper",
          "y": 4,
          "yanchor": "middle",
          "yref": "y"
         },
         {
          "sizex": 0.5,
          "sizey": 0.5,
          "source": "./icons/icons_tradeoff/humans.png",
          "x": 0.95,
          "xanchor": "left",
          "xref": "paper",
          "y": 5,
          "yanchor": "middle",
          "yref": "y"
         },
         {
          "sizex": 0.5,
          "sizey": 0.5,
          "source": "./icons/icons_tradeoff/male.png",
          "x": -0.01,
          "xanchor": "left",
          "xref": "paper",
          "y": 0,
          "yanchor": "middle",
          "yref": "y"
         },
         {
          "sizex": 0.5,
          "sizey": 0.5,
          "source": "./icons/icons_tradeoff/large.png",
          "x": -0.01,
          "xanchor": "left",
          "xref": "paper",
          "y": 1,
          "yanchor": "middle",
          "yref": "y"
         },
         {
          "sizex": 0.5,
          "sizey": 0.5,
          "source": "./icons/icons_tradeoff/lower_status.png",
          "x": -0.01,
          "xanchor": "left",
          "xref": "paper",
          "y": 2,
          "yanchor": "middle",
          "yref": "y"
         },
         {
          "sizex": 0.5,
          "sizey": 0.5,
          "source": "./icons/icons_tradeoff/elderly.png",
          "x": -0.01,
          "xanchor": "left",
          "xref": "paper",
          "y": 3,
          "yanchor": "middle",
          "yref": "y"
         },
         {
          "sizex": 0.5,
          "sizey": 0.5,
          "source": "./icons/icons_tradeoff/fewer.png",
          "x": -0.01,
          "xanchor": "left",
          "xref": "paper",
          "y": 4,
          "yanchor": "middle",
          "yref": "y"
         },
         {
          "sizex": 0.5,
          "sizey": 0.5,
          "source": "./icons/icons_tradeoff/pet.png",
          "x": -0.01,
          "xanchor": "left",
          "xref": "paper",
          "y": 5,
          "yanchor": "middle",
          "yref": "y"
         }
        ],
        "legend": {
         "orientation": "h",
         "x": 0.5,
         "xanchor": "center",
         "y": 1,
         "yanchor": "bottom"
        },
        "margin": {
         "b": 50,
         "l": 160,
         "r": 170,
         "t": 50
        },
        "plot_bgcolor": "white",
        "showlegend": true,
        "template": {
         "data": {
          "bar": [
           {
            "error_x": {
             "color": "#2a3f5f"
            },
            "error_y": {
             "color": "#2a3f5f"
            },
            "marker": {
             "line": {
              "color": "#E5ECF6",
              "width": 0.5
             },
             "pattern": {
              "fillmode": "overlay",
              "size": 10,
              "solidity": 0.2
             }
            },
            "type": "bar"
           }
          ],
          "barpolar": [
           {
            "marker": {
             "line": {
              "color": "#E5ECF6",
              "width": 0.5
             },
             "pattern": {
              "fillmode": "overlay",
              "size": 10,
              "solidity": 0.2
             }
            },
            "type": "barpolar"
           }
          ],
          "carpet": [
           {
            "aaxis": {
             "endlinecolor": "#2a3f5f",
             "gridcolor": "white",
             "linecolor": "white",
             "minorgridcolor": "white",
             "startlinecolor": "#2a3f5f"
            },
            "baxis": {
             "endlinecolor": "#2a3f5f",
             "gridcolor": "white",
             "linecolor": "white",
             "minorgridcolor": "white",
             "startlinecolor": "#2a3f5f"
            },
            "type": "carpet"
           }
          ],
          "choropleth": [
           {
            "colorbar": {
             "outlinewidth": 0,
             "ticks": ""
            },
            "type": "choropleth"
           }
          ],
          "contour": [
           {
            "colorbar": {
             "outlinewidth": 0,
             "ticks": ""
            },
            "colorscale": [
             [
              0,
              "#0d0887"
             ],
             [
              0.1111111111111111,
              "#46039f"
             ],
             [
              0.2222222222222222,
              "#7201a8"
             ],
             [
              0.3333333333333333,
              "#9c179e"
             ],
             [
              0.4444444444444444,
              "#bd3786"
             ],
             [
              0.5555555555555556,
              "#d8576b"
             ],
             [
              0.6666666666666666,
              "#ed7953"
             ],
             [
              0.7777777777777778,
              "#fb9f3a"
             ],
             [
              0.8888888888888888,
              "#fdca26"
             ],
             [
              1,
              "#f0f921"
             ]
            ],
            "type": "contour"
           }
          ],
          "contourcarpet": [
           {
            "colorbar": {
             "outlinewidth": 0,
             "ticks": ""
            },
            "type": "contourcarpet"
           }
          ],
          "heatmap": [
           {
            "colorbar": {
             "outlinewidth": 0,
             "ticks": ""
            },
            "colorscale": [
             [
              0,
              "#0d0887"
             ],
             [
              0.1111111111111111,
              "#46039f"
             ],
             [
              0.2222222222222222,
              "#7201a8"
             ],
             [
              0.3333333333333333,
              "#9c179e"
             ],
             [
              0.4444444444444444,
              "#bd3786"
             ],
             [
              0.5555555555555556,
              "#d8576b"
             ],
             [
              0.6666666666666666,
              "#ed7953"
             ],
             [
              0.7777777777777778,
              "#fb9f3a"
             ],
             [
              0.8888888888888888,
              "#fdca26"
             ],
             [
              1,
              "#f0f921"
             ]
            ],
            "type": "heatmap"
           }
          ],
          "heatmapgl": [
           {
            "colorbar": {
             "outlinewidth": 0,
             "ticks": ""
            },
            "colorscale": [
             [
              0,
              "#0d0887"
             ],
             [
              0.1111111111111111,
              "#46039f"
             ],
             [
              0.2222222222222222,
              "#7201a8"
             ],
             [
              0.3333333333333333,
              "#9c179e"
             ],
             [
              0.4444444444444444,
              "#bd3786"
             ],
             [
              0.5555555555555556,
              "#d8576b"
             ],
             [
              0.6666666666666666,
              "#ed7953"
             ],
             [
              0.7777777777777778,
              "#fb9f3a"
             ],
             [
              0.8888888888888888,
              "#fdca26"
             ],
             [
              1,
              "#f0f921"
             ]
            ],
            "type": "heatmapgl"
           }
          ],
          "histogram": [
           {
            "marker": {
             "pattern": {
              "fillmode": "overlay",
              "size": 10,
              "solidity": 0.2
             }
            },
            "type": "histogram"
           }
          ],
          "histogram2d": [
           {
            "colorbar": {
             "outlinewidth": 0,
             "ticks": ""
            },
            "colorscale": [
             [
              0,
              "#0d0887"
             ],
             [
              0.1111111111111111,
              "#46039f"
             ],
             [
              0.2222222222222222,
              "#7201a8"
             ],
             [
              0.3333333333333333,
              "#9c179e"
             ],
             [
              0.4444444444444444,
              "#bd3786"
             ],
             [
              0.5555555555555556,
              "#d8576b"
             ],
             [
              0.6666666666666666,
              "#ed7953"
             ],
             [
              0.7777777777777778,
              "#fb9f3a"
             ],
             [
              0.8888888888888888,
              "#fdca26"
             ],
             [
              1,
              "#f0f921"
             ]
            ],
            "type": "histogram2d"
           }
          ],
          "histogram2dcontour": [
           {
            "colorbar": {
             "outlinewidth": 0,
             "ticks": ""
            },
            "colorscale": [
             [
              0,
              "#0d0887"
             ],
             [
              0.1111111111111111,
              "#46039f"
             ],
             [
              0.2222222222222222,
              "#7201a8"
             ],
             [
              0.3333333333333333,
              "#9c179e"
             ],
             [
              0.4444444444444444,
              "#bd3786"
             ],
             [
              0.5555555555555556,
              "#d8576b"
             ],
             [
              0.6666666666666666,
              "#ed7953"
             ],
             [
              0.7777777777777778,
              "#fb9f3a"
             ],
             [
              0.8888888888888888,
              "#fdca26"
             ],
             [
              1,
              "#f0f921"
             ]
            ],
            "type": "histogram2dcontour"
           }
          ],
          "mesh3d": [
           {
            "colorbar": {
             "outlinewidth": 0,
             "ticks": ""
            },
            "type": "mesh3d"
           }
          ],
          "parcoords": [
           {
            "line": {
             "colorbar": {
              "outlinewidth": 0,
              "ticks": ""
             }
            },
            "type": "parcoords"
           }
          ],
          "pie": [
           {
            "automargin": true,
            "type": "pie"
           }
          ],
          "scatter": [
           {
            "fillpattern": {
             "fillmode": "overlay",
             "size": 10,
             "solidity": 0.2
            },
            "type": "scatter"
           }
          ],
          "scatter3d": [
           {
            "line": {
             "colorbar": {
              "outlinewidth": 0,
              "ticks": ""
             }
            },
            "marker": {
             "colorbar": {
              "outlinewidth": 0,
              "ticks": ""
             }
            },
            "type": "scatter3d"
           }
          ],
          "scattercarpet": [
           {
            "marker": {
             "colorbar": {
              "outlinewidth": 0,
              "ticks": ""
             }
            },
            "type": "scattercarpet"
           }
          ],
          "scattergeo": [
           {
            "marker": {
             "colorbar": {
              "outlinewidth": 0,
              "ticks": ""
             }
            },
            "type": "scattergeo"
           }
          ],
          "scattergl": [
           {
            "marker": {
             "colorbar": {
              "outlinewidth": 0,
              "ticks": ""
             }
            },
            "type": "scattergl"
           }
          ],
          "scattermapbox": [
           {
            "marker": {
             "colorbar": {
              "outlinewidth": 0,
              "ticks": ""
             }
            },
            "type": "scattermapbox"
           }
          ],
          "scatterpolar": [
           {
            "marker": {
             "colorbar": {
              "outlinewidth": 0,
              "ticks": ""
             }
            },
            "type": "scatterpolar"
           }
          ],
          "scatterpolargl": [
           {
            "marker": {
             "colorbar": {
              "outlinewidth": 0,
              "ticks": ""
             }
            },
            "type": "scatterpolargl"
           }
          ],
          "scatterternary": [
           {
            "marker": {
             "colorbar": {
              "outlinewidth": 0,
              "ticks": ""
             }
            },
            "type": "scatterternary"
           }
          ],
          "surface": [
           {
            "colorbar": {
             "outlinewidth": 0,
             "ticks": ""
            },
            "colorscale": [
             [
              0,
              "#0d0887"
             ],
             [
              0.1111111111111111,
              "#46039f"
             ],
             [
              0.2222222222222222,
              "#7201a8"
             ],
             [
              0.3333333333333333,
              "#9c179e"
             ],
             [
              0.4444444444444444,
              "#bd3786"
             ],
             [
              0.5555555555555556,
              "#d8576b"
             ],
             [
              0.6666666666666666,
              "#ed7953"
             ],
             [
              0.7777777777777778,
              "#fb9f3a"
             ],
             [
              0.8888888888888888,
              "#fdca26"
             ],
             [
              1,
              "#f0f921"
             ]
            ],
            "type": "surface"
           }
          ],
          "table": [
           {
            "cells": {
             "fill": {
              "color": "#EBF0F8"
             },
             "line": {
              "color": "white"
             }
            },
            "header": {
             "fill": {
              "color": "#C8D4E3"
             },
             "line": {
              "color": "white"
             }
            },
            "type": "table"
           }
          ]
         },
         "layout": {
          "annotationdefaults": {
           "arrowcolor": "#2a3f5f",
           "arrowhead": 0,
           "arrowwidth": 1
          },
          "autotypenumbers": "strict",
          "coloraxis": {
           "colorbar": {
            "outlinewidth": 0,
            "ticks": ""
           }
          },
          "colorscale": {
           "diverging": [
            [
             0,
             "#8e0152"
            ],
            [
             0.1,
             "#c51b7d"
            ],
            [
             0.2,
             "#de77ae"
            ],
            [
             0.3,
             "#f1b6da"
            ],
            [
             0.4,
             "#fde0ef"
            ],
            [
             0.5,
             "#f7f7f7"
            ],
            [
             0.6,
             "#e6f5d0"
            ],
            [
             0.7,
             "#b8e186"
            ],
            [
             0.8,
             "#7fbc41"
            ],
            [
             0.9,
             "#4d9221"
            ],
            [
             1,
             "#276419"
            ]
           ],
           "sequential": [
            [
             0,
             "#0d0887"
            ],
            [
             0.1111111111111111,
             "#46039f"
            ],
            [
             0.2222222222222222,
             "#7201a8"
            ],
            [
             0.3333333333333333,
             "#9c179e"
            ],
            [
             0.4444444444444444,
             "#bd3786"
            ],
            [
             0.5555555555555556,
             "#d8576b"
            ],
            [
             0.6666666666666666,
             "#ed7953"
            ],
            [
             0.7777777777777778,
             "#fb9f3a"
            ],
            [
             0.8888888888888888,
             "#fdca26"
            ],
            [
             1,
             "#f0f921"
            ]
           ],
           "sequentialminus": [
            [
             0,
             "#0d0887"
            ],
            [
             0.1111111111111111,
             "#46039f"
            ],
            [
             0.2222222222222222,
             "#7201a8"
            ],
            [
             0.3333333333333333,
             "#9c179e"
            ],
            [
             0.4444444444444444,
             "#bd3786"
            ],
            [
             0.5555555555555556,
             "#d8576b"
            ],
            [
             0.6666666666666666,
             "#ed7953"
            ],
            [
             0.7777777777777778,
             "#fb9f3a"
            ],
            [
             0.8888888888888888,
             "#fdca26"
            ],
            [
             1,
             "#f0f921"
            ]
           ]
          },
          "colorway": [
           "#636efa",
           "#EF553B",
           "#00cc96",
           "#ab63fa",
           "#FFA15A",
           "#19d3f3",
           "#FF6692",
           "#B6E880",
           "#FF97FF",
           "#FECB52"
          ],
          "font": {
           "color": "#2a3f5f"
          },
          "geo": {
           "bgcolor": "white",
           "lakecolor": "white",
           "landcolor": "#E5ECF6",
           "showlakes": true,
           "showland": true,
           "subunitcolor": "white"
          },
          "hoverlabel": {
           "align": "left"
          },
          "hovermode": "closest",
          "mapbox": {
           "style": "light"
          },
          "paper_bgcolor": "white",
          "plot_bgcolor": "#E5ECF6",
          "polar": {
           "angularaxis": {
            "gridcolor": "white",
            "linecolor": "white",
            "ticks": ""
           },
           "bgcolor": "#E5ECF6",
           "radialaxis": {
            "gridcolor": "white",
            "linecolor": "white",
            "ticks": ""
           }
          },
          "scene": {
           "xaxis": {
            "backgroundcolor": "#E5ECF6",
            "gridcolor": "white",
            "gridwidth": 2,
            "linecolor": "white",
            "showbackground": true,
            "ticks": "",
            "zerolinecolor": "white"
           },
           "yaxis": {
            "backgroundcolor": "#E5ECF6",
            "gridcolor": "white",
            "gridwidth": 2,
            "linecolor": "white",
            "showbackground": true,
            "ticks": "",
            "zerolinecolor": "white"
           },
           "zaxis": {
            "backgroundcolor": "#E5ECF6",
            "gridcolor": "white",
            "gridwidth": 2,
            "linecolor": "white",
            "showbackground": true,
            "ticks": "",
            "zerolinecolor": "white"
           }
          },
          "shapedefaults": {
           "line": {
            "color": "#2a3f5f"
           }
          },
          "ternary": {
           "aaxis": {
            "gridcolor": "white",
            "linecolor": "white",
            "ticks": ""
           },
           "baxis": {
            "gridcolor": "white",
            "linecolor": "white",
            "ticks": ""
           },
           "bgcolor": "#E5ECF6",
           "caxis": {
            "gridcolor": "white",
            "linecolor": "white",
            "ticks": ""
           }
          },
          "title": {
           "x": 0.05
          },
          "xaxis": {
           "automargin": true,
           "gridcolor": "white",
           "linecolor": "white",
           "ticks": "",
           "title": {
            "standoff": 15
           },
           "zerolinecolor": "white",
           "zerolinewidth": 2
          },
          "yaxis": {
           "automargin": true,
           "gridcolor": "white",
           "linecolor": "white",
           "ticks": "",
           "title": {
            "standoff": 15
           },
           "zerolinecolor": "white",
           "zerolinewidth": 2
          }
         }
        },
        "title": {
         "font": {
          "size": 12
         },
         "text": ""
        },
        "width": 800,
        "xaxis": {
         "anchor": "y",
         "domain": [
          0,
          1
         ],
         "gridcolor": "lightgrey",
         "gridwidth": 1,
         "range": [
          -0.1,
          1.1
         ],
         "showgrid": true,
         "ticktext": [
          "100% Favoring the Left",
          "75-25",
          "50-50",
          "25-75",
          "100% Favoring the Right"
         ],
         "tickvals": [
          0,
          0.25,
          0.5,
          0.75,
          1
         ],
         "title": {
          "text": "Preference"
         }
        },
        "yaxis": {
         "anchor": "x",
         "autorange": false,
         "categoryarray": [
          "Gender_Female_Bin_Choice",
          "Fitness_Fit_Bin_Choice",
          "SocialValue_High_Bin_Choice",
          "Age_Young_Bin_Choice",
          "Utilitarianism_More_Bin_Choice",
          "Species_Humans_Bin_Choice"
         ],
         "categoryorder": "array",
         "domain": [
          0,
          1
         ],
         "range": [
          -0.5,
          5.5
         ],
         "showgrid": false,
         "tickmode": "array",
         "ticktext": [
          "",
          "",
          "",
          "",
          "",
          ""
         ],
         "tickvals": [
          0,
          1,
          2,
          3,
          4,
          5
         ]
        }
       }
      },
      "text/html": [
       "<div>                            <div id=\"51dd7a94-3a55-4af9-a2fa-db1abaed149c\" class=\"plotly-graph-div\" style=\"height:400px; width:800px;\"></div>            <script type=\"text/javascript\">                require([\"plotly\"], function(Plotly) {                    window.PLOTLYENV=window.PLOTLYENV || {};                                    if (document.getElementById(\"51dd7a94-3a55-4af9-a2fa-db1abaed149c\")) {                    Plotly.newPlot(                        \"51dd7a94-3a55-4af9-a2fa-db1abaed149c\",                        [{\"marker\":{\"color\":\"#0077ad\",\"line\":{\"color\":\"#0077ad\",\"width\":2}},\"name\":\"Mistral 7B\",\"opacity\":0.7,\"orientation\":\"h\",\"width\":0.3,\"x\":[1.0,1.0,0.5,0.8571,1.0],\"y\":[\"Species_Humans_Bin_Choice\",\"Utilitarianism_More_Bin_Choice\",\"Age_Young_Bin_Choice\",\"SocialValue_High_Bin_Choice\",\"Gender_Female_Bin_Choice\"],\"type\":\"bar\"},{\"marker\":{\"color\":\"white\",\"line\":{\"color\":\"#ad0077\",\"width\":2},\"size\":20},\"mode\":\"markers\",\"name\":\"Human Preference\",\"showlegend\":true,\"x\":[0.7974454552522746,0.753525616600679,0.7241555080471478,0.6617809934377845,0.576127833908965,0.5625438093111024],\"y\":[\"Species_Humans_Bin_Choice\",\"Utilitarianism_More_Bin_Choice\",\"Age_Young_Bin_Choice\",\"SocialValue_High_Bin_Choice\",\"Fitness_Fit_Bin_Choice\",\"Gender_Female_Bin_Choice\"],\"type\":\"scatter\"}],                        {\"template\":{\"data\":{\"histogram2dcontour\":[{\"type\":\"histogram2dcontour\",\"colorbar\":{\"outlinewidth\":0,\"ticks\":\"\"},\"colorscale\":[[0.0,\"#0d0887\"],[0.1111111111111111,\"#46039f\"],[0.2222222222222222,\"#7201a8\"],[0.3333333333333333,\"#9c179e\"],[0.4444444444444444,\"#bd3786\"],[0.5555555555555556,\"#d8576b\"],[0.6666666666666666,\"#ed7953\"],[0.7777777777777778,\"#fb9f3a\"],[0.8888888888888888,\"#fdca26\"],[1.0,\"#f0f921\"]]}],\"choropleth\":[{\"type\":\"choropleth\",\"colorbar\":{\"outlinewidth\":0,\"ticks\":\"\"}}],\"histogram2d\":[{\"type\":\"histogram2d\",\"colorbar\":{\"outlinewidth\":0,\"ticks\":\"\"},\"colorscale\":[[0.0,\"#0d0887\"],[0.1111111111111111,\"#46039f\"],[0.2222222222222222,\"#7201a8\"],[0.3333333333333333,\"#9c179e\"],[0.4444444444444444,\"#bd3786\"],[0.5555555555555556,\"#d8576b\"],[0.6666666666666666,\"#ed7953\"],[0.7777777777777778,\"#fb9f3a\"],[0.8888888888888888,\"#fdca26\"],[1.0,\"#f0f921\"]]}],\"heatmap\":[{\"type\":\"heatmap\",\"colorbar\":{\"outlinewidth\":0,\"ticks\":\"\"},\"colorscale\":[[0.0,\"#0d0887\"],[0.1111111111111111,\"#46039f\"],[0.2222222222222222,\"#7201a8\"],[0.3333333333333333,\"#9c179e\"],[0.4444444444444444,\"#bd3786\"],[0.5555555555555556,\"#d8576b\"],[0.6666666666666666,\"#ed7953\"],[0.7777777777777778,\"#fb9f3a\"],[0.8888888888888888,\"#fdca26\"],[1.0,\"#f0f921\"]]}],\"heatmapgl\":[{\"type\":\"heatmapgl\",\"colorbar\":{\"outlinewidth\":0,\"ticks\":\"\"},\"colorscale\":[[0.0,\"#0d0887\"],[0.1111111111111111,\"#46039f\"],[0.2222222222222222,\"#7201a8\"],[0.3333333333333333,\"#9c179e\"],[0.4444444444444444,\"#bd3786\"],[0.5555555555555556,\"#d8576b\"],[0.6666666666666666,\"#ed7953\"],[0.7777777777777778,\"#fb9f3a\"],[0.8888888888888888,\"#fdca26\"],[1.0,\"#f0f921\"]]}],\"contourcarpet\":[{\"type\":\"contourcarpet\",\"colorbar\":{\"outlinewidth\":0,\"ticks\":\"\"}}],\"contour\":[{\"type\":\"contour\",\"colorbar\":{\"outlinewidth\":0,\"ticks\":\"\"},\"colorscale\":[[0.0,\"#0d0887\"],[0.1111111111111111,\"#46039f\"],[0.2222222222222222,\"#7201a8\"],[0.3333333333333333,\"#9c179e\"],[0.4444444444444444,\"#bd3786\"],[0.5555555555555556,\"#d8576b\"],[0.6666666666666666,\"#ed7953\"],[0.7777777777777778,\"#fb9f3a\"],[0.8888888888888888,\"#fdca26\"],[1.0,\"#f0f921\"]]}],\"surface\":[{\"type\":\"surface\",\"colorbar\":{\"outlinewidth\":0,\"ticks\":\"\"},\"colorscale\":[[0.0,\"#0d0887\"],[0.1111111111111111,\"#46039f\"],[0.2222222222222222,\"#7201a8\"],[0.3333333333333333,\"#9c179e\"],[0.4444444444444444,\"#bd3786\"],[0.5555555555555556,\"#d8576b\"],[0.6666666666666666,\"#ed7953\"],[0.7777777777777778,\"#fb9f3a\"],[0.8888888888888888,\"#fdca26\"],[1.0,\"#f0f921\"]]}],\"mesh3d\":[{\"type\":\"mesh3d\",\"colorbar\":{\"outlinewidth\":0,\"ticks\":\"\"}}],\"scatter\":[{\"fillpattern\":{\"fillmode\":\"overlay\",\"size\":10,\"solidity\":0.2},\"type\":\"scatter\"}],\"parcoords\":[{\"type\":\"parcoords\",\"line\":{\"colorbar\":{\"outlinewidth\":0,\"ticks\":\"\"}}}],\"scatterpolargl\":[{\"type\":\"scatterpolargl\",\"marker\":{\"colorbar\":{\"outlinewidth\":0,\"ticks\":\"\"}}}],\"bar\":[{\"error_x\":{\"color\":\"#2a3f5f\"},\"error_y\":{\"color\":\"#2a3f5f\"},\"marker\":{\"line\":{\"color\":\"#E5ECF6\",\"width\":0.5},\"pattern\":{\"fillmode\":\"overlay\",\"size\":10,\"solidity\":0.2}},\"type\":\"bar\"}],\"scattergeo\":[{\"type\":\"scattergeo\",\"marker\":{\"colorbar\":{\"outlinewidth\":0,\"ticks\":\"\"}}}],\"scatterpolar\":[{\"type\":\"scatterpolar\",\"marker\":{\"colorbar\":{\"outlinewidth\":0,\"ticks\":\"\"}}}],\"histogram\":[{\"marker\":{\"pattern\":{\"fillmode\":\"overlay\",\"size\":10,\"solidity\":0.2}},\"type\":\"histogram\"}],\"scattergl\":[{\"type\":\"scattergl\",\"marker\":{\"colorbar\":{\"outlinewidth\":0,\"ticks\":\"\"}}}],\"scatter3d\":[{\"type\":\"scatter3d\",\"line\":{\"colorbar\":{\"outlinewidth\":0,\"ticks\":\"\"}},\"marker\":{\"colorbar\":{\"outlinewidth\":0,\"ticks\":\"\"}}}],\"scattermapbox\":[{\"type\":\"scattermapbox\",\"marker\":{\"colorbar\":{\"outlinewidth\":0,\"ticks\":\"\"}}}],\"scatterternary\":[{\"type\":\"scatterternary\",\"marker\":{\"colorbar\":{\"outlinewidth\":0,\"ticks\":\"\"}}}],\"scattercarpet\":[{\"type\":\"scattercarpet\",\"marker\":{\"colorbar\":{\"outlinewidth\":0,\"ticks\":\"\"}}}],\"carpet\":[{\"aaxis\":{\"endlinecolor\":\"#2a3f5f\",\"gridcolor\":\"white\",\"linecolor\":\"white\",\"minorgridcolor\":\"white\",\"startlinecolor\":\"#2a3f5f\"},\"baxis\":{\"endlinecolor\":\"#2a3f5f\",\"gridcolor\":\"white\",\"linecolor\":\"white\",\"minorgridcolor\":\"white\",\"startlinecolor\":\"#2a3f5f\"},\"type\":\"carpet\"}],\"table\":[{\"cells\":{\"fill\":{\"color\":\"#EBF0F8\"},\"line\":{\"color\":\"white\"}},\"header\":{\"fill\":{\"color\":\"#C8D4E3\"},\"line\":{\"color\":\"white\"}},\"type\":\"table\"}],\"barpolar\":[{\"marker\":{\"line\":{\"color\":\"#E5ECF6\",\"width\":0.5},\"pattern\":{\"fillmode\":\"overlay\",\"size\":10,\"solidity\":0.2}},\"type\":\"barpolar\"}],\"pie\":[{\"automargin\":true,\"type\":\"pie\"}]},\"layout\":{\"autotypenumbers\":\"strict\",\"colorway\":[\"#636efa\",\"#EF553B\",\"#00cc96\",\"#ab63fa\",\"#FFA15A\",\"#19d3f3\",\"#FF6692\",\"#B6E880\",\"#FF97FF\",\"#FECB52\"],\"font\":{\"color\":\"#2a3f5f\"},\"hovermode\":\"closest\",\"hoverlabel\":{\"align\":\"left\"},\"paper_bgcolor\":\"white\",\"plot_bgcolor\":\"#E5ECF6\",\"polar\":{\"bgcolor\":\"#E5ECF6\",\"angularaxis\":{\"gridcolor\":\"white\",\"linecolor\":\"white\",\"ticks\":\"\"},\"radialaxis\":{\"gridcolor\":\"white\",\"linecolor\":\"white\",\"ticks\":\"\"}},\"ternary\":{\"bgcolor\":\"#E5ECF6\",\"aaxis\":{\"gridcolor\":\"white\",\"linecolor\":\"white\",\"ticks\":\"\"},\"baxis\":{\"gridcolor\":\"white\",\"linecolor\":\"white\",\"ticks\":\"\"},\"caxis\":{\"gridcolor\":\"white\",\"linecolor\":\"white\",\"ticks\":\"\"}},\"coloraxis\":{\"colorbar\":{\"outlinewidth\":0,\"ticks\":\"\"}},\"colorscale\":{\"sequential\":[[0.0,\"#0d0887\"],[0.1111111111111111,\"#46039f\"],[0.2222222222222222,\"#7201a8\"],[0.3333333333333333,\"#9c179e\"],[0.4444444444444444,\"#bd3786\"],[0.5555555555555556,\"#d8576b\"],[0.6666666666666666,\"#ed7953\"],[0.7777777777777778,\"#fb9f3a\"],[0.8888888888888888,\"#fdca26\"],[1.0,\"#f0f921\"]],\"sequentialminus\":[[0.0,\"#0d0887\"],[0.1111111111111111,\"#46039f\"],[0.2222222222222222,\"#7201a8\"],[0.3333333333333333,\"#9c179e\"],[0.4444444444444444,\"#bd3786\"],[0.5555555555555556,\"#d8576b\"],[0.6666666666666666,\"#ed7953\"],[0.7777777777777778,\"#fb9f3a\"],[0.8888888888888888,\"#fdca26\"],[1.0,\"#f0f921\"]],\"diverging\":[[0,\"#8e0152\"],[0.1,\"#c51b7d\"],[0.2,\"#de77ae\"],[0.3,\"#f1b6da\"],[0.4,\"#fde0ef\"],[0.5,\"#f7f7f7\"],[0.6,\"#e6f5d0\"],[0.7,\"#b8e186\"],[0.8,\"#7fbc41\"],[0.9,\"#4d9221\"],[1,\"#276419\"]]},\"xaxis\":{\"gridcolor\":\"white\",\"linecolor\":\"white\",\"ticks\":\"\",\"title\":{\"standoff\":15},\"zerolinecolor\":\"white\",\"automargin\":true,\"zerolinewidth\":2},\"yaxis\":{\"gridcolor\":\"white\",\"linecolor\":\"white\",\"ticks\":\"\",\"title\":{\"standoff\":15},\"zerolinecolor\":\"white\",\"automargin\":true,\"zerolinewidth\":2},\"scene\":{\"xaxis\":{\"backgroundcolor\":\"#E5ECF6\",\"gridcolor\":\"white\",\"linecolor\":\"white\",\"showbackground\":true,\"ticks\":\"\",\"zerolinecolor\":\"white\",\"gridwidth\":2},\"yaxis\":{\"backgroundcolor\":\"#E5ECF6\",\"gridcolor\":\"white\",\"linecolor\":\"white\",\"showbackground\":true,\"ticks\":\"\",\"zerolinecolor\":\"white\",\"gridwidth\":2},\"zaxis\":{\"backgroundcolor\":\"#E5ECF6\",\"gridcolor\":\"white\",\"linecolor\":\"white\",\"showbackground\":true,\"ticks\":\"\",\"zerolinecolor\":\"white\",\"gridwidth\":2}},\"shapedefaults\":{\"line\":{\"color\":\"#2a3f5f\"}},\"annotationdefaults\":{\"arrowcolor\":\"#2a3f5f\",\"arrowhead\":0,\"arrowwidth\":1},\"geo\":{\"bgcolor\":\"white\",\"landcolor\":\"#E5ECF6\",\"subunitcolor\":\"white\",\"showland\":true,\"showlakes\":true,\"lakecolor\":\"white\"},\"title\":{\"x\":0.05},\"mapbox\":{\"style\":\"light\"}}},\"xaxis\":{\"anchor\":\"y\",\"domain\":[0.0,1.0],\"title\":{\"text\":\"Preference\"},\"tickvals\":[0,0.25,0.5,0.75,1],\"ticktext\":[\"100% Favoring the Left\",\"75-25\",\"50-50\",\"25-75\",\"100% Favoring the Right\"],\"range\":[-0.1,1.1],\"showgrid\":true,\"gridwidth\":1,\"gridcolor\":\"lightgrey\"},\"yaxis\":{\"anchor\":\"x\",\"domain\":[0.0,1.0],\"categoryorder\":\"array\",\"categoryarray\":[\"Gender_Female_Bin_Choice\",\"Fitness_Fit_Bin_Choice\",\"SocialValue_High_Bin_Choice\",\"Age_Young_Bin_Choice\",\"Utilitarianism_More_Bin_Choice\",\"Species_Humans_Bin_Choice\"],\"tickvals\":[0,1,2,3,4,5],\"ticktext\":[\"\",\"\",\"\",\"\",\"\",\"\"],\"tickmode\":\"array\",\"range\":[-0.5,5.5],\"autorange\":false,\"showgrid\":false},\"title\":{\"text\":\"\",\"font\":{\"size\":12}},\"height\":400,\"width\":800,\"plot_bgcolor\":\"white\",\"annotations\":[{\"align\":\"left\",\"font\":{\"size\":14},\"showarrow\":false,\"text\":\"Sparing females\",\"x\":1.06,\"xanchor\":\"left\",\"xref\":\"paper\",\"y\":0,\"yref\":\"y\"},{\"align\":\"left\",\"font\":{\"size\":14},\"showarrow\":false,\"text\":\"Sparing the fit\",\"x\":1.06,\"xanchor\":\"left\",\"xref\":\"paper\",\"y\":1,\"yref\":\"y\"},{\"align\":\"left\",\"font\":{\"size\":14},\"showarrow\":false,\"text\":\"Sparing higher status\",\"x\":1.06,\"xanchor\":\"left\",\"xref\":\"paper\",\"y\":2,\"yref\":\"y\"},{\"align\":\"left\",\"font\":{\"size\":14},\"showarrow\":false,\"text\":\"Sparing the young\",\"x\":1.06,\"xanchor\":\"left\",\"xref\":\"paper\",\"y\":3,\"yref\":\"y\"},{\"align\":\"left\",\"font\":{\"size\":14},\"showarrow\":false,\"text\":\"Sparing more characters\",\"x\":1.06,\"xanchor\":\"left\",\"xref\":\"paper\",\"y\":4,\"yref\":\"y\"},{\"align\":\"left\",\"font\":{\"size\":14},\"showarrow\":false,\"text\":\"Sparing humans\",\"x\":1.06,\"xanchor\":\"left\",\"xref\":\"paper\",\"y\":5,\"yref\":\"y\"},{\"align\":\"right\",\"font\":{\"size\":14},\"showarrow\":false,\"text\":\"Sparing males\",\"x\":-0.02,\"xanchor\":\"right\",\"xref\":\"paper\",\"y\":0,\"yref\":\"y\"},{\"align\":\"right\",\"font\":{\"size\":14},\"showarrow\":false,\"text\":\"Sparing the large\",\"x\":-0.02,\"xanchor\":\"right\",\"xref\":\"paper\",\"y\":1,\"yref\":\"y\"},{\"align\":\"right\",\"font\":{\"size\":14},\"showarrow\":false,\"text\":\"Sparing lower status\",\"x\":-0.02,\"xanchor\":\"right\",\"xref\":\"paper\",\"y\":2,\"yref\":\"y\"},{\"align\":\"right\",\"font\":{\"size\":14},\"showarrow\":false,\"text\":\"Sparing the elderly\",\"x\":-0.02,\"xanchor\":\"right\",\"xref\":\"paper\",\"y\":3,\"yref\":\"y\"},{\"align\":\"right\",\"font\":{\"size\":14},\"showarrow\":false,\"text\":\"Sparing fewer characters\",\"x\":-0.02,\"xanchor\":\"right\",\"xref\":\"paper\",\"y\":4,\"yref\":\"y\"},{\"align\":\"right\",\"font\":{\"size\":14},\"showarrow\":false,\"text\":\"Sparing pets\",\"x\":-0.02,\"xanchor\":\"right\",\"xref\":\"paper\",\"y\":5,\"yref\":\"y\"}],\"images\":[{\"sizex\":0.5,\"sizey\":0.5,\"source\":\".\\u002ficons\\u002ficons_tradeoff\\u002ffemale.png\",\"x\":0.95,\"xanchor\":\"left\",\"xref\":\"paper\",\"y\":0,\"yanchor\":\"middle\",\"yref\":\"y\"},{\"sizex\":0.5,\"sizey\":0.5,\"source\":\".\\u002ficons\\u002ficons_tradeoff\\u002ffit.png\",\"x\":0.95,\"xanchor\":\"left\",\"xref\":\"paper\",\"y\":1,\"yanchor\":\"middle\",\"yref\":\"y\"},{\"sizex\":0.5,\"sizey\":0.5,\"source\":\".\\u002ficons\\u002ficons_tradeoff\\u002fhigher_status.png\",\"x\":0.95,\"xanchor\":\"left\",\"xref\":\"paper\",\"y\":2,\"yanchor\":\"middle\",\"yref\":\"y\"},{\"sizex\":0.5,\"sizey\":0.5,\"source\":\".\\u002ficons\\u002ficons_tradeoff\\u002fyoung.png\",\"x\":0.95,\"xanchor\":\"left\",\"xref\":\"paper\",\"y\":3,\"yanchor\":\"middle\",\"yref\":\"y\"},{\"sizex\":0.5,\"sizey\":0.5,\"source\":\".\\u002ficons\\u002ficons_tradeoff\\u002fmore_character.png\",\"x\":0.95,\"xanchor\":\"left\",\"xref\":\"paper\",\"y\":4,\"yanchor\":\"middle\",\"yref\":\"y\"},{\"sizex\":0.5,\"sizey\":0.5,\"source\":\".\\u002ficons\\u002ficons_tradeoff\\u002fhumans.png\",\"x\":0.95,\"xanchor\":\"left\",\"xref\":\"paper\",\"y\":5,\"yanchor\":\"middle\",\"yref\":\"y\"},{\"sizex\":0.5,\"sizey\":0.5,\"source\":\".\\u002ficons\\u002ficons_tradeoff\\u002fmale.png\",\"x\":-0.01,\"xanchor\":\"left\",\"xref\":\"paper\",\"y\":0,\"yanchor\":\"middle\",\"yref\":\"y\"},{\"sizex\":0.5,\"sizey\":0.5,\"source\":\".\\u002ficons\\u002ficons_tradeoff\\u002flarge.png\",\"x\":-0.01,\"xanchor\":\"left\",\"xref\":\"paper\",\"y\":1,\"yanchor\":\"middle\",\"yref\":\"y\"},{\"sizex\":0.5,\"sizey\":0.5,\"source\":\".\\u002ficons\\u002ficons_tradeoff\\u002flower_status.png\",\"x\":-0.01,\"xanchor\":\"left\",\"xref\":\"paper\",\"y\":2,\"yanchor\":\"middle\",\"yref\":\"y\"},{\"sizex\":0.5,\"sizey\":0.5,\"source\":\".\\u002ficons\\u002ficons_tradeoff\\u002felderly.png\",\"x\":-0.01,\"xanchor\":\"left\",\"xref\":\"paper\",\"y\":3,\"yanchor\":\"middle\",\"yref\":\"y\"},{\"sizex\":0.5,\"sizey\":0.5,\"source\":\".\\u002ficons\\u002ficons_tradeoff\\u002ffewer.png\",\"x\":-0.01,\"xanchor\":\"left\",\"xref\":\"paper\",\"y\":4,\"yanchor\":\"middle\",\"yref\":\"y\"},{\"sizex\":0.5,\"sizey\":0.5,\"source\":\".\\u002ficons\\u002ficons_tradeoff\\u002fpet.png\",\"x\":-0.01,\"xanchor\":\"left\",\"xref\":\"paper\",\"y\":5,\"yanchor\":\"middle\",\"yref\":\"y\"}],\"margin\":{\"l\":160,\"r\":170,\"t\":50,\"b\":50},\"legend\":{\"orientation\":\"h\",\"yanchor\":\"bottom\",\"y\":1,\"xanchor\":\"center\",\"x\":0.5},\"showlegend\":true,\"font\":{\"family\":\"Times New Roman\",\"size\":12}},                        {\"responsive\": true}                    ).then(function(){\n",
       "                            \n",
       "var gd = document.getElementById('51dd7a94-3a55-4af9-a2fa-db1abaed149c');\n",
       "var x = new MutationObserver(function (mutations, observer) {{\n",
       "        var display = window.getComputedStyle(gd).display;\n",
       "        if (!display || display === 'none') {{\n",
       "            console.log([gd, 'removed!']);\n",
       "            Plotly.purge(gd);\n",
       "            observer.disconnect();\n",
       "        }}\n",
       "}});\n",
       "\n",
       "// Listen for the removal of the full notebook cells\n",
       "var notebookContainer = gd.closest('#notebook-container');\n",
       "if (notebookContainer) {{\n",
       "    x.observe(notebookContainer, {childList: true});\n",
       "}}\n",
       "\n",
       "// Listen for the clearing of the current output cell\n",
       "var outputEl = gd.closest('.output');\n",
       "if (outputEl) {{\n",
       "    x.observe(outputEl, {childList: true});\n",
       "}}\n",
       "\n",
       "                        })                };                });            </script>        </div>"
      ]
     },
     "metadata": {},
     "output_type": "display_data"
    },
    {
     "data": {
      "application/vnd.plotly.v1+json": {
       "config": {
        "plotlyServerURL": "https://plot.ly"
       },
       "data": [
        {
         "marker": {
          "color": "#0077ad",
          "line": {
           "color": "#0077ad",
           "width": 2
          }
         },
         "name": "Llama 3.1 8B",
         "opacity": 0.7,
         "orientation": "h",
         "type": "bar",
         "width": 0.3,
         "x": [
          1,
          0.8684000000000001,
          0.4643,
          0.7108,
          0.8626999999999999,
          0.9841
         ],
         "y": [
          "Species_Humans_Bin_Choice",
          "Utilitarianism_More_Bin_Choice",
          "Age_Young_Bin_Choice",
          "SocialValue_High_Bin_Choice",
          "Fitness_Fit_Bin_Choice",
          "Gender_Female_Bin_Choice"
         ]
        },
        {
         "marker": {
          "color": "white",
          "line": {
           "color": "#ad0077",
           "width": 2
          },
          "size": 20
         },
         "mode": "markers",
         "name": "Human Preference",
         "showlegend": true,
         "type": "scatter",
         "x": [
          0.7974454552522746,
          0.753525616600679,
          0.7241555080471478,
          0.6617809934377845,
          0.576127833908965,
          0.5625438093111024
         ],
         "y": [
          "Species_Humans_Bin_Choice",
          "Utilitarianism_More_Bin_Choice",
          "Age_Young_Bin_Choice",
          "SocialValue_High_Bin_Choice",
          "Fitness_Fit_Bin_Choice",
          "Gender_Female_Bin_Choice"
         ]
        }
       ],
       "layout": {
        "annotations": [
         {
          "align": "left",
          "font": {
           "size": 14
          },
          "showarrow": false,
          "text": "Sparing females",
          "x": 1.06,
          "xanchor": "left",
          "xref": "paper",
          "y": 0,
          "yref": "y"
         },
         {
          "align": "left",
          "font": {
           "size": 14
          },
          "showarrow": false,
          "text": "Sparing the fit",
          "x": 1.06,
          "xanchor": "left",
          "xref": "paper",
          "y": 1,
          "yref": "y"
         },
         {
          "align": "left",
          "font": {
           "size": 14
          },
          "showarrow": false,
          "text": "Sparing higher status",
          "x": 1.06,
          "xanchor": "left",
          "xref": "paper",
          "y": 2,
          "yref": "y"
         },
         {
          "align": "left",
          "font": {
           "size": 14
          },
          "showarrow": false,
          "text": "Sparing the young",
          "x": 1.06,
          "xanchor": "left",
          "xref": "paper",
          "y": 3,
          "yref": "y"
         },
         {
          "align": "left",
          "font": {
           "size": 14
          },
          "showarrow": false,
          "text": "Sparing more characters",
          "x": 1.06,
          "xanchor": "left",
          "xref": "paper",
          "y": 4,
          "yref": "y"
         },
         {
          "align": "left",
          "font": {
           "size": 14
          },
          "showarrow": false,
          "text": "Sparing humans",
          "x": 1.06,
          "xanchor": "left",
          "xref": "paper",
          "y": 5,
          "yref": "y"
         },
         {
          "align": "right",
          "font": {
           "size": 14
          },
          "showarrow": false,
          "text": "Sparing males",
          "x": -0.02,
          "xanchor": "right",
          "xref": "paper",
          "y": 0,
          "yref": "y"
         },
         {
          "align": "right",
          "font": {
           "size": 14
          },
          "showarrow": false,
          "text": "Sparing the large",
          "x": -0.02,
          "xanchor": "right",
          "xref": "paper",
          "y": 1,
          "yref": "y"
         },
         {
          "align": "right",
          "font": {
           "size": 14
          },
          "showarrow": false,
          "text": "Sparing lower status",
          "x": -0.02,
          "xanchor": "right",
          "xref": "paper",
          "y": 2,
          "yref": "y"
         },
         {
          "align": "right",
          "font": {
           "size": 14
          },
          "showarrow": false,
          "text": "Sparing the elderly",
          "x": -0.02,
          "xanchor": "right",
          "xref": "paper",
          "y": 3,
          "yref": "y"
         },
         {
          "align": "right",
          "font": {
           "size": 14
          },
          "showarrow": false,
          "text": "Sparing fewer characters",
          "x": -0.02,
          "xanchor": "right",
          "xref": "paper",
          "y": 4,
          "yref": "y"
         },
         {
          "align": "right",
          "font": {
           "size": 14
          },
          "showarrow": false,
          "text": "Sparing pets",
          "x": -0.02,
          "xanchor": "right",
          "xref": "paper",
          "y": 5,
          "yref": "y"
         }
        ],
        "font": {
         "family": "Times New Roman",
         "size": 12
        },
        "height": 400,
        "images": [
         {
          "sizex": 0.5,
          "sizey": 0.5,
          "source": "./icons/icons_tradeoff/female.png",
          "x": 0.95,
          "xanchor": "left",
          "xref": "paper",
          "y": 0,
          "yanchor": "middle",
          "yref": "y"
         },
         {
          "sizex": 0.5,
          "sizey": 0.5,
          "source": "./icons/icons_tradeoff/fit.png",
          "x": 0.95,
          "xanchor": "left",
          "xref": "paper",
          "y": 1,
          "yanchor": "middle",
          "yref": "y"
         },
         {
          "sizex": 0.5,
          "sizey": 0.5,
          "source": "./icons/icons_tradeoff/higher_status.png",
          "x": 0.95,
          "xanchor": "left",
          "xref": "paper",
          "y": 2,
          "yanchor": "middle",
          "yref": "y"
         },
         {
          "sizex": 0.5,
          "sizey": 0.5,
          "source": "./icons/icons_tradeoff/young.png",
          "x": 0.95,
          "xanchor": "left",
          "xref": "paper",
          "y": 3,
          "yanchor": "middle",
          "yref": "y"
         },
         {
          "sizex": 0.5,
          "sizey": 0.5,
          "source": "./icons/icons_tradeoff/more_character.png",
          "x": 0.95,
          "xanchor": "left",
          "xref": "paper",
          "y": 4,
          "yanchor": "middle",
          "yref": "y"
         },
         {
          "sizex": 0.5,
          "sizey": 0.5,
          "source": "./icons/icons_tradeoff/humans.png",
          "x": 0.95,
          "xanchor": "left",
          "xref": "paper",
          "y": 5,
          "yanchor": "middle",
          "yref": "y"
         },
         {
          "sizex": 0.5,
          "sizey": 0.5,
          "source": "./icons/icons_tradeoff/male.png",
          "x": -0.01,
          "xanchor": "left",
          "xref": "paper",
          "y": 0,
          "yanchor": "middle",
          "yref": "y"
         },
         {
          "sizex": 0.5,
          "sizey": 0.5,
          "source": "./icons/icons_tradeoff/large.png",
          "x": -0.01,
          "xanchor": "left",
          "xref": "paper",
          "y": 1,
          "yanchor": "middle",
          "yref": "y"
         },
         {
          "sizex": 0.5,
          "sizey": 0.5,
          "source": "./icons/icons_tradeoff/lower_status.png",
          "x": -0.01,
          "xanchor": "left",
          "xref": "paper",
          "y": 2,
          "yanchor": "middle",
          "yref": "y"
         },
         {
          "sizex": 0.5,
          "sizey": 0.5,
          "source": "./icons/icons_tradeoff/elderly.png",
          "x": -0.01,
          "xanchor": "left",
          "xref": "paper",
          "y": 3,
          "yanchor": "middle",
          "yref": "y"
         },
         {
          "sizex": 0.5,
          "sizey": 0.5,
          "source": "./icons/icons_tradeoff/fewer.png",
          "x": -0.01,
          "xanchor": "left",
          "xref": "paper",
          "y": 4,
          "yanchor": "middle",
          "yref": "y"
         },
         {
          "sizex": 0.5,
          "sizey": 0.5,
          "source": "./icons/icons_tradeoff/pet.png",
          "x": -0.01,
          "xanchor": "left",
          "xref": "paper",
          "y": 5,
          "yanchor": "middle",
          "yref": "y"
         }
        ],
        "legend": {
         "orientation": "h",
         "x": 0.5,
         "xanchor": "center",
         "y": 1,
         "yanchor": "bottom"
        },
        "margin": {
         "b": 50,
         "l": 160,
         "r": 170,
         "t": 50
        },
        "plot_bgcolor": "white",
        "showlegend": true,
        "template": {
         "data": {
          "bar": [
           {
            "error_x": {
             "color": "#2a3f5f"
            },
            "error_y": {
             "color": "#2a3f5f"
            },
            "marker": {
             "line": {
              "color": "#E5ECF6",
              "width": 0.5
             },
             "pattern": {
              "fillmode": "overlay",
              "size": 10,
              "solidity": 0.2
             }
            },
            "type": "bar"
           }
          ],
          "barpolar": [
           {
            "marker": {
             "line": {
              "color": "#E5ECF6",
              "width": 0.5
             },
             "pattern": {
              "fillmode": "overlay",
              "size": 10,
              "solidity": 0.2
             }
            },
            "type": "barpolar"
           }
          ],
          "carpet": [
           {
            "aaxis": {
             "endlinecolor": "#2a3f5f",
             "gridcolor": "white",
             "linecolor": "white",
             "minorgridcolor": "white",
             "startlinecolor": "#2a3f5f"
            },
            "baxis": {
             "endlinecolor": "#2a3f5f",
             "gridcolor": "white",
             "linecolor": "white",
             "minorgridcolor": "white",
             "startlinecolor": "#2a3f5f"
            },
            "type": "carpet"
           }
          ],
          "choropleth": [
           {
            "colorbar": {
             "outlinewidth": 0,
             "ticks": ""
            },
            "type": "choropleth"
           }
          ],
          "contour": [
           {
            "colorbar": {
             "outlinewidth": 0,
             "ticks": ""
            },
            "colorscale": [
             [
              0,
              "#0d0887"
             ],
             [
              0.1111111111111111,
              "#46039f"
             ],
             [
              0.2222222222222222,
              "#7201a8"
             ],
             [
              0.3333333333333333,
              "#9c179e"
             ],
             [
              0.4444444444444444,
              "#bd3786"
             ],
             [
              0.5555555555555556,
              "#d8576b"
             ],
             [
              0.6666666666666666,
              "#ed7953"
             ],
             [
              0.7777777777777778,
              "#fb9f3a"
             ],
             [
              0.8888888888888888,
              "#fdca26"
             ],
             [
              1,
              "#f0f921"
             ]
            ],
            "type": "contour"
           }
          ],
          "contourcarpet": [
           {
            "colorbar": {
             "outlinewidth": 0,
             "ticks": ""
            },
            "type": "contourcarpet"
           }
          ],
          "heatmap": [
           {
            "colorbar": {
             "outlinewidth": 0,
             "ticks": ""
            },
            "colorscale": [
             [
              0,
              "#0d0887"
             ],
             [
              0.1111111111111111,
              "#46039f"
             ],
             [
              0.2222222222222222,
              "#7201a8"
             ],
             [
              0.3333333333333333,
              "#9c179e"
             ],
             [
              0.4444444444444444,
              "#bd3786"
             ],
             [
              0.5555555555555556,
              "#d8576b"
             ],
             [
              0.6666666666666666,
              "#ed7953"
             ],
             [
              0.7777777777777778,
              "#fb9f3a"
             ],
             [
              0.8888888888888888,
              "#fdca26"
             ],
             [
              1,
              "#f0f921"
             ]
            ],
            "type": "heatmap"
           }
          ],
          "heatmapgl": [
           {
            "colorbar": {
             "outlinewidth": 0,
             "ticks": ""
            },
            "colorscale": [
             [
              0,
              "#0d0887"
             ],
             [
              0.1111111111111111,
              "#46039f"
             ],
             [
              0.2222222222222222,
              "#7201a8"
             ],
             [
              0.3333333333333333,
              "#9c179e"
             ],
             [
              0.4444444444444444,
              "#bd3786"
             ],
             [
              0.5555555555555556,
              "#d8576b"
             ],
             [
              0.6666666666666666,
              "#ed7953"
             ],
             [
              0.7777777777777778,
              "#fb9f3a"
             ],
             [
              0.8888888888888888,
              "#fdca26"
             ],
             [
              1,
              "#f0f921"
             ]
            ],
            "type": "heatmapgl"
           }
          ],
          "histogram": [
           {
            "marker": {
             "pattern": {
              "fillmode": "overlay",
              "size": 10,
              "solidity": 0.2
             }
            },
            "type": "histogram"
           }
          ],
          "histogram2d": [
           {
            "colorbar": {
             "outlinewidth": 0,
             "ticks": ""
            },
            "colorscale": [
             [
              0,
              "#0d0887"
             ],
             [
              0.1111111111111111,
              "#46039f"
             ],
             [
              0.2222222222222222,
              "#7201a8"
             ],
             [
              0.3333333333333333,
              "#9c179e"
             ],
             [
              0.4444444444444444,
              "#bd3786"
             ],
             [
              0.5555555555555556,
              "#d8576b"
             ],
             [
              0.6666666666666666,
              "#ed7953"
             ],
             [
              0.7777777777777778,
              "#fb9f3a"
             ],
             [
              0.8888888888888888,
              "#fdca26"
             ],
             [
              1,
              "#f0f921"
             ]
            ],
            "type": "histogram2d"
           }
          ],
          "histogram2dcontour": [
           {
            "colorbar": {
             "outlinewidth": 0,
             "ticks": ""
            },
            "colorscale": [
             [
              0,
              "#0d0887"
             ],
             [
              0.1111111111111111,
              "#46039f"
             ],
             [
              0.2222222222222222,
              "#7201a8"
             ],
             [
              0.3333333333333333,
              "#9c179e"
             ],
             [
              0.4444444444444444,
              "#bd3786"
             ],
             [
              0.5555555555555556,
              "#d8576b"
             ],
             [
              0.6666666666666666,
              "#ed7953"
             ],
             [
              0.7777777777777778,
              "#fb9f3a"
             ],
             [
              0.8888888888888888,
              "#fdca26"
             ],
             [
              1,
              "#f0f921"
             ]
            ],
            "type": "histogram2dcontour"
           }
          ],
          "mesh3d": [
           {
            "colorbar": {
             "outlinewidth": 0,
             "ticks": ""
            },
            "type": "mesh3d"
           }
          ],
          "parcoords": [
           {
            "line": {
             "colorbar": {
              "outlinewidth": 0,
              "ticks": ""
             }
            },
            "type": "parcoords"
           }
          ],
          "pie": [
           {
            "automargin": true,
            "type": "pie"
           }
          ],
          "scatter": [
           {
            "fillpattern": {
             "fillmode": "overlay",
             "size": 10,
             "solidity": 0.2
            },
            "type": "scatter"
           }
          ],
          "scatter3d": [
           {
            "line": {
             "colorbar": {
              "outlinewidth": 0,
              "ticks": ""
             }
            },
            "marker": {
             "colorbar": {
              "outlinewidth": 0,
              "ticks": ""
             }
            },
            "type": "scatter3d"
           }
          ],
          "scattercarpet": [
           {
            "marker": {
             "colorbar": {
              "outlinewidth": 0,
              "ticks": ""
             }
            },
            "type": "scattercarpet"
           }
          ],
          "scattergeo": [
           {
            "marker": {
             "colorbar": {
              "outlinewidth": 0,
              "ticks": ""
             }
            },
            "type": "scattergeo"
           }
          ],
          "scattergl": [
           {
            "marker": {
             "colorbar": {
              "outlinewidth": 0,
              "ticks": ""
             }
            },
            "type": "scattergl"
           }
          ],
          "scattermapbox": [
           {
            "marker": {
             "colorbar": {
              "outlinewidth": 0,
              "ticks": ""
             }
            },
            "type": "scattermapbox"
           }
          ],
          "scatterpolar": [
           {
            "marker": {
             "colorbar": {
              "outlinewidth": 0,
              "ticks": ""
             }
            },
            "type": "scatterpolar"
           }
          ],
          "scatterpolargl": [
           {
            "marker": {
             "colorbar": {
              "outlinewidth": 0,
              "ticks": ""
             }
            },
            "type": "scatterpolargl"
           }
          ],
          "scatterternary": [
           {
            "marker": {
             "colorbar": {
              "outlinewidth": 0,
              "ticks": ""
             }
            },
            "type": "scatterternary"
           }
          ],
          "surface": [
           {
            "colorbar": {
             "outlinewidth": 0,
             "ticks": ""
            },
            "colorscale": [
             [
              0,
              "#0d0887"
             ],
             [
              0.1111111111111111,
              "#46039f"
             ],
             [
              0.2222222222222222,
              "#7201a8"
             ],
             [
              0.3333333333333333,
              "#9c179e"
             ],
             [
              0.4444444444444444,
              "#bd3786"
             ],
             [
              0.5555555555555556,
              "#d8576b"
             ],
             [
              0.6666666666666666,
              "#ed7953"
             ],
             [
              0.7777777777777778,
              "#fb9f3a"
             ],
             [
              0.8888888888888888,
              "#fdca26"
             ],
             [
              1,
              "#f0f921"
             ]
            ],
            "type": "surface"
           }
          ],
          "table": [
           {
            "cells": {
             "fill": {
              "color": "#EBF0F8"
             },
             "line": {
              "color": "white"
             }
            },
            "header": {
             "fill": {
              "color": "#C8D4E3"
             },
             "line": {
              "color": "white"
             }
            },
            "type": "table"
           }
          ]
         },
         "layout": {
          "annotationdefaults": {
           "arrowcolor": "#2a3f5f",
           "arrowhead": 0,
           "arrowwidth": 1
          },
          "autotypenumbers": "strict",
          "coloraxis": {
           "colorbar": {
            "outlinewidth": 0,
            "ticks": ""
           }
          },
          "colorscale": {
           "diverging": [
            [
             0,
             "#8e0152"
            ],
            [
             0.1,
             "#c51b7d"
            ],
            [
             0.2,
             "#de77ae"
            ],
            [
             0.3,
             "#f1b6da"
            ],
            [
             0.4,
             "#fde0ef"
            ],
            [
             0.5,
             "#f7f7f7"
            ],
            [
             0.6,
             "#e6f5d0"
            ],
            [
             0.7,
             "#b8e186"
            ],
            [
             0.8,
             "#7fbc41"
            ],
            [
             0.9,
             "#4d9221"
            ],
            [
             1,
             "#276419"
            ]
           ],
           "sequential": [
            [
             0,
             "#0d0887"
            ],
            [
             0.1111111111111111,
             "#46039f"
            ],
            [
             0.2222222222222222,
             "#7201a8"
            ],
            [
             0.3333333333333333,
             "#9c179e"
            ],
            [
             0.4444444444444444,
             "#bd3786"
            ],
            [
             0.5555555555555556,
             "#d8576b"
            ],
            [
             0.6666666666666666,
             "#ed7953"
            ],
            [
             0.7777777777777778,
             "#fb9f3a"
            ],
            [
             0.8888888888888888,
             "#fdca26"
            ],
            [
             1,
             "#f0f921"
            ]
           ],
           "sequentialminus": [
            [
             0,
             "#0d0887"
            ],
            [
             0.1111111111111111,
             "#46039f"
            ],
            [
             0.2222222222222222,
             "#7201a8"
            ],
            [
             0.3333333333333333,
             "#9c179e"
            ],
            [
             0.4444444444444444,
             "#bd3786"
            ],
            [
             0.5555555555555556,
             "#d8576b"
            ],
            [
             0.6666666666666666,
             "#ed7953"
            ],
            [
             0.7777777777777778,
             "#fb9f3a"
            ],
            [
             0.8888888888888888,
             "#fdca26"
            ],
            [
             1,
             "#f0f921"
            ]
           ]
          },
          "colorway": [
           "#636efa",
           "#EF553B",
           "#00cc96",
           "#ab63fa",
           "#FFA15A",
           "#19d3f3",
           "#FF6692",
           "#B6E880",
           "#FF97FF",
           "#FECB52"
          ],
          "font": {
           "color": "#2a3f5f"
          },
          "geo": {
           "bgcolor": "white",
           "lakecolor": "white",
           "landcolor": "#E5ECF6",
           "showlakes": true,
           "showland": true,
           "subunitcolor": "white"
          },
          "hoverlabel": {
           "align": "left"
          },
          "hovermode": "closest",
          "mapbox": {
           "style": "light"
          },
          "paper_bgcolor": "white",
          "plot_bgcolor": "#E5ECF6",
          "polar": {
           "angularaxis": {
            "gridcolor": "white",
            "linecolor": "white",
            "ticks": ""
           },
           "bgcolor": "#E5ECF6",
           "radialaxis": {
            "gridcolor": "white",
            "linecolor": "white",
            "ticks": ""
           }
          },
          "scene": {
           "xaxis": {
            "backgroundcolor": "#E5ECF6",
            "gridcolor": "white",
            "gridwidth": 2,
            "linecolor": "white",
            "showbackground": true,
            "ticks": "",
            "zerolinecolor": "white"
           },
           "yaxis": {
            "backgroundcolor": "#E5ECF6",
            "gridcolor": "white",
            "gridwidth": 2,
            "linecolor": "white",
            "showbackground": true,
            "ticks": "",
            "zerolinecolor": "white"
           },
           "zaxis": {
            "backgroundcolor": "#E5ECF6",
            "gridcolor": "white",
            "gridwidth": 2,
            "linecolor": "white",
            "showbackground": true,
            "ticks": "",
            "zerolinecolor": "white"
           }
          },
          "shapedefaults": {
           "line": {
            "color": "#2a3f5f"
           }
          },
          "ternary": {
           "aaxis": {
            "gridcolor": "white",
            "linecolor": "white",
            "ticks": ""
           },
           "baxis": {
            "gridcolor": "white",
            "linecolor": "white",
            "ticks": ""
           },
           "bgcolor": "#E5ECF6",
           "caxis": {
            "gridcolor": "white",
            "linecolor": "white",
            "ticks": ""
           }
          },
          "title": {
           "x": 0.05
          },
          "xaxis": {
           "automargin": true,
           "gridcolor": "white",
           "linecolor": "white",
           "ticks": "",
           "title": {
            "standoff": 15
           },
           "zerolinecolor": "white",
           "zerolinewidth": 2
          },
          "yaxis": {
           "automargin": true,
           "gridcolor": "white",
           "linecolor": "white",
           "ticks": "",
           "title": {
            "standoff": 15
           },
           "zerolinecolor": "white",
           "zerolinewidth": 2
          }
         }
        },
        "title": {
         "font": {
          "size": 12
         },
         "text": ""
        },
        "width": 800,
        "xaxis": {
         "anchor": "y",
         "domain": [
          0,
          1
         ],
         "gridcolor": "lightgrey",
         "gridwidth": 1,
         "range": [
          -0.1,
          1.1
         ],
         "showgrid": true,
         "ticktext": [
          "100% Favoring the Left",
          "75-25",
          "50-50",
          "25-75",
          "100% Favoring the Right"
         ],
         "tickvals": [
          0,
          0.25,
          0.5,
          0.75,
          1
         ],
         "title": {
          "text": "Preference"
         }
        },
        "yaxis": {
         "anchor": "x",
         "autorange": false,
         "categoryarray": [
          "Gender_Female_Bin_Choice",
          "Fitness_Fit_Bin_Choice",
          "SocialValue_High_Bin_Choice",
          "Age_Young_Bin_Choice",
          "Utilitarianism_More_Bin_Choice",
          "Species_Humans_Bin_Choice"
         ],
         "categoryorder": "array",
         "domain": [
          0,
          1
         ],
         "range": [
          -0.5,
          5.5
         ],
         "showgrid": false,
         "tickmode": "array",
         "ticktext": [
          "",
          "",
          "",
          "",
          "",
          ""
         ],
         "tickvals": [
          0,
          1,
          2,
          3,
          4,
          5
         ]
        }
       }
      },
      "text/html": [
       "<div>                            <div id=\"599f5658-b774-4ec5-b6ce-3f72f39185c7\" class=\"plotly-graph-div\" style=\"height:400px; width:800px;\"></div>            <script type=\"text/javascript\">                require([\"plotly\"], function(Plotly) {                    window.PLOTLYENV=window.PLOTLYENV || {};                                    if (document.getElementById(\"599f5658-b774-4ec5-b6ce-3f72f39185c7\")) {                    Plotly.newPlot(                        \"599f5658-b774-4ec5-b6ce-3f72f39185c7\",                        [{\"marker\":{\"color\":\"#0077ad\",\"line\":{\"color\":\"#0077ad\",\"width\":2}},\"name\":\"Llama 3.1 8B\",\"opacity\":0.7,\"orientation\":\"h\",\"width\":0.3,\"x\":[1.0,0.8684000000000001,0.4643,0.7108,0.8626999999999999,0.9841],\"y\":[\"Species_Humans_Bin_Choice\",\"Utilitarianism_More_Bin_Choice\",\"Age_Young_Bin_Choice\",\"SocialValue_High_Bin_Choice\",\"Fitness_Fit_Bin_Choice\",\"Gender_Female_Bin_Choice\"],\"type\":\"bar\"},{\"marker\":{\"color\":\"white\",\"line\":{\"color\":\"#ad0077\",\"width\":2},\"size\":20},\"mode\":\"markers\",\"name\":\"Human Preference\",\"showlegend\":true,\"x\":[0.7974454552522746,0.753525616600679,0.7241555080471478,0.6617809934377845,0.576127833908965,0.5625438093111024],\"y\":[\"Species_Humans_Bin_Choice\",\"Utilitarianism_More_Bin_Choice\",\"Age_Young_Bin_Choice\",\"SocialValue_High_Bin_Choice\",\"Fitness_Fit_Bin_Choice\",\"Gender_Female_Bin_Choice\"],\"type\":\"scatter\"}],                        {\"template\":{\"data\":{\"histogram2dcontour\":[{\"type\":\"histogram2dcontour\",\"colorbar\":{\"outlinewidth\":0,\"ticks\":\"\"},\"colorscale\":[[0.0,\"#0d0887\"],[0.1111111111111111,\"#46039f\"],[0.2222222222222222,\"#7201a8\"],[0.3333333333333333,\"#9c179e\"],[0.4444444444444444,\"#bd3786\"],[0.5555555555555556,\"#d8576b\"],[0.6666666666666666,\"#ed7953\"],[0.7777777777777778,\"#fb9f3a\"],[0.8888888888888888,\"#fdca26\"],[1.0,\"#f0f921\"]]}],\"choropleth\":[{\"type\":\"choropleth\",\"colorbar\":{\"outlinewidth\":0,\"ticks\":\"\"}}],\"histogram2d\":[{\"type\":\"histogram2d\",\"colorbar\":{\"outlinewidth\":0,\"ticks\":\"\"},\"colorscale\":[[0.0,\"#0d0887\"],[0.1111111111111111,\"#46039f\"],[0.2222222222222222,\"#7201a8\"],[0.3333333333333333,\"#9c179e\"],[0.4444444444444444,\"#bd3786\"],[0.5555555555555556,\"#d8576b\"],[0.6666666666666666,\"#ed7953\"],[0.7777777777777778,\"#fb9f3a\"],[0.8888888888888888,\"#fdca26\"],[1.0,\"#f0f921\"]]}],\"heatmap\":[{\"type\":\"heatmap\",\"colorbar\":{\"outlinewidth\":0,\"ticks\":\"\"},\"colorscale\":[[0.0,\"#0d0887\"],[0.1111111111111111,\"#46039f\"],[0.2222222222222222,\"#7201a8\"],[0.3333333333333333,\"#9c179e\"],[0.4444444444444444,\"#bd3786\"],[0.5555555555555556,\"#d8576b\"],[0.6666666666666666,\"#ed7953\"],[0.7777777777777778,\"#fb9f3a\"],[0.8888888888888888,\"#fdca26\"],[1.0,\"#f0f921\"]]}],\"heatmapgl\":[{\"type\":\"heatmapgl\",\"colorbar\":{\"outlinewidth\":0,\"ticks\":\"\"},\"colorscale\":[[0.0,\"#0d0887\"],[0.1111111111111111,\"#46039f\"],[0.2222222222222222,\"#7201a8\"],[0.3333333333333333,\"#9c179e\"],[0.4444444444444444,\"#bd3786\"],[0.5555555555555556,\"#d8576b\"],[0.6666666666666666,\"#ed7953\"],[0.7777777777777778,\"#fb9f3a\"],[0.8888888888888888,\"#fdca26\"],[1.0,\"#f0f921\"]]}],\"contourcarpet\":[{\"type\":\"contourcarpet\",\"colorbar\":{\"outlinewidth\":0,\"ticks\":\"\"}}],\"contour\":[{\"type\":\"contour\",\"colorbar\":{\"outlinewidth\":0,\"ticks\":\"\"},\"colorscale\":[[0.0,\"#0d0887\"],[0.1111111111111111,\"#46039f\"],[0.2222222222222222,\"#7201a8\"],[0.3333333333333333,\"#9c179e\"],[0.4444444444444444,\"#bd3786\"],[0.5555555555555556,\"#d8576b\"],[0.6666666666666666,\"#ed7953\"],[0.7777777777777778,\"#fb9f3a\"],[0.8888888888888888,\"#fdca26\"],[1.0,\"#f0f921\"]]}],\"surface\":[{\"type\":\"surface\",\"colorbar\":{\"outlinewidth\":0,\"ticks\":\"\"},\"colorscale\":[[0.0,\"#0d0887\"],[0.1111111111111111,\"#46039f\"],[0.2222222222222222,\"#7201a8\"],[0.3333333333333333,\"#9c179e\"],[0.4444444444444444,\"#bd3786\"],[0.5555555555555556,\"#d8576b\"],[0.6666666666666666,\"#ed7953\"],[0.7777777777777778,\"#fb9f3a\"],[0.8888888888888888,\"#fdca26\"],[1.0,\"#f0f921\"]]}],\"mesh3d\":[{\"type\":\"mesh3d\",\"colorbar\":{\"outlinewidth\":0,\"ticks\":\"\"}}],\"scatter\":[{\"fillpattern\":{\"fillmode\":\"overlay\",\"size\":10,\"solidity\":0.2},\"type\":\"scatter\"}],\"parcoords\":[{\"type\":\"parcoords\",\"line\":{\"colorbar\":{\"outlinewidth\":0,\"ticks\":\"\"}}}],\"scatterpolargl\":[{\"type\":\"scatterpolargl\",\"marker\":{\"colorbar\":{\"outlinewidth\":0,\"ticks\":\"\"}}}],\"bar\":[{\"error_x\":{\"color\":\"#2a3f5f\"},\"error_y\":{\"color\":\"#2a3f5f\"},\"marker\":{\"line\":{\"color\":\"#E5ECF6\",\"width\":0.5},\"pattern\":{\"fillmode\":\"overlay\",\"size\":10,\"solidity\":0.2}},\"type\":\"bar\"}],\"scattergeo\":[{\"type\":\"scattergeo\",\"marker\":{\"colorbar\":{\"outlinewidth\":0,\"ticks\":\"\"}}}],\"scatterpolar\":[{\"type\":\"scatterpolar\",\"marker\":{\"colorbar\":{\"outlinewidth\":0,\"ticks\":\"\"}}}],\"histogram\":[{\"marker\":{\"pattern\":{\"fillmode\":\"overlay\",\"size\":10,\"solidity\":0.2}},\"type\":\"histogram\"}],\"scattergl\":[{\"type\":\"scattergl\",\"marker\":{\"colorbar\":{\"outlinewidth\":0,\"ticks\":\"\"}}}],\"scatter3d\":[{\"type\":\"scatter3d\",\"line\":{\"colorbar\":{\"outlinewidth\":0,\"ticks\":\"\"}},\"marker\":{\"colorbar\":{\"outlinewidth\":0,\"ticks\":\"\"}}}],\"scattermapbox\":[{\"type\":\"scattermapbox\",\"marker\":{\"colorbar\":{\"outlinewidth\":0,\"ticks\":\"\"}}}],\"scatterternary\":[{\"type\":\"scatterternary\",\"marker\":{\"colorbar\":{\"outlinewidth\":0,\"ticks\":\"\"}}}],\"scattercarpet\":[{\"type\":\"scattercarpet\",\"marker\":{\"colorbar\":{\"outlinewidth\":0,\"ticks\":\"\"}}}],\"carpet\":[{\"aaxis\":{\"endlinecolor\":\"#2a3f5f\",\"gridcolor\":\"white\",\"linecolor\":\"white\",\"minorgridcolor\":\"white\",\"startlinecolor\":\"#2a3f5f\"},\"baxis\":{\"endlinecolor\":\"#2a3f5f\",\"gridcolor\":\"white\",\"linecolor\":\"white\",\"minorgridcolor\":\"white\",\"startlinecolor\":\"#2a3f5f\"},\"type\":\"carpet\"}],\"table\":[{\"cells\":{\"fill\":{\"color\":\"#EBF0F8\"},\"line\":{\"color\":\"white\"}},\"header\":{\"fill\":{\"color\":\"#C8D4E3\"},\"line\":{\"color\":\"white\"}},\"type\":\"table\"}],\"barpolar\":[{\"marker\":{\"line\":{\"color\":\"#E5ECF6\",\"width\":0.5},\"pattern\":{\"fillmode\":\"overlay\",\"size\":10,\"solidity\":0.2}},\"type\":\"barpolar\"}],\"pie\":[{\"automargin\":true,\"type\":\"pie\"}]},\"layout\":{\"autotypenumbers\":\"strict\",\"colorway\":[\"#636efa\",\"#EF553B\",\"#00cc96\",\"#ab63fa\",\"#FFA15A\",\"#19d3f3\",\"#FF6692\",\"#B6E880\",\"#FF97FF\",\"#FECB52\"],\"font\":{\"color\":\"#2a3f5f\"},\"hovermode\":\"closest\",\"hoverlabel\":{\"align\":\"left\"},\"paper_bgcolor\":\"white\",\"plot_bgcolor\":\"#E5ECF6\",\"polar\":{\"bgcolor\":\"#E5ECF6\",\"angularaxis\":{\"gridcolor\":\"white\",\"linecolor\":\"white\",\"ticks\":\"\"},\"radialaxis\":{\"gridcolor\":\"white\",\"linecolor\":\"white\",\"ticks\":\"\"}},\"ternary\":{\"bgcolor\":\"#E5ECF6\",\"aaxis\":{\"gridcolor\":\"white\",\"linecolor\":\"white\",\"ticks\":\"\"},\"baxis\":{\"gridcolor\":\"white\",\"linecolor\":\"white\",\"ticks\":\"\"},\"caxis\":{\"gridcolor\":\"white\",\"linecolor\":\"white\",\"ticks\":\"\"}},\"coloraxis\":{\"colorbar\":{\"outlinewidth\":0,\"ticks\":\"\"}},\"colorscale\":{\"sequential\":[[0.0,\"#0d0887\"],[0.1111111111111111,\"#46039f\"],[0.2222222222222222,\"#7201a8\"],[0.3333333333333333,\"#9c179e\"],[0.4444444444444444,\"#bd3786\"],[0.5555555555555556,\"#d8576b\"],[0.6666666666666666,\"#ed7953\"],[0.7777777777777778,\"#fb9f3a\"],[0.8888888888888888,\"#fdca26\"],[1.0,\"#f0f921\"]],\"sequentialminus\":[[0.0,\"#0d0887\"],[0.1111111111111111,\"#46039f\"],[0.2222222222222222,\"#7201a8\"],[0.3333333333333333,\"#9c179e\"],[0.4444444444444444,\"#bd3786\"],[0.5555555555555556,\"#d8576b\"],[0.6666666666666666,\"#ed7953\"],[0.7777777777777778,\"#fb9f3a\"],[0.8888888888888888,\"#fdca26\"],[1.0,\"#f0f921\"]],\"diverging\":[[0,\"#8e0152\"],[0.1,\"#c51b7d\"],[0.2,\"#de77ae\"],[0.3,\"#f1b6da\"],[0.4,\"#fde0ef\"],[0.5,\"#f7f7f7\"],[0.6,\"#e6f5d0\"],[0.7,\"#b8e186\"],[0.8,\"#7fbc41\"],[0.9,\"#4d9221\"],[1,\"#276419\"]]},\"xaxis\":{\"gridcolor\":\"white\",\"linecolor\":\"white\",\"ticks\":\"\",\"title\":{\"standoff\":15},\"zerolinecolor\":\"white\",\"automargin\":true,\"zerolinewidth\":2},\"yaxis\":{\"gridcolor\":\"white\",\"linecolor\":\"white\",\"ticks\":\"\",\"title\":{\"standoff\":15},\"zerolinecolor\":\"white\",\"automargin\":true,\"zerolinewidth\":2},\"scene\":{\"xaxis\":{\"backgroundcolor\":\"#E5ECF6\",\"gridcolor\":\"white\",\"linecolor\":\"white\",\"showbackground\":true,\"ticks\":\"\",\"zerolinecolor\":\"white\",\"gridwidth\":2},\"yaxis\":{\"backgroundcolor\":\"#E5ECF6\",\"gridcolor\":\"white\",\"linecolor\":\"white\",\"showbackground\":true,\"ticks\":\"\",\"zerolinecolor\":\"white\",\"gridwidth\":2},\"zaxis\":{\"backgroundcolor\":\"#E5ECF6\",\"gridcolor\":\"white\",\"linecolor\":\"white\",\"showbackground\":true,\"ticks\":\"\",\"zerolinecolor\":\"white\",\"gridwidth\":2}},\"shapedefaults\":{\"line\":{\"color\":\"#2a3f5f\"}},\"annotationdefaults\":{\"arrowcolor\":\"#2a3f5f\",\"arrowhead\":0,\"arrowwidth\":1},\"geo\":{\"bgcolor\":\"white\",\"landcolor\":\"#E5ECF6\",\"subunitcolor\":\"white\",\"showland\":true,\"showlakes\":true,\"lakecolor\":\"white\"},\"title\":{\"x\":0.05},\"mapbox\":{\"style\":\"light\"}}},\"xaxis\":{\"anchor\":\"y\",\"domain\":[0.0,1.0],\"title\":{\"text\":\"Preference\"},\"tickvals\":[0,0.25,0.5,0.75,1],\"ticktext\":[\"100% Favoring the Left\",\"75-25\",\"50-50\",\"25-75\",\"100% Favoring the Right\"],\"range\":[-0.1,1.1],\"showgrid\":true,\"gridwidth\":1,\"gridcolor\":\"lightgrey\"},\"yaxis\":{\"anchor\":\"x\",\"domain\":[0.0,1.0],\"categoryorder\":\"array\",\"categoryarray\":[\"Gender_Female_Bin_Choice\",\"Fitness_Fit_Bin_Choice\",\"SocialValue_High_Bin_Choice\",\"Age_Young_Bin_Choice\",\"Utilitarianism_More_Bin_Choice\",\"Species_Humans_Bin_Choice\"],\"tickvals\":[0,1,2,3,4,5],\"ticktext\":[\"\",\"\",\"\",\"\",\"\",\"\"],\"tickmode\":\"array\",\"range\":[-0.5,5.5],\"autorange\":false,\"showgrid\":false},\"title\":{\"text\":\"\",\"font\":{\"size\":12}},\"height\":400,\"width\":800,\"plot_bgcolor\":\"white\",\"annotations\":[{\"align\":\"left\",\"font\":{\"size\":14},\"showarrow\":false,\"text\":\"Sparing females\",\"x\":1.06,\"xanchor\":\"left\",\"xref\":\"paper\",\"y\":0,\"yref\":\"y\"},{\"align\":\"left\",\"font\":{\"size\":14},\"showarrow\":false,\"text\":\"Sparing the fit\",\"x\":1.06,\"xanchor\":\"left\",\"xref\":\"paper\",\"y\":1,\"yref\":\"y\"},{\"align\":\"left\",\"font\":{\"size\":14},\"showarrow\":false,\"text\":\"Sparing higher status\",\"x\":1.06,\"xanchor\":\"left\",\"xref\":\"paper\",\"y\":2,\"yref\":\"y\"},{\"align\":\"left\",\"font\":{\"size\":14},\"showarrow\":false,\"text\":\"Sparing the young\",\"x\":1.06,\"xanchor\":\"left\",\"xref\":\"paper\",\"y\":3,\"yref\":\"y\"},{\"align\":\"left\",\"font\":{\"size\":14},\"showarrow\":false,\"text\":\"Sparing more characters\",\"x\":1.06,\"xanchor\":\"left\",\"xref\":\"paper\",\"y\":4,\"yref\":\"y\"},{\"align\":\"left\",\"font\":{\"size\":14},\"showarrow\":false,\"text\":\"Sparing humans\",\"x\":1.06,\"xanchor\":\"left\",\"xref\":\"paper\",\"y\":5,\"yref\":\"y\"},{\"align\":\"right\",\"font\":{\"size\":14},\"showarrow\":false,\"text\":\"Sparing males\",\"x\":-0.02,\"xanchor\":\"right\",\"xref\":\"paper\",\"y\":0,\"yref\":\"y\"},{\"align\":\"right\",\"font\":{\"size\":14},\"showarrow\":false,\"text\":\"Sparing the large\",\"x\":-0.02,\"xanchor\":\"right\",\"xref\":\"paper\",\"y\":1,\"yref\":\"y\"},{\"align\":\"right\",\"font\":{\"size\":14},\"showarrow\":false,\"text\":\"Sparing lower status\",\"x\":-0.02,\"xanchor\":\"right\",\"xref\":\"paper\",\"y\":2,\"yref\":\"y\"},{\"align\":\"right\",\"font\":{\"size\":14},\"showarrow\":false,\"text\":\"Sparing the elderly\",\"x\":-0.02,\"xanchor\":\"right\",\"xref\":\"paper\",\"y\":3,\"yref\":\"y\"},{\"align\":\"right\",\"font\":{\"size\":14},\"showarrow\":false,\"text\":\"Sparing fewer characters\",\"x\":-0.02,\"xanchor\":\"right\",\"xref\":\"paper\",\"y\":4,\"yref\":\"y\"},{\"align\":\"right\",\"font\":{\"size\":14},\"showarrow\":false,\"text\":\"Sparing pets\",\"x\":-0.02,\"xanchor\":\"right\",\"xref\":\"paper\",\"y\":5,\"yref\":\"y\"}],\"images\":[{\"sizex\":0.5,\"sizey\":0.5,\"source\":\".\\u002ficons\\u002ficons_tradeoff\\u002ffemale.png\",\"x\":0.95,\"xanchor\":\"left\",\"xref\":\"paper\",\"y\":0,\"yanchor\":\"middle\",\"yref\":\"y\"},{\"sizex\":0.5,\"sizey\":0.5,\"source\":\".\\u002ficons\\u002ficons_tradeoff\\u002ffit.png\",\"x\":0.95,\"xanchor\":\"left\",\"xref\":\"paper\",\"y\":1,\"yanchor\":\"middle\",\"yref\":\"y\"},{\"sizex\":0.5,\"sizey\":0.5,\"source\":\".\\u002ficons\\u002ficons_tradeoff\\u002fhigher_status.png\",\"x\":0.95,\"xanchor\":\"left\",\"xref\":\"paper\",\"y\":2,\"yanchor\":\"middle\",\"yref\":\"y\"},{\"sizex\":0.5,\"sizey\":0.5,\"source\":\".\\u002ficons\\u002ficons_tradeoff\\u002fyoung.png\",\"x\":0.95,\"xanchor\":\"left\",\"xref\":\"paper\",\"y\":3,\"yanchor\":\"middle\",\"yref\":\"y\"},{\"sizex\":0.5,\"sizey\":0.5,\"source\":\".\\u002ficons\\u002ficons_tradeoff\\u002fmore_character.png\",\"x\":0.95,\"xanchor\":\"left\",\"xref\":\"paper\",\"y\":4,\"yanchor\":\"middle\",\"yref\":\"y\"},{\"sizex\":0.5,\"sizey\":0.5,\"source\":\".\\u002ficons\\u002ficons_tradeoff\\u002fhumans.png\",\"x\":0.95,\"xanchor\":\"left\",\"xref\":\"paper\",\"y\":5,\"yanchor\":\"middle\",\"yref\":\"y\"},{\"sizex\":0.5,\"sizey\":0.5,\"source\":\".\\u002ficons\\u002ficons_tradeoff\\u002fmale.png\",\"x\":-0.01,\"xanchor\":\"left\",\"xref\":\"paper\",\"y\":0,\"yanchor\":\"middle\",\"yref\":\"y\"},{\"sizex\":0.5,\"sizey\":0.5,\"source\":\".\\u002ficons\\u002ficons_tradeoff\\u002flarge.png\",\"x\":-0.01,\"xanchor\":\"left\",\"xref\":\"paper\",\"y\":1,\"yanchor\":\"middle\",\"yref\":\"y\"},{\"sizex\":0.5,\"sizey\":0.5,\"source\":\".\\u002ficons\\u002ficons_tradeoff\\u002flower_status.png\",\"x\":-0.01,\"xanchor\":\"left\",\"xref\":\"paper\",\"y\":2,\"yanchor\":\"middle\",\"yref\":\"y\"},{\"sizex\":0.5,\"sizey\":0.5,\"source\":\".\\u002ficons\\u002ficons_tradeoff\\u002felderly.png\",\"x\":-0.01,\"xanchor\":\"left\",\"xref\":\"paper\",\"y\":3,\"yanchor\":\"middle\",\"yref\":\"y\"},{\"sizex\":0.5,\"sizey\":0.5,\"source\":\".\\u002ficons\\u002ficons_tradeoff\\u002ffewer.png\",\"x\":-0.01,\"xanchor\":\"left\",\"xref\":\"paper\",\"y\":4,\"yanchor\":\"middle\",\"yref\":\"y\"},{\"sizex\":0.5,\"sizey\":0.5,\"source\":\".\\u002ficons\\u002ficons_tradeoff\\u002fpet.png\",\"x\":-0.01,\"xanchor\":\"left\",\"xref\":\"paper\",\"y\":5,\"yanchor\":\"middle\",\"yref\":\"y\"}],\"margin\":{\"l\":160,\"r\":170,\"t\":50,\"b\":50},\"legend\":{\"orientation\":\"h\",\"yanchor\":\"bottom\",\"y\":1,\"xanchor\":\"center\",\"x\":0.5},\"showlegend\":true,\"font\":{\"family\":\"Times New Roman\",\"size\":12}},                        {\"responsive\": true}                    ).then(function(){\n",
       "                            \n",
       "var gd = document.getElementById('599f5658-b774-4ec5-b6ce-3f72f39185c7');\n",
       "var x = new MutationObserver(function (mutations, observer) {{\n",
       "        var display = window.getComputedStyle(gd).display;\n",
       "        if (!display || display === 'none') {{\n",
       "            console.log([gd, 'removed!']);\n",
       "            Plotly.purge(gd);\n",
       "            observer.disconnect();\n",
       "        }}\n",
       "}});\n",
       "\n",
       "// Listen for the removal of the full notebook cells\n",
       "var notebookContainer = gd.closest('#notebook-container');\n",
       "if (notebookContainer) {{\n",
       "    x.observe(notebookContainer, {childList: true});\n",
       "}}\n",
       "\n",
       "// Listen for the clearing of the current output cell\n",
       "var outputEl = gd.closest('.output');\n",
       "if (outputEl) {{\n",
       "    x.observe(outputEl, {childList: true});\n",
       "}}\n",
       "\n",
       "                        })                };                });            </script>        </div>"
      ]
     },
     "metadata": {},
     "output_type": "display_data"
    },
    {
     "data": {
      "application/vnd.plotly.v1+json": {
       "config": {
        "plotlyServerURL": "https://plot.ly"
       },
       "data": [
        {
         "marker": {
          "color": "#0077ad",
          "line": {
           "color": "#0077ad",
           "width": 2
          }
         },
         "name": "Llama 3.1 70B",
         "opacity": 0.7,
         "orientation": "h",
         "type": "bar",
         "width": 0.3,
         "x": [
          1,
          0.6409999999999999,
          0.9706,
          0.7353000000000001,
          0.7308,
          1
         ],
         "y": [
          "Species_Humans_Bin_Choice",
          "Utilitarianism_More_Bin_Choice",
          "Age_Young_Bin_Choice",
          "SocialValue_High_Bin_Choice",
          "Fitness_Fit_Bin_Choice",
          "Gender_Female_Bin_Choice"
         ]
        },
        {
         "marker": {
          "color": "white",
          "line": {
           "color": "#ad0077",
           "width": 2
          },
          "size": 20
         },
         "mode": "markers",
         "name": "Human Preference",
         "showlegend": true,
         "type": "scatter",
         "x": [
          0.7974454552522746,
          0.753525616600679,
          0.7241555080471478,
          0.6617809934377845,
          0.576127833908965,
          0.5625438093111024
         ],
         "y": [
          "Species_Humans_Bin_Choice",
          "Utilitarianism_More_Bin_Choice",
          "Age_Young_Bin_Choice",
          "SocialValue_High_Bin_Choice",
          "Fitness_Fit_Bin_Choice",
          "Gender_Female_Bin_Choice"
         ]
        }
       ],
       "layout": {
        "annotations": [
         {
          "align": "left",
          "font": {
           "size": 14
          },
          "showarrow": false,
          "text": "Sparing females",
          "x": 1.06,
          "xanchor": "left",
          "xref": "paper",
          "y": 0,
          "yref": "y"
         },
         {
          "align": "left",
          "font": {
           "size": 14
          },
          "showarrow": false,
          "text": "Sparing the fit",
          "x": 1.06,
          "xanchor": "left",
          "xref": "paper",
          "y": 1,
          "yref": "y"
         },
         {
          "align": "left",
          "font": {
           "size": 14
          },
          "showarrow": false,
          "text": "Sparing higher status",
          "x": 1.06,
          "xanchor": "left",
          "xref": "paper",
          "y": 2,
          "yref": "y"
         },
         {
          "align": "left",
          "font": {
           "size": 14
          },
          "showarrow": false,
          "text": "Sparing the young",
          "x": 1.06,
          "xanchor": "left",
          "xref": "paper",
          "y": 3,
          "yref": "y"
         },
         {
          "align": "left",
          "font": {
           "size": 14
          },
          "showarrow": false,
          "text": "Sparing more characters",
          "x": 1.06,
          "xanchor": "left",
          "xref": "paper",
          "y": 4,
          "yref": "y"
         },
         {
          "align": "left",
          "font": {
           "size": 14
          },
          "showarrow": false,
          "text": "Sparing humans",
          "x": 1.06,
          "xanchor": "left",
          "xref": "paper",
          "y": 5,
          "yref": "y"
         },
         {
          "align": "right",
          "font": {
           "size": 14
          },
          "showarrow": false,
          "text": "Sparing males",
          "x": -0.02,
          "xanchor": "right",
          "xref": "paper",
          "y": 0,
          "yref": "y"
         },
         {
          "align": "right",
          "font": {
           "size": 14
          },
          "showarrow": false,
          "text": "Sparing the large",
          "x": -0.02,
          "xanchor": "right",
          "xref": "paper",
          "y": 1,
          "yref": "y"
         },
         {
          "align": "right",
          "font": {
           "size": 14
          },
          "showarrow": false,
          "text": "Sparing lower status",
          "x": -0.02,
          "xanchor": "right",
          "xref": "paper",
          "y": 2,
          "yref": "y"
         },
         {
          "align": "right",
          "font": {
           "size": 14
          },
          "showarrow": false,
          "text": "Sparing the elderly",
          "x": -0.02,
          "xanchor": "right",
          "xref": "paper",
          "y": 3,
          "yref": "y"
         },
         {
          "align": "right",
          "font": {
           "size": 14
          },
          "showarrow": false,
          "text": "Sparing fewer characters",
          "x": -0.02,
          "xanchor": "right",
          "xref": "paper",
          "y": 4,
          "yref": "y"
         },
         {
          "align": "right",
          "font": {
           "size": 14
          },
          "showarrow": false,
          "text": "Sparing pets",
          "x": -0.02,
          "xanchor": "right",
          "xref": "paper",
          "y": 5,
          "yref": "y"
         }
        ],
        "font": {
         "family": "Times New Roman",
         "size": 12
        },
        "height": 400,
        "images": [
         {
          "sizex": 0.5,
          "sizey": 0.5,
          "source": "./icons/icons_tradeoff/female.png",
          "x": 0.95,
          "xanchor": "left",
          "xref": "paper",
          "y": 0,
          "yanchor": "middle",
          "yref": "y"
         },
         {
          "sizex": 0.5,
          "sizey": 0.5,
          "source": "./icons/icons_tradeoff/fit.png",
          "x": 0.95,
          "xanchor": "left",
          "xref": "paper",
          "y": 1,
          "yanchor": "middle",
          "yref": "y"
         },
         {
          "sizex": 0.5,
          "sizey": 0.5,
          "source": "./icons/icons_tradeoff/higher_status.png",
          "x": 0.95,
          "xanchor": "left",
          "xref": "paper",
          "y": 2,
          "yanchor": "middle",
          "yref": "y"
         },
         {
          "sizex": 0.5,
          "sizey": 0.5,
          "source": "./icons/icons_tradeoff/young.png",
          "x": 0.95,
          "xanchor": "left",
          "xref": "paper",
          "y": 3,
          "yanchor": "middle",
          "yref": "y"
         },
         {
          "sizex": 0.5,
          "sizey": 0.5,
          "source": "./icons/icons_tradeoff/more_character.png",
          "x": 0.95,
          "xanchor": "left",
          "xref": "paper",
          "y": 4,
          "yanchor": "middle",
          "yref": "y"
         },
         {
          "sizex": 0.5,
          "sizey": 0.5,
          "source": "./icons/icons_tradeoff/humans.png",
          "x": 0.95,
          "xanchor": "left",
          "xref": "paper",
          "y": 5,
          "yanchor": "middle",
          "yref": "y"
         },
         {
          "sizex": 0.5,
          "sizey": 0.5,
          "source": "./icons/icons_tradeoff/male.png",
          "x": -0.01,
          "xanchor": "left",
          "xref": "paper",
          "y": 0,
          "yanchor": "middle",
          "yref": "y"
         },
         {
          "sizex": 0.5,
          "sizey": 0.5,
          "source": "./icons/icons_tradeoff/large.png",
          "x": -0.01,
          "xanchor": "left",
          "xref": "paper",
          "y": 1,
          "yanchor": "middle",
          "yref": "y"
         },
         {
          "sizex": 0.5,
          "sizey": 0.5,
          "source": "./icons/icons_tradeoff/lower_status.png",
          "x": -0.01,
          "xanchor": "left",
          "xref": "paper",
          "y": 2,
          "yanchor": "middle",
          "yref": "y"
         },
         {
          "sizex": 0.5,
          "sizey": 0.5,
          "source": "./icons/icons_tradeoff/elderly.png",
          "x": -0.01,
          "xanchor": "left",
          "xref": "paper",
          "y": 3,
          "yanchor": "middle",
          "yref": "y"
         },
         {
          "sizex": 0.5,
          "sizey": 0.5,
          "source": "./icons/icons_tradeoff/fewer.png",
          "x": -0.01,
          "xanchor": "left",
          "xref": "paper",
          "y": 4,
          "yanchor": "middle",
          "yref": "y"
         },
         {
          "sizex": 0.5,
          "sizey": 0.5,
          "source": "./icons/icons_tradeoff/pet.png",
          "x": -0.01,
          "xanchor": "left",
          "xref": "paper",
          "y": 5,
          "yanchor": "middle",
          "yref": "y"
         }
        ],
        "legend": {
         "orientation": "h",
         "x": 0.5,
         "xanchor": "center",
         "y": 1,
         "yanchor": "bottom"
        },
        "margin": {
         "b": 50,
         "l": 160,
         "r": 170,
         "t": 50
        },
        "plot_bgcolor": "white",
        "showlegend": true,
        "template": {
         "data": {
          "bar": [
           {
            "error_x": {
             "color": "#2a3f5f"
            },
            "error_y": {
             "color": "#2a3f5f"
            },
            "marker": {
             "line": {
              "color": "#E5ECF6",
              "width": 0.5
             },
             "pattern": {
              "fillmode": "overlay",
              "size": 10,
              "solidity": 0.2
             }
            },
            "type": "bar"
           }
          ],
          "barpolar": [
           {
            "marker": {
             "line": {
              "color": "#E5ECF6",
              "width": 0.5
             },
             "pattern": {
              "fillmode": "overlay",
              "size": 10,
              "solidity": 0.2
             }
            },
            "type": "barpolar"
           }
          ],
          "carpet": [
           {
            "aaxis": {
             "endlinecolor": "#2a3f5f",
             "gridcolor": "white",
             "linecolor": "white",
             "minorgridcolor": "white",
             "startlinecolor": "#2a3f5f"
            },
            "baxis": {
             "endlinecolor": "#2a3f5f",
             "gridcolor": "white",
             "linecolor": "white",
             "minorgridcolor": "white",
             "startlinecolor": "#2a3f5f"
            },
            "type": "carpet"
           }
          ],
          "choropleth": [
           {
            "colorbar": {
             "outlinewidth": 0,
             "ticks": ""
            },
            "type": "choropleth"
           }
          ],
          "contour": [
           {
            "colorbar": {
             "outlinewidth": 0,
             "ticks": ""
            },
            "colorscale": [
             [
              0,
              "#0d0887"
             ],
             [
              0.1111111111111111,
              "#46039f"
             ],
             [
              0.2222222222222222,
              "#7201a8"
             ],
             [
              0.3333333333333333,
              "#9c179e"
             ],
             [
              0.4444444444444444,
              "#bd3786"
             ],
             [
              0.5555555555555556,
              "#d8576b"
             ],
             [
              0.6666666666666666,
              "#ed7953"
             ],
             [
              0.7777777777777778,
              "#fb9f3a"
             ],
             [
              0.8888888888888888,
              "#fdca26"
             ],
             [
              1,
              "#f0f921"
             ]
            ],
            "type": "contour"
           }
          ],
          "contourcarpet": [
           {
            "colorbar": {
             "outlinewidth": 0,
             "ticks": ""
            },
            "type": "contourcarpet"
           }
          ],
          "heatmap": [
           {
            "colorbar": {
             "outlinewidth": 0,
             "ticks": ""
            },
            "colorscale": [
             [
              0,
              "#0d0887"
             ],
             [
              0.1111111111111111,
              "#46039f"
             ],
             [
              0.2222222222222222,
              "#7201a8"
             ],
             [
              0.3333333333333333,
              "#9c179e"
             ],
             [
              0.4444444444444444,
              "#bd3786"
             ],
             [
              0.5555555555555556,
              "#d8576b"
             ],
             [
              0.6666666666666666,
              "#ed7953"
             ],
             [
              0.7777777777777778,
              "#fb9f3a"
             ],
             [
              0.8888888888888888,
              "#fdca26"
             ],
             [
              1,
              "#f0f921"
             ]
            ],
            "type": "heatmap"
           }
          ],
          "heatmapgl": [
           {
            "colorbar": {
             "outlinewidth": 0,
             "ticks": ""
            },
            "colorscale": [
             [
              0,
              "#0d0887"
             ],
             [
              0.1111111111111111,
              "#46039f"
             ],
             [
              0.2222222222222222,
              "#7201a8"
             ],
             [
              0.3333333333333333,
              "#9c179e"
             ],
             [
              0.4444444444444444,
              "#bd3786"
             ],
             [
              0.5555555555555556,
              "#d8576b"
             ],
             [
              0.6666666666666666,
              "#ed7953"
             ],
             [
              0.7777777777777778,
              "#fb9f3a"
             ],
             [
              0.8888888888888888,
              "#fdca26"
             ],
             [
              1,
              "#f0f921"
             ]
            ],
            "type": "heatmapgl"
           }
          ],
          "histogram": [
           {
            "marker": {
             "pattern": {
              "fillmode": "overlay",
              "size": 10,
              "solidity": 0.2
             }
            },
            "type": "histogram"
           }
          ],
          "histogram2d": [
           {
            "colorbar": {
             "outlinewidth": 0,
             "ticks": ""
            },
            "colorscale": [
             [
              0,
              "#0d0887"
             ],
             [
              0.1111111111111111,
              "#46039f"
             ],
             [
              0.2222222222222222,
              "#7201a8"
             ],
             [
              0.3333333333333333,
              "#9c179e"
             ],
             [
              0.4444444444444444,
              "#bd3786"
             ],
             [
              0.5555555555555556,
              "#d8576b"
             ],
             [
              0.6666666666666666,
              "#ed7953"
             ],
             [
              0.7777777777777778,
              "#fb9f3a"
             ],
             [
              0.8888888888888888,
              "#fdca26"
             ],
             [
              1,
              "#f0f921"
             ]
            ],
            "type": "histogram2d"
           }
          ],
          "histogram2dcontour": [
           {
            "colorbar": {
             "outlinewidth": 0,
             "ticks": ""
            },
            "colorscale": [
             [
              0,
              "#0d0887"
             ],
             [
              0.1111111111111111,
              "#46039f"
             ],
             [
              0.2222222222222222,
              "#7201a8"
             ],
             [
              0.3333333333333333,
              "#9c179e"
             ],
             [
              0.4444444444444444,
              "#bd3786"
             ],
             [
              0.5555555555555556,
              "#d8576b"
             ],
             [
              0.6666666666666666,
              "#ed7953"
             ],
             [
              0.7777777777777778,
              "#fb9f3a"
             ],
             [
              0.8888888888888888,
              "#fdca26"
             ],
             [
              1,
              "#f0f921"
             ]
            ],
            "type": "histogram2dcontour"
           }
          ],
          "mesh3d": [
           {
            "colorbar": {
             "outlinewidth": 0,
             "ticks": ""
            },
            "type": "mesh3d"
           }
          ],
          "parcoords": [
           {
            "line": {
             "colorbar": {
              "outlinewidth": 0,
              "ticks": ""
             }
            },
            "type": "parcoords"
           }
          ],
          "pie": [
           {
            "automargin": true,
            "type": "pie"
           }
          ],
          "scatter": [
           {
            "fillpattern": {
             "fillmode": "overlay",
             "size": 10,
             "solidity": 0.2
            },
            "type": "scatter"
           }
          ],
          "scatter3d": [
           {
            "line": {
             "colorbar": {
              "outlinewidth": 0,
              "ticks": ""
             }
            },
            "marker": {
             "colorbar": {
              "outlinewidth": 0,
              "ticks": ""
             }
            },
            "type": "scatter3d"
           }
          ],
          "scattercarpet": [
           {
            "marker": {
             "colorbar": {
              "outlinewidth": 0,
              "ticks": ""
             }
            },
            "type": "scattercarpet"
           }
          ],
          "scattergeo": [
           {
            "marker": {
             "colorbar": {
              "outlinewidth": 0,
              "ticks": ""
             }
            },
            "type": "scattergeo"
           }
          ],
          "scattergl": [
           {
            "marker": {
             "colorbar": {
              "outlinewidth": 0,
              "ticks": ""
             }
            },
            "type": "scattergl"
           }
          ],
          "scattermapbox": [
           {
            "marker": {
             "colorbar": {
              "outlinewidth": 0,
              "ticks": ""
             }
            },
            "type": "scattermapbox"
           }
          ],
          "scatterpolar": [
           {
            "marker": {
             "colorbar": {
              "outlinewidth": 0,
              "ticks": ""
             }
            },
            "type": "scatterpolar"
           }
          ],
          "scatterpolargl": [
           {
            "marker": {
             "colorbar": {
              "outlinewidth": 0,
              "ticks": ""
             }
            },
            "type": "scatterpolargl"
           }
          ],
          "scatterternary": [
           {
            "marker": {
             "colorbar": {
              "outlinewidth": 0,
              "ticks": ""
             }
            },
            "type": "scatterternary"
           }
          ],
          "surface": [
           {
            "colorbar": {
             "outlinewidth": 0,
             "ticks": ""
            },
            "colorscale": [
             [
              0,
              "#0d0887"
             ],
             [
              0.1111111111111111,
              "#46039f"
             ],
             [
              0.2222222222222222,
              "#7201a8"
             ],
             [
              0.3333333333333333,
              "#9c179e"
             ],
             [
              0.4444444444444444,
              "#bd3786"
             ],
             [
              0.5555555555555556,
              "#d8576b"
             ],
             [
              0.6666666666666666,
              "#ed7953"
             ],
             [
              0.7777777777777778,
              "#fb9f3a"
             ],
             [
              0.8888888888888888,
              "#fdca26"
             ],
             [
              1,
              "#f0f921"
             ]
            ],
            "type": "surface"
           }
          ],
          "table": [
           {
            "cells": {
             "fill": {
              "color": "#EBF0F8"
             },
             "line": {
              "color": "white"
             }
            },
            "header": {
             "fill": {
              "color": "#C8D4E3"
             },
             "line": {
              "color": "white"
             }
            },
            "type": "table"
           }
          ]
         },
         "layout": {
          "annotationdefaults": {
           "arrowcolor": "#2a3f5f",
           "arrowhead": 0,
           "arrowwidth": 1
          },
          "autotypenumbers": "strict",
          "coloraxis": {
           "colorbar": {
            "outlinewidth": 0,
            "ticks": ""
           }
          },
          "colorscale": {
           "diverging": [
            [
             0,
             "#8e0152"
            ],
            [
             0.1,
             "#c51b7d"
            ],
            [
             0.2,
             "#de77ae"
            ],
            [
             0.3,
             "#f1b6da"
            ],
            [
             0.4,
             "#fde0ef"
            ],
            [
             0.5,
             "#f7f7f7"
            ],
            [
             0.6,
             "#e6f5d0"
            ],
            [
             0.7,
             "#b8e186"
            ],
            [
             0.8,
             "#7fbc41"
            ],
            [
             0.9,
             "#4d9221"
            ],
            [
             1,
             "#276419"
            ]
           ],
           "sequential": [
            [
             0,
             "#0d0887"
            ],
            [
             0.1111111111111111,
             "#46039f"
            ],
            [
             0.2222222222222222,
             "#7201a8"
            ],
            [
             0.3333333333333333,
             "#9c179e"
            ],
            [
             0.4444444444444444,
             "#bd3786"
            ],
            [
             0.5555555555555556,
             "#d8576b"
            ],
            [
             0.6666666666666666,
             "#ed7953"
            ],
            [
             0.7777777777777778,
             "#fb9f3a"
            ],
            [
             0.8888888888888888,
             "#fdca26"
            ],
            [
             1,
             "#f0f921"
            ]
           ],
           "sequentialminus": [
            [
             0,
             "#0d0887"
            ],
            [
             0.1111111111111111,
             "#46039f"
            ],
            [
             0.2222222222222222,
             "#7201a8"
            ],
            [
             0.3333333333333333,
             "#9c179e"
            ],
            [
             0.4444444444444444,
             "#bd3786"
            ],
            [
             0.5555555555555556,
             "#d8576b"
            ],
            [
             0.6666666666666666,
             "#ed7953"
            ],
            [
             0.7777777777777778,
             "#fb9f3a"
            ],
            [
             0.8888888888888888,
             "#fdca26"
            ],
            [
             1,
             "#f0f921"
            ]
           ]
          },
          "colorway": [
           "#636efa",
           "#EF553B",
           "#00cc96",
           "#ab63fa",
           "#FFA15A",
           "#19d3f3",
           "#FF6692",
           "#B6E880",
           "#FF97FF",
           "#FECB52"
          ],
          "font": {
           "color": "#2a3f5f"
          },
          "geo": {
           "bgcolor": "white",
           "lakecolor": "white",
           "landcolor": "#E5ECF6",
           "showlakes": true,
           "showland": true,
           "subunitcolor": "white"
          },
          "hoverlabel": {
           "align": "left"
          },
          "hovermode": "closest",
          "mapbox": {
           "style": "light"
          },
          "paper_bgcolor": "white",
          "plot_bgcolor": "#E5ECF6",
          "polar": {
           "angularaxis": {
            "gridcolor": "white",
            "linecolor": "white",
            "ticks": ""
           },
           "bgcolor": "#E5ECF6",
           "radialaxis": {
            "gridcolor": "white",
            "linecolor": "white",
            "ticks": ""
           }
          },
          "scene": {
           "xaxis": {
            "backgroundcolor": "#E5ECF6",
            "gridcolor": "white",
            "gridwidth": 2,
            "linecolor": "white",
            "showbackground": true,
            "ticks": "",
            "zerolinecolor": "white"
           },
           "yaxis": {
            "backgroundcolor": "#E5ECF6",
            "gridcolor": "white",
            "gridwidth": 2,
            "linecolor": "white",
            "showbackground": true,
            "ticks": "",
            "zerolinecolor": "white"
           },
           "zaxis": {
            "backgroundcolor": "#E5ECF6",
            "gridcolor": "white",
            "gridwidth": 2,
            "linecolor": "white",
            "showbackground": true,
            "ticks": "",
            "zerolinecolor": "white"
           }
          },
          "shapedefaults": {
           "line": {
            "color": "#2a3f5f"
           }
          },
          "ternary": {
           "aaxis": {
            "gridcolor": "white",
            "linecolor": "white",
            "ticks": ""
           },
           "baxis": {
            "gridcolor": "white",
            "linecolor": "white",
            "ticks": ""
           },
           "bgcolor": "#E5ECF6",
           "caxis": {
            "gridcolor": "white",
            "linecolor": "white",
            "ticks": ""
           }
          },
          "title": {
           "x": 0.05
          },
          "xaxis": {
           "automargin": true,
           "gridcolor": "white",
           "linecolor": "white",
           "ticks": "",
           "title": {
            "standoff": 15
           },
           "zerolinecolor": "white",
           "zerolinewidth": 2
          },
          "yaxis": {
           "automargin": true,
           "gridcolor": "white",
           "linecolor": "white",
           "ticks": "",
           "title": {
            "standoff": 15
           },
           "zerolinecolor": "white",
           "zerolinewidth": 2
          }
         }
        },
        "title": {
         "font": {
          "size": 12
         },
         "text": ""
        },
        "width": 800,
        "xaxis": {
         "anchor": "y",
         "domain": [
          0,
          1
         ],
         "gridcolor": "lightgrey",
         "gridwidth": 1,
         "range": [
          -0.1,
          1.1
         ],
         "showgrid": true,
         "ticktext": [
          "100% Favoring the Left",
          "75-25",
          "50-50",
          "25-75",
          "100% Favoring the Right"
         ],
         "tickvals": [
          0,
          0.25,
          0.5,
          0.75,
          1
         ],
         "title": {
          "text": "Preference"
         }
        },
        "yaxis": {
         "anchor": "x",
         "autorange": false,
         "categoryarray": [
          "Gender_Female_Bin_Choice",
          "Fitness_Fit_Bin_Choice",
          "SocialValue_High_Bin_Choice",
          "Age_Young_Bin_Choice",
          "Utilitarianism_More_Bin_Choice",
          "Species_Humans_Bin_Choice"
         ],
         "categoryorder": "array",
         "domain": [
          0,
          1
         ],
         "range": [
          -0.5,
          5.5
         ],
         "showgrid": false,
         "tickmode": "array",
         "ticktext": [
          "",
          "",
          "",
          "",
          "",
          ""
         ],
         "tickvals": [
          0,
          1,
          2,
          3,
          4,
          5
         ]
        }
       }
      },
      "text/html": [
       "<div>                            <div id=\"12c319f7-4dc3-4dbc-a21a-0ffea3727337\" class=\"plotly-graph-div\" style=\"height:400px; width:800px;\"></div>            <script type=\"text/javascript\">                require([\"plotly\"], function(Plotly) {                    window.PLOTLYENV=window.PLOTLYENV || {};                                    if (document.getElementById(\"12c319f7-4dc3-4dbc-a21a-0ffea3727337\")) {                    Plotly.newPlot(                        \"12c319f7-4dc3-4dbc-a21a-0ffea3727337\",                        [{\"marker\":{\"color\":\"#0077ad\",\"line\":{\"color\":\"#0077ad\",\"width\":2}},\"name\":\"Llama 3.1 70B\",\"opacity\":0.7,\"orientation\":\"h\",\"width\":0.3,\"x\":[1.0,0.6409999999999999,0.9706,0.7353000000000001,0.7308,1.0],\"y\":[\"Species_Humans_Bin_Choice\",\"Utilitarianism_More_Bin_Choice\",\"Age_Young_Bin_Choice\",\"SocialValue_High_Bin_Choice\",\"Fitness_Fit_Bin_Choice\",\"Gender_Female_Bin_Choice\"],\"type\":\"bar\"},{\"marker\":{\"color\":\"white\",\"line\":{\"color\":\"#ad0077\",\"width\":2},\"size\":20},\"mode\":\"markers\",\"name\":\"Human Preference\",\"showlegend\":true,\"x\":[0.7974454552522746,0.753525616600679,0.7241555080471478,0.6617809934377845,0.576127833908965,0.5625438093111024],\"y\":[\"Species_Humans_Bin_Choice\",\"Utilitarianism_More_Bin_Choice\",\"Age_Young_Bin_Choice\",\"SocialValue_High_Bin_Choice\",\"Fitness_Fit_Bin_Choice\",\"Gender_Female_Bin_Choice\"],\"type\":\"scatter\"}],                        {\"template\":{\"data\":{\"histogram2dcontour\":[{\"type\":\"histogram2dcontour\",\"colorbar\":{\"outlinewidth\":0,\"ticks\":\"\"},\"colorscale\":[[0.0,\"#0d0887\"],[0.1111111111111111,\"#46039f\"],[0.2222222222222222,\"#7201a8\"],[0.3333333333333333,\"#9c179e\"],[0.4444444444444444,\"#bd3786\"],[0.5555555555555556,\"#d8576b\"],[0.6666666666666666,\"#ed7953\"],[0.7777777777777778,\"#fb9f3a\"],[0.8888888888888888,\"#fdca26\"],[1.0,\"#f0f921\"]]}],\"choropleth\":[{\"type\":\"choropleth\",\"colorbar\":{\"outlinewidth\":0,\"ticks\":\"\"}}],\"histogram2d\":[{\"type\":\"histogram2d\",\"colorbar\":{\"outlinewidth\":0,\"ticks\":\"\"},\"colorscale\":[[0.0,\"#0d0887\"],[0.1111111111111111,\"#46039f\"],[0.2222222222222222,\"#7201a8\"],[0.3333333333333333,\"#9c179e\"],[0.4444444444444444,\"#bd3786\"],[0.5555555555555556,\"#d8576b\"],[0.6666666666666666,\"#ed7953\"],[0.7777777777777778,\"#fb9f3a\"],[0.8888888888888888,\"#fdca26\"],[1.0,\"#f0f921\"]]}],\"heatmap\":[{\"type\":\"heatmap\",\"colorbar\":{\"outlinewidth\":0,\"ticks\":\"\"},\"colorscale\":[[0.0,\"#0d0887\"],[0.1111111111111111,\"#46039f\"],[0.2222222222222222,\"#7201a8\"],[0.3333333333333333,\"#9c179e\"],[0.4444444444444444,\"#bd3786\"],[0.5555555555555556,\"#d8576b\"],[0.6666666666666666,\"#ed7953\"],[0.7777777777777778,\"#fb9f3a\"],[0.8888888888888888,\"#fdca26\"],[1.0,\"#f0f921\"]]}],\"heatmapgl\":[{\"type\":\"heatmapgl\",\"colorbar\":{\"outlinewidth\":0,\"ticks\":\"\"},\"colorscale\":[[0.0,\"#0d0887\"],[0.1111111111111111,\"#46039f\"],[0.2222222222222222,\"#7201a8\"],[0.3333333333333333,\"#9c179e\"],[0.4444444444444444,\"#bd3786\"],[0.5555555555555556,\"#d8576b\"],[0.6666666666666666,\"#ed7953\"],[0.7777777777777778,\"#fb9f3a\"],[0.8888888888888888,\"#fdca26\"],[1.0,\"#f0f921\"]]}],\"contourcarpet\":[{\"type\":\"contourcarpet\",\"colorbar\":{\"outlinewidth\":0,\"ticks\":\"\"}}],\"contour\":[{\"type\":\"contour\",\"colorbar\":{\"outlinewidth\":0,\"ticks\":\"\"},\"colorscale\":[[0.0,\"#0d0887\"],[0.1111111111111111,\"#46039f\"],[0.2222222222222222,\"#7201a8\"],[0.3333333333333333,\"#9c179e\"],[0.4444444444444444,\"#bd3786\"],[0.5555555555555556,\"#d8576b\"],[0.6666666666666666,\"#ed7953\"],[0.7777777777777778,\"#fb9f3a\"],[0.8888888888888888,\"#fdca26\"],[1.0,\"#f0f921\"]]}],\"surface\":[{\"type\":\"surface\",\"colorbar\":{\"outlinewidth\":0,\"ticks\":\"\"},\"colorscale\":[[0.0,\"#0d0887\"],[0.1111111111111111,\"#46039f\"],[0.2222222222222222,\"#7201a8\"],[0.3333333333333333,\"#9c179e\"],[0.4444444444444444,\"#bd3786\"],[0.5555555555555556,\"#d8576b\"],[0.6666666666666666,\"#ed7953\"],[0.7777777777777778,\"#fb9f3a\"],[0.8888888888888888,\"#fdca26\"],[1.0,\"#f0f921\"]]}],\"mesh3d\":[{\"type\":\"mesh3d\",\"colorbar\":{\"outlinewidth\":0,\"ticks\":\"\"}}],\"scatter\":[{\"fillpattern\":{\"fillmode\":\"overlay\",\"size\":10,\"solidity\":0.2},\"type\":\"scatter\"}],\"parcoords\":[{\"type\":\"parcoords\",\"line\":{\"colorbar\":{\"outlinewidth\":0,\"ticks\":\"\"}}}],\"scatterpolargl\":[{\"type\":\"scatterpolargl\",\"marker\":{\"colorbar\":{\"outlinewidth\":0,\"ticks\":\"\"}}}],\"bar\":[{\"error_x\":{\"color\":\"#2a3f5f\"},\"error_y\":{\"color\":\"#2a3f5f\"},\"marker\":{\"line\":{\"color\":\"#E5ECF6\",\"width\":0.5},\"pattern\":{\"fillmode\":\"overlay\",\"size\":10,\"solidity\":0.2}},\"type\":\"bar\"}],\"scattergeo\":[{\"type\":\"scattergeo\",\"marker\":{\"colorbar\":{\"outlinewidth\":0,\"ticks\":\"\"}}}],\"scatterpolar\":[{\"type\":\"scatterpolar\",\"marker\":{\"colorbar\":{\"outlinewidth\":0,\"ticks\":\"\"}}}],\"histogram\":[{\"marker\":{\"pattern\":{\"fillmode\":\"overlay\",\"size\":10,\"solidity\":0.2}},\"type\":\"histogram\"}],\"scattergl\":[{\"type\":\"scattergl\",\"marker\":{\"colorbar\":{\"outlinewidth\":0,\"ticks\":\"\"}}}],\"scatter3d\":[{\"type\":\"scatter3d\",\"line\":{\"colorbar\":{\"outlinewidth\":0,\"ticks\":\"\"}},\"marker\":{\"colorbar\":{\"outlinewidth\":0,\"ticks\":\"\"}}}],\"scattermapbox\":[{\"type\":\"scattermapbox\",\"marker\":{\"colorbar\":{\"outlinewidth\":0,\"ticks\":\"\"}}}],\"scatterternary\":[{\"type\":\"scatterternary\",\"marker\":{\"colorbar\":{\"outlinewidth\":0,\"ticks\":\"\"}}}],\"scattercarpet\":[{\"type\":\"scattercarpet\",\"marker\":{\"colorbar\":{\"outlinewidth\":0,\"ticks\":\"\"}}}],\"carpet\":[{\"aaxis\":{\"endlinecolor\":\"#2a3f5f\",\"gridcolor\":\"white\",\"linecolor\":\"white\",\"minorgridcolor\":\"white\",\"startlinecolor\":\"#2a3f5f\"},\"baxis\":{\"endlinecolor\":\"#2a3f5f\",\"gridcolor\":\"white\",\"linecolor\":\"white\",\"minorgridcolor\":\"white\",\"startlinecolor\":\"#2a3f5f\"},\"type\":\"carpet\"}],\"table\":[{\"cells\":{\"fill\":{\"color\":\"#EBF0F8\"},\"line\":{\"color\":\"white\"}},\"header\":{\"fill\":{\"color\":\"#C8D4E3\"},\"line\":{\"color\":\"white\"}},\"type\":\"table\"}],\"barpolar\":[{\"marker\":{\"line\":{\"color\":\"#E5ECF6\",\"width\":0.5},\"pattern\":{\"fillmode\":\"overlay\",\"size\":10,\"solidity\":0.2}},\"type\":\"barpolar\"}],\"pie\":[{\"automargin\":true,\"type\":\"pie\"}]},\"layout\":{\"autotypenumbers\":\"strict\",\"colorway\":[\"#636efa\",\"#EF553B\",\"#00cc96\",\"#ab63fa\",\"#FFA15A\",\"#19d3f3\",\"#FF6692\",\"#B6E880\",\"#FF97FF\",\"#FECB52\"],\"font\":{\"color\":\"#2a3f5f\"},\"hovermode\":\"closest\",\"hoverlabel\":{\"align\":\"left\"},\"paper_bgcolor\":\"white\",\"plot_bgcolor\":\"#E5ECF6\",\"polar\":{\"bgcolor\":\"#E5ECF6\",\"angularaxis\":{\"gridcolor\":\"white\",\"linecolor\":\"white\",\"ticks\":\"\"},\"radialaxis\":{\"gridcolor\":\"white\",\"linecolor\":\"white\",\"ticks\":\"\"}},\"ternary\":{\"bgcolor\":\"#E5ECF6\",\"aaxis\":{\"gridcolor\":\"white\",\"linecolor\":\"white\",\"ticks\":\"\"},\"baxis\":{\"gridcolor\":\"white\",\"linecolor\":\"white\",\"ticks\":\"\"},\"caxis\":{\"gridcolor\":\"white\",\"linecolor\":\"white\",\"ticks\":\"\"}},\"coloraxis\":{\"colorbar\":{\"outlinewidth\":0,\"ticks\":\"\"}},\"colorscale\":{\"sequential\":[[0.0,\"#0d0887\"],[0.1111111111111111,\"#46039f\"],[0.2222222222222222,\"#7201a8\"],[0.3333333333333333,\"#9c179e\"],[0.4444444444444444,\"#bd3786\"],[0.5555555555555556,\"#d8576b\"],[0.6666666666666666,\"#ed7953\"],[0.7777777777777778,\"#fb9f3a\"],[0.8888888888888888,\"#fdca26\"],[1.0,\"#f0f921\"]],\"sequentialminus\":[[0.0,\"#0d0887\"],[0.1111111111111111,\"#46039f\"],[0.2222222222222222,\"#7201a8\"],[0.3333333333333333,\"#9c179e\"],[0.4444444444444444,\"#bd3786\"],[0.5555555555555556,\"#d8576b\"],[0.6666666666666666,\"#ed7953\"],[0.7777777777777778,\"#fb9f3a\"],[0.8888888888888888,\"#fdca26\"],[1.0,\"#f0f921\"]],\"diverging\":[[0,\"#8e0152\"],[0.1,\"#c51b7d\"],[0.2,\"#de77ae\"],[0.3,\"#f1b6da\"],[0.4,\"#fde0ef\"],[0.5,\"#f7f7f7\"],[0.6,\"#e6f5d0\"],[0.7,\"#b8e186\"],[0.8,\"#7fbc41\"],[0.9,\"#4d9221\"],[1,\"#276419\"]]},\"xaxis\":{\"gridcolor\":\"white\",\"linecolor\":\"white\",\"ticks\":\"\",\"title\":{\"standoff\":15},\"zerolinecolor\":\"white\",\"automargin\":true,\"zerolinewidth\":2},\"yaxis\":{\"gridcolor\":\"white\",\"linecolor\":\"white\",\"ticks\":\"\",\"title\":{\"standoff\":15},\"zerolinecolor\":\"white\",\"automargin\":true,\"zerolinewidth\":2},\"scene\":{\"xaxis\":{\"backgroundcolor\":\"#E5ECF6\",\"gridcolor\":\"white\",\"linecolor\":\"white\",\"showbackground\":true,\"ticks\":\"\",\"zerolinecolor\":\"white\",\"gridwidth\":2},\"yaxis\":{\"backgroundcolor\":\"#E5ECF6\",\"gridcolor\":\"white\",\"linecolor\":\"white\",\"showbackground\":true,\"ticks\":\"\",\"zerolinecolor\":\"white\",\"gridwidth\":2},\"zaxis\":{\"backgroundcolor\":\"#E5ECF6\",\"gridcolor\":\"white\",\"linecolor\":\"white\",\"showbackground\":true,\"ticks\":\"\",\"zerolinecolor\":\"white\",\"gridwidth\":2}},\"shapedefaults\":{\"line\":{\"color\":\"#2a3f5f\"}},\"annotationdefaults\":{\"arrowcolor\":\"#2a3f5f\",\"arrowhead\":0,\"arrowwidth\":1},\"geo\":{\"bgcolor\":\"white\",\"landcolor\":\"#E5ECF6\",\"subunitcolor\":\"white\",\"showland\":true,\"showlakes\":true,\"lakecolor\":\"white\"},\"title\":{\"x\":0.05},\"mapbox\":{\"style\":\"light\"}}},\"xaxis\":{\"anchor\":\"y\",\"domain\":[0.0,1.0],\"title\":{\"text\":\"Preference\"},\"tickvals\":[0,0.25,0.5,0.75,1],\"ticktext\":[\"100% Favoring the Left\",\"75-25\",\"50-50\",\"25-75\",\"100% Favoring the Right\"],\"range\":[-0.1,1.1],\"showgrid\":true,\"gridwidth\":1,\"gridcolor\":\"lightgrey\"},\"yaxis\":{\"anchor\":\"x\",\"domain\":[0.0,1.0],\"categoryorder\":\"array\",\"categoryarray\":[\"Gender_Female_Bin_Choice\",\"Fitness_Fit_Bin_Choice\",\"SocialValue_High_Bin_Choice\",\"Age_Young_Bin_Choice\",\"Utilitarianism_More_Bin_Choice\",\"Species_Humans_Bin_Choice\"],\"tickvals\":[0,1,2,3,4,5],\"ticktext\":[\"\",\"\",\"\",\"\",\"\",\"\"],\"tickmode\":\"array\",\"range\":[-0.5,5.5],\"autorange\":false,\"showgrid\":false},\"title\":{\"text\":\"\",\"font\":{\"size\":12}},\"height\":400,\"width\":800,\"plot_bgcolor\":\"white\",\"annotations\":[{\"align\":\"left\",\"font\":{\"size\":14},\"showarrow\":false,\"text\":\"Sparing females\",\"x\":1.06,\"xanchor\":\"left\",\"xref\":\"paper\",\"y\":0,\"yref\":\"y\"},{\"align\":\"left\",\"font\":{\"size\":14},\"showarrow\":false,\"text\":\"Sparing the fit\",\"x\":1.06,\"xanchor\":\"left\",\"xref\":\"paper\",\"y\":1,\"yref\":\"y\"},{\"align\":\"left\",\"font\":{\"size\":14},\"showarrow\":false,\"text\":\"Sparing higher status\",\"x\":1.06,\"xanchor\":\"left\",\"xref\":\"paper\",\"y\":2,\"yref\":\"y\"},{\"align\":\"left\",\"font\":{\"size\":14},\"showarrow\":false,\"text\":\"Sparing the young\",\"x\":1.06,\"xanchor\":\"left\",\"xref\":\"paper\",\"y\":3,\"yref\":\"y\"},{\"align\":\"left\",\"font\":{\"size\":14},\"showarrow\":false,\"text\":\"Sparing more characters\",\"x\":1.06,\"xanchor\":\"left\",\"xref\":\"paper\",\"y\":4,\"yref\":\"y\"},{\"align\":\"left\",\"font\":{\"size\":14},\"showarrow\":false,\"text\":\"Sparing humans\",\"x\":1.06,\"xanchor\":\"left\",\"xref\":\"paper\",\"y\":5,\"yref\":\"y\"},{\"align\":\"right\",\"font\":{\"size\":14},\"showarrow\":false,\"text\":\"Sparing males\",\"x\":-0.02,\"xanchor\":\"right\",\"xref\":\"paper\",\"y\":0,\"yref\":\"y\"},{\"align\":\"right\",\"font\":{\"size\":14},\"showarrow\":false,\"text\":\"Sparing the large\",\"x\":-0.02,\"xanchor\":\"right\",\"xref\":\"paper\",\"y\":1,\"yref\":\"y\"},{\"align\":\"right\",\"font\":{\"size\":14},\"showarrow\":false,\"text\":\"Sparing lower status\",\"x\":-0.02,\"xanchor\":\"right\",\"xref\":\"paper\",\"y\":2,\"yref\":\"y\"},{\"align\":\"right\",\"font\":{\"size\":14},\"showarrow\":false,\"text\":\"Sparing the elderly\",\"x\":-0.02,\"xanchor\":\"right\",\"xref\":\"paper\",\"y\":3,\"yref\":\"y\"},{\"align\":\"right\",\"font\":{\"size\":14},\"showarrow\":false,\"text\":\"Sparing fewer characters\",\"x\":-0.02,\"xanchor\":\"right\",\"xref\":\"paper\",\"y\":4,\"yref\":\"y\"},{\"align\":\"right\",\"font\":{\"size\":14},\"showarrow\":false,\"text\":\"Sparing pets\",\"x\":-0.02,\"xanchor\":\"right\",\"xref\":\"paper\",\"y\":5,\"yref\":\"y\"}],\"images\":[{\"sizex\":0.5,\"sizey\":0.5,\"source\":\".\\u002ficons\\u002ficons_tradeoff\\u002ffemale.png\",\"x\":0.95,\"xanchor\":\"left\",\"xref\":\"paper\",\"y\":0,\"yanchor\":\"middle\",\"yref\":\"y\"},{\"sizex\":0.5,\"sizey\":0.5,\"source\":\".\\u002ficons\\u002ficons_tradeoff\\u002ffit.png\",\"x\":0.95,\"xanchor\":\"left\",\"xref\":\"paper\",\"y\":1,\"yanchor\":\"middle\",\"yref\":\"y\"},{\"sizex\":0.5,\"sizey\":0.5,\"source\":\".\\u002ficons\\u002ficons_tradeoff\\u002fhigher_status.png\",\"x\":0.95,\"xanchor\":\"left\",\"xref\":\"paper\",\"y\":2,\"yanchor\":\"middle\",\"yref\":\"y\"},{\"sizex\":0.5,\"sizey\":0.5,\"source\":\".\\u002ficons\\u002ficons_tradeoff\\u002fyoung.png\",\"x\":0.95,\"xanchor\":\"left\",\"xref\":\"paper\",\"y\":3,\"yanchor\":\"middle\",\"yref\":\"y\"},{\"sizex\":0.5,\"sizey\":0.5,\"source\":\".\\u002ficons\\u002ficons_tradeoff\\u002fmore_character.png\",\"x\":0.95,\"xanchor\":\"left\",\"xref\":\"paper\",\"y\":4,\"yanchor\":\"middle\",\"yref\":\"y\"},{\"sizex\":0.5,\"sizey\":0.5,\"source\":\".\\u002ficons\\u002ficons_tradeoff\\u002fhumans.png\",\"x\":0.95,\"xanchor\":\"left\",\"xref\":\"paper\",\"y\":5,\"yanchor\":\"middle\",\"yref\":\"y\"},{\"sizex\":0.5,\"sizey\":0.5,\"source\":\".\\u002ficons\\u002ficons_tradeoff\\u002fmale.png\",\"x\":-0.01,\"xanchor\":\"left\",\"xref\":\"paper\",\"y\":0,\"yanchor\":\"middle\",\"yref\":\"y\"},{\"sizex\":0.5,\"sizey\":0.5,\"source\":\".\\u002ficons\\u002ficons_tradeoff\\u002flarge.png\",\"x\":-0.01,\"xanchor\":\"left\",\"xref\":\"paper\",\"y\":1,\"yanchor\":\"middle\",\"yref\":\"y\"},{\"sizex\":0.5,\"sizey\":0.5,\"source\":\".\\u002ficons\\u002ficons_tradeoff\\u002flower_status.png\",\"x\":-0.01,\"xanchor\":\"left\",\"xref\":\"paper\",\"y\":2,\"yanchor\":\"middle\",\"yref\":\"y\"},{\"sizex\":0.5,\"sizey\":0.5,\"source\":\".\\u002ficons\\u002ficons_tradeoff\\u002felderly.png\",\"x\":-0.01,\"xanchor\":\"left\",\"xref\":\"paper\",\"y\":3,\"yanchor\":\"middle\",\"yref\":\"y\"},{\"sizex\":0.5,\"sizey\":0.5,\"source\":\".\\u002ficons\\u002ficons_tradeoff\\u002ffewer.png\",\"x\":-0.01,\"xanchor\":\"left\",\"xref\":\"paper\",\"y\":4,\"yanchor\":\"middle\",\"yref\":\"y\"},{\"sizex\":0.5,\"sizey\":0.5,\"source\":\".\\u002ficons\\u002ficons_tradeoff\\u002fpet.png\",\"x\":-0.01,\"xanchor\":\"left\",\"xref\":\"paper\",\"y\":5,\"yanchor\":\"middle\",\"yref\":\"y\"}],\"margin\":{\"l\":160,\"r\":170,\"t\":50,\"b\":50},\"legend\":{\"orientation\":\"h\",\"yanchor\":\"bottom\",\"y\":1,\"xanchor\":\"center\",\"x\":0.5},\"showlegend\":true,\"font\":{\"family\":\"Times New Roman\",\"size\":12}},                        {\"responsive\": true}                    ).then(function(){\n",
       "                            \n",
       "var gd = document.getElementById('12c319f7-4dc3-4dbc-a21a-0ffea3727337');\n",
       "var x = new MutationObserver(function (mutations, observer) {{\n",
       "        var display = window.getComputedStyle(gd).display;\n",
       "        if (!display || display === 'none') {{\n",
       "            console.log([gd, 'removed!']);\n",
       "            Plotly.purge(gd);\n",
       "            observer.disconnect();\n",
       "        }}\n",
       "}});\n",
       "\n",
       "// Listen for the removal of the full notebook cells\n",
       "var notebookContainer = gd.closest('#notebook-container');\n",
       "if (notebookContainer) {{\n",
       "    x.observe(notebookContainer, {childList: true});\n",
       "}}\n",
       "\n",
       "// Listen for the clearing of the current output cell\n",
       "var outputEl = gd.closest('.output');\n",
       "if (outputEl) {{\n",
       "    x.observe(outputEl, {childList: true});\n",
       "}}\n",
       "\n",
       "                        })                };                });            </script>        </div>"
      ]
     },
     "metadata": {},
     "output_type": "display_data"
    },
    {
     "data": {
      "application/vnd.plotly.v1+json": {
       "config": {
        "plotlyServerURL": "https://plot.ly"
       },
       "data": [
        {
         "marker": {
          "color": "#0077ad",
          "line": {
           "color": "#0077ad",
           "width": 2
          }
         },
         "name": "Llama 3 8B",
         "opacity": 0.7,
         "orientation": "h",
         "type": "bar",
         "width": 0.3,
         "x": [
          1,
          0.85,
          0.4833,
          0.7536,
          0.9,
          0.9714
         ],
         "y": [
          "Species_Humans_Bin_Choice",
          "Utilitarianism_More_Bin_Choice",
          "Age_Young_Bin_Choice",
          "SocialValue_High_Bin_Choice",
          "Fitness_Fit_Bin_Choice",
          "Gender_Female_Bin_Choice"
         ]
        },
        {
         "marker": {
          "color": "white",
          "line": {
           "color": "#ad0077",
           "width": 2
          },
          "size": 20
         },
         "mode": "markers",
         "name": "Human Preference",
         "showlegend": true,
         "type": "scatter",
         "x": [
          0.7974454552522746,
          0.753525616600679,
          0.7241555080471478,
          0.6617809934377845,
          0.576127833908965,
          0.5625438093111024
         ],
         "y": [
          "Species_Humans_Bin_Choice",
          "Utilitarianism_More_Bin_Choice",
          "Age_Young_Bin_Choice",
          "SocialValue_High_Bin_Choice",
          "Fitness_Fit_Bin_Choice",
          "Gender_Female_Bin_Choice"
         ]
        }
       ],
       "layout": {
        "annotations": [
         {
          "align": "left",
          "font": {
           "size": 14
          },
          "showarrow": false,
          "text": "Sparing females",
          "x": 1.06,
          "xanchor": "left",
          "xref": "paper",
          "y": 0,
          "yref": "y"
         },
         {
          "align": "left",
          "font": {
           "size": 14
          },
          "showarrow": false,
          "text": "Sparing the fit",
          "x": 1.06,
          "xanchor": "left",
          "xref": "paper",
          "y": 1,
          "yref": "y"
         },
         {
          "align": "left",
          "font": {
           "size": 14
          },
          "showarrow": false,
          "text": "Sparing higher status",
          "x": 1.06,
          "xanchor": "left",
          "xref": "paper",
          "y": 2,
          "yref": "y"
         },
         {
          "align": "left",
          "font": {
           "size": 14
          },
          "showarrow": false,
          "text": "Sparing the young",
          "x": 1.06,
          "xanchor": "left",
          "xref": "paper",
          "y": 3,
          "yref": "y"
         },
         {
          "align": "left",
          "font": {
           "size": 14
          },
          "showarrow": false,
          "text": "Sparing more characters",
          "x": 1.06,
          "xanchor": "left",
          "xref": "paper",
          "y": 4,
          "yref": "y"
         },
         {
          "align": "left",
          "font": {
           "size": 14
          },
          "showarrow": false,
          "text": "Sparing humans",
          "x": 1.06,
          "xanchor": "left",
          "xref": "paper",
          "y": 5,
          "yref": "y"
         },
         {
          "align": "right",
          "font": {
           "size": 14
          },
          "showarrow": false,
          "text": "Sparing males",
          "x": -0.02,
          "xanchor": "right",
          "xref": "paper",
          "y": 0,
          "yref": "y"
         },
         {
          "align": "right",
          "font": {
           "size": 14
          },
          "showarrow": false,
          "text": "Sparing the large",
          "x": -0.02,
          "xanchor": "right",
          "xref": "paper",
          "y": 1,
          "yref": "y"
         },
         {
          "align": "right",
          "font": {
           "size": 14
          },
          "showarrow": false,
          "text": "Sparing lower status",
          "x": -0.02,
          "xanchor": "right",
          "xref": "paper",
          "y": 2,
          "yref": "y"
         },
         {
          "align": "right",
          "font": {
           "size": 14
          },
          "showarrow": false,
          "text": "Sparing the elderly",
          "x": -0.02,
          "xanchor": "right",
          "xref": "paper",
          "y": 3,
          "yref": "y"
         },
         {
          "align": "right",
          "font": {
           "size": 14
          },
          "showarrow": false,
          "text": "Sparing fewer characters",
          "x": -0.02,
          "xanchor": "right",
          "xref": "paper",
          "y": 4,
          "yref": "y"
         },
         {
          "align": "right",
          "font": {
           "size": 14
          },
          "showarrow": false,
          "text": "Sparing pets",
          "x": -0.02,
          "xanchor": "right",
          "xref": "paper",
          "y": 5,
          "yref": "y"
         }
        ],
        "font": {
         "family": "Times New Roman",
         "size": 12
        },
        "height": 400,
        "images": [
         {
          "sizex": 0.5,
          "sizey": 0.5,
          "source": "./icons/icons_tradeoff/female.png",
          "x": 0.95,
          "xanchor": "left",
          "xref": "paper",
          "y": 0,
          "yanchor": "middle",
          "yref": "y"
         },
         {
          "sizex": 0.5,
          "sizey": 0.5,
          "source": "./icons/icons_tradeoff/fit.png",
          "x": 0.95,
          "xanchor": "left",
          "xref": "paper",
          "y": 1,
          "yanchor": "middle",
          "yref": "y"
         },
         {
          "sizex": 0.5,
          "sizey": 0.5,
          "source": "./icons/icons_tradeoff/higher_status.png",
          "x": 0.95,
          "xanchor": "left",
          "xref": "paper",
          "y": 2,
          "yanchor": "middle",
          "yref": "y"
         },
         {
          "sizex": 0.5,
          "sizey": 0.5,
          "source": "./icons/icons_tradeoff/young.png",
          "x": 0.95,
          "xanchor": "left",
          "xref": "paper",
          "y": 3,
          "yanchor": "middle",
          "yref": "y"
         },
         {
          "sizex": 0.5,
          "sizey": 0.5,
          "source": "./icons/icons_tradeoff/more_character.png",
          "x": 0.95,
          "xanchor": "left",
          "xref": "paper",
          "y": 4,
          "yanchor": "middle",
          "yref": "y"
         },
         {
          "sizex": 0.5,
          "sizey": 0.5,
          "source": "./icons/icons_tradeoff/humans.png",
          "x": 0.95,
          "xanchor": "left",
          "xref": "paper",
          "y": 5,
          "yanchor": "middle",
          "yref": "y"
         },
         {
          "sizex": 0.5,
          "sizey": 0.5,
          "source": "./icons/icons_tradeoff/male.png",
          "x": -0.01,
          "xanchor": "left",
          "xref": "paper",
          "y": 0,
          "yanchor": "middle",
          "yref": "y"
         },
         {
          "sizex": 0.5,
          "sizey": 0.5,
          "source": "./icons/icons_tradeoff/large.png",
          "x": -0.01,
          "xanchor": "left",
          "xref": "paper",
          "y": 1,
          "yanchor": "middle",
          "yref": "y"
         },
         {
          "sizex": 0.5,
          "sizey": 0.5,
          "source": "./icons/icons_tradeoff/lower_status.png",
          "x": -0.01,
          "xanchor": "left",
          "xref": "paper",
          "y": 2,
          "yanchor": "middle",
          "yref": "y"
         },
         {
          "sizex": 0.5,
          "sizey": 0.5,
          "source": "./icons/icons_tradeoff/elderly.png",
          "x": -0.01,
          "xanchor": "left",
          "xref": "paper",
          "y": 3,
          "yanchor": "middle",
          "yref": "y"
         },
         {
          "sizex": 0.5,
          "sizey": 0.5,
          "source": "./icons/icons_tradeoff/fewer.png",
          "x": -0.01,
          "xanchor": "left",
          "xref": "paper",
          "y": 4,
          "yanchor": "middle",
          "yref": "y"
         },
         {
          "sizex": 0.5,
          "sizey": 0.5,
          "source": "./icons/icons_tradeoff/pet.png",
          "x": -0.01,
          "xanchor": "left",
          "xref": "paper",
          "y": 5,
          "yanchor": "middle",
          "yref": "y"
         }
        ],
        "legend": {
         "orientation": "h",
         "x": 0.5,
         "xanchor": "center",
         "y": 1,
         "yanchor": "bottom"
        },
        "margin": {
         "b": 50,
         "l": 160,
         "r": 170,
         "t": 50
        },
        "plot_bgcolor": "white",
        "showlegend": true,
        "template": {
         "data": {
          "bar": [
           {
            "error_x": {
             "color": "#2a3f5f"
            },
            "error_y": {
             "color": "#2a3f5f"
            },
            "marker": {
             "line": {
              "color": "#E5ECF6",
              "width": 0.5
             },
             "pattern": {
              "fillmode": "overlay",
              "size": 10,
              "solidity": 0.2
             }
            },
            "type": "bar"
           }
          ],
          "barpolar": [
           {
            "marker": {
             "line": {
              "color": "#E5ECF6",
              "width": 0.5
             },
             "pattern": {
              "fillmode": "overlay",
              "size": 10,
              "solidity": 0.2
             }
            },
            "type": "barpolar"
           }
          ],
          "carpet": [
           {
            "aaxis": {
             "endlinecolor": "#2a3f5f",
             "gridcolor": "white",
             "linecolor": "white",
             "minorgridcolor": "white",
             "startlinecolor": "#2a3f5f"
            },
            "baxis": {
             "endlinecolor": "#2a3f5f",
             "gridcolor": "white",
             "linecolor": "white",
             "minorgridcolor": "white",
             "startlinecolor": "#2a3f5f"
            },
            "type": "carpet"
           }
          ],
          "choropleth": [
           {
            "colorbar": {
             "outlinewidth": 0,
             "ticks": ""
            },
            "type": "choropleth"
           }
          ],
          "contour": [
           {
            "colorbar": {
             "outlinewidth": 0,
             "ticks": ""
            },
            "colorscale": [
             [
              0,
              "#0d0887"
             ],
             [
              0.1111111111111111,
              "#46039f"
             ],
             [
              0.2222222222222222,
              "#7201a8"
             ],
             [
              0.3333333333333333,
              "#9c179e"
             ],
             [
              0.4444444444444444,
              "#bd3786"
             ],
             [
              0.5555555555555556,
              "#d8576b"
             ],
             [
              0.6666666666666666,
              "#ed7953"
             ],
             [
              0.7777777777777778,
              "#fb9f3a"
             ],
             [
              0.8888888888888888,
              "#fdca26"
             ],
             [
              1,
              "#f0f921"
             ]
            ],
            "type": "contour"
           }
          ],
          "contourcarpet": [
           {
            "colorbar": {
             "outlinewidth": 0,
             "ticks": ""
            },
            "type": "contourcarpet"
           }
          ],
          "heatmap": [
           {
            "colorbar": {
             "outlinewidth": 0,
             "ticks": ""
            },
            "colorscale": [
             [
              0,
              "#0d0887"
             ],
             [
              0.1111111111111111,
              "#46039f"
             ],
             [
              0.2222222222222222,
              "#7201a8"
             ],
             [
              0.3333333333333333,
              "#9c179e"
             ],
             [
              0.4444444444444444,
              "#bd3786"
             ],
             [
              0.5555555555555556,
              "#d8576b"
             ],
             [
              0.6666666666666666,
              "#ed7953"
             ],
             [
              0.7777777777777778,
              "#fb9f3a"
             ],
             [
              0.8888888888888888,
              "#fdca26"
             ],
             [
              1,
              "#f0f921"
             ]
            ],
            "type": "heatmap"
           }
          ],
          "heatmapgl": [
           {
            "colorbar": {
             "outlinewidth": 0,
             "ticks": ""
            },
            "colorscale": [
             [
              0,
              "#0d0887"
             ],
             [
              0.1111111111111111,
              "#46039f"
             ],
             [
              0.2222222222222222,
              "#7201a8"
             ],
             [
              0.3333333333333333,
              "#9c179e"
             ],
             [
              0.4444444444444444,
              "#bd3786"
             ],
             [
              0.5555555555555556,
              "#d8576b"
             ],
             [
              0.6666666666666666,
              "#ed7953"
             ],
             [
              0.7777777777777778,
              "#fb9f3a"
             ],
             [
              0.8888888888888888,
              "#fdca26"
             ],
             [
              1,
              "#f0f921"
             ]
            ],
            "type": "heatmapgl"
           }
          ],
          "histogram": [
           {
            "marker": {
             "pattern": {
              "fillmode": "overlay",
              "size": 10,
              "solidity": 0.2
             }
            },
            "type": "histogram"
           }
          ],
          "histogram2d": [
           {
            "colorbar": {
             "outlinewidth": 0,
             "ticks": ""
            },
            "colorscale": [
             [
              0,
              "#0d0887"
             ],
             [
              0.1111111111111111,
              "#46039f"
             ],
             [
              0.2222222222222222,
              "#7201a8"
             ],
             [
              0.3333333333333333,
              "#9c179e"
             ],
             [
              0.4444444444444444,
              "#bd3786"
             ],
             [
              0.5555555555555556,
              "#d8576b"
             ],
             [
              0.6666666666666666,
              "#ed7953"
             ],
             [
              0.7777777777777778,
              "#fb9f3a"
             ],
             [
              0.8888888888888888,
              "#fdca26"
             ],
             [
              1,
              "#f0f921"
             ]
            ],
            "type": "histogram2d"
           }
          ],
          "histogram2dcontour": [
           {
            "colorbar": {
             "outlinewidth": 0,
             "ticks": ""
            },
            "colorscale": [
             [
              0,
              "#0d0887"
             ],
             [
              0.1111111111111111,
              "#46039f"
             ],
             [
              0.2222222222222222,
              "#7201a8"
             ],
             [
              0.3333333333333333,
              "#9c179e"
             ],
             [
              0.4444444444444444,
              "#bd3786"
             ],
             [
              0.5555555555555556,
              "#d8576b"
             ],
             [
              0.6666666666666666,
              "#ed7953"
             ],
             [
              0.7777777777777778,
              "#fb9f3a"
             ],
             [
              0.8888888888888888,
              "#fdca26"
             ],
             [
              1,
              "#f0f921"
             ]
            ],
            "type": "histogram2dcontour"
           }
          ],
          "mesh3d": [
           {
            "colorbar": {
             "outlinewidth": 0,
             "ticks": ""
            },
            "type": "mesh3d"
           }
          ],
          "parcoords": [
           {
            "line": {
             "colorbar": {
              "outlinewidth": 0,
              "ticks": ""
             }
            },
            "type": "parcoords"
           }
          ],
          "pie": [
           {
            "automargin": true,
            "type": "pie"
           }
          ],
          "scatter": [
           {
            "fillpattern": {
             "fillmode": "overlay",
             "size": 10,
             "solidity": 0.2
            },
            "type": "scatter"
           }
          ],
          "scatter3d": [
           {
            "line": {
             "colorbar": {
              "outlinewidth": 0,
              "ticks": ""
             }
            },
            "marker": {
             "colorbar": {
              "outlinewidth": 0,
              "ticks": ""
             }
            },
            "type": "scatter3d"
           }
          ],
          "scattercarpet": [
           {
            "marker": {
             "colorbar": {
              "outlinewidth": 0,
              "ticks": ""
             }
            },
            "type": "scattercarpet"
           }
          ],
          "scattergeo": [
           {
            "marker": {
             "colorbar": {
              "outlinewidth": 0,
              "ticks": ""
             }
            },
            "type": "scattergeo"
           }
          ],
          "scattergl": [
           {
            "marker": {
             "colorbar": {
              "outlinewidth": 0,
              "ticks": ""
             }
            },
            "type": "scattergl"
           }
          ],
          "scattermapbox": [
           {
            "marker": {
             "colorbar": {
              "outlinewidth": 0,
              "ticks": ""
             }
            },
            "type": "scattermapbox"
           }
          ],
          "scatterpolar": [
           {
            "marker": {
             "colorbar": {
              "outlinewidth": 0,
              "ticks": ""
             }
            },
            "type": "scatterpolar"
           }
          ],
          "scatterpolargl": [
           {
            "marker": {
             "colorbar": {
              "outlinewidth": 0,
              "ticks": ""
             }
            },
            "type": "scatterpolargl"
           }
          ],
          "scatterternary": [
           {
            "marker": {
             "colorbar": {
              "outlinewidth": 0,
              "ticks": ""
             }
            },
            "type": "scatterternary"
           }
          ],
          "surface": [
           {
            "colorbar": {
             "outlinewidth": 0,
             "ticks": ""
            },
            "colorscale": [
             [
              0,
              "#0d0887"
             ],
             [
              0.1111111111111111,
              "#46039f"
             ],
             [
              0.2222222222222222,
              "#7201a8"
             ],
             [
              0.3333333333333333,
              "#9c179e"
             ],
             [
              0.4444444444444444,
              "#bd3786"
             ],
             [
              0.5555555555555556,
              "#d8576b"
             ],
             [
              0.6666666666666666,
              "#ed7953"
             ],
             [
              0.7777777777777778,
              "#fb9f3a"
             ],
             [
              0.8888888888888888,
              "#fdca26"
             ],
             [
              1,
              "#f0f921"
             ]
            ],
            "type": "surface"
           }
          ],
          "table": [
           {
            "cells": {
             "fill": {
              "color": "#EBF0F8"
             },
             "line": {
              "color": "white"
             }
            },
            "header": {
             "fill": {
              "color": "#C8D4E3"
             },
             "line": {
              "color": "white"
             }
            },
            "type": "table"
           }
          ]
         },
         "layout": {
          "annotationdefaults": {
           "arrowcolor": "#2a3f5f",
           "arrowhead": 0,
           "arrowwidth": 1
          },
          "autotypenumbers": "strict",
          "coloraxis": {
           "colorbar": {
            "outlinewidth": 0,
            "ticks": ""
           }
          },
          "colorscale": {
           "diverging": [
            [
             0,
             "#8e0152"
            ],
            [
             0.1,
             "#c51b7d"
            ],
            [
             0.2,
             "#de77ae"
            ],
            [
             0.3,
             "#f1b6da"
            ],
            [
             0.4,
             "#fde0ef"
            ],
            [
             0.5,
             "#f7f7f7"
            ],
            [
             0.6,
             "#e6f5d0"
            ],
            [
             0.7,
             "#b8e186"
            ],
            [
             0.8,
             "#7fbc41"
            ],
            [
             0.9,
             "#4d9221"
            ],
            [
             1,
             "#276419"
            ]
           ],
           "sequential": [
            [
             0,
             "#0d0887"
            ],
            [
             0.1111111111111111,
             "#46039f"
            ],
            [
             0.2222222222222222,
             "#7201a8"
            ],
            [
             0.3333333333333333,
             "#9c179e"
            ],
            [
             0.4444444444444444,
             "#bd3786"
            ],
            [
             0.5555555555555556,
             "#d8576b"
            ],
            [
             0.6666666666666666,
             "#ed7953"
            ],
            [
             0.7777777777777778,
             "#fb9f3a"
            ],
            [
             0.8888888888888888,
             "#fdca26"
            ],
            [
             1,
             "#f0f921"
            ]
           ],
           "sequentialminus": [
            [
             0,
             "#0d0887"
            ],
            [
             0.1111111111111111,
             "#46039f"
            ],
            [
             0.2222222222222222,
             "#7201a8"
            ],
            [
             0.3333333333333333,
             "#9c179e"
            ],
            [
             0.4444444444444444,
             "#bd3786"
            ],
            [
             0.5555555555555556,
             "#d8576b"
            ],
            [
             0.6666666666666666,
             "#ed7953"
            ],
            [
             0.7777777777777778,
             "#fb9f3a"
            ],
            [
             0.8888888888888888,
             "#fdca26"
            ],
            [
             1,
             "#f0f921"
            ]
           ]
          },
          "colorway": [
           "#636efa",
           "#EF553B",
           "#00cc96",
           "#ab63fa",
           "#FFA15A",
           "#19d3f3",
           "#FF6692",
           "#B6E880",
           "#FF97FF",
           "#FECB52"
          ],
          "font": {
           "color": "#2a3f5f"
          },
          "geo": {
           "bgcolor": "white",
           "lakecolor": "white",
           "landcolor": "#E5ECF6",
           "showlakes": true,
           "showland": true,
           "subunitcolor": "white"
          },
          "hoverlabel": {
           "align": "left"
          },
          "hovermode": "closest",
          "mapbox": {
           "style": "light"
          },
          "paper_bgcolor": "white",
          "plot_bgcolor": "#E5ECF6",
          "polar": {
           "angularaxis": {
            "gridcolor": "white",
            "linecolor": "white",
            "ticks": ""
           },
           "bgcolor": "#E5ECF6",
           "radialaxis": {
            "gridcolor": "white",
            "linecolor": "white",
            "ticks": ""
           }
          },
          "scene": {
           "xaxis": {
            "backgroundcolor": "#E5ECF6",
            "gridcolor": "white",
            "gridwidth": 2,
            "linecolor": "white",
            "showbackground": true,
            "ticks": "",
            "zerolinecolor": "white"
           },
           "yaxis": {
            "backgroundcolor": "#E5ECF6",
            "gridcolor": "white",
            "gridwidth": 2,
            "linecolor": "white",
            "showbackground": true,
            "ticks": "",
            "zerolinecolor": "white"
           },
           "zaxis": {
            "backgroundcolor": "#E5ECF6",
            "gridcolor": "white",
            "gridwidth": 2,
            "linecolor": "white",
            "showbackground": true,
            "ticks": "",
            "zerolinecolor": "white"
           }
          },
          "shapedefaults": {
           "line": {
            "color": "#2a3f5f"
           }
          },
          "ternary": {
           "aaxis": {
            "gridcolor": "white",
            "linecolor": "white",
            "ticks": ""
           },
           "baxis": {
            "gridcolor": "white",
            "linecolor": "white",
            "ticks": ""
           },
           "bgcolor": "#E5ECF6",
           "caxis": {
            "gridcolor": "white",
            "linecolor": "white",
            "ticks": ""
           }
          },
          "title": {
           "x": 0.05
          },
          "xaxis": {
           "automargin": true,
           "gridcolor": "white",
           "linecolor": "white",
           "ticks": "",
           "title": {
            "standoff": 15
           },
           "zerolinecolor": "white",
           "zerolinewidth": 2
          },
          "yaxis": {
           "automargin": true,
           "gridcolor": "white",
           "linecolor": "white",
           "ticks": "",
           "title": {
            "standoff": 15
           },
           "zerolinecolor": "white",
           "zerolinewidth": 2
          }
         }
        },
        "title": {
         "font": {
          "size": 12
         },
         "text": ""
        },
        "width": 800,
        "xaxis": {
         "anchor": "y",
         "domain": [
          0,
          1
         ],
         "gridcolor": "lightgrey",
         "gridwidth": 1,
         "range": [
          -0.1,
          1.1
         ],
         "showgrid": true,
         "ticktext": [
          "100% Favoring the Left",
          "75-25",
          "50-50",
          "25-75",
          "100% Favoring the Right"
         ],
         "tickvals": [
          0,
          0.25,
          0.5,
          0.75,
          1
         ],
         "title": {
          "text": "Preference"
         }
        },
        "yaxis": {
         "anchor": "x",
         "autorange": false,
         "categoryarray": [
          "Gender_Female_Bin_Choice",
          "Fitness_Fit_Bin_Choice",
          "SocialValue_High_Bin_Choice",
          "Age_Young_Bin_Choice",
          "Utilitarianism_More_Bin_Choice",
          "Species_Humans_Bin_Choice"
         ],
         "categoryorder": "array",
         "domain": [
          0,
          1
         ],
         "range": [
          -0.5,
          5.5
         ],
         "showgrid": false,
         "tickmode": "array",
         "ticktext": [
          "",
          "",
          "",
          "",
          "",
          ""
         ],
         "tickvals": [
          0,
          1,
          2,
          3,
          4,
          5
         ]
        }
       }
      },
      "text/html": [
       "<div>                            <div id=\"37c024f6-13ae-4afb-92a0-cb961fddf3f3\" class=\"plotly-graph-div\" style=\"height:400px; width:800px;\"></div>            <script type=\"text/javascript\">                require([\"plotly\"], function(Plotly) {                    window.PLOTLYENV=window.PLOTLYENV || {};                                    if (document.getElementById(\"37c024f6-13ae-4afb-92a0-cb961fddf3f3\")) {                    Plotly.newPlot(                        \"37c024f6-13ae-4afb-92a0-cb961fddf3f3\",                        [{\"marker\":{\"color\":\"#0077ad\",\"line\":{\"color\":\"#0077ad\",\"width\":2}},\"name\":\"Llama 3 8B\",\"opacity\":0.7,\"orientation\":\"h\",\"width\":0.3,\"x\":[1.0,0.85,0.4833,0.7536,0.9,0.9714],\"y\":[\"Species_Humans_Bin_Choice\",\"Utilitarianism_More_Bin_Choice\",\"Age_Young_Bin_Choice\",\"SocialValue_High_Bin_Choice\",\"Fitness_Fit_Bin_Choice\",\"Gender_Female_Bin_Choice\"],\"type\":\"bar\"},{\"marker\":{\"color\":\"white\",\"line\":{\"color\":\"#ad0077\",\"width\":2},\"size\":20},\"mode\":\"markers\",\"name\":\"Human Preference\",\"showlegend\":true,\"x\":[0.7974454552522746,0.753525616600679,0.7241555080471478,0.6617809934377845,0.576127833908965,0.5625438093111024],\"y\":[\"Species_Humans_Bin_Choice\",\"Utilitarianism_More_Bin_Choice\",\"Age_Young_Bin_Choice\",\"SocialValue_High_Bin_Choice\",\"Fitness_Fit_Bin_Choice\",\"Gender_Female_Bin_Choice\"],\"type\":\"scatter\"}],                        {\"template\":{\"data\":{\"histogram2dcontour\":[{\"type\":\"histogram2dcontour\",\"colorbar\":{\"outlinewidth\":0,\"ticks\":\"\"},\"colorscale\":[[0.0,\"#0d0887\"],[0.1111111111111111,\"#46039f\"],[0.2222222222222222,\"#7201a8\"],[0.3333333333333333,\"#9c179e\"],[0.4444444444444444,\"#bd3786\"],[0.5555555555555556,\"#d8576b\"],[0.6666666666666666,\"#ed7953\"],[0.7777777777777778,\"#fb9f3a\"],[0.8888888888888888,\"#fdca26\"],[1.0,\"#f0f921\"]]}],\"choropleth\":[{\"type\":\"choropleth\",\"colorbar\":{\"outlinewidth\":0,\"ticks\":\"\"}}],\"histogram2d\":[{\"type\":\"histogram2d\",\"colorbar\":{\"outlinewidth\":0,\"ticks\":\"\"},\"colorscale\":[[0.0,\"#0d0887\"],[0.1111111111111111,\"#46039f\"],[0.2222222222222222,\"#7201a8\"],[0.3333333333333333,\"#9c179e\"],[0.4444444444444444,\"#bd3786\"],[0.5555555555555556,\"#d8576b\"],[0.6666666666666666,\"#ed7953\"],[0.7777777777777778,\"#fb9f3a\"],[0.8888888888888888,\"#fdca26\"],[1.0,\"#f0f921\"]]}],\"heatmap\":[{\"type\":\"heatmap\",\"colorbar\":{\"outlinewidth\":0,\"ticks\":\"\"},\"colorscale\":[[0.0,\"#0d0887\"],[0.1111111111111111,\"#46039f\"],[0.2222222222222222,\"#7201a8\"],[0.3333333333333333,\"#9c179e\"],[0.4444444444444444,\"#bd3786\"],[0.5555555555555556,\"#d8576b\"],[0.6666666666666666,\"#ed7953\"],[0.7777777777777778,\"#fb9f3a\"],[0.8888888888888888,\"#fdca26\"],[1.0,\"#f0f921\"]]}],\"heatmapgl\":[{\"type\":\"heatmapgl\",\"colorbar\":{\"outlinewidth\":0,\"ticks\":\"\"},\"colorscale\":[[0.0,\"#0d0887\"],[0.1111111111111111,\"#46039f\"],[0.2222222222222222,\"#7201a8\"],[0.3333333333333333,\"#9c179e\"],[0.4444444444444444,\"#bd3786\"],[0.5555555555555556,\"#d8576b\"],[0.6666666666666666,\"#ed7953\"],[0.7777777777777778,\"#fb9f3a\"],[0.8888888888888888,\"#fdca26\"],[1.0,\"#f0f921\"]]}],\"contourcarpet\":[{\"type\":\"contourcarpet\",\"colorbar\":{\"outlinewidth\":0,\"ticks\":\"\"}}],\"contour\":[{\"type\":\"contour\",\"colorbar\":{\"outlinewidth\":0,\"ticks\":\"\"},\"colorscale\":[[0.0,\"#0d0887\"],[0.1111111111111111,\"#46039f\"],[0.2222222222222222,\"#7201a8\"],[0.3333333333333333,\"#9c179e\"],[0.4444444444444444,\"#bd3786\"],[0.5555555555555556,\"#d8576b\"],[0.6666666666666666,\"#ed7953\"],[0.7777777777777778,\"#fb9f3a\"],[0.8888888888888888,\"#fdca26\"],[1.0,\"#f0f921\"]]}],\"surface\":[{\"type\":\"surface\",\"colorbar\":{\"outlinewidth\":0,\"ticks\":\"\"},\"colorscale\":[[0.0,\"#0d0887\"],[0.1111111111111111,\"#46039f\"],[0.2222222222222222,\"#7201a8\"],[0.3333333333333333,\"#9c179e\"],[0.4444444444444444,\"#bd3786\"],[0.5555555555555556,\"#d8576b\"],[0.6666666666666666,\"#ed7953\"],[0.7777777777777778,\"#fb9f3a\"],[0.8888888888888888,\"#fdca26\"],[1.0,\"#f0f921\"]]}],\"mesh3d\":[{\"type\":\"mesh3d\",\"colorbar\":{\"outlinewidth\":0,\"ticks\":\"\"}}],\"scatter\":[{\"fillpattern\":{\"fillmode\":\"overlay\",\"size\":10,\"solidity\":0.2},\"type\":\"scatter\"}],\"parcoords\":[{\"type\":\"parcoords\",\"line\":{\"colorbar\":{\"outlinewidth\":0,\"ticks\":\"\"}}}],\"scatterpolargl\":[{\"type\":\"scatterpolargl\",\"marker\":{\"colorbar\":{\"outlinewidth\":0,\"ticks\":\"\"}}}],\"bar\":[{\"error_x\":{\"color\":\"#2a3f5f\"},\"error_y\":{\"color\":\"#2a3f5f\"},\"marker\":{\"line\":{\"color\":\"#E5ECF6\",\"width\":0.5},\"pattern\":{\"fillmode\":\"overlay\",\"size\":10,\"solidity\":0.2}},\"type\":\"bar\"}],\"scattergeo\":[{\"type\":\"scattergeo\",\"marker\":{\"colorbar\":{\"outlinewidth\":0,\"ticks\":\"\"}}}],\"scatterpolar\":[{\"type\":\"scatterpolar\",\"marker\":{\"colorbar\":{\"outlinewidth\":0,\"ticks\":\"\"}}}],\"histogram\":[{\"marker\":{\"pattern\":{\"fillmode\":\"overlay\",\"size\":10,\"solidity\":0.2}},\"type\":\"histogram\"}],\"scattergl\":[{\"type\":\"scattergl\",\"marker\":{\"colorbar\":{\"outlinewidth\":0,\"ticks\":\"\"}}}],\"scatter3d\":[{\"type\":\"scatter3d\",\"line\":{\"colorbar\":{\"outlinewidth\":0,\"ticks\":\"\"}},\"marker\":{\"colorbar\":{\"outlinewidth\":0,\"ticks\":\"\"}}}],\"scattermapbox\":[{\"type\":\"scattermapbox\",\"marker\":{\"colorbar\":{\"outlinewidth\":0,\"ticks\":\"\"}}}],\"scatterternary\":[{\"type\":\"scatterternary\",\"marker\":{\"colorbar\":{\"outlinewidth\":0,\"ticks\":\"\"}}}],\"scattercarpet\":[{\"type\":\"scattercarpet\",\"marker\":{\"colorbar\":{\"outlinewidth\":0,\"ticks\":\"\"}}}],\"carpet\":[{\"aaxis\":{\"endlinecolor\":\"#2a3f5f\",\"gridcolor\":\"white\",\"linecolor\":\"white\",\"minorgridcolor\":\"white\",\"startlinecolor\":\"#2a3f5f\"},\"baxis\":{\"endlinecolor\":\"#2a3f5f\",\"gridcolor\":\"white\",\"linecolor\":\"white\",\"minorgridcolor\":\"white\",\"startlinecolor\":\"#2a3f5f\"},\"type\":\"carpet\"}],\"table\":[{\"cells\":{\"fill\":{\"color\":\"#EBF0F8\"},\"line\":{\"color\":\"white\"}},\"header\":{\"fill\":{\"color\":\"#C8D4E3\"},\"line\":{\"color\":\"white\"}},\"type\":\"table\"}],\"barpolar\":[{\"marker\":{\"line\":{\"color\":\"#E5ECF6\",\"width\":0.5},\"pattern\":{\"fillmode\":\"overlay\",\"size\":10,\"solidity\":0.2}},\"type\":\"barpolar\"}],\"pie\":[{\"automargin\":true,\"type\":\"pie\"}]},\"layout\":{\"autotypenumbers\":\"strict\",\"colorway\":[\"#636efa\",\"#EF553B\",\"#00cc96\",\"#ab63fa\",\"#FFA15A\",\"#19d3f3\",\"#FF6692\",\"#B6E880\",\"#FF97FF\",\"#FECB52\"],\"font\":{\"color\":\"#2a3f5f\"},\"hovermode\":\"closest\",\"hoverlabel\":{\"align\":\"left\"},\"paper_bgcolor\":\"white\",\"plot_bgcolor\":\"#E5ECF6\",\"polar\":{\"bgcolor\":\"#E5ECF6\",\"angularaxis\":{\"gridcolor\":\"white\",\"linecolor\":\"white\",\"ticks\":\"\"},\"radialaxis\":{\"gridcolor\":\"white\",\"linecolor\":\"white\",\"ticks\":\"\"}},\"ternary\":{\"bgcolor\":\"#E5ECF6\",\"aaxis\":{\"gridcolor\":\"white\",\"linecolor\":\"white\",\"ticks\":\"\"},\"baxis\":{\"gridcolor\":\"white\",\"linecolor\":\"white\",\"ticks\":\"\"},\"caxis\":{\"gridcolor\":\"white\",\"linecolor\":\"white\",\"ticks\":\"\"}},\"coloraxis\":{\"colorbar\":{\"outlinewidth\":0,\"ticks\":\"\"}},\"colorscale\":{\"sequential\":[[0.0,\"#0d0887\"],[0.1111111111111111,\"#46039f\"],[0.2222222222222222,\"#7201a8\"],[0.3333333333333333,\"#9c179e\"],[0.4444444444444444,\"#bd3786\"],[0.5555555555555556,\"#d8576b\"],[0.6666666666666666,\"#ed7953\"],[0.7777777777777778,\"#fb9f3a\"],[0.8888888888888888,\"#fdca26\"],[1.0,\"#f0f921\"]],\"sequentialminus\":[[0.0,\"#0d0887\"],[0.1111111111111111,\"#46039f\"],[0.2222222222222222,\"#7201a8\"],[0.3333333333333333,\"#9c179e\"],[0.4444444444444444,\"#bd3786\"],[0.5555555555555556,\"#d8576b\"],[0.6666666666666666,\"#ed7953\"],[0.7777777777777778,\"#fb9f3a\"],[0.8888888888888888,\"#fdca26\"],[1.0,\"#f0f921\"]],\"diverging\":[[0,\"#8e0152\"],[0.1,\"#c51b7d\"],[0.2,\"#de77ae\"],[0.3,\"#f1b6da\"],[0.4,\"#fde0ef\"],[0.5,\"#f7f7f7\"],[0.6,\"#e6f5d0\"],[0.7,\"#b8e186\"],[0.8,\"#7fbc41\"],[0.9,\"#4d9221\"],[1,\"#276419\"]]},\"xaxis\":{\"gridcolor\":\"white\",\"linecolor\":\"white\",\"ticks\":\"\",\"title\":{\"standoff\":15},\"zerolinecolor\":\"white\",\"automargin\":true,\"zerolinewidth\":2},\"yaxis\":{\"gridcolor\":\"white\",\"linecolor\":\"white\",\"ticks\":\"\",\"title\":{\"standoff\":15},\"zerolinecolor\":\"white\",\"automargin\":true,\"zerolinewidth\":2},\"scene\":{\"xaxis\":{\"backgroundcolor\":\"#E5ECF6\",\"gridcolor\":\"white\",\"linecolor\":\"white\",\"showbackground\":true,\"ticks\":\"\",\"zerolinecolor\":\"white\",\"gridwidth\":2},\"yaxis\":{\"backgroundcolor\":\"#E5ECF6\",\"gridcolor\":\"white\",\"linecolor\":\"white\",\"showbackground\":true,\"ticks\":\"\",\"zerolinecolor\":\"white\",\"gridwidth\":2},\"zaxis\":{\"backgroundcolor\":\"#E5ECF6\",\"gridcolor\":\"white\",\"linecolor\":\"white\",\"showbackground\":true,\"ticks\":\"\",\"zerolinecolor\":\"white\",\"gridwidth\":2}},\"shapedefaults\":{\"line\":{\"color\":\"#2a3f5f\"}},\"annotationdefaults\":{\"arrowcolor\":\"#2a3f5f\",\"arrowhead\":0,\"arrowwidth\":1},\"geo\":{\"bgcolor\":\"white\",\"landcolor\":\"#E5ECF6\",\"subunitcolor\":\"white\",\"showland\":true,\"showlakes\":true,\"lakecolor\":\"white\"},\"title\":{\"x\":0.05},\"mapbox\":{\"style\":\"light\"}}},\"xaxis\":{\"anchor\":\"y\",\"domain\":[0.0,1.0],\"title\":{\"text\":\"Preference\"},\"tickvals\":[0,0.25,0.5,0.75,1],\"ticktext\":[\"100% Favoring the Left\",\"75-25\",\"50-50\",\"25-75\",\"100% Favoring the Right\"],\"range\":[-0.1,1.1],\"showgrid\":true,\"gridwidth\":1,\"gridcolor\":\"lightgrey\"},\"yaxis\":{\"anchor\":\"x\",\"domain\":[0.0,1.0],\"categoryorder\":\"array\",\"categoryarray\":[\"Gender_Female_Bin_Choice\",\"Fitness_Fit_Bin_Choice\",\"SocialValue_High_Bin_Choice\",\"Age_Young_Bin_Choice\",\"Utilitarianism_More_Bin_Choice\",\"Species_Humans_Bin_Choice\"],\"tickvals\":[0,1,2,3,4,5],\"ticktext\":[\"\",\"\",\"\",\"\",\"\",\"\"],\"tickmode\":\"array\",\"range\":[-0.5,5.5],\"autorange\":false,\"showgrid\":false},\"title\":{\"text\":\"\",\"font\":{\"size\":12}},\"height\":400,\"width\":800,\"plot_bgcolor\":\"white\",\"annotations\":[{\"align\":\"left\",\"font\":{\"size\":14},\"showarrow\":false,\"text\":\"Sparing females\",\"x\":1.06,\"xanchor\":\"left\",\"xref\":\"paper\",\"y\":0,\"yref\":\"y\"},{\"align\":\"left\",\"font\":{\"size\":14},\"showarrow\":false,\"text\":\"Sparing the fit\",\"x\":1.06,\"xanchor\":\"left\",\"xref\":\"paper\",\"y\":1,\"yref\":\"y\"},{\"align\":\"left\",\"font\":{\"size\":14},\"showarrow\":false,\"text\":\"Sparing higher status\",\"x\":1.06,\"xanchor\":\"left\",\"xref\":\"paper\",\"y\":2,\"yref\":\"y\"},{\"align\":\"left\",\"font\":{\"size\":14},\"showarrow\":false,\"text\":\"Sparing the young\",\"x\":1.06,\"xanchor\":\"left\",\"xref\":\"paper\",\"y\":3,\"yref\":\"y\"},{\"align\":\"left\",\"font\":{\"size\":14},\"showarrow\":false,\"text\":\"Sparing more characters\",\"x\":1.06,\"xanchor\":\"left\",\"xref\":\"paper\",\"y\":4,\"yref\":\"y\"},{\"align\":\"left\",\"font\":{\"size\":14},\"showarrow\":false,\"text\":\"Sparing humans\",\"x\":1.06,\"xanchor\":\"left\",\"xref\":\"paper\",\"y\":5,\"yref\":\"y\"},{\"align\":\"right\",\"font\":{\"size\":14},\"showarrow\":false,\"text\":\"Sparing males\",\"x\":-0.02,\"xanchor\":\"right\",\"xref\":\"paper\",\"y\":0,\"yref\":\"y\"},{\"align\":\"right\",\"font\":{\"size\":14},\"showarrow\":false,\"text\":\"Sparing the large\",\"x\":-0.02,\"xanchor\":\"right\",\"xref\":\"paper\",\"y\":1,\"yref\":\"y\"},{\"align\":\"right\",\"font\":{\"size\":14},\"showarrow\":false,\"text\":\"Sparing lower status\",\"x\":-0.02,\"xanchor\":\"right\",\"xref\":\"paper\",\"y\":2,\"yref\":\"y\"},{\"align\":\"right\",\"font\":{\"size\":14},\"showarrow\":false,\"text\":\"Sparing the elderly\",\"x\":-0.02,\"xanchor\":\"right\",\"xref\":\"paper\",\"y\":3,\"yref\":\"y\"},{\"align\":\"right\",\"font\":{\"size\":14},\"showarrow\":false,\"text\":\"Sparing fewer characters\",\"x\":-0.02,\"xanchor\":\"right\",\"xref\":\"paper\",\"y\":4,\"yref\":\"y\"},{\"align\":\"right\",\"font\":{\"size\":14},\"showarrow\":false,\"text\":\"Sparing pets\",\"x\":-0.02,\"xanchor\":\"right\",\"xref\":\"paper\",\"y\":5,\"yref\":\"y\"}],\"images\":[{\"sizex\":0.5,\"sizey\":0.5,\"source\":\".\\u002ficons\\u002ficons_tradeoff\\u002ffemale.png\",\"x\":0.95,\"xanchor\":\"left\",\"xref\":\"paper\",\"y\":0,\"yanchor\":\"middle\",\"yref\":\"y\"},{\"sizex\":0.5,\"sizey\":0.5,\"source\":\".\\u002ficons\\u002ficons_tradeoff\\u002ffit.png\",\"x\":0.95,\"xanchor\":\"left\",\"xref\":\"paper\",\"y\":1,\"yanchor\":\"middle\",\"yref\":\"y\"},{\"sizex\":0.5,\"sizey\":0.5,\"source\":\".\\u002ficons\\u002ficons_tradeoff\\u002fhigher_status.png\",\"x\":0.95,\"xanchor\":\"left\",\"xref\":\"paper\",\"y\":2,\"yanchor\":\"middle\",\"yref\":\"y\"},{\"sizex\":0.5,\"sizey\":0.5,\"source\":\".\\u002ficons\\u002ficons_tradeoff\\u002fyoung.png\",\"x\":0.95,\"xanchor\":\"left\",\"xref\":\"paper\",\"y\":3,\"yanchor\":\"middle\",\"yref\":\"y\"},{\"sizex\":0.5,\"sizey\":0.5,\"source\":\".\\u002ficons\\u002ficons_tradeoff\\u002fmore_character.png\",\"x\":0.95,\"xanchor\":\"left\",\"xref\":\"paper\",\"y\":4,\"yanchor\":\"middle\",\"yref\":\"y\"},{\"sizex\":0.5,\"sizey\":0.5,\"source\":\".\\u002ficons\\u002ficons_tradeoff\\u002fhumans.png\",\"x\":0.95,\"xanchor\":\"left\",\"xref\":\"paper\",\"y\":5,\"yanchor\":\"middle\",\"yref\":\"y\"},{\"sizex\":0.5,\"sizey\":0.5,\"source\":\".\\u002ficons\\u002ficons_tradeoff\\u002fmale.png\",\"x\":-0.01,\"xanchor\":\"left\",\"xref\":\"paper\",\"y\":0,\"yanchor\":\"middle\",\"yref\":\"y\"},{\"sizex\":0.5,\"sizey\":0.5,\"source\":\".\\u002ficons\\u002ficons_tradeoff\\u002flarge.png\",\"x\":-0.01,\"xanchor\":\"left\",\"xref\":\"paper\",\"y\":1,\"yanchor\":\"middle\",\"yref\":\"y\"},{\"sizex\":0.5,\"sizey\":0.5,\"source\":\".\\u002ficons\\u002ficons_tradeoff\\u002flower_status.png\",\"x\":-0.01,\"xanchor\":\"left\",\"xref\":\"paper\",\"y\":2,\"yanchor\":\"middle\",\"yref\":\"y\"},{\"sizex\":0.5,\"sizey\":0.5,\"source\":\".\\u002ficons\\u002ficons_tradeoff\\u002felderly.png\",\"x\":-0.01,\"xanchor\":\"left\",\"xref\":\"paper\",\"y\":3,\"yanchor\":\"middle\",\"yref\":\"y\"},{\"sizex\":0.5,\"sizey\":0.5,\"source\":\".\\u002ficons\\u002ficons_tradeoff\\u002ffewer.png\",\"x\":-0.01,\"xanchor\":\"left\",\"xref\":\"paper\",\"y\":4,\"yanchor\":\"middle\",\"yref\":\"y\"},{\"sizex\":0.5,\"sizey\":0.5,\"source\":\".\\u002ficons\\u002ficons_tradeoff\\u002fpet.png\",\"x\":-0.01,\"xanchor\":\"left\",\"xref\":\"paper\",\"y\":5,\"yanchor\":\"middle\",\"yref\":\"y\"}],\"margin\":{\"l\":160,\"r\":170,\"t\":50,\"b\":50},\"legend\":{\"orientation\":\"h\",\"yanchor\":\"bottom\",\"y\":1,\"xanchor\":\"center\",\"x\":0.5},\"showlegend\":true,\"font\":{\"family\":\"Times New Roman\",\"size\":12}},                        {\"responsive\": true}                    ).then(function(){\n",
       "                            \n",
       "var gd = document.getElementById('37c024f6-13ae-4afb-92a0-cb961fddf3f3');\n",
       "var x = new MutationObserver(function (mutations, observer) {{\n",
       "        var display = window.getComputedStyle(gd).display;\n",
       "        if (!display || display === 'none') {{\n",
       "            console.log([gd, 'removed!']);\n",
       "            Plotly.purge(gd);\n",
       "            observer.disconnect();\n",
       "        }}\n",
       "}});\n",
       "\n",
       "// Listen for the removal of the full notebook cells\n",
       "var notebookContainer = gd.closest('#notebook-container');\n",
       "if (notebookContainer) {{\n",
       "    x.observe(notebookContainer, {childList: true});\n",
       "}}\n",
       "\n",
       "// Listen for the clearing of the current output cell\n",
       "var outputEl = gd.closest('.output');\n",
       "if (outputEl) {{\n",
       "    x.observe(outputEl, {childList: true});\n",
       "}}\n",
       "\n",
       "                        })                };                });            </script>        </div>"
      ]
     },
     "metadata": {},
     "output_type": "display_data"
    },
    {
     "data": {
      "application/vnd.plotly.v1+json": {
       "config": {
        "plotlyServerURL": "https://plot.ly"
       },
       "data": [
        {
         "marker": {
          "color": "#0077ad",
          "line": {
           "color": "#0077ad",
           "width": 2
          }
         },
         "name": "Llama 3 70B",
         "opacity": 0.7,
         "orientation": "h",
         "type": "bar",
         "width": 0.3,
         "x": [
          1,
          0.7429000000000001,
          0.9216,
          0.7212999999999999,
          0.5185,
          1
         ],
         "y": [
          "Species_Humans_Bin_Choice",
          "Utilitarianism_More_Bin_Choice",
          "Age_Young_Bin_Choice",
          "SocialValue_High_Bin_Choice",
          "Fitness_Fit_Bin_Choice",
          "Gender_Female_Bin_Choice"
         ]
        },
        {
         "marker": {
          "color": "white",
          "line": {
           "color": "#ad0077",
           "width": 2
          },
          "size": 20
         },
         "mode": "markers",
         "name": "Human Preference",
         "showlegend": true,
         "type": "scatter",
         "x": [
          0.7974454552522746,
          0.753525616600679,
          0.7241555080471478,
          0.6617809934377845,
          0.576127833908965,
          0.5625438093111024
         ],
         "y": [
          "Species_Humans_Bin_Choice",
          "Utilitarianism_More_Bin_Choice",
          "Age_Young_Bin_Choice",
          "SocialValue_High_Bin_Choice",
          "Fitness_Fit_Bin_Choice",
          "Gender_Female_Bin_Choice"
         ]
        }
       ],
       "layout": {
        "annotations": [
         {
          "align": "left",
          "font": {
           "size": 14
          },
          "showarrow": false,
          "text": "Sparing females",
          "x": 1.06,
          "xanchor": "left",
          "xref": "paper",
          "y": 0,
          "yref": "y"
         },
         {
          "align": "left",
          "font": {
           "size": 14
          },
          "showarrow": false,
          "text": "Sparing the fit",
          "x": 1.06,
          "xanchor": "left",
          "xref": "paper",
          "y": 1,
          "yref": "y"
         },
         {
          "align": "left",
          "font": {
           "size": 14
          },
          "showarrow": false,
          "text": "Sparing higher status",
          "x": 1.06,
          "xanchor": "left",
          "xref": "paper",
          "y": 2,
          "yref": "y"
         },
         {
          "align": "left",
          "font": {
           "size": 14
          },
          "showarrow": false,
          "text": "Sparing the young",
          "x": 1.06,
          "xanchor": "left",
          "xref": "paper",
          "y": 3,
          "yref": "y"
         },
         {
          "align": "left",
          "font": {
           "size": 14
          },
          "showarrow": false,
          "text": "Sparing more characters",
          "x": 1.06,
          "xanchor": "left",
          "xref": "paper",
          "y": 4,
          "yref": "y"
         },
         {
          "align": "left",
          "font": {
           "size": 14
          },
          "showarrow": false,
          "text": "Sparing humans",
          "x": 1.06,
          "xanchor": "left",
          "xref": "paper",
          "y": 5,
          "yref": "y"
         },
         {
          "align": "right",
          "font": {
           "size": 14
          },
          "showarrow": false,
          "text": "Sparing males",
          "x": -0.02,
          "xanchor": "right",
          "xref": "paper",
          "y": 0,
          "yref": "y"
         },
         {
          "align": "right",
          "font": {
           "size": 14
          },
          "showarrow": false,
          "text": "Sparing the large",
          "x": -0.02,
          "xanchor": "right",
          "xref": "paper",
          "y": 1,
          "yref": "y"
         },
         {
          "align": "right",
          "font": {
           "size": 14
          },
          "showarrow": false,
          "text": "Sparing lower status",
          "x": -0.02,
          "xanchor": "right",
          "xref": "paper",
          "y": 2,
          "yref": "y"
         },
         {
          "align": "right",
          "font": {
           "size": 14
          },
          "showarrow": false,
          "text": "Sparing the elderly",
          "x": -0.02,
          "xanchor": "right",
          "xref": "paper",
          "y": 3,
          "yref": "y"
         },
         {
          "align": "right",
          "font": {
           "size": 14
          },
          "showarrow": false,
          "text": "Sparing fewer characters",
          "x": -0.02,
          "xanchor": "right",
          "xref": "paper",
          "y": 4,
          "yref": "y"
         },
         {
          "align": "right",
          "font": {
           "size": 14
          },
          "showarrow": false,
          "text": "Sparing pets",
          "x": -0.02,
          "xanchor": "right",
          "xref": "paper",
          "y": 5,
          "yref": "y"
         }
        ],
        "font": {
         "family": "Times New Roman",
         "size": 12
        },
        "height": 400,
        "images": [
         {
          "sizex": 0.5,
          "sizey": 0.5,
          "source": "./icons/icons_tradeoff/female.png",
          "x": 0.95,
          "xanchor": "left",
          "xref": "paper",
          "y": 0,
          "yanchor": "middle",
          "yref": "y"
         },
         {
          "sizex": 0.5,
          "sizey": 0.5,
          "source": "./icons/icons_tradeoff/fit.png",
          "x": 0.95,
          "xanchor": "left",
          "xref": "paper",
          "y": 1,
          "yanchor": "middle",
          "yref": "y"
         },
         {
          "sizex": 0.5,
          "sizey": 0.5,
          "source": "./icons/icons_tradeoff/higher_status.png",
          "x": 0.95,
          "xanchor": "left",
          "xref": "paper",
          "y": 2,
          "yanchor": "middle",
          "yref": "y"
         },
         {
          "sizex": 0.5,
          "sizey": 0.5,
          "source": "./icons/icons_tradeoff/young.png",
          "x": 0.95,
          "xanchor": "left",
          "xref": "paper",
          "y": 3,
          "yanchor": "middle",
          "yref": "y"
         },
         {
          "sizex": 0.5,
          "sizey": 0.5,
          "source": "./icons/icons_tradeoff/more_character.png",
          "x": 0.95,
          "xanchor": "left",
          "xref": "paper",
          "y": 4,
          "yanchor": "middle",
          "yref": "y"
         },
         {
          "sizex": 0.5,
          "sizey": 0.5,
          "source": "./icons/icons_tradeoff/humans.png",
          "x": 0.95,
          "xanchor": "left",
          "xref": "paper",
          "y": 5,
          "yanchor": "middle",
          "yref": "y"
         },
         {
          "sizex": 0.5,
          "sizey": 0.5,
          "source": "./icons/icons_tradeoff/male.png",
          "x": -0.01,
          "xanchor": "left",
          "xref": "paper",
          "y": 0,
          "yanchor": "middle",
          "yref": "y"
         },
         {
          "sizex": 0.5,
          "sizey": 0.5,
          "source": "./icons/icons_tradeoff/large.png",
          "x": -0.01,
          "xanchor": "left",
          "xref": "paper",
          "y": 1,
          "yanchor": "middle",
          "yref": "y"
         },
         {
          "sizex": 0.5,
          "sizey": 0.5,
          "source": "./icons/icons_tradeoff/lower_status.png",
          "x": -0.01,
          "xanchor": "left",
          "xref": "paper",
          "y": 2,
          "yanchor": "middle",
          "yref": "y"
         },
         {
          "sizex": 0.5,
          "sizey": 0.5,
          "source": "./icons/icons_tradeoff/elderly.png",
          "x": -0.01,
          "xanchor": "left",
          "xref": "paper",
          "y": 3,
          "yanchor": "middle",
          "yref": "y"
         },
         {
          "sizex": 0.5,
          "sizey": 0.5,
          "source": "./icons/icons_tradeoff/fewer.png",
          "x": -0.01,
          "xanchor": "left",
          "xref": "paper",
          "y": 4,
          "yanchor": "middle",
          "yref": "y"
         },
         {
          "sizex": 0.5,
          "sizey": 0.5,
          "source": "./icons/icons_tradeoff/pet.png",
          "x": -0.01,
          "xanchor": "left",
          "xref": "paper",
          "y": 5,
          "yanchor": "middle",
          "yref": "y"
         }
        ],
        "legend": {
         "orientation": "h",
         "x": 0.5,
         "xanchor": "center",
         "y": 1,
         "yanchor": "bottom"
        },
        "margin": {
         "b": 50,
         "l": 160,
         "r": 170,
         "t": 50
        },
        "plot_bgcolor": "white",
        "showlegend": true,
        "template": {
         "data": {
          "bar": [
           {
            "error_x": {
             "color": "#2a3f5f"
            },
            "error_y": {
             "color": "#2a3f5f"
            },
            "marker": {
             "line": {
              "color": "#E5ECF6",
              "width": 0.5
             },
             "pattern": {
              "fillmode": "overlay",
              "size": 10,
              "solidity": 0.2
             }
            },
            "type": "bar"
           }
          ],
          "barpolar": [
           {
            "marker": {
             "line": {
              "color": "#E5ECF6",
              "width": 0.5
             },
             "pattern": {
              "fillmode": "overlay",
              "size": 10,
              "solidity": 0.2
             }
            },
            "type": "barpolar"
           }
          ],
          "carpet": [
           {
            "aaxis": {
             "endlinecolor": "#2a3f5f",
             "gridcolor": "white",
             "linecolor": "white",
             "minorgridcolor": "white",
             "startlinecolor": "#2a3f5f"
            },
            "baxis": {
             "endlinecolor": "#2a3f5f",
             "gridcolor": "white",
             "linecolor": "white",
             "minorgridcolor": "white",
             "startlinecolor": "#2a3f5f"
            },
            "type": "carpet"
           }
          ],
          "choropleth": [
           {
            "colorbar": {
             "outlinewidth": 0,
             "ticks": ""
            },
            "type": "choropleth"
           }
          ],
          "contour": [
           {
            "colorbar": {
             "outlinewidth": 0,
             "ticks": ""
            },
            "colorscale": [
             [
              0,
              "#0d0887"
             ],
             [
              0.1111111111111111,
              "#46039f"
             ],
             [
              0.2222222222222222,
              "#7201a8"
             ],
             [
              0.3333333333333333,
              "#9c179e"
             ],
             [
              0.4444444444444444,
              "#bd3786"
             ],
             [
              0.5555555555555556,
              "#d8576b"
             ],
             [
              0.6666666666666666,
              "#ed7953"
             ],
             [
              0.7777777777777778,
              "#fb9f3a"
             ],
             [
              0.8888888888888888,
              "#fdca26"
             ],
             [
              1,
              "#f0f921"
             ]
            ],
            "type": "contour"
           }
          ],
          "contourcarpet": [
           {
            "colorbar": {
             "outlinewidth": 0,
             "ticks": ""
            },
            "type": "contourcarpet"
           }
          ],
          "heatmap": [
           {
            "colorbar": {
             "outlinewidth": 0,
             "ticks": ""
            },
            "colorscale": [
             [
              0,
              "#0d0887"
             ],
             [
              0.1111111111111111,
              "#46039f"
             ],
             [
              0.2222222222222222,
              "#7201a8"
             ],
             [
              0.3333333333333333,
              "#9c179e"
             ],
             [
              0.4444444444444444,
              "#bd3786"
             ],
             [
              0.5555555555555556,
              "#d8576b"
             ],
             [
              0.6666666666666666,
              "#ed7953"
             ],
             [
              0.7777777777777778,
              "#fb9f3a"
             ],
             [
              0.8888888888888888,
              "#fdca26"
             ],
             [
              1,
              "#f0f921"
             ]
            ],
            "type": "heatmap"
           }
          ],
          "heatmapgl": [
           {
            "colorbar": {
             "outlinewidth": 0,
             "ticks": ""
            },
            "colorscale": [
             [
              0,
              "#0d0887"
             ],
             [
              0.1111111111111111,
              "#46039f"
             ],
             [
              0.2222222222222222,
              "#7201a8"
             ],
             [
              0.3333333333333333,
              "#9c179e"
             ],
             [
              0.4444444444444444,
              "#bd3786"
             ],
             [
              0.5555555555555556,
              "#d8576b"
             ],
             [
              0.6666666666666666,
              "#ed7953"
             ],
             [
              0.7777777777777778,
              "#fb9f3a"
             ],
             [
              0.8888888888888888,
              "#fdca26"
             ],
             [
              1,
              "#f0f921"
             ]
            ],
            "type": "heatmapgl"
           }
          ],
          "histogram": [
           {
            "marker": {
             "pattern": {
              "fillmode": "overlay",
              "size": 10,
              "solidity": 0.2
             }
            },
            "type": "histogram"
           }
          ],
          "histogram2d": [
           {
            "colorbar": {
             "outlinewidth": 0,
             "ticks": ""
            },
            "colorscale": [
             [
              0,
              "#0d0887"
             ],
             [
              0.1111111111111111,
              "#46039f"
             ],
             [
              0.2222222222222222,
              "#7201a8"
             ],
             [
              0.3333333333333333,
              "#9c179e"
             ],
             [
              0.4444444444444444,
              "#bd3786"
             ],
             [
              0.5555555555555556,
              "#d8576b"
             ],
             [
              0.6666666666666666,
              "#ed7953"
             ],
             [
              0.7777777777777778,
              "#fb9f3a"
             ],
             [
              0.8888888888888888,
              "#fdca26"
             ],
             [
              1,
              "#f0f921"
             ]
            ],
            "type": "histogram2d"
           }
          ],
          "histogram2dcontour": [
           {
            "colorbar": {
             "outlinewidth": 0,
             "ticks": ""
            },
            "colorscale": [
             [
              0,
              "#0d0887"
             ],
             [
              0.1111111111111111,
              "#46039f"
             ],
             [
              0.2222222222222222,
              "#7201a8"
             ],
             [
              0.3333333333333333,
              "#9c179e"
             ],
             [
              0.4444444444444444,
              "#bd3786"
             ],
             [
              0.5555555555555556,
              "#d8576b"
             ],
             [
              0.6666666666666666,
              "#ed7953"
             ],
             [
              0.7777777777777778,
              "#fb9f3a"
             ],
             [
              0.8888888888888888,
              "#fdca26"
             ],
             [
              1,
              "#f0f921"
             ]
            ],
            "type": "histogram2dcontour"
           }
          ],
          "mesh3d": [
           {
            "colorbar": {
             "outlinewidth": 0,
             "ticks": ""
            },
            "type": "mesh3d"
           }
          ],
          "parcoords": [
           {
            "line": {
             "colorbar": {
              "outlinewidth": 0,
              "ticks": ""
             }
            },
            "type": "parcoords"
           }
          ],
          "pie": [
           {
            "automargin": true,
            "type": "pie"
           }
          ],
          "scatter": [
           {
            "fillpattern": {
             "fillmode": "overlay",
             "size": 10,
             "solidity": 0.2
            },
            "type": "scatter"
           }
          ],
          "scatter3d": [
           {
            "line": {
             "colorbar": {
              "outlinewidth": 0,
              "ticks": ""
             }
            },
            "marker": {
             "colorbar": {
              "outlinewidth": 0,
              "ticks": ""
             }
            },
            "type": "scatter3d"
           }
          ],
          "scattercarpet": [
           {
            "marker": {
             "colorbar": {
              "outlinewidth": 0,
              "ticks": ""
             }
            },
            "type": "scattercarpet"
           }
          ],
          "scattergeo": [
           {
            "marker": {
             "colorbar": {
              "outlinewidth": 0,
              "ticks": ""
             }
            },
            "type": "scattergeo"
           }
          ],
          "scattergl": [
           {
            "marker": {
             "colorbar": {
              "outlinewidth": 0,
              "ticks": ""
             }
            },
            "type": "scattergl"
           }
          ],
          "scattermapbox": [
           {
            "marker": {
             "colorbar": {
              "outlinewidth": 0,
              "ticks": ""
             }
            },
            "type": "scattermapbox"
           }
          ],
          "scatterpolar": [
           {
            "marker": {
             "colorbar": {
              "outlinewidth": 0,
              "ticks": ""
             }
            },
            "type": "scatterpolar"
           }
          ],
          "scatterpolargl": [
           {
            "marker": {
             "colorbar": {
              "outlinewidth": 0,
              "ticks": ""
             }
            },
            "type": "scatterpolargl"
           }
          ],
          "scatterternary": [
           {
            "marker": {
             "colorbar": {
              "outlinewidth": 0,
              "ticks": ""
             }
            },
            "type": "scatterternary"
           }
          ],
          "surface": [
           {
            "colorbar": {
             "outlinewidth": 0,
             "ticks": ""
            },
            "colorscale": [
             [
              0,
              "#0d0887"
             ],
             [
              0.1111111111111111,
              "#46039f"
             ],
             [
              0.2222222222222222,
              "#7201a8"
             ],
             [
              0.3333333333333333,
              "#9c179e"
             ],
             [
              0.4444444444444444,
              "#bd3786"
             ],
             [
              0.5555555555555556,
              "#d8576b"
             ],
             [
              0.6666666666666666,
              "#ed7953"
             ],
             [
              0.7777777777777778,
              "#fb9f3a"
             ],
             [
              0.8888888888888888,
              "#fdca26"
             ],
             [
              1,
              "#f0f921"
             ]
            ],
            "type": "surface"
           }
          ],
          "table": [
           {
            "cells": {
             "fill": {
              "color": "#EBF0F8"
             },
             "line": {
              "color": "white"
             }
            },
            "header": {
             "fill": {
              "color": "#C8D4E3"
             },
             "line": {
              "color": "white"
             }
            },
            "type": "table"
           }
          ]
         },
         "layout": {
          "annotationdefaults": {
           "arrowcolor": "#2a3f5f",
           "arrowhead": 0,
           "arrowwidth": 1
          },
          "autotypenumbers": "strict",
          "coloraxis": {
           "colorbar": {
            "outlinewidth": 0,
            "ticks": ""
           }
          },
          "colorscale": {
           "diverging": [
            [
             0,
             "#8e0152"
            ],
            [
             0.1,
             "#c51b7d"
            ],
            [
             0.2,
             "#de77ae"
            ],
            [
             0.3,
             "#f1b6da"
            ],
            [
             0.4,
             "#fde0ef"
            ],
            [
             0.5,
             "#f7f7f7"
            ],
            [
             0.6,
             "#e6f5d0"
            ],
            [
             0.7,
             "#b8e186"
            ],
            [
             0.8,
             "#7fbc41"
            ],
            [
             0.9,
             "#4d9221"
            ],
            [
             1,
             "#276419"
            ]
           ],
           "sequential": [
            [
             0,
             "#0d0887"
            ],
            [
             0.1111111111111111,
             "#46039f"
            ],
            [
             0.2222222222222222,
             "#7201a8"
            ],
            [
             0.3333333333333333,
             "#9c179e"
            ],
            [
             0.4444444444444444,
             "#bd3786"
            ],
            [
             0.5555555555555556,
             "#d8576b"
            ],
            [
             0.6666666666666666,
             "#ed7953"
            ],
            [
             0.7777777777777778,
             "#fb9f3a"
            ],
            [
             0.8888888888888888,
             "#fdca26"
            ],
            [
             1,
             "#f0f921"
            ]
           ],
           "sequentialminus": [
            [
             0,
             "#0d0887"
            ],
            [
             0.1111111111111111,
             "#46039f"
            ],
            [
             0.2222222222222222,
             "#7201a8"
            ],
            [
             0.3333333333333333,
             "#9c179e"
            ],
            [
             0.4444444444444444,
             "#bd3786"
            ],
            [
             0.5555555555555556,
             "#d8576b"
            ],
            [
             0.6666666666666666,
             "#ed7953"
            ],
            [
             0.7777777777777778,
             "#fb9f3a"
            ],
            [
             0.8888888888888888,
             "#fdca26"
            ],
            [
             1,
             "#f0f921"
            ]
           ]
          },
          "colorway": [
           "#636efa",
           "#EF553B",
           "#00cc96",
           "#ab63fa",
           "#FFA15A",
           "#19d3f3",
           "#FF6692",
           "#B6E880",
           "#FF97FF",
           "#FECB52"
          ],
          "font": {
           "color": "#2a3f5f"
          },
          "geo": {
           "bgcolor": "white",
           "lakecolor": "white",
           "landcolor": "#E5ECF6",
           "showlakes": true,
           "showland": true,
           "subunitcolor": "white"
          },
          "hoverlabel": {
           "align": "left"
          },
          "hovermode": "closest",
          "mapbox": {
           "style": "light"
          },
          "paper_bgcolor": "white",
          "plot_bgcolor": "#E5ECF6",
          "polar": {
           "angularaxis": {
            "gridcolor": "white",
            "linecolor": "white",
            "ticks": ""
           },
           "bgcolor": "#E5ECF6",
           "radialaxis": {
            "gridcolor": "white",
            "linecolor": "white",
            "ticks": ""
           }
          },
          "scene": {
           "xaxis": {
            "backgroundcolor": "#E5ECF6",
            "gridcolor": "white",
            "gridwidth": 2,
            "linecolor": "white",
            "showbackground": true,
            "ticks": "",
            "zerolinecolor": "white"
           },
           "yaxis": {
            "backgroundcolor": "#E5ECF6",
            "gridcolor": "white",
            "gridwidth": 2,
            "linecolor": "white",
            "showbackground": true,
            "ticks": "",
            "zerolinecolor": "white"
           },
           "zaxis": {
            "backgroundcolor": "#E5ECF6",
            "gridcolor": "white",
            "gridwidth": 2,
            "linecolor": "white",
            "showbackground": true,
            "ticks": "",
            "zerolinecolor": "white"
           }
          },
          "shapedefaults": {
           "line": {
            "color": "#2a3f5f"
           }
          },
          "ternary": {
           "aaxis": {
            "gridcolor": "white",
            "linecolor": "white",
            "ticks": ""
           },
           "baxis": {
            "gridcolor": "white",
            "linecolor": "white",
            "ticks": ""
           },
           "bgcolor": "#E5ECF6",
           "caxis": {
            "gridcolor": "white",
            "linecolor": "white",
            "ticks": ""
           }
          },
          "title": {
           "x": 0.05
          },
          "xaxis": {
           "automargin": true,
           "gridcolor": "white",
           "linecolor": "white",
           "ticks": "",
           "title": {
            "standoff": 15
           },
           "zerolinecolor": "white",
           "zerolinewidth": 2
          },
          "yaxis": {
           "automargin": true,
           "gridcolor": "white",
           "linecolor": "white",
           "ticks": "",
           "title": {
            "standoff": 15
           },
           "zerolinecolor": "white",
           "zerolinewidth": 2
          }
         }
        },
        "title": {
         "font": {
          "size": 12
         },
         "text": ""
        },
        "width": 800,
        "xaxis": {
         "anchor": "y",
         "domain": [
          0,
          1
         ],
         "gridcolor": "lightgrey",
         "gridwidth": 1,
         "range": [
          -0.1,
          1.1
         ],
         "showgrid": true,
         "ticktext": [
          "100% Favoring the Left",
          "75-25",
          "50-50",
          "25-75",
          "100% Favoring the Right"
         ],
         "tickvals": [
          0,
          0.25,
          0.5,
          0.75,
          1
         ],
         "title": {
          "text": "Preference"
         }
        },
        "yaxis": {
         "anchor": "x",
         "autorange": false,
         "categoryarray": [
          "Gender_Female_Bin_Choice",
          "Fitness_Fit_Bin_Choice",
          "SocialValue_High_Bin_Choice",
          "Age_Young_Bin_Choice",
          "Utilitarianism_More_Bin_Choice",
          "Species_Humans_Bin_Choice"
         ],
         "categoryorder": "array",
         "domain": [
          0,
          1
         ],
         "range": [
          -0.5,
          5.5
         ],
         "showgrid": false,
         "tickmode": "array",
         "ticktext": [
          "",
          "",
          "",
          "",
          "",
          ""
         ],
         "tickvals": [
          0,
          1,
          2,
          3,
          4,
          5
         ]
        }
       }
      },
      "text/html": [
       "<div>                            <div id=\"960fb2e5-e2a2-4699-9fcb-16ce38389f9c\" class=\"plotly-graph-div\" style=\"height:400px; width:800px;\"></div>            <script type=\"text/javascript\">                require([\"plotly\"], function(Plotly) {                    window.PLOTLYENV=window.PLOTLYENV || {};                                    if (document.getElementById(\"960fb2e5-e2a2-4699-9fcb-16ce38389f9c\")) {                    Plotly.newPlot(                        \"960fb2e5-e2a2-4699-9fcb-16ce38389f9c\",                        [{\"marker\":{\"color\":\"#0077ad\",\"line\":{\"color\":\"#0077ad\",\"width\":2}},\"name\":\"Llama 3 70B\",\"opacity\":0.7,\"orientation\":\"h\",\"width\":0.3,\"x\":[1.0,0.7429000000000001,0.9216,0.7212999999999999,0.5185,1.0],\"y\":[\"Species_Humans_Bin_Choice\",\"Utilitarianism_More_Bin_Choice\",\"Age_Young_Bin_Choice\",\"SocialValue_High_Bin_Choice\",\"Fitness_Fit_Bin_Choice\",\"Gender_Female_Bin_Choice\"],\"type\":\"bar\"},{\"marker\":{\"color\":\"white\",\"line\":{\"color\":\"#ad0077\",\"width\":2},\"size\":20},\"mode\":\"markers\",\"name\":\"Human Preference\",\"showlegend\":true,\"x\":[0.7974454552522746,0.753525616600679,0.7241555080471478,0.6617809934377845,0.576127833908965,0.5625438093111024],\"y\":[\"Species_Humans_Bin_Choice\",\"Utilitarianism_More_Bin_Choice\",\"Age_Young_Bin_Choice\",\"SocialValue_High_Bin_Choice\",\"Fitness_Fit_Bin_Choice\",\"Gender_Female_Bin_Choice\"],\"type\":\"scatter\"}],                        {\"template\":{\"data\":{\"histogram2dcontour\":[{\"type\":\"histogram2dcontour\",\"colorbar\":{\"outlinewidth\":0,\"ticks\":\"\"},\"colorscale\":[[0.0,\"#0d0887\"],[0.1111111111111111,\"#46039f\"],[0.2222222222222222,\"#7201a8\"],[0.3333333333333333,\"#9c179e\"],[0.4444444444444444,\"#bd3786\"],[0.5555555555555556,\"#d8576b\"],[0.6666666666666666,\"#ed7953\"],[0.7777777777777778,\"#fb9f3a\"],[0.8888888888888888,\"#fdca26\"],[1.0,\"#f0f921\"]]}],\"choropleth\":[{\"type\":\"choropleth\",\"colorbar\":{\"outlinewidth\":0,\"ticks\":\"\"}}],\"histogram2d\":[{\"type\":\"histogram2d\",\"colorbar\":{\"outlinewidth\":0,\"ticks\":\"\"},\"colorscale\":[[0.0,\"#0d0887\"],[0.1111111111111111,\"#46039f\"],[0.2222222222222222,\"#7201a8\"],[0.3333333333333333,\"#9c179e\"],[0.4444444444444444,\"#bd3786\"],[0.5555555555555556,\"#d8576b\"],[0.6666666666666666,\"#ed7953\"],[0.7777777777777778,\"#fb9f3a\"],[0.8888888888888888,\"#fdca26\"],[1.0,\"#f0f921\"]]}],\"heatmap\":[{\"type\":\"heatmap\",\"colorbar\":{\"outlinewidth\":0,\"ticks\":\"\"},\"colorscale\":[[0.0,\"#0d0887\"],[0.1111111111111111,\"#46039f\"],[0.2222222222222222,\"#7201a8\"],[0.3333333333333333,\"#9c179e\"],[0.4444444444444444,\"#bd3786\"],[0.5555555555555556,\"#d8576b\"],[0.6666666666666666,\"#ed7953\"],[0.7777777777777778,\"#fb9f3a\"],[0.8888888888888888,\"#fdca26\"],[1.0,\"#f0f921\"]]}],\"heatmapgl\":[{\"type\":\"heatmapgl\",\"colorbar\":{\"outlinewidth\":0,\"ticks\":\"\"},\"colorscale\":[[0.0,\"#0d0887\"],[0.1111111111111111,\"#46039f\"],[0.2222222222222222,\"#7201a8\"],[0.3333333333333333,\"#9c179e\"],[0.4444444444444444,\"#bd3786\"],[0.5555555555555556,\"#d8576b\"],[0.6666666666666666,\"#ed7953\"],[0.7777777777777778,\"#fb9f3a\"],[0.8888888888888888,\"#fdca26\"],[1.0,\"#f0f921\"]]}],\"contourcarpet\":[{\"type\":\"contourcarpet\",\"colorbar\":{\"outlinewidth\":0,\"ticks\":\"\"}}],\"contour\":[{\"type\":\"contour\",\"colorbar\":{\"outlinewidth\":0,\"ticks\":\"\"},\"colorscale\":[[0.0,\"#0d0887\"],[0.1111111111111111,\"#46039f\"],[0.2222222222222222,\"#7201a8\"],[0.3333333333333333,\"#9c179e\"],[0.4444444444444444,\"#bd3786\"],[0.5555555555555556,\"#d8576b\"],[0.6666666666666666,\"#ed7953\"],[0.7777777777777778,\"#fb9f3a\"],[0.8888888888888888,\"#fdca26\"],[1.0,\"#f0f921\"]]}],\"surface\":[{\"type\":\"surface\",\"colorbar\":{\"outlinewidth\":0,\"ticks\":\"\"},\"colorscale\":[[0.0,\"#0d0887\"],[0.1111111111111111,\"#46039f\"],[0.2222222222222222,\"#7201a8\"],[0.3333333333333333,\"#9c179e\"],[0.4444444444444444,\"#bd3786\"],[0.5555555555555556,\"#d8576b\"],[0.6666666666666666,\"#ed7953\"],[0.7777777777777778,\"#fb9f3a\"],[0.8888888888888888,\"#fdca26\"],[1.0,\"#f0f921\"]]}],\"mesh3d\":[{\"type\":\"mesh3d\",\"colorbar\":{\"outlinewidth\":0,\"ticks\":\"\"}}],\"scatter\":[{\"fillpattern\":{\"fillmode\":\"overlay\",\"size\":10,\"solidity\":0.2},\"type\":\"scatter\"}],\"parcoords\":[{\"type\":\"parcoords\",\"line\":{\"colorbar\":{\"outlinewidth\":0,\"ticks\":\"\"}}}],\"scatterpolargl\":[{\"type\":\"scatterpolargl\",\"marker\":{\"colorbar\":{\"outlinewidth\":0,\"ticks\":\"\"}}}],\"bar\":[{\"error_x\":{\"color\":\"#2a3f5f\"},\"error_y\":{\"color\":\"#2a3f5f\"},\"marker\":{\"line\":{\"color\":\"#E5ECF6\",\"width\":0.5},\"pattern\":{\"fillmode\":\"overlay\",\"size\":10,\"solidity\":0.2}},\"type\":\"bar\"}],\"scattergeo\":[{\"type\":\"scattergeo\",\"marker\":{\"colorbar\":{\"outlinewidth\":0,\"ticks\":\"\"}}}],\"scatterpolar\":[{\"type\":\"scatterpolar\",\"marker\":{\"colorbar\":{\"outlinewidth\":0,\"ticks\":\"\"}}}],\"histogram\":[{\"marker\":{\"pattern\":{\"fillmode\":\"overlay\",\"size\":10,\"solidity\":0.2}},\"type\":\"histogram\"}],\"scattergl\":[{\"type\":\"scattergl\",\"marker\":{\"colorbar\":{\"outlinewidth\":0,\"ticks\":\"\"}}}],\"scatter3d\":[{\"type\":\"scatter3d\",\"line\":{\"colorbar\":{\"outlinewidth\":0,\"ticks\":\"\"}},\"marker\":{\"colorbar\":{\"outlinewidth\":0,\"ticks\":\"\"}}}],\"scattermapbox\":[{\"type\":\"scattermapbox\",\"marker\":{\"colorbar\":{\"outlinewidth\":0,\"ticks\":\"\"}}}],\"scatterternary\":[{\"type\":\"scatterternary\",\"marker\":{\"colorbar\":{\"outlinewidth\":0,\"ticks\":\"\"}}}],\"scattercarpet\":[{\"type\":\"scattercarpet\",\"marker\":{\"colorbar\":{\"outlinewidth\":0,\"ticks\":\"\"}}}],\"carpet\":[{\"aaxis\":{\"endlinecolor\":\"#2a3f5f\",\"gridcolor\":\"white\",\"linecolor\":\"white\",\"minorgridcolor\":\"white\",\"startlinecolor\":\"#2a3f5f\"},\"baxis\":{\"endlinecolor\":\"#2a3f5f\",\"gridcolor\":\"white\",\"linecolor\":\"white\",\"minorgridcolor\":\"white\",\"startlinecolor\":\"#2a3f5f\"},\"type\":\"carpet\"}],\"table\":[{\"cells\":{\"fill\":{\"color\":\"#EBF0F8\"},\"line\":{\"color\":\"white\"}},\"header\":{\"fill\":{\"color\":\"#C8D4E3\"},\"line\":{\"color\":\"white\"}},\"type\":\"table\"}],\"barpolar\":[{\"marker\":{\"line\":{\"color\":\"#E5ECF6\",\"width\":0.5},\"pattern\":{\"fillmode\":\"overlay\",\"size\":10,\"solidity\":0.2}},\"type\":\"barpolar\"}],\"pie\":[{\"automargin\":true,\"type\":\"pie\"}]},\"layout\":{\"autotypenumbers\":\"strict\",\"colorway\":[\"#636efa\",\"#EF553B\",\"#00cc96\",\"#ab63fa\",\"#FFA15A\",\"#19d3f3\",\"#FF6692\",\"#B6E880\",\"#FF97FF\",\"#FECB52\"],\"font\":{\"color\":\"#2a3f5f\"},\"hovermode\":\"closest\",\"hoverlabel\":{\"align\":\"left\"},\"paper_bgcolor\":\"white\",\"plot_bgcolor\":\"#E5ECF6\",\"polar\":{\"bgcolor\":\"#E5ECF6\",\"angularaxis\":{\"gridcolor\":\"white\",\"linecolor\":\"white\",\"ticks\":\"\"},\"radialaxis\":{\"gridcolor\":\"white\",\"linecolor\":\"white\",\"ticks\":\"\"}},\"ternary\":{\"bgcolor\":\"#E5ECF6\",\"aaxis\":{\"gridcolor\":\"white\",\"linecolor\":\"white\",\"ticks\":\"\"},\"baxis\":{\"gridcolor\":\"white\",\"linecolor\":\"white\",\"ticks\":\"\"},\"caxis\":{\"gridcolor\":\"white\",\"linecolor\":\"white\",\"ticks\":\"\"}},\"coloraxis\":{\"colorbar\":{\"outlinewidth\":0,\"ticks\":\"\"}},\"colorscale\":{\"sequential\":[[0.0,\"#0d0887\"],[0.1111111111111111,\"#46039f\"],[0.2222222222222222,\"#7201a8\"],[0.3333333333333333,\"#9c179e\"],[0.4444444444444444,\"#bd3786\"],[0.5555555555555556,\"#d8576b\"],[0.6666666666666666,\"#ed7953\"],[0.7777777777777778,\"#fb9f3a\"],[0.8888888888888888,\"#fdca26\"],[1.0,\"#f0f921\"]],\"sequentialminus\":[[0.0,\"#0d0887\"],[0.1111111111111111,\"#46039f\"],[0.2222222222222222,\"#7201a8\"],[0.3333333333333333,\"#9c179e\"],[0.4444444444444444,\"#bd3786\"],[0.5555555555555556,\"#d8576b\"],[0.6666666666666666,\"#ed7953\"],[0.7777777777777778,\"#fb9f3a\"],[0.8888888888888888,\"#fdca26\"],[1.0,\"#f0f921\"]],\"diverging\":[[0,\"#8e0152\"],[0.1,\"#c51b7d\"],[0.2,\"#de77ae\"],[0.3,\"#f1b6da\"],[0.4,\"#fde0ef\"],[0.5,\"#f7f7f7\"],[0.6,\"#e6f5d0\"],[0.7,\"#b8e186\"],[0.8,\"#7fbc41\"],[0.9,\"#4d9221\"],[1,\"#276419\"]]},\"xaxis\":{\"gridcolor\":\"white\",\"linecolor\":\"white\",\"ticks\":\"\",\"title\":{\"standoff\":15},\"zerolinecolor\":\"white\",\"automargin\":true,\"zerolinewidth\":2},\"yaxis\":{\"gridcolor\":\"white\",\"linecolor\":\"white\",\"ticks\":\"\",\"title\":{\"standoff\":15},\"zerolinecolor\":\"white\",\"automargin\":true,\"zerolinewidth\":2},\"scene\":{\"xaxis\":{\"backgroundcolor\":\"#E5ECF6\",\"gridcolor\":\"white\",\"linecolor\":\"white\",\"showbackground\":true,\"ticks\":\"\",\"zerolinecolor\":\"white\",\"gridwidth\":2},\"yaxis\":{\"backgroundcolor\":\"#E5ECF6\",\"gridcolor\":\"white\",\"linecolor\":\"white\",\"showbackground\":true,\"ticks\":\"\",\"zerolinecolor\":\"white\",\"gridwidth\":2},\"zaxis\":{\"backgroundcolor\":\"#E5ECF6\",\"gridcolor\":\"white\",\"linecolor\":\"white\",\"showbackground\":true,\"ticks\":\"\",\"zerolinecolor\":\"white\",\"gridwidth\":2}},\"shapedefaults\":{\"line\":{\"color\":\"#2a3f5f\"}},\"annotationdefaults\":{\"arrowcolor\":\"#2a3f5f\",\"arrowhead\":0,\"arrowwidth\":1},\"geo\":{\"bgcolor\":\"white\",\"landcolor\":\"#E5ECF6\",\"subunitcolor\":\"white\",\"showland\":true,\"showlakes\":true,\"lakecolor\":\"white\"},\"title\":{\"x\":0.05},\"mapbox\":{\"style\":\"light\"}}},\"xaxis\":{\"anchor\":\"y\",\"domain\":[0.0,1.0],\"title\":{\"text\":\"Preference\"},\"tickvals\":[0,0.25,0.5,0.75,1],\"ticktext\":[\"100% Favoring the Left\",\"75-25\",\"50-50\",\"25-75\",\"100% Favoring the Right\"],\"range\":[-0.1,1.1],\"showgrid\":true,\"gridwidth\":1,\"gridcolor\":\"lightgrey\"},\"yaxis\":{\"anchor\":\"x\",\"domain\":[0.0,1.0],\"categoryorder\":\"array\",\"categoryarray\":[\"Gender_Female_Bin_Choice\",\"Fitness_Fit_Bin_Choice\",\"SocialValue_High_Bin_Choice\",\"Age_Young_Bin_Choice\",\"Utilitarianism_More_Bin_Choice\",\"Species_Humans_Bin_Choice\"],\"tickvals\":[0,1,2,3,4,5],\"ticktext\":[\"\",\"\",\"\",\"\",\"\",\"\"],\"tickmode\":\"array\",\"range\":[-0.5,5.5],\"autorange\":false,\"showgrid\":false},\"title\":{\"text\":\"\",\"font\":{\"size\":12}},\"height\":400,\"width\":800,\"plot_bgcolor\":\"white\",\"annotations\":[{\"align\":\"left\",\"font\":{\"size\":14},\"showarrow\":false,\"text\":\"Sparing females\",\"x\":1.06,\"xanchor\":\"left\",\"xref\":\"paper\",\"y\":0,\"yref\":\"y\"},{\"align\":\"left\",\"font\":{\"size\":14},\"showarrow\":false,\"text\":\"Sparing the fit\",\"x\":1.06,\"xanchor\":\"left\",\"xref\":\"paper\",\"y\":1,\"yref\":\"y\"},{\"align\":\"left\",\"font\":{\"size\":14},\"showarrow\":false,\"text\":\"Sparing higher status\",\"x\":1.06,\"xanchor\":\"left\",\"xref\":\"paper\",\"y\":2,\"yref\":\"y\"},{\"align\":\"left\",\"font\":{\"size\":14},\"showarrow\":false,\"text\":\"Sparing the young\",\"x\":1.06,\"xanchor\":\"left\",\"xref\":\"paper\",\"y\":3,\"yref\":\"y\"},{\"align\":\"left\",\"font\":{\"size\":14},\"showarrow\":false,\"text\":\"Sparing more characters\",\"x\":1.06,\"xanchor\":\"left\",\"xref\":\"paper\",\"y\":4,\"yref\":\"y\"},{\"align\":\"left\",\"font\":{\"size\":14},\"showarrow\":false,\"text\":\"Sparing humans\",\"x\":1.06,\"xanchor\":\"left\",\"xref\":\"paper\",\"y\":5,\"yref\":\"y\"},{\"align\":\"right\",\"font\":{\"size\":14},\"showarrow\":false,\"text\":\"Sparing males\",\"x\":-0.02,\"xanchor\":\"right\",\"xref\":\"paper\",\"y\":0,\"yref\":\"y\"},{\"align\":\"right\",\"font\":{\"size\":14},\"showarrow\":false,\"text\":\"Sparing the large\",\"x\":-0.02,\"xanchor\":\"right\",\"xref\":\"paper\",\"y\":1,\"yref\":\"y\"},{\"align\":\"right\",\"font\":{\"size\":14},\"showarrow\":false,\"text\":\"Sparing lower status\",\"x\":-0.02,\"xanchor\":\"right\",\"xref\":\"paper\",\"y\":2,\"yref\":\"y\"},{\"align\":\"right\",\"font\":{\"size\":14},\"showarrow\":false,\"text\":\"Sparing the elderly\",\"x\":-0.02,\"xanchor\":\"right\",\"xref\":\"paper\",\"y\":3,\"yref\":\"y\"},{\"align\":\"right\",\"font\":{\"size\":14},\"showarrow\":false,\"text\":\"Sparing fewer characters\",\"x\":-0.02,\"xanchor\":\"right\",\"xref\":\"paper\",\"y\":4,\"yref\":\"y\"},{\"align\":\"right\",\"font\":{\"size\":14},\"showarrow\":false,\"text\":\"Sparing pets\",\"x\":-0.02,\"xanchor\":\"right\",\"xref\":\"paper\",\"y\":5,\"yref\":\"y\"}],\"images\":[{\"sizex\":0.5,\"sizey\":0.5,\"source\":\".\\u002ficons\\u002ficons_tradeoff\\u002ffemale.png\",\"x\":0.95,\"xanchor\":\"left\",\"xref\":\"paper\",\"y\":0,\"yanchor\":\"middle\",\"yref\":\"y\"},{\"sizex\":0.5,\"sizey\":0.5,\"source\":\".\\u002ficons\\u002ficons_tradeoff\\u002ffit.png\",\"x\":0.95,\"xanchor\":\"left\",\"xref\":\"paper\",\"y\":1,\"yanchor\":\"middle\",\"yref\":\"y\"},{\"sizex\":0.5,\"sizey\":0.5,\"source\":\".\\u002ficons\\u002ficons_tradeoff\\u002fhigher_status.png\",\"x\":0.95,\"xanchor\":\"left\",\"xref\":\"paper\",\"y\":2,\"yanchor\":\"middle\",\"yref\":\"y\"},{\"sizex\":0.5,\"sizey\":0.5,\"source\":\".\\u002ficons\\u002ficons_tradeoff\\u002fyoung.png\",\"x\":0.95,\"xanchor\":\"left\",\"xref\":\"paper\",\"y\":3,\"yanchor\":\"middle\",\"yref\":\"y\"},{\"sizex\":0.5,\"sizey\":0.5,\"source\":\".\\u002ficons\\u002ficons_tradeoff\\u002fmore_character.png\",\"x\":0.95,\"xanchor\":\"left\",\"xref\":\"paper\",\"y\":4,\"yanchor\":\"middle\",\"yref\":\"y\"},{\"sizex\":0.5,\"sizey\":0.5,\"source\":\".\\u002ficons\\u002ficons_tradeoff\\u002fhumans.png\",\"x\":0.95,\"xanchor\":\"left\",\"xref\":\"paper\",\"y\":5,\"yanchor\":\"middle\",\"yref\":\"y\"},{\"sizex\":0.5,\"sizey\":0.5,\"source\":\".\\u002ficons\\u002ficons_tradeoff\\u002fmale.png\",\"x\":-0.01,\"xanchor\":\"left\",\"xref\":\"paper\",\"y\":0,\"yanchor\":\"middle\",\"yref\":\"y\"},{\"sizex\":0.5,\"sizey\":0.5,\"source\":\".\\u002ficons\\u002ficons_tradeoff\\u002flarge.png\",\"x\":-0.01,\"xanchor\":\"left\",\"xref\":\"paper\",\"y\":1,\"yanchor\":\"middle\",\"yref\":\"y\"},{\"sizex\":0.5,\"sizey\":0.5,\"source\":\".\\u002ficons\\u002ficons_tradeoff\\u002flower_status.png\",\"x\":-0.01,\"xanchor\":\"left\",\"xref\":\"paper\",\"y\":2,\"yanchor\":\"middle\",\"yref\":\"y\"},{\"sizex\":0.5,\"sizey\":0.5,\"source\":\".\\u002ficons\\u002ficons_tradeoff\\u002felderly.png\",\"x\":-0.01,\"xanchor\":\"left\",\"xref\":\"paper\",\"y\":3,\"yanchor\":\"middle\",\"yref\":\"y\"},{\"sizex\":0.5,\"sizey\":0.5,\"source\":\".\\u002ficons\\u002ficons_tradeoff\\u002ffewer.png\",\"x\":-0.01,\"xanchor\":\"left\",\"xref\":\"paper\",\"y\":4,\"yanchor\":\"middle\",\"yref\":\"y\"},{\"sizex\":0.5,\"sizey\":0.5,\"source\":\".\\u002ficons\\u002ficons_tradeoff\\u002fpet.png\",\"x\":-0.01,\"xanchor\":\"left\",\"xref\":\"paper\",\"y\":5,\"yanchor\":\"middle\",\"yref\":\"y\"}],\"margin\":{\"l\":160,\"r\":170,\"t\":50,\"b\":50},\"legend\":{\"orientation\":\"h\",\"yanchor\":\"bottom\",\"y\":1,\"xanchor\":\"center\",\"x\":0.5},\"showlegend\":true,\"font\":{\"family\":\"Times New Roman\",\"size\":12}},                        {\"responsive\": true}                    ).then(function(){\n",
       "                            \n",
       "var gd = document.getElementById('960fb2e5-e2a2-4699-9fcb-16ce38389f9c');\n",
       "var x = new MutationObserver(function (mutations, observer) {{\n",
       "        var display = window.getComputedStyle(gd).display;\n",
       "        if (!display || display === 'none') {{\n",
       "            console.log([gd, 'removed!']);\n",
       "            Plotly.purge(gd);\n",
       "            observer.disconnect();\n",
       "        }}\n",
       "}});\n",
       "\n",
       "// Listen for the removal of the full notebook cells\n",
       "var notebookContainer = gd.closest('#notebook-container');\n",
       "if (notebookContainer) {{\n",
       "    x.observe(notebookContainer, {childList: true});\n",
       "}}\n",
       "\n",
       "// Listen for the clearing of the current output cell\n",
       "var outputEl = gd.closest('.output');\n",
       "if (outputEl) {{\n",
       "    x.observe(outputEl, {childList: true});\n",
       "}}\n",
       "\n",
       "                        })                };                });            </script>        </div>"
      ]
     },
     "metadata": {},
     "output_type": "display_data"
    },
    {
     "data": {
      "application/vnd.plotly.v1+json": {
       "config": {
        "plotlyServerURL": "https://plot.ly"
       },
       "data": [
        {
         "marker": {
          "color": "#0077ad",
          "line": {
           "color": "#0077ad",
           "width": 2
          }
         },
         "name": "Llama 2 70B",
         "opacity": 0.7,
         "orientation": "h",
         "type": "bar",
         "width": 0.3,
         "x": [
          1,
          0.8332999999999999,
          0.7143,
          0.9,
          0.75,
          1
         ],
         "y": [
          "Species_Humans_Bin_Choice",
          "Utilitarianism_More_Bin_Choice",
          "Age_Young_Bin_Choice",
          "SocialValue_High_Bin_Choice",
          "Fitness_Fit_Bin_Choice",
          "Gender_Female_Bin_Choice"
         ]
        },
        {
         "marker": {
          "color": "white",
          "line": {
           "color": "#ad0077",
           "width": 2
          },
          "size": 20
         },
         "mode": "markers",
         "name": "Human Preference",
         "showlegend": true,
         "type": "scatter",
         "x": [
          0.7974454552522746,
          0.753525616600679,
          0.7241555080471478,
          0.6617809934377845,
          0.576127833908965,
          0.5625438093111024
         ],
         "y": [
          "Species_Humans_Bin_Choice",
          "Utilitarianism_More_Bin_Choice",
          "Age_Young_Bin_Choice",
          "SocialValue_High_Bin_Choice",
          "Fitness_Fit_Bin_Choice",
          "Gender_Female_Bin_Choice"
         ]
        }
       ],
       "layout": {
        "annotations": [
         {
          "align": "left",
          "font": {
           "size": 14
          },
          "showarrow": false,
          "text": "Sparing females",
          "x": 1.06,
          "xanchor": "left",
          "xref": "paper",
          "y": 0,
          "yref": "y"
         },
         {
          "align": "left",
          "font": {
           "size": 14
          },
          "showarrow": false,
          "text": "Sparing the fit",
          "x": 1.06,
          "xanchor": "left",
          "xref": "paper",
          "y": 1,
          "yref": "y"
         },
         {
          "align": "left",
          "font": {
           "size": 14
          },
          "showarrow": false,
          "text": "Sparing higher status",
          "x": 1.06,
          "xanchor": "left",
          "xref": "paper",
          "y": 2,
          "yref": "y"
         },
         {
          "align": "left",
          "font": {
           "size": 14
          },
          "showarrow": false,
          "text": "Sparing the young",
          "x": 1.06,
          "xanchor": "left",
          "xref": "paper",
          "y": 3,
          "yref": "y"
         },
         {
          "align": "left",
          "font": {
           "size": 14
          },
          "showarrow": false,
          "text": "Sparing more characters",
          "x": 1.06,
          "xanchor": "left",
          "xref": "paper",
          "y": 4,
          "yref": "y"
         },
         {
          "align": "left",
          "font": {
           "size": 14
          },
          "showarrow": false,
          "text": "Sparing humans",
          "x": 1.06,
          "xanchor": "left",
          "xref": "paper",
          "y": 5,
          "yref": "y"
         },
         {
          "align": "right",
          "font": {
           "size": 14
          },
          "showarrow": false,
          "text": "Sparing males",
          "x": -0.02,
          "xanchor": "right",
          "xref": "paper",
          "y": 0,
          "yref": "y"
         },
         {
          "align": "right",
          "font": {
           "size": 14
          },
          "showarrow": false,
          "text": "Sparing the large",
          "x": -0.02,
          "xanchor": "right",
          "xref": "paper",
          "y": 1,
          "yref": "y"
         },
         {
          "align": "right",
          "font": {
           "size": 14
          },
          "showarrow": false,
          "text": "Sparing lower status",
          "x": -0.02,
          "xanchor": "right",
          "xref": "paper",
          "y": 2,
          "yref": "y"
         },
         {
          "align": "right",
          "font": {
           "size": 14
          },
          "showarrow": false,
          "text": "Sparing the elderly",
          "x": -0.02,
          "xanchor": "right",
          "xref": "paper",
          "y": 3,
          "yref": "y"
         },
         {
          "align": "right",
          "font": {
           "size": 14
          },
          "showarrow": false,
          "text": "Sparing fewer characters",
          "x": -0.02,
          "xanchor": "right",
          "xref": "paper",
          "y": 4,
          "yref": "y"
         },
         {
          "align": "right",
          "font": {
           "size": 14
          },
          "showarrow": false,
          "text": "Sparing pets",
          "x": -0.02,
          "xanchor": "right",
          "xref": "paper",
          "y": 5,
          "yref": "y"
         }
        ],
        "font": {
         "family": "Times New Roman",
         "size": 12
        },
        "height": 400,
        "images": [
         {
          "sizex": 0.5,
          "sizey": 0.5,
          "source": "./icons/icons_tradeoff/female.png",
          "x": 0.95,
          "xanchor": "left",
          "xref": "paper",
          "y": 0,
          "yanchor": "middle",
          "yref": "y"
         },
         {
          "sizex": 0.5,
          "sizey": 0.5,
          "source": "./icons/icons_tradeoff/fit.png",
          "x": 0.95,
          "xanchor": "left",
          "xref": "paper",
          "y": 1,
          "yanchor": "middle",
          "yref": "y"
         },
         {
          "sizex": 0.5,
          "sizey": 0.5,
          "source": "./icons/icons_tradeoff/higher_status.png",
          "x": 0.95,
          "xanchor": "left",
          "xref": "paper",
          "y": 2,
          "yanchor": "middle",
          "yref": "y"
         },
         {
          "sizex": 0.5,
          "sizey": 0.5,
          "source": "./icons/icons_tradeoff/young.png",
          "x": 0.95,
          "xanchor": "left",
          "xref": "paper",
          "y": 3,
          "yanchor": "middle",
          "yref": "y"
         },
         {
          "sizex": 0.5,
          "sizey": 0.5,
          "source": "./icons/icons_tradeoff/more_character.png",
          "x": 0.95,
          "xanchor": "left",
          "xref": "paper",
          "y": 4,
          "yanchor": "middle",
          "yref": "y"
         },
         {
          "sizex": 0.5,
          "sizey": 0.5,
          "source": "./icons/icons_tradeoff/humans.png",
          "x": 0.95,
          "xanchor": "left",
          "xref": "paper",
          "y": 5,
          "yanchor": "middle",
          "yref": "y"
         },
         {
          "sizex": 0.5,
          "sizey": 0.5,
          "source": "./icons/icons_tradeoff/male.png",
          "x": -0.01,
          "xanchor": "left",
          "xref": "paper",
          "y": 0,
          "yanchor": "middle",
          "yref": "y"
         },
         {
          "sizex": 0.5,
          "sizey": 0.5,
          "source": "./icons/icons_tradeoff/large.png",
          "x": -0.01,
          "xanchor": "left",
          "xref": "paper",
          "y": 1,
          "yanchor": "middle",
          "yref": "y"
         },
         {
          "sizex": 0.5,
          "sizey": 0.5,
          "source": "./icons/icons_tradeoff/lower_status.png",
          "x": -0.01,
          "xanchor": "left",
          "xref": "paper",
          "y": 2,
          "yanchor": "middle",
          "yref": "y"
         },
         {
          "sizex": 0.5,
          "sizey": 0.5,
          "source": "./icons/icons_tradeoff/elderly.png",
          "x": -0.01,
          "xanchor": "left",
          "xref": "paper",
          "y": 3,
          "yanchor": "middle",
          "yref": "y"
         },
         {
          "sizex": 0.5,
          "sizey": 0.5,
          "source": "./icons/icons_tradeoff/fewer.png",
          "x": -0.01,
          "xanchor": "left",
          "xref": "paper",
          "y": 4,
          "yanchor": "middle",
          "yref": "y"
         },
         {
          "sizex": 0.5,
          "sizey": 0.5,
          "source": "./icons/icons_tradeoff/pet.png",
          "x": -0.01,
          "xanchor": "left",
          "xref": "paper",
          "y": 5,
          "yanchor": "middle",
          "yref": "y"
         }
        ],
        "legend": {
         "orientation": "h",
         "x": 0.5,
         "xanchor": "center",
         "y": 1,
         "yanchor": "bottom"
        },
        "margin": {
         "b": 50,
         "l": 160,
         "r": 170,
         "t": 50
        },
        "plot_bgcolor": "white",
        "showlegend": true,
        "template": {
         "data": {
          "bar": [
           {
            "error_x": {
             "color": "#2a3f5f"
            },
            "error_y": {
             "color": "#2a3f5f"
            },
            "marker": {
             "line": {
              "color": "#E5ECF6",
              "width": 0.5
             },
             "pattern": {
              "fillmode": "overlay",
              "size": 10,
              "solidity": 0.2
             }
            },
            "type": "bar"
           }
          ],
          "barpolar": [
           {
            "marker": {
             "line": {
              "color": "#E5ECF6",
              "width": 0.5
             },
             "pattern": {
              "fillmode": "overlay",
              "size": 10,
              "solidity": 0.2
             }
            },
            "type": "barpolar"
           }
          ],
          "carpet": [
           {
            "aaxis": {
             "endlinecolor": "#2a3f5f",
             "gridcolor": "white",
             "linecolor": "white",
             "minorgridcolor": "white",
             "startlinecolor": "#2a3f5f"
            },
            "baxis": {
             "endlinecolor": "#2a3f5f",
             "gridcolor": "white",
             "linecolor": "white",
             "minorgridcolor": "white",
             "startlinecolor": "#2a3f5f"
            },
            "type": "carpet"
           }
          ],
          "choropleth": [
           {
            "colorbar": {
             "outlinewidth": 0,
             "ticks": ""
            },
            "type": "choropleth"
           }
          ],
          "contour": [
           {
            "colorbar": {
             "outlinewidth": 0,
             "ticks": ""
            },
            "colorscale": [
             [
              0,
              "#0d0887"
             ],
             [
              0.1111111111111111,
              "#46039f"
             ],
             [
              0.2222222222222222,
              "#7201a8"
             ],
             [
              0.3333333333333333,
              "#9c179e"
             ],
             [
              0.4444444444444444,
              "#bd3786"
             ],
             [
              0.5555555555555556,
              "#d8576b"
             ],
             [
              0.6666666666666666,
              "#ed7953"
             ],
             [
              0.7777777777777778,
              "#fb9f3a"
             ],
             [
              0.8888888888888888,
              "#fdca26"
             ],
             [
              1,
              "#f0f921"
             ]
            ],
            "type": "contour"
           }
          ],
          "contourcarpet": [
           {
            "colorbar": {
             "outlinewidth": 0,
             "ticks": ""
            },
            "type": "contourcarpet"
           }
          ],
          "heatmap": [
           {
            "colorbar": {
             "outlinewidth": 0,
             "ticks": ""
            },
            "colorscale": [
             [
              0,
              "#0d0887"
             ],
             [
              0.1111111111111111,
              "#46039f"
             ],
             [
              0.2222222222222222,
              "#7201a8"
             ],
             [
              0.3333333333333333,
              "#9c179e"
             ],
             [
              0.4444444444444444,
              "#bd3786"
             ],
             [
              0.5555555555555556,
              "#d8576b"
             ],
             [
              0.6666666666666666,
              "#ed7953"
             ],
             [
              0.7777777777777778,
              "#fb9f3a"
             ],
             [
              0.8888888888888888,
              "#fdca26"
             ],
             [
              1,
              "#f0f921"
             ]
            ],
            "type": "heatmap"
           }
          ],
          "heatmapgl": [
           {
            "colorbar": {
             "outlinewidth": 0,
             "ticks": ""
            },
            "colorscale": [
             [
              0,
              "#0d0887"
             ],
             [
              0.1111111111111111,
              "#46039f"
             ],
             [
              0.2222222222222222,
              "#7201a8"
             ],
             [
              0.3333333333333333,
              "#9c179e"
             ],
             [
              0.4444444444444444,
              "#bd3786"
             ],
             [
              0.5555555555555556,
              "#d8576b"
             ],
             [
              0.6666666666666666,
              "#ed7953"
             ],
             [
              0.7777777777777778,
              "#fb9f3a"
             ],
             [
              0.8888888888888888,
              "#fdca26"
             ],
             [
              1,
              "#f0f921"
             ]
            ],
            "type": "heatmapgl"
           }
          ],
          "histogram": [
           {
            "marker": {
             "pattern": {
              "fillmode": "overlay",
              "size": 10,
              "solidity": 0.2
             }
            },
            "type": "histogram"
           }
          ],
          "histogram2d": [
           {
            "colorbar": {
             "outlinewidth": 0,
             "ticks": ""
            },
            "colorscale": [
             [
              0,
              "#0d0887"
             ],
             [
              0.1111111111111111,
              "#46039f"
             ],
             [
              0.2222222222222222,
              "#7201a8"
             ],
             [
              0.3333333333333333,
              "#9c179e"
             ],
             [
              0.4444444444444444,
              "#bd3786"
             ],
             [
              0.5555555555555556,
              "#d8576b"
             ],
             [
              0.6666666666666666,
              "#ed7953"
             ],
             [
              0.7777777777777778,
              "#fb9f3a"
             ],
             [
              0.8888888888888888,
              "#fdca26"
             ],
             [
              1,
              "#f0f921"
             ]
            ],
            "type": "histogram2d"
           }
          ],
          "histogram2dcontour": [
           {
            "colorbar": {
             "outlinewidth": 0,
             "ticks": ""
            },
            "colorscale": [
             [
              0,
              "#0d0887"
             ],
             [
              0.1111111111111111,
              "#46039f"
             ],
             [
              0.2222222222222222,
              "#7201a8"
             ],
             [
              0.3333333333333333,
              "#9c179e"
             ],
             [
              0.4444444444444444,
              "#bd3786"
             ],
             [
              0.5555555555555556,
              "#d8576b"
             ],
             [
              0.6666666666666666,
              "#ed7953"
             ],
             [
              0.7777777777777778,
              "#fb9f3a"
             ],
             [
              0.8888888888888888,
              "#fdca26"
             ],
             [
              1,
              "#f0f921"
             ]
            ],
            "type": "histogram2dcontour"
           }
          ],
          "mesh3d": [
           {
            "colorbar": {
             "outlinewidth": 0,
             "ticks": ""
            },
            "type": "mesh3d"
           }
          ],
          "parcoords": [
           {
            "line": {
             "colorbar": {
              "outlinewidth": 0,
              "ticks": ""
             }
            },
            "type": "parcoords"
           }
          ],
          "pie": [
           {
            "automargin": true,
            "type": "pie"
           }
          ],
          "scatter": [
           {
            "fillpattern": {
             "fillmode": "overlay",
             "size": 10,
             "solidity": 0.2
            },
            "type": "scatter"
           }
          ],
          "scatter3d": [
           {
            "line": {
             "colorbar": {
              "outlinewidth": 0,
              "ticks": ""
             }
            },
            "marker": {
             "colorbar": {
              "outlinewidth": 0,
              "ticks": ""
             }
            },
            "type": "scatter3d"
           }
          ],
          "scattercarpet": [
           {
            "marker": {
             "colorbar": {
              "outlinewidth": 0,
              "ticks": ""
             }
            },
            "type": "scattercarpet"
           }
          ],
          "scattergeo": [
           {
            "marker": {
             "colorbar": {
              "outlinewidth": 0,
              "ticks": ""
             }
            },
            "type": "scattergeo"
           }
          ],
          "scattergl": [
           {
            "marker": {
             "colorbar": {
              "outlinewidth": 0,
              "ticks": ""
             }
            },
            "type": "scattergl"
           }
          ],
          "scattermapbox": [
           {
            "marker": {
             "colorbar": {
              "outlinewidth": 0,
              "ticks": ""
             }
            },
            "type": "scattermapbox"
           }
          ],
          "scatterpolar": [
           {
            "marker": {
             "colorbar": {
              "outlinewidth": 0,
              "ticks": ""
             }
            },
            "type": "scatterpolar"
           }
          ],
          "scatterpolargl": [
           {
            "marker": {
             "colorbar": {
              "outlinewidth": 0,
              "ticks": ""
             }
            },
            "type": "scatterpolargl"
           }
          ],
          "scatterternary": [
           {
            "marker": {
             "colorbar": {
              "outlinewidth": 0,
              "ticks": ""
             }
            },
            "type": "scatterternary"
           }
          ],
          "surface": [
           {
            "colorbar": {
             "outlinewidth": 0,
             "ticks": ""
            },
            "colorscale": [
             [
              0,
              "#0d0887"
             ],
             [
              0.1111111111111111,
              "#46039f"
             ],
             [
              0.2222222222222222,
              "#7201a8"
             ],
             [
              0.3333333333333333,
              "#9c179e"
             ],
             [
              0.4444444444444444,
              "#bd3786"
             ],
             [
              0.5555555555555556,
              "#d8576b"
             ],
             [
              0.6666666666666666,
              "#ed7953"
             ],
             [
              0.7777777777777778,
              "#fb9f3a"
             ],
             [
              0.8888888888888888,
              "#fdca26"
             ],
             [
              1,
              "#f0f921"
             ]
            ],
            "type": "surface"
           }
          ],
          "table": [
           {
            "cells": {
             "fill": {
              "color": "#EBF0F8"
             },
             "line": {
              "color": "white"
             }
            },
            "header": {
             "fill": {
              "color": "#C8D4E3"
             },
             "line": {
              "color": "white"
             }
            },
            "type": "table"
           }
          ]
         },
         "layout": {
          "annotationdefaults": {
           "arrowcolor": "#2a3f5f",
           "arrowhead": 0,
           "arrowwidth": 1
          },
          "autotypenumbers": "strict",
          "coloraxis": {
           "colorbar": {
            "outlinewidth": 0,
            "ticks": ""
           }
          },
          "colorscale": {
           "diverging": [
            [
             0,
             "#8e0152"
            ],
            [
             0.1,
             "#c51b7d"
            ],
            [
             0.2,
             "#de77ae"
            ],
            [
             0.3,
             "#f1b6da"
            ],
            [
             0.4,
             "#fde0ef"
            ],
            [
             0.5,
             "#f7f7f7"
            ],
            [
             0.6,
             "#e6f5d0"
            ],
            [
             0.7,
             "#b8e186"
            ],
            [
             0.8,
             "#7fbc41"
            ],
            [
             0.9,
             "#4d9221"
            ],
            [
             1,
             "#276419"
            ]
           ],
           "sequential": [
            [
             0,
             "#0d0887"
            ],
            [
             0.1111111111111111,
             "#46039f"
            ],
            [
             0.2222222222222222,
             "#7201a8"
            ],
            [
             0.3333333333333333,
             "#9c179e"
            ],
            [
             0.4444444444444444,
             "#bd3786"
            ],
            [
             0.5555555555555556,
             "#d8576b"
            ],
            [
             0.6666666666666666,
             "#ed7953"
            ],
            [
             0.7777777777777778,
             "#fb9f3a"
            ],
            [
             0.8888888888888888,
             "#fdca26"
            ],
            [
             1,
             "#f0f921"
            ]
           ],
           "sequentialminus": [
            [
             0,
             "#0d0887"
            ],
            [
             0.1111111111111111,
             "#46039f"
            ],
            [
             0.2222222222222222,
             "#7201a8"
            ],
            [
             0.3333333333333333,
             "#9c179e"
            ],
            [
             0.4444444444444444,
             "#bd3786"
            ],
            [
             0.5555555555555556,
             "#d8576b"
            ],
            [
             0.6666666666666666,
             "#ed7953"
            ],
            [
             0.7777777777777778,
             "#fb9f3a"
            ],
            [
             0.8888888888888888,
             "#fdca26"
            ],
            [
             1,
             "#f0f921"
            ]
           ]
          },
          "colorway": [
           "#636efa",
           "#EF553B",
           "#00cc96",
           "#ab63fa",
           "#FFA15A",
           "#19d3f3",
           "#FF6692",
           "#B6E880",
           "#FF97FF",
           "#FECB52"
          ],
          "font": {
           "color": "#2a3f5f"
          },
          "geo": {
           "bgcolor": "white",
           "lakecolor": "white",
           "landcolor": "#E5ECF6",
           "showlakes": true,
           "showland": true,
           "subunitcolor": "white"
          },
          "hoverlabel": {
           "align": "left"
          },
          "hovermode": "closest",
          "mapbox": {
           "style": "light"
          },
          "paper_bgcolor": "white",
          "plot_bgcolor": "#E5ECF6",
          "polar": {
           "angularaxis": {
            "gridcolor": "white",
            "linecolor": "white",
            "ticks": ""
           },
           "bgcolor": "#E5ECF6",
           "radialaxis": {
            "gridcolor": "white",
            "linecolor": "white",
            "ticks": ""
           }
          },
          "scene": {
           "xaxis": {
            "backgroundcolor": "#E5ECF6",
            "gridcolor": "white",
            "gridwidth": 2,
            "linecolor": "white",
            "showbackground": true,
            "ticks": "",
            "zerolinecolor": "white"
           },
           "yaxis": {
            "backgroundcolor": "#E5ECF6",
            "gridcolor": "white",
            "gridwidth": 2,
            "linecolor": "white",
            "showbackground": true,
            "ticks": "",
            "zerolinecolor": "white"
           },
           "zaxis": {
            "backgroundcolor": "#E5ECF6",
            "gridcolor": "white",
            "gridwidth": 2,
            "linecolor": "white",
            "showbackground": true,
            "ticks": "",
            "zerolinecolor": "white"
           }
          },
          "shapedefaults": {
           "line": {
            "color": "#2a3f5f"
           }
          },
          "ternary": {
           "aaxis": {
            "gridcolor": "white",
            "linecolor": "white",
            "ticks": ""
           },
           "baxis": {
            "gridcolor": "white",
            "linecolor": "white",
            "ticks": ""
           },
           "bgcolor": "#E5ECF6",
           "caxis": {
            "gridcolor": "white",
            "linecolor": "white",
            "ticks": ""
           }
          },
          "title": {
           "x": 0.05
          },
          "xaxis": {
           "automargin": true,
           "gridcolor": "white",
           "linecolor": "white",
           "ticks": "",
           "title": {
            "standoff": 15
           },
           "zerolinecolor": "white",
           "zerolinewidth": 2
          },
          "yaxis": {
           "automargin": true,
           "gridcolor": "white",
           "linecolor": "white",
           "ticks": "",
           "title": {
            "standoff": 15
           },
           "zerolinecolor": "white",
           "zerolinewidth": 2
          }
         }
        },
        "title": {
         "font": {
          "size": 12
         },
         "text": ""
        },
        "width": 800,
        "xaxis": {
         "anchor": "y",
         "domain": [
          0,
          1
         ],
         "gridcolor": "lightgrey",
         "gridwidth": 1,
         "range": [
          -0.1,
          1.1
         ],
         "showgrid": true,
         "ticktext": [
          "100% Favoring the Left",
          "75-25",
          "50-50",
          "25-75",
          "100% Favoring the Right"
         ],
         "tickvals": [
          0,
          0.25,
          0.5,
          0.75,
          1
         ],
         "title": {
          "text": "Preference"
         }
        },
        "yaxis": {
         "anchor": "x",
         "autorange": false,
         "categoryarray": [
          "Gender_Female_Bin_Choice",
          "Fitness_Fit_Bin_Choice",
          "SocialValue_High_Bin_Choice",
          "Age_Young_Bin_Choice",
          "Utilitarianism_More_Bin_Choice",
          "Species_Humans_Bin_Choice"
         ],
         "categoryorder": "array",
         "domain": [
          0,
          1
         ],
         "range": [
          -0.5,
          5.5
         ],
         "showgrid": false,
         "tickmode": "array",
         "ticktext": [
          "",
          "",
          "",
          "",
          "",
          ""
         ],
         "tickvals": [
          0,
          1,
          2,
          3,
          4,
          5
         ]
        }
       }
      },
      "text/html": [
       "<div>                            <div id=\"a2a6b9d8-35b2-4ef3-b1b4-07d496aa7eb3\" class=\"plotly-graph-div\" style=\"height:400px; width:800px;\"></div>            <script type=\"text/javascript\">                require([\"plotly\"], function(Plotly) {                    window.PLOTLYENV=window.PLOTLYENV || {};                                    if (document.getElementById(\"a2a6b9d8-35b2-4ef3-b1b4-07d496aa7eb3\")) {                    Plotly.newPlot(                        \"a2a6b9d8-35b2-4ef3-b1b4-07d496aa7eb3\",                        [{\"marker\":{\"color\":\"#0077ad\",\"line\":{\"color\":\"#0077ad\",\"width\":2}},\"name\":\"Llama 2 70B\",\"opacity\":0.7,\"orientation\":\"h\",\"width\":0.3,\"x\":[1.0,0.8332999999999999,0.7143,0.9,0.75,1.0],\"y\":[\"Species_Humans_Bin_Choice\",\"Utilitarianism_More_Bin_Choice\",\"Age_Young_Bin_Choice\",\"SocialValue_High_Bin_Choice\",\"Fitness_Fit_Bin_Choice\",\"Gender_Female_Bin_Choice\"],\"type\":\"bar\"},{\"marker\":{\"color\":\"white\",\"line\":{\"color\":\"#ad0077\",\"width\":2},\"size\":20},\"mode\":\"markers\",\"name\":\"Human Preference\",\"showlegend\":true,\"x\":[0.7974454552522746,0.753525616600679,0.7241555080471478,0.6617809934377845,0.576127833908965,0.5625438093111024],\"y\":[\"Species_Humans_Bin_Choice\",\"Utilitarianism_More_Bin_Choice\",\"Age_Young_Bin_Choice\",\"SocialValue_High_Bin_Choice\",\"Fitness_Fit_Bin_Choice\",\"Gender_Female_Bin_Choice\"],\"type\":\"scatter\"}],                        {\"template\":{\"data\":{\"histogram2dcontour\":[{\"type\":\"histogram2dcontour\",\"colorbar\":{\"outlinewidth\":0,\"ticks\":\"\"},\"colorscale\":[[0.0,\"#0d0887\"],[0.1111111111111111,\"#46039f\"],[0.2222222222222222,\"#7201a8\"],[0.3333333333333333,\"#9c179e\"],[0.4444444444444444,\"#bd3786\"],[0.5555555555555556,\"#d8576b\"],[0.6666666666666666,\"#ed7953\"],[0.7777777777777778,\"#fb9f3a\"],[0.8888888888888888,\"#fdca26\"],[1.0,\"#f0f921\"]]}],\"choropleth\":[{\"type\":\"choropleth\",\"colorbar\":{\"outlinewidth\":0,\"ticks\":\"\"}}],\"histogram2d\":[{\"type\":\"histogram2d\",\"colorbar\":{\"outlinewidth\":0,\"ticks\":\"\"},\"colorscale\":[[0.0,\"#0d0887\"],[0.1111111111111111,\"#46039f\"],[0.2222222222222222,\"#7201a8\"],[0.3333333333333333,\"#9c179e\"],[0.4444444444444444,\"#bd3786\"],[0.5555555555555556,\"#d8576b\"],[0.6666666666666666,\"#ed7953\"],[0.7777777777777778,\"#fb9f3a\"],[0.8888888888888888,\"#fdca26\"],[1.0,\"#f0f921\"]]}],\"heatmap\":[{\"type\":\"heatmap\",\"colorbar\":{\"outlinewidth\":0,\"ticks\":\"\"},\"colorscale\":[[0.0,\"#0d0887\"],[0.1111111111111111,\"#46039f\"],[0.2222222222222222,\"#7201a8\"],[0.3333333333333333,\"#9c179e\"],[0.4444444444444444,\"#bd3786\"],[0.5555555555555556,\"#d8576b\"],[0.6666666666666666,\"#ed7953\"],[0.7777777777777778,\"#fb9f3a\"],[0.8888888888888888,\"#fdca26\"],[1.0,\"#f0f921\"]]}],\"heatmapgl\":[{\"type\":\"heatmapgl\",\"colorbar\":{\"outlinewidth\":0,\"ticks\":\"\"},\"colorscale\":[[0.0,\"#0d0887\"],[0.1111111111111111,\"#46039f\"],[0.2222222222222222,\"#7201a8\"],[0.3333333333333333,\"#9c179e\"],[0.4444444444444444,\"#bd3786\"],[0.5555555555555556,\"#d8576b\"],[0.6666666666666666,\"#ed7953\"],[0.7777777777777778,\"#fb9f3a\"],[0.8888888888888888,\"#fdca26\"],[1.0,\"#f0f921\"]]}],\"contourcarpet\":[{\"type\":\"contourcarpet\",\"colorbar\":{\"outlinewidth\":0,\"ticks\":\"\"}}],\"contour\":[{\"type\":\"contour\",\"colorbar\":{\"outlinewidth\":0,\"ticks\":\"\"},\"colorscale\":[[0.0,\"#0d0887\"],[0.1111111111111111,\"#46039f\"],[0.2222222222222222,\"#7201a8\"],[0.3333333333333333,\"#9c179e\"],[0.4444444444444444,\"#bd3786\"],[0.5555555555555556,\"#d8576b\"],[0.6666666666666666,\"#ed7953\"],[0.7777777777777778,\"#fb9f3a\"],[0.8888888888888888,\"#fdca26\"],[1.0,\"#f0f921\"]]}],\"surface\":[{\"type\":\"surface\",\"colorbar\":{\"outlinewidth\":0,\"ticks\":\"\"},\"colorscale\":[[0.0,\"#0d0887\"],[0.1111111111111111,\"#46039f\"],[0.2222222222222222,\"#7201a8\"],[0.3333333333333333,\"#9c179e\"],[0.4444444444444444,\"#bd3786\"],[0.5555555555555556,\"#d8576b\"],[0.6666666666666666,\"#ed7953\"],[0.7777777777777778,\"#fb9f3a\"],[0.8888888888888888,\"#fdca26\"],[1.0,\"#f0f921\"]]}],\"mesh3d\":[{\"type\":\"mesh3d\",\"colorbar\":{\"outlinewidth\":0,\"ticks\":\"\"}}],\"scatter\":[{\"fillpattern\":{\"fillmode\":\"overlay\",\"size\":10,\"solidity\":0.2},\"type\":\"scatter\"}],\"parcoords\":[{\"type\":\"parcoords\",\"line\":{\"colorbar\":{\"outlinewidth\":0,\"ticks\":\"\"}}}],\"scatterpolargl\":[{\"type\":\"scatterpolargl\",\"marker\":{\"colorbar\":{\"outlinewidth\":0,\"ticks\":\"\"}}}],\"bar\":[{\"error_x\":{\"color\":\"#2a3f5f\"},\"error_y\":{\"color\":\"#2a3f5f\"},\"marker\":{\"line\":{\"color\":\"#E5ECF6\",\"width\":0.5},\"pattern\":{\"fillmode\":\"overlay\",\"size\":10,\"solidity\":0.2}},\"type\":\"bar\"}],\"scattergeo\":[{\"type\":\"scattergeo\",\"marker\":{\"colorbar\":{\"outlinewidth\":0,\"ticks\":\"\"}}}],\"scatterpolar\":[{\"type\":\"scatterpolar\",\"marker\":{\"colorbar\":{\"outlinewidth\":0,\"ticks\":\"\"}}}],\"histogram\":[{\"marker\":{\"pattern\":{\"fillmode\":\"overlay\",\"size\":10,\"solidity\":0.2}},\"type\":\"histogram\"}],\"scattergl\":[{\"type\":\"scattergl\",\"marker\":{\"colorbar\":{\"outlinewidth\":0,\"ticks\":\"\"}}}],\"scatter3d\":[{\"type\":\"scatter3d\",\"line\":{\"colorbar\":{\"outlinewidth\":0,\"ticks\":\"\"}},\"marker\":{\"colorbar\":{\"outlinewidth\":0,\"ticks\":\"\"}}}],\"scattermapbox\":[{\"type\":\"scattermapbox\",\"marker\":{\"colorbar\":{\"outlinewidth\":0,\"ticks\":\"\"}}}],\"scatterternary\":[{\"type\":\"scatterternary\",\"marker\":{\"colorbar\":{\"outlinewidth\":0,\"ticks\":\"\"}}}],\"scattercarpet\":[{\"type\":\"scattercarpet\",\"marker\":{\"colorbar\":{\"outlinewidth\":0,\"ticks\":\"\"}}}],\"carpet\":[{\"aaxis\":{\"endlinecolor\":\"#2a3f5f\",\"gridcolor\":\"white\",\"linecolor\":\"white\",\"minorgridcolor\":\"white\",\"startlinecolor\":\"#2a3f5f\"},\"baxis\":{\"endlinecolor\":\"#2a3f5f\",\"gridcolor\":\"white\",\"linecolor\":\"white\",\"minorgridcolor\":\"white\",\"startlinecolor\":\"#2a3f5f\"},\"type\":\"carpet\"}],\"table\":[{\"cells\":{\"fill\":{\"color\":\"#EBF0F8\"},\"line\":{\"color\":\"white\"}},\"header\":{\"fill\":{\"color\":\"#C8D4E3\"},\"line\":{\"color\":\"white\"}},\"type\":\"table\"}],\"barpolar\":[{\"marker\":{\"line\":{\"color\":\"#E5ECF6\",\"width\":0.5},\"pattern\":{\"fillmode\":\"overlay\",\"size\":10,\"solidity\":0.2}},\"type\":\"barpolar\"}],\"pie\":[{\"automargin\":true,\"type\":\"pie\"}]},\"layout\":{\"autotypenumbers\":\"strict\",\"colorway\":[\"#636efa\",\"#EF553B\",\"#00cc96\",\"#ab63fa\",\"#FFA15A\",\"#19d3f3\",\"#FF6692\",\"#B6E880\",\"#FF97FF\",\"#FECB52\"],\"font\":{\"color\":\"#2a3f5f\"},\"hovermode\":\"closest\",\"hoverlabel\":{\"align\":\"left\"},\"paper_bgcolor\":\"white\",\"plot_bgcolor\":\"#E5ECF6\",\"polar\":{\"bgcolor\":\"#E5ECF6\",\"angularaxis\":{\"gridcolor\":\"white\",\"linecolor\":\"white\",\"ticks\":\"\"},\"radialaxis\":{\"gridcolor\":\"white\",\"linecolor\":\"white\",\"ticks\":\"\"}},\"ternary\":{\"bgcolor\":\"#E5ECF6\",\"aaxis\":{\"gridcolor\":\"white\",\"linecolor\":\"white\",\"ticks\":\"\"},\"baxis\":{\"gridcolor\":\"white\",\"linecolor\":\"white\",\"ticks\":\"\"},\"caxis\":{\"gridcolor\":\"white\",\"linecolor\":\"white\",\"ticks\":\"\"}},\"coloraxis\":{\"colorbar\":{\"outlinewidth\":0,\"ticks\":\"\"}},\"colorscale\":{\"sequential\":[[0.0,\"#0d0887\"],[0.1111111111111111,\"#46039f\"],[0.2222222222222222,\"#7201a8\"],[0.3333333333333333,\"#9c179e\"],[0.4444444444444444,\"#bd3786\"],[0.5555555555555556,\"#d8576b\"],[0.6666666666666666,\"#ed7953\"],[0.7777777777777778,\"#fb9f3a\"],[0.8888888888888888,\"#fdca26\"],[1.0,\"#f0f921\"]],\"sequentialminus\":[[0.0,\"#0d0887\"],[0.1111111111111111,\"#46039f\"],[0.2222222222222222,\"#7201a8\"],[0.3333333333333333,\"#9c179e\"],[0.4444444444444444,\"#bd3786\"],[0.5555555555555556,\"#d8576b\"],[0.6666666666666666,\"#ed7953\"],[0.7777777777777778,\"#fb9f3a\"],[0.8888888888888888,\"#fdca26\"],[1.0,\"#f0f921\"]],\"diverging\":[[0,\"#8e0152\"],[0.1,\"#c51b7d\"],[0.2,\"#de77ae\"],[0.3,\"#f1b6da\"],[0.4,\"#fde0ef\"],[0.5,\"#f7f7f7\"],[0.6,\"#e6f5d0\"],[0.7,\"#b8e186\"],[0.8,\"#7fbc41\"],[0.9,\"#4d9221\"],[1,\"#276419\"]]},\"xaxis\":{\"gridcolor\":\"white\",\"linecolor\":\"white\",\"ticks\":\"\",\"title\":{\"standoff\":15},\"zerolinecolor\":\"white\",\"automargin\":true,\"zerolinewidth\":2},\"yaxis\":{\"gridcolor\":\"white\",\"linecolor\":\"white\",\"ticks\":\"\",\"title\":{\"standoff\":15},\"zerolinecolor\":\"white\",\"automargin\":true,\"zerolinewidth\":2},\"scene\":{\"xaxis\":{\"backgroundcolor\":\"#E5ECF6\",\"gridcolor\":\"white\",\"linecolor\":\"white\",\"showbackground\":true,\"ticks\":\"\",\"zerolinecolor\":\"white\",\"gridwidth\":2},\"yaxis\":{\"backgroundcolor\":\"#E5ECF6\",\"gridcolor\":\"white\",\"linecolor\":\"white\",\"showbackground\":true,\"ticks\":\"\",\"zerolinecolor\":\"white\",\"gridwidth\":2},\"zaxis\":{\"backgroundcolor\":\"#E5ECF6\",\"gridcolor\":\"white\",\"linecolor\":\"white\",\"showbackground\":true,\"ticks\":\"\",\"zerolinecolor\":\"white\",\"gridwidth\":2}},\"shapedefaults\":{\"line\":{\"color\":\"#2a3f5f\"}},\"annotationdefaults\":{\"arrowcolor\":\"#2a3f5f\",\"arrowhead\":0,\"arrowwidth\":1},\"geo\":{\"bgcolor\":\"white\",\"landcolor\":\"#E5ECF6\",\"subunitcolor\":\"white\",\"showland\":true,\"showlakes\":true,\"lakecolor\":\"white\"},\"title\":{\"x\":0.05},\"mapbox\":{\"style\":\"light\"}}},\"xaxis\":{\"anchor\":\"y\",\"domain\":[0.0,1.0],\"title\":{\"text\":\"Preference\"},\"tickvals\":[0,0.25,0.5,0.75,1],\"ticktext\":[\"100% Favoring the Left\",\"75-25\",\"50-50\",\"25-75\",\"100% Favoring the Right\"],\"range\":[-0.1,1.1],\"showgrid\":true,\"gridwidth\":1,\"gridcolor\":\"lightgrey\"},\"yaxis\":{\"anchor\":\"x\",\"domain\":[0.0,1.0],\"categoryorder\":\"array\",\"categoryarray\":[\"Gender_Female_Bin_Choice\",\"Fitness_Fit_Bin_Choice\",\"SocialValue_High_Bin_Choice\",\"Age_Young_Bin_Choice\",\"Utilitarianism_More_Bin_Choice\",\"Species_Humans_Bin_Choice\"],\"tickvals\":[0,1,2,3,4,5],\"ticktext\":[\"\",\"\",\"\",\"\",\"\",\"\"],\"tickmode\":\"array\",\"range\":[-0.5,5.5],\"autorange\":false,\"showgrid\":false},\"title\":{\"text\":\"\",\"font\":{\"size\":12}},\"height\":400,\"width\":800,\"plot_bgcolor\":\"white\",\"annotations\":[{\"align\":\"left\",\"font\":{\"size\":14},\"showarrow\":false,\"text\":\"Sparing females\",\"x\":1.06,\"xanchor\":\"left\",\"xref\":\"paper\",\"y\":0,\"yref\":\"y\"},{\"align\":\"left\",\"font\":{\"size\":14},\"showarrow\":false,\"text\":\"Sparing the fit\",\"x\":1.06,\"xanchor\":\"left\",\"xref\":\"paper\",\"y\":1,\"yref\":\"y\"},{\"align\":\"left\",\"font\":{\"size\":14},\"showarrow\":false,\"text\":\"Sparing higher status\",\"x\":1.06,\"xanchor\":\"left\",\"xref\":\"paper\",\"y\":2,\"yref\":\"y\"},{\"align\":\"left\",\"font\":{\"size\":14},\"showarrow\":false,\"text\":\"Sparing the young\",\"x\":1.06,\"xanchor\":\"left\",\"xref\":\"paper\",\"y\":3,\"yref\":\"y\"},{\"align\":\"left\",\"font\":{\"size\":14},\"showarrow\":false,\"text\":\"Sparing more characters\",\"x\":1.06,\"xanchor\":\"left\",\"xref\":\"paper\",\"y\":4,\"yref\":\"y\"},{\"align\":\"left\",\"font\":{\"size\":14},\"showarrow\":false,\"text\":\"Sparing humans\",\"x\":1.06,\"xanchor\":\"left\",\"xref\":\"paper\",\"y\":5,\"yref\":\"y\"},{\"align\":\"right\",\"font\":{\"size\":14},\"showarrow\":false,\"text\":\"Sparing males\",\"x\":-0.02,\"xanchor\":\"right\",\"xref\":\"paper\",\"y\":0,\"yref\":\"y\"},{\"align\":\"right\",\"font\":{\"size\":14},\"showarrow\":false,\"text\":\"Sparing the large\",\"x\":-0.02,\"xanchor\":\"right\",\"xref\":\"paper\",\"y\":1,\"yref\":\"y\"},{\"align\":\"right\",\"font\":{\"size\":14},\"showarrow\":false,\"text\":\"Sparing lower status\",\"x\":-0.02,\"xanchor\":\"right\",\"xref\":\"paper\",\"y\":2,\"yref\":\"y\"},{\"align\":\"right\",\"font\":{\"size\":14},\"showarrow\":false,\"text\":\"Sparing the elderly\",\"x\":-0.02,\"xanchor\":\"right\",\"xref\":\"paper\",\"y\":3,\"yref\":\"y\"},{\"align\":\"right\",\"font\":{\"size\":14},\"showarrow\":false,\"text\":\"Sparing fewer characters\",\"x\":-0.02,\"xanchor\":\"right\",\"xref\":\"paper\",\"y\":4,\"yref\":\"y\"},{\"align\":\"right\",\"font\":{\"size\":14},\"showarrow\":false,\"text\":\"Sparing pets\",\"x\":-0.02,\"xanchor\":\"right\",\"xref\":\"paper\",\"y\":5,\"yref\":\"y\"}],\"images\":[{\"sizex\":0.5,\"sizey\":0.5,\"source\":\".\\u002ficons\\u002ficons_tradeoff\\u002ffemale.png\",\"x\":0.95,\"xanchor\":\"left\",\"xref\":\"paper\",\"y\":0,\"yanchor\":\"middle\",\"yref\":\"y\"},{\"sizex\":0.5,\"sizey\":0.5,\"source\":\".\\u002ficons\\u002ficons_tradeoff\\u002ffit.png\",\"x\":0.95,\"xanchor\":\"left\",\"xref\":\"paper\",\"y\":1,\"yanchor\":\"middle\",\"yref\":\"y\"},{\"sizex\":0.5,\"sizey\":0.5,\"source\":\".\\u002ficons\\u002ficons_tradeoff\\u002fhigher_status.png\",\"x\":0.95,\"xanchor\":\"left\",\"xref\":\"paper\",\"y\":2,\"yanchor\":\"middle\",\"yref\":\"y\"},{\"sizex\":0.5,\"sizey\":0.5,\"source\":\".\\u002ficons\\u002ficons_tradeoff\\u002fyoung.png\",\"x\":0.95,\"xanchor\":\"left\",\"xref\":\"paper\",\"y\":3,\"yanchor\":\"middle\",\"yref\":\"y\"},{\"sizex\":0.5,\"sizey\":0.5,\"source\":\".\\u002ficons\\u002ficons_tradeoff\\u002fmore_character.png\",\"x\":0.95,\"xanchor\":\"left\",\"xref\":\"paper\",\"y\":4,\"yanchor\":\"middle\",\"yref\":\"y\"},{\"sizex\":0.5,\"sizey\":0.5,\"source\":\".\\u002ficons\\u002ficons_tradeoff\\u002fhumans.png\",\"x\":0.95,\"xanchor\":\"left\",\"xref\":\"paper\",\"y\":5,\"yanchor\":\"middle\",\"yref\":\"y\"},{\"sizex\":0.5,\"sizey\":0.5,\"source\":\".\\u002ficons\\u002ficons_tradeoff\\u002fmale.png\",\"x\":-0.01,\"xanchor\":\"left\",\"xref\":\"paper\",\"y\":0,\"yanchor\":\"middle\",\"yref\":\"y\"},{\"sizex\":0.5,\"sizey\":0.5,\"source\":\".\\u002ficons\\u002ficons_tradeoff\\u002flarge.png\",\"x\":-0.01,\"xanchor\":\"left\",\"xref\":\"paper\",\"y\":1,\"yanchor\":\"middle\",\"yref\":\"y\"},{\"sizex\":0.5,\"sizey\":0.5,\"source\":\".\\u002ficons\\u002ficons_tradeoff\\u002flower_status.png\",\"x\":-0.01,\"xanchor\":\"left\",\"xref\":\"paper\",\"y\":2,\"yanchor\":\"middle\",\"yref\":\"y\"},{\"sizex\":0.5,\"sizey\":0.5,\"source\":\".\\u002ficons\\u002ficons_tradeoff\\u002felderly.png\",\"x\":-0.01,\"xanchor\":\"left\",\"xref\":\"paper\",\"y\":3,\"yanchor\":\"middle\",\"yref\":\"y\"},{\"sizex\":0.5,\"sizey\":0.5,\"source\":\".\\u002ficons\\u002ficons_tradeoff\\u002ffewer.png\",\"x\":-0.01,\"xanchor\":\"left\",\"xref\":\"paper\",\"y\":4,\"yanchor\":\"middle\",\"yref\":\"y\"},{\"sizex\":0.5,\"sizey\":0.5,\"source\":\".\\u002ficons\\u002ficons_tradeoff\\u002fpet.png\",\"x\":-0.01,\"xanchor\":\"left\",\"xref\":\"paper\",\"y\":5,\"yanchor\":\"middle\",\"yref\":\"y\"}],\"margin\":{\"l\":160,\"r\":170,\"t\":50,\"b\":50},\"legend\":{\"orientation\":\"h\",\"yanchor\":\"bottom\",\"y\":1,\"xanchor\":\"center\",\"x\":0.5},\"showlegend\":true,\"font\":{\"family\":\"Times New Roman\",\"size\":12}},                        {\"responsive\": true}                    ).then(function(){\n",
       "                            \n",
       "var gd = document.getElementById('a2a6b9d8-35b2-4ef3-b1b4-07d496aa7eb3');\n",
       "var x = new MutationObserver(function (mutations, observer) {{\n",
       "        var display = window.getComputedStyle(gd).display;\n",
       "        if (!display || display === 'none') {{\n",
       "            console.log([gd, 'removed!']);\n",
       "            Plotly.purge(gd);\n",
       "            observer.disconnect();\n",
       "        }}\n",
       "}});\n",
       "\n",
       "// Listen for the removal of the full notebook cells\n",
       "var notebookContainer = gd.closest('#notebook-container');\n",
       "if (notebookContainer) {{\n",
       "    x.observe(notebookContainer, {childList: true});\n",
       "}}\n",
       "\n",
       "// Listen for the clearing of the current output cell\n",
       "var outputEl = gd.closest('.output');\n",
       "if (outputEl) {{\n",
       "    x.observe(outputEl, {childList: true});\n",
       "}}\n",
       "\n",
       "                        })                };                });            </script>        </div>"
      ]
     },
     "metadata": {},
     "output_type": "display_data"
    },
    {
     "data": {
      "application/vnd.plotly.v1+json": {
       "config": {
        "plotlyServerURL": "https://plot.ly"
       },
       "data": [
        {
         "marker": {
          "color": "#0077ad",
          "line": {
           "color": "#0077ad",
           "width": 2
          }
         },
         "name": "Llama 2 13B",
         "opacity": 0.7,
         "orientation": "h",
         "type": "bar",
         "width": 0.3,
         "x": [
          1,
          0.5
         ],
         "y": [
          "Species_Humans_Bin_Choice",
          "SocialValue_High_Bin_Choice"
         ]
        },
        {
         "marker": {
          "color": "white",
          "line": {
           "color": "#ad0077",
           "width": 2
          },
          "size": 20
         },
         "mode": "markers",
         "name": "Human Preference",
         "showlegend": true,
         "type": "scatter",
         "x": [
          0.7974454552522746,
          0.753525616600679,
          0.7241555080471478,
          0.6617809934377845,
          0.576127833908965,
          0.5625438093111024
         ],
         "y": [
          "Species_Humans_Bin_Choice",
          "Utilitarianism_More_Bin_Choice",
          "Age_Young_Bin_Choice",
          "SocialValue_High_Bin_Choice",
          "Fitness_Fit_Bin_Choice",
          "Gender_Female_Bin_Choice"
         ]
        }
       ],
       "layout": {
        "annotations": [
         {
          "align": "left",
          "font": {
           "size": 14
          },
          "showarrow": false,
          "text": "Sparing females",
          "x": 1.06,
          "xanchor": "left",
          "xref": "paper",
          "y": 0,
          "yref": "y"
         },
         {
          "align": "left",
          "font": {
           "size": 14
          },
          "showarrow": false,
          "text": "Sparing the fit",
          "x": 1.06,
          "xanchor": "left",
          "xref": "paper",
          "y": 1,
          "yref": "y"
         },
         {
          "align": "left",
          "font": {
           "size": 14
          },
          "showarrow": false,
          "text": "Sparing higher status",
          "x": 1.06,
          "xanchor": "left",
          "xref": "paper",
          "y": 2,
          "yref": "y"
         },
         {
          "align": "left",
          "font": {
           "size": 14
          },
          "showarrow": false,
          "text": "Sparing the young",
          "x": 1.06,
          "xanchor": "left",
          "xref": "paper",
          "y": 3,
          "yref": "y"
         },
         {
          "align": "left",
          "font": {
           "size": 14
          },
          "showarrow": false,
          "text": "Sparing more characters",
          "x": 1.06,
          "xanchor": "left",
          "xref": "paper",
          "y": 4,
          "yref": "y"
         },
         {
          "align": "left",
          "font": {
           "size": 14
          },
          "showarrow": false,
          "text": "Sparing humans",
          "x": 1.06,
          "xanchor": "left",
          "xref": "paper",
          "y": 5,
          "yref": "y"
         },
         {
          "align": "right",
          "font": {
           "size": 14
          },
          "showarrow": false,
          "text": "Sparing males",
          "x": -0.02,
          "xanchor": "right",
          "xref": "paper",
          "y": 0,
          "yref": "y"
         },
         {
          "align": "right",
          "font": {
           "size": 14
          },
          "showarrow": false,
          "text": "Sparing the large",
          "x": -0.02,
          "xanchor": "right",
          "xref": "paper",
          "y": 1,
          "yref": "y"
         },
         {
          "align": "right",
          "font": {
           "size": 14
          },
          "showarrow": false,
          "text": "Sparing lower status",
          "x": -0.02,
          "xanchor": "right",
          "xref": "paper",
          "y": 2,
          "yref": "y"
         },
         {
          "align": "right",
          "font": {
           "size": 14
          },
          "showarrow": false,
          "text": "Sparing the elderly",
          "x": -0.02,
          "xanchor": "right",
          "xref": "paper",
          "y": 3,
          "yref": "y"
         },
         {
          "align": "right",
          "font": {
           "size": 14
          },
          "showarrow": false,
          "text": "Sparing fewer characters",
          "x": -0.02,
          "xanchor": "right",
          "xref": "paper",
          "y": 4,
          "yref": "y"
         },
         {
          "align": "right",
          "font": {
           "size": 14
          },
          "showarrow": false,
          "text": "Sparing pets",
          "x": -0.02,
          "xanchor": "right",
          "xref": "paper",
          "y": 5,
          "yref": "y"
         }
        ],
        "font": {
         "family": "Times New Roman",
         "size": 12
        },
        "height": 400,
        "images": [
         {
          "sizex": 0.5,
          "sizey": 0.5,
          "source": "./icons/icons_tradeoff/female.png",
          "x": 0.95,
          "xanchor": "left",
          "xref": "paper",
          "y": 0,
          "yanchor": "middle",
          "yref": "y"
         },
         {
          "sizex": 0.5,
          "sizey": 0.5,
          "source": "./icons/icons_tradeoff/fit.png",
          "x": 0.95,
          "xanchor": "left",
          "xref": "paper",
          "y": 1,
          "yanchor": "middle",
          "yref": "y"
         },
         {
          "sizex": 0.5,
          "sizey": 0.5,
          "source": "./icons/icons_tradeoff/higher_status.png",
          "x": 0.95,
          "xanchor": "left",
          "xref": "paper",
          "y": 2,
          "yanchor": "middle",
          "yref": "y"
         },
         {
          "sizex": 0.5,
          "sizey": 0.5,
          "source": "./icons/icons_tradeoff/young.png",
          "x": 0.95,
          "xanchor": "left",
          "xref": "paper",
          "y": 3,
          "yanchor": "middle",
          "yref": "y"
         },
         {
          "sizex": 0.5,
          "sizey": 0.5,
          "source": "./icons/icons_tradeoff/more_character.png",
          "x": 0.95,
          "xanchor": "left",
          "xref": "paper",
          "y": 4,
          "yanchor": "middle",
          "yref": "y"
         },
         {
          "sizex": 0.5,
          "sizey": 0.5,
          "source": "./icons/icons_tradeoff/humans.png",
          "x": 0.95,
          "xanchor": "left",
          "xref": "paper",
          "y": 5,
          "yanchor": "middle",
          "yref": "y"
         },
         {
          "sizex": 0.5,
          "sizey": 0.5,
          "source": "./icons/icons_tradeoff/male.png",
          "x": -0.01,
          "xanchor": "left",
          "xref": "paper",
          "y": 0,
          "yanchor": "middle",
          "yref": "y"
         },
         {
          "sizex": 0.5,
          "sizey": 0.5,
          "source": "./icons/icons_tradeoff/large.png",
          "x": -0.01,
          "xanchor": "left",
          "xref": "paper",
          "y": 1,
          "yanchor": "middle",
          "yref": "y"
         },
         {
          "sizex": 0.5,
          "sizey": 0.5,
          "source": "./icons/icons_tradeoff/lower_status.png",
          "x": -0.01,
          "xanchor": "left",
          "xref": "paper",
          "y": 2,
          "yanchor": "middle",
          "yref": "y"
         },
         {
          "sizex": 0.5,
          "sizey": 0.5,
          "source": "./icons/icons_tradeoff/elderly.png",
          "x": -0.01,
          "xanchor": "left",
          "xref": "paper",
          "y": 3,
          "yanchor": "middle",
          "yref": "y"
         },
         {
          "sizex": 0.5,
          "sizey": 0.5,
          "source": "./icons/icons_tradeoff/fewer.png",
          "x": -0.01,
          "xanchor": "left",
          "xref": "paper",
          "y": 4,
          "yanchor": "middle",
          "yref": "y"
         },
         {
          "sizex": 0.5,
          "sizey": 0.5,
          "source": "./icons/icons_tradeoff/pet.png",
          "x": -0.01,
          "xanchor": "left",
          "xref": "paper",
          "y": 5,
          "yanchor": "middle",
          "yref": "y"
         }
        ],
        "legend": {
         "orientation": "h",
         "x": 0.5,
         "xanchor": "center",
         "y": 1,
         "yanchor": "bottom"
        },
        "margin": {
         "b": 50,
         "l": 160,
         "r": 170,
         "t": 50
        },
        "plot_bgcolor": "white",
        "showlegend": true,
        "template": {
         "data": {
          "bar": [
           {
            "error_x": {
             "color": "#2a3f5f"
            },
            "error_y": {
             "color": "#2a3f5f"
            },
            "marker": {
             "line": {
              "color": "#E5ECF6",
              "width": 0.5
             },
             "pattern": {
              "fillmode": "overlay",
              "size": 10,
              "solidity": 0.2
             }
            },
            "type": "bar"
           }
          ],
          "barpolar": [
           {
            "marker": {
             "line": {
              "color": "#E5ECF6",
              "width": 0.5
             },
             "pattern": {
              "fillmode": "overlay",
              "size": 10,
              "solidity": 0.2
             }
            },
            "type": "barpolar"
           }
          ],
          "carpet": [
           {
            "aaxis": {
             "endlinecolor": "#2a3f5f",
             "gridcolor": "white",
             "linecolor": "white",
             "minorgridcolor": "white",
             "startlinecolor": "#2a3f5f"
            },
            "baxis": {
             "endlinecolor": "#2a3f5f",
             "gridcolor": "white",
             "linecolor": "white",
             "minorgridcolor": "white",
             "startlinecolor": "#2a3f5f"
            },
            "type": "carpet"
           }
          ],
          "choropleth": [
           {
            "colorbar": {
             "outlinewidth": 0,
             "ticks": ""
            },
            "type": "choropleth"
           }
          ],
          "contour": [
           {
            "colorbar": {
             "outlinewidth": 0,
             "ticks": ""
            },
            "colorscale": [
             [
              0,
              "#0d0887"
             ],
             [
              0.1111111111111111,
              "#46039f"
             ],
             [
              0.2222222222222222,
              "#7201a8"
             ],
             [
              0.3333333333333333,
              "#9c179e"
             ],
             [
              0.4444444444444444,
              "#bd3786"
             ],
             [
              0.5555555555555556,
              "#d8576b"
             ],
             [
              0.6666666666666666,
              "#ed7953"
             ],
             [
              0.7777777777777778,
              "#fb9f3a"
             ],
             [
              0.8888888888888888,
              "#fdca26"
             ],
             [
              1,
              "#f0f921"
             ]
            ],
            "type": "contour"
           }
          ],
          "contourcarpet": [
           {
            "colorbar": {
             "outlinewidth": 0,
             "ticks": ""
            },
            "type": "contourcarpet"
           }
          ],
          "heatmap": [
           {
            "colorbar": {
             "outlinewidth": 0,
             "ticks": ""
            },
            "colorscale": [
             [
              0,
              "#0d0887"
             ],
             [
              0.1111111111111111,
              "#46039f"
             ],
             [
              0.2222222222222222,
              "#7201a8"
             ],
             [
              0.3333333333333333,
              "#9c179e"
             ],
             [
              0.4444444444444444,
              "#bd3786"
             ],
             [
              0.5555555555555556,
              "#d8576b"
             ],
             [
              0.6666666666666666,
              "#ed7953"
             ],
             [
              0.7777777777777778,
              "#fb9f3a"
             ],
             [
              0.8888888888888888,
              "#fdca26"
             ],
             [
              1,
              "#f0f921"
             ]
            ],
            "type": "heatmap"
           }
          ],
          "heatmapgl": [
           {
            "colorbar": {
             "outlinewidth": 0,
             "ticks": ""
            },
            "colorscale": [
             [
              0,
              "#0d0887"
             ],
             [
              0.1111111111111111,
              "#46039f"
             ],
             [
              0.2222222222222222,
              "#7201a8"
             ],
             [
              0.3333333333333333,
              "#9c179e"
             ],
             [
              0.4444444444444444,
              "#bd3786"
             ],
             [
              0.5555555555555556,
              "#d8576b"
             ],
             [
              0.6666666666666666,
              "#ed7953"
             ],
             [
              0.7777777777777778,
              "#fb9f3a"
             ],
             [
              0.8888888888888888,
              "#fdca26"
             ],
             [
              1,
              "#f0f921"
             ]
            ],
            "type": "heatmapgl"
           }
          ],
          "histogram": [
           {
            "marker": {
             "pattern": {
              "fillmode": "overlay",
              "size": 10,
              "solidity": 0.2
             }
            },
            "type": "histogram"
           }
          ],
          "histogram2d": [
           {
            "colorbar": {
             "outlinewidth": 0,
             "ticks": ""
            },
            "colorscale": [
             [
              0,
              "#0d0887"
             ],
             [
              0.1111111111111111,
              "#46039f"
             ],
             [
              0.2222222222222222,
              "#7201a8"
             ],
             [
              0.3333333333333333,
              "#9c179e"
             ],
             [
              0.4444444444444444,
              "#bd3786"
             ],
             [
              0.5555555555555556,
              "#d8576b"
             ],
             [
              0.6666666666666666,
              "#ed7953"
             ],
             [
              0.7777777777777778,
              "#fb9f3a"
             ],
             [
              0.8888888888888888,
              "#fdca26"
             ],
             [
              1,
              "#f0f921"
             ]
            ],
            "type": "histogram2d"
           }
          ],
          "histogram2dcontour": [
           {
            "colorbar": {
             "outlinewidth": 0,
             "ticks": ""
            },
            "colorscale": [
             [
              0,
              "#0d0887"
             ],
             [
              0.1111111111111111,
              "#46039f"
             ],
             [
              0.2222222222222222,
              "#7201a8"
             ],
             [
              0.3333333333333333,
              "#9c179e"
             ],
             [
              0.4444444444444444,
              "#bd3786"
             ],
             [
              0.5555555555555556,
              "#d8576b"
             ],
             [
              0.6666666666666666,
              "#ed7953"
             ],
             [
              0.7777777777777778,
              "#fb9f3a"
             ],
             [
              0.8888888888888888,
              "#fdca26"
             ],
             [
              1,
              "#f0f921"
             ]
            ],
            "type": "histogram2dcontour"
           }
          ],
          "mesh3d": [
           {
            "colorbar": {
             "outlinewidth": 0,
             "ticks": ""
            },
            "type": "mesh3d"
           }
          ],
          "parcoords": [
           {
            "line": {
             "colorbar": {
              "outlinewidth": 0,
              "ticks": ""
             }
            },
            "type": "parcoords"
           }
          ],
          "pie": [
           {
            "automargin": true,
            "type": "pie"
           }
          ],
          "scatter": [
           {
            "fillpattern": {
             "fillmode": "overlay",
             "size": 10,
             "solidity": 0.2
            },
            "type": "scatter"
           }
          ],
          "scatter3d": [
           {
            "line": {
             "colorbar": {
              "outlinewidth": 0,
              "ticks": ""
             }
            },
            "marker": {
             "colorbar": {
              "outlinewidth": 0,
              "ticks": ""
             }
            },
            "type": "scatter3d"
           }
          ],
          "scattercarpet": [
           {
            "marker": {
             "colorbar": {
              "outlinewidth": 0,
              "ticks": ""
             }
            },
            "type": "scattercarpet"
           }
          ],
          "scattergeo": [
           {
            "marker": {
             "colorbar": {
              "outlinewidth": 0,
              "ticks": ""
             }
            },
            "type": "scattergeo"
           }
          ],
          "scattergl": [
           {
            "marker": {
             "colorbar": {
              "outlinewidth": 0,
              "ticks": ""
             }
            },
            "type": "scattergl"
           }
          ],
          "scattermapbox": [
           {
            "marker": {
             "colorbar": {
              "outlinewidth": 0,
              "ticks": ""
             }
            },
            "type": "scattermapbox"
           }
          ],
          "scatterpolar": [
           {
            "marker": {
             "colorbar": {
              "outlinewidth": 0,
              "ticks": ""
             }
            },
            "type": "scatterpolar"
           }
          ],
          "scatterpolargl": [
           {
            "marker": {
             "colorbar": {
              "outlinewidth": 0,
              "ticks": ""
             }
            },
            "type": "scatterpolargl"
           }
          ],
          "scatterternary": [
           {
            "marker": {
             "colorbar": {
              "outlinewidth": 0,
              "ticks": ""
             }
            },
            "type": "scatterternary"
           }
          ],
          "surface": [
           {
            "colorbar": {
             "outlinewidth": 0,
             "ticks": ""
            },
            "colorscale": [
             [
              0,
              "#0d0887"
             ],
             [
              0.1111111111111111,
              "#46039f"
             ],
             [
              0.2222222222222222,
              "#7201a8"
             ],
             [
              0.3333333333333333,
              "#9c179e"
             ],
             [
              0.4444444444444444,
              "#bd3786"
             ],
             [
              0.5555555555555556,
              "#d8576b"
             ],
             [
              0.6666666666666666,
              "#ed7953"
             ],
             [
              0.7777777777777778,
              "#fb9f3a"
             ],
             [
              0.8888888888888888,
              "#fdca26"
             ],
             [
              1,
              "#f0f921"
             ]
            ],
            "type": "surface"
           }
          ],
          "table": [
           {
            "cells": {
             "fill": {
              "color": "#EBF0F8"
             },
             "line": {
              "color": "white"
             }
            },
            "header": {
             "fill": {
              "color": "#C8D4E3"
             },
             "line": {
              "color": "white"
             }
            },
            "type": "table"
           }
          ]
         },
         "layout": {
          "annotationdefaults": {
           "arrowcolor": "#2a3f5f",
           "arrowhead": 0,
           "arrowwidth": 1
          },
          "autotypenumbers": "strict",
          "coloraxis": {
           "colorbar": {
            "outlinewidth": 0,
            "ticks": ""
           }
          },
          "colorscale": {
           "diverging": [
            [
             0,
             "#8e0152"
            ],
            [
             0.1,
             "#c51b7d"
            ],
            [
             0.2,
             "#de77ae"
            ],
            [
             0.3,
             "#f1b6da"
            ],
            [
             0.4,
             "#fde0ef"
            ],
            [
             0.5,
             "#f7f7f7"
            ],
            [
             0.6,
             "#e6f5d0"
            ],
            [
             0.7,
             "#b8e186"
            ],
            [
             0.8,
             "#7fbc41"
            ],
            [
             0.9,
             "#4d9221"
            ],
            [
             1,
             "#276419"
            ]
           ],
           "sequential": [
            [
             0,
             "#0d0887"
            ],
            [
             0.1111111111111111,
             "#46039f"
            ],
            [
             0.2222222222222222,
             "#7201a8"
            ],
            [
             0.3333333333333333,
             "#9c179e"
            ],
            [
             0.4444444444444444,
             "#bd3786"
            ],
            [
             0.5555555555555556,
             "#d8576b"
            ],
            [
             0.6666666666666666,
             "#ed7953"
            ],
            [
             0.7777777777777778,
             "#fb9f3a"
            ],
            [
             0.8888888888888888,
             "#fdca26"
            ],
            [
             1,
             "#f0f921"
            ]
           ],
           "sequentialminus": [
            [
             0,
             "#0d0887"
            ],
            [
             0.1111111111111111,
             "#46039f"
            ],
            [
             0.2222222222222222,
             "#7201a8"
            ],
            [
             0.3333333333333333,
             "#9c179e"
            ],
            [
             0.4444444444444444,
             "#bd3786"
            ],
            [
             0.5555555555555556,
             "#d8576b"
            ],
            [
             0.6666666666666666,
             "#ed7953"
            ],
            [
             0.7777777777777778,
             "#fb9f3a"
            ],
            [
             0.8888888888888888,
             "#fdca26"
            ],
            [
             1,
             "#f0f921"
            ]
           ]
          },
          "colorway": [
           "#636efa",
           "#EF553B",
           "#00cc96",
           "#ab63fa",
           "#FFA15A",
           "#19d3f3",
           "#FF6692",
           "#B6E880",
           "#FF97FF",
           "#FECB52"
          ],
          "font": {
           "color": "#2a3f5f"
          },
          "geo": {
           "bgcolor": "white",
           "lakecolor": "white",
           "landcolor": "#E5ECF6",
           "showlakes": true,
           "showland": true,
           "subunitcolor": "white"
          },
          "hoverlabel": {
           "align": "left"
          },
          "hovermode": "closest",
          "mapbox": {
           "style": "light"
          },
          "paper_bgcolor": "white",
          "plot_bgcolor": "#E5ECF6",
          "polar": {
           "angularaxis": {
            "gridcolor": "white",
            "linecolor": "white",
            "ticks": ""
           },
           "bgcolor": "#E5ECF6",
           "radialaxis": {
            "gridcolor": "white",
            "linecolor": "white",
            "ticks": ""
           }
          },
          "scene": {
           "xaxis": {
            "backgroundcolor": "#E5ECF6",
            "gridcolor": "white",
            "gridwidth": 2,
            "linecolor": "white",
            "showbackground": true,
            "ticks": "",
            "zerolinecolor": "white"
           },
           "yaxis": {
            "backgroundcolor": "#E5ECF6",
            "gridcolor": "white",
            "gridwidth": 2,
            "linecolor": "white",
            "showbackground": true,
            "ticks": "",
            "zerolinecolor": "white"
           },
           "zaxis": {
            "backgroundcolor": "#E5ECF6",
            "gridcolor": "white",
            "gridwidth": 2,
            "linecolor": "white",
            "showbackground": true,
            "ticks": "",
            "zerolinecolor": "white"
           }
          },
          "shapedefaults": {
           "line": {
            "color": "#2a3f5f"
           }
          },
          "ternary": {
           "aaxis": {
            "gridcolor": "white",
            "linecolor": "white",
            "ticks": ""
           },
           "baxis": {
            "gridcolor": "white",
            "linecolor": "white",
            "ticks": ""
           },
           "bgcolor": "#E5ECF6",
           "caxis": {
            "gridcolor": "white",
            "linecolor": "white",
            "ticks": ""
           }
          },
          "title": {
           "x": 0.05
          },
          "xaxis": {
           "automargin": true,
           "gridcolor": "white",
           "linecolor": "white",
           "ticks": "",
           "title": {
            "standoff": 15
           },
           "zerolinecolor": "white",
           "zerolinewidth": 2
          },
          "yaxis": {
           "automargin": true,
           "gridcolor": "white",
           "linecolor": "white",
           "ticks": "",
           "title": {
            "standoff": 15
           },
           "zerolinecolor": "white",
           "zerolinewidth": 2
          }
         }
        },
        "title": {
         "font": {
          "size": 12
         },
         "text": ""
        },
        "width": 800,
        "xaxis": {
         "anchor": "y",
         "domain": [
          0,
          1
         ],
         "gridcolor": "lightgrey",
         "gridwidth": 1,
         "range": [
          -0.1,
          1.1
         ],
         "showgrid": true,
         "ticktext": [
          "100% Favoring the Left",
          "75-25",
          "50-50",
          "25-75",
          "100% Favoring the Right"
         ],
         "tickvals": [
          0,
          0.25,
          0.5,
          0.75,
          1
         ],
         "title": {
          "text": "Preference"
         }
        },
        "yaxis": {
         "anchor": "x",
         "autorange": false,
         "categoryarray": [
          "Gender_Female_Bin_Choice",
          "Fitness_Fit_Bin_Choice",
          "SocialValue_High_Bin_Choice",
          "Age_Young_Bin_Choice",
          "Utilitarianism_More_Bin_Choice",
          "Species_Humans_Bin_Choice"
         ],
         "categoryorder": "array",
         "domain": [
          0,
          1
         ],
         "range": [
          -0.5,
          5.5
         ],
         "showgrid": false,
         "tickmode": "array",
         "ticktext": [
          "",
          "",
          "",
          "",
          "",
          ""
         ],
         "tickvals": [
          0,
          1,
          2,
          3,
          4,
          5
         ]
        }
       }
      },
      "text/html": [
       "<div>                            <div id=\"c1ddf452-fd82-4430-9221-3258adb14f5a\" class=\"plotly-graph-div\" style=\"height:400px; width:800px;\"></div>            <script type=\"text/javascript\">                require([\"plotly\"], function(Plotly) {                    window.PLOTLYENV=window.PLOTLYENV || {};                                    if (document.getElementById(\"c1ddf452-fd82-4430-9221-3258adb14f5a\")) {                    Plotly.newPlot(                        \"c1ddf452-fd82-4430-9221-3258adb14f5a\",                        [{\"marker\":{\"color\":\"#0077ad\",\"line\":{\"color\":\"#0077ad\",\"width\":2}},\"name\":\"Llama 2 13B\",\"opacity\":0.7,\"orientation\":\"h\",\"width\":0.3,\"x\":[1.0,0.5],\"y\":[\"Species_Humans_Bin_Choice\",\"SocialValue_High_Bin_Choice\"],\"type\":\"bar\"},{\"marker\":{\"color\":\"white\",\"line\":{\"color\":\"#ad0077\",\"width\":2},\"size\":20},\"mode\":\"markers\",\"name\":\"Human Preference\",\"showlegend\":true,\"x\":[0.7974454552522746,0.753525616600679,0.7241555080471478,0.6617809934377845,0.576127833908965,0.5625438093111024],\"y\":[\"Species_Humans_Bin_Choice\",\"Utilitarianism_More_Bin_Choice\",\"Age_Young_Bin_Choice\",\"SocialValue_High_Bin_Choice\",\"Fitness_Fit_Bin_Choice\",\"Gender_Female_Bin_Choice\"],\"type\":\"scatter\"}],                        {\"template\":{\"data\":{\"histogram2dcontour\":[{\"type\":\"histogram2dcontour\",\"colorbar\":{\"outlinewidth\":0,\"ticks\":\"\"},\"colorscale\":[[0.0,\"#0d0887\"],[0.1111111111111111,\"#46039f\"],[0.2222222222222222,\"#7201a8\"],[0.3333333333333333,\"#9c179e\"],[0.4444444444444444,\"#bd3786\"],[0.5555555555555556,\"#d8576b\"],[0.6666666666666666,\"#ed7953\"],[0.7777777777777778,\"#fb9f3a\"],[0.8888888888888888,\"#fdca26\"],[1.0,\"#f0f921\"]]}],\"choropleth\":[{\"type\":\"choropleth\",\"colorbar\":{\"outlinewidth\":0,\"ticks\":\"\"}}],\"histogram2d\":[{\"type\":\"histogram2d\",\"colorbar\":{\"outlinewidth\":0,\"ticks\":\"\"},\"colorscale\":[[0.0,\"#0d0887\"],[0.1111111111111111,\"#46039f\"],[0.2222222222222222,\"#7201a8\"],[0.3333333333333333,\"#9c179e\"],[0.4444444444444444,\"#bd3786\"],[0.5555555555555556,\"#d8576b\"],[0.6666666666666666,\"#ed7953\"],[0.7777777777777778,\"#fb9f3a\"],[0.8888888888888888,\"#fdca26\"],[1.0,\"#f0f921\"]]}],\"heatmap\":[{\"type\":\"heatmap\",\"colorbar\":{\"outlinewidth\":0,\"ticks\":\"\"},\"colorscale\":[[0.0,\"#0d0887\"],[0.1111111111111111,\"#46039f\"],[0.2222222222222222,\"#7201a8\"],[0.3333333333333333,\"#9c179e\"],[0.4444444444444444,\"#bd3786\"],[0.5555555555555556,\"#d8576b\"],[0.6666666666666666,\"#ed7953\"],[0.7777777777777778,\"#fb9f3a\"],[0.8888888888888888,\"#fdca26\"],[1.0,\"#f0f921\"]]}],\"heatmapgl\":[{\"type\":\"heatmapgl\",\"colorbar\":{\"outlinewidth\":0,\"ticks\":\"\"},\"colorscale\":[[0.0,\"#0d0887\"],[0.1111111111111111,\"#46039f\"],[0.2222222222222222,\"#7201a8\"],[0.3333333333333333,\"#9c179e\"],[0.4444444444444444,\"#bd3786\"],[0.5555555555555556,\"#d8576b\"],[0.6666666666666666,\"#ed7953\"],[0.7777777777777778,\"#fb9f3a\"],[0.8888888888888888,\"#fdca26\"],[1.0,\"#f0f921\"]]}],\"contourcarpet\":[{\"type\":\"contourcarpet\",\"colorbar\":{\"outlinewidth\":0,\"ticks\":\"\"}}],\"contour\":[{\"type\":\"contour\",\"colorbar\":{\"outlinewidth\":0,\"ticks\":\"\"},\"colorscale\":[[0.0,\"#0d0887\"],[0.1111111111111111,\"#46039f\"],[0.2222222222222222,\"#7201a8\"],[0.3333333333333333,\"#9c179e\"],[0.4444444444444444,\"#bd3786\"],[0.5555555555555556,\"#d8576b\"],[0.6666666666666666,\"#ed7953\"],[0.7777777777777778,\"#fb9f3a\"],[0.8888888888888888,\"#fdca26\"],[1.0,\"#f0f921\"]]}],\"surface\":[{\"type\":\"surface\",\"colorbar\":{\"outlinewidth\":0,\"ticks\":\"\"},\"colorscale\":[[0.0,\"#0d0887\"],[0.1111111111111111,\"#46039f\"],[0.2222222222222222,\"#7201a8\"],[0.3333333333333333,\"#9c179e\"],[0.4444444444444444,\"#bd3786\"],[0.5555555555555556,\"#d8576b\"],[0.6666666666666666,\"#ed7953\"],[0.7777777777777778,\"#fb9f3a\"],[0.8888888888888888,\"#fdca26\"],[1.0,\"#f0f921\"]]}],\"mesh3d\":[{\"type\":\"mesh3d\",\"colorbar\":{\"outlinewidth\":0,\"ticks\":\"\"}}],\"scatter\":[{\"fillpattern\":{\"fillmode\":\"overlay\",\"size\":10,\"solidity\":0.2},\"type\":\"scatter\"}],\"parcoords\":[{\"type\":\"parcoords\",\"line\":{\"colorbar\":{\"outlinewidth\":0,\"ticks\":\"\"}}}],\"scatterpolargl\":[{\"type\":\"scatterpolargl\",\"marker\":{\"colorbar\":{\"outlinewidth\":0,\"ticks\":\"\"}}}],\"bar\":[{\"error_x\":{\"color\":\"#2a3f5f\"},\"error_y\":{\"color\":\"#2a3f5f\"},\"marker\":{\"line\":{\"color\":\"#E5ECF6\",\"width\":0.5},\"pattern\":{\"fillmode\":\"overlay\",\"size\":10,\"solidity\":0.2}},\"type\":\"bar\"}],\"scattergeo\":[{\"type\":\"scattergeo\",\"marker\":{\"colorbar\":{\"outlinewidth\":0,\"ticks\":\"\"}}}],\"scatterpolar\":[{\"type\":\"scatterpolar\",\"marker\":{\"colorbar\":{\"outlinewidth\":0,\"ticks\":\"\"}}}],\"histogram\":[{\"marker\":{\"pattern\":{\"fillmode\":\"overlay\",\"size\":10,\"solidity\":0.2}},\"type\":\"histogram\"}],\"scattergl\":[{\"type\":\"scattergl\",\"marker\":{\"colorbar\":{\"outlinewidth\":0,\"ticks\":\"\"}}}],\"scatter3d\":[{\"type\":\"scatter3d\",\"line\":{\"colorbar\":{\"outlinewidth\":0,\"ticks\":\"\"}},\"marker\":{\"colorbar\":{\"outlinewidth\":0,\"ticks\":\"\"}}}],\"scattermapbox\":[{\"type\":\"scattermapbox\",\"marker\":{\"colorbar\":{\"outlinewidth\":0,\"ticks\":\"\"}}}],\"scatterternary\":[{\"type\":\"scatterternary\",\"marker\":{\"colorbar\":{\"outlinewidth\":0,\"ticks\":\"\"}}}],\"scattercarpet\":[{\"type\":\"scattercarpet\",\"marker\":{\"colorbar\":{\"outlinewidth\":0,\"ticks\":\"\"}}}],\"carpet\":[{\"aaxis\":{\"endlinecolor\":\"#2a3f5f\",\"gridcolor\":\"white\",\"linecolor\":\"white\",\"minorgridcolor\":\"white\",\"startlinecolor\":\"#2a3f5f\"},\"baxis\":{\"endlinecolor\":\"#2a3f5f\",\"gridcolor\":\"white\",\"linecolor\":\"white\",\"minorgridcolor\":\"white\",\"startlinecolor\":\"#2a3f5f\"},\"type\":\"carpet\"}],\"table\":[{\"cells\":{\"fill\":{\"color\":\"#EBF0F8\"},\"line\":{\"color\":\"white\"}},\"header\":{\"fill\":{\"color\":\"#C8D4E3\"},\"line\":{\"color\":\"white\"}},\"type\":\"table\"}],\"barpolar\":[{\"marker\":{\"line\":{\"color\":\"#E5ECF6\",\"width\":0.5},\"pattern\":{\"fillmode\":\"overlay\",\"size\":10,\"solidity\":0.2}},\"type\":\"barpolar\"}],\"pie\":[{\"automargin\":true,\"type\":\"pie\"}]},\"layout\":{\"autotypenumbers\":\"strict\",\"colorway\":[\"#636efa\",\"#EF553B\",\"#00cc96\",\"#ab63fa\",\"#FFA15A\",\"#19d3f3\",\"#FF6692\",\"#B6E880\",\"#FF97FF\",\"#FECB52\"],\"font\":{\"color\":\"#2a3f5f\"},\"hovermode\":\"closest\",\"hoverlabel\":{\"align\":\"left\"},\"paper_bgcolor\":\"white\",\"plot_bgcolor\":\"#E5ECF6\",\"polar\":{\"bgcolor\":\"#E5ECF6\",\"angularaxis\":{\"gridcolor\":\"white\",\"linecolor\":\"white\",\"ticks\":\"\"},\"radialaxis\":{\"gridcolor\":\"white\",\"linecolor\":\"white\",\"ticks\":\"\"}},\"ternary\":{\"bgcolor\":\"#E5ECF6\",\"aaxis\":{\"gridcolor\":\"white\",\"linecolor\":\"white\",\"ticks\":\"\"},\"baxis\":{\"gridcolor\":\"white\",\"linecolor\":\"white\",\"ticks\":\"\"},\"caxis\":{\"gridcolor\":\"white\",\"linecolor\":\"white\",\"ticks\":\"\"}},\"coloraxis\":{\"colorbar\":{\"outlinewidth\":0,\"ticks\":\"\"}},\"colorscale\":{\"sequential\":[[0.0,\"#0d0887\"],[0.1111111111111111,\"#46039f\"],[0.2222222222222222,\"#7201a8\"],[0.3333333333333333,\"#9c179e\"],[0.4444444444444444,\"#bd3786\"],[0.5555555555555556,\"#d8576b\"],[0.6666666666666666,\"#ed7953\"],[0.7777777777777778,\"#fb9f3a\"],[0.8888888888888888,\"#fdca26\"],[1.0,\"#f0f921\"]],\"sequentialminus\":[[0.0,\"#0d0887\"],[0.1111111111111111,\"#46039f\"],[0.2222222222222222,\"#7201a8\"],[0.3333333333333333,\"#9c179e\"],[0.4444444444444444,\"#bd3786\"],[0.5555555555555556,\"#d8576b\"],[0.6666666666666666,\"#ed7953\"],[0.7777777777777778,\"#fb9f3a\"],[0.8888888888888888,\"#fdca26\"],[1.0,\"#f0f921\"]],\"diverging\":[[0,\"#8e0152\"],[0.1,\"#c51b7d\"],[0.2,\"#de77ae\"],[0.3,\"#f1b6da\"],[0.4,\"#fde0ef\"],[0.5,\"#f7f7f7\"],[0.6,\"#e6f5d0\"],[0.7,\"#b8e186\"],[0.8,\"#7fbc41\"],[0.9,\"#4d9221\"],[1,\"#276419\"]]},\"xaxis\":{\"gridcolor\":\"white\",\"linecolor\":\"white\",\"ticks\":\"\",\"title\":{\"standoff\":15},\"zerolinecolor\":\"white\",\"automargin\":true,\"zerolinewidth\":2},\"yaxis\":{\"gridcolor\":\"white\",\"linecolor\":\"white\",\"ticks\":\"\",\"title\":{\"standoff\":15},\"zerolinecolor\":\"white\",\"automargin\":true,\"zerolinewidth\":2},\"scene\":{\"xaxis\":{\"backgroundcolor\":\"#E5ECF6\",\"gridcolor\":\"white\",\"linecolor\":\"white\",\"showbackground\":true,\"ticks\":\"\",\"zerolinecolor\":\"white\",\"gridwidth\":2},\"yaxis\":{\"backgroundcolor\":\"#E5ECF6\",\"gridcolor\":\"white\",\"linecolor\":\"white\",\"showbackground\":true,\"ticks\":\"\",\"zerolinecolor\":\"white\",\"gridwidth\":2},\"zaxis\":{\"backgroundcolor\":\"#E5ECF6\",\"gridcolor\":\"white\",\"linecolor\":\"white\",\"showbackground\":true,\"ticks\":\"\",\"zerolinecolor\":\"white\",\"gridwidth\":2}},\"shapedefaults\":{\"line\":{\"color\":\"#2a3f5f\"}},\"annotationdefaults\":{\"arrowcolor\":\"#2a3f5f\",\"arrowhead\":0,\"arrowwidth\":1},\"geo\":{\"bgcolor\":\"white\",\"landcolor\":\"#E5ECF6\",\"subunitcolor\":\"white\",\"showland\":true,\"showlakes\":true,\"lakecolor\":\"white\"},\"title\":{\"x\":0.05},\"mapbox\":{\"style\":\"light\"}}},\"xaxis\":{\"anchor\":\"y\",\"domain\":[0.0,1.0],\"title\":{\"text\":\"Preference\"},\"tickvals\":[0,0.25,0.5,0.75,1],\"ticktext\":[\"100% Favoring the Left\",\"75-25\",\"50-50\",\"25-75\",\"100% Favoring the Right\"],\"range\":[-0.1,1.1],\"showgrid\":true,\"gridwidth\":1,\"gridcolor\":\"lightgrey\"},\"yaxis\":{\"anchor\":\"x\",\"domain\":[0.0,1.0],\"categoryorder\":\"array\",\"categoryarray\":[\"Gender_Female_Bin_Choice\",\"Fitness_Fit_Bin_Choice\",\"SocialValue_High_Bin_Choice\",\"Age_Young_Bin_Choice\",\"Utilitarianism_More_Bin_Choice\",\"Species_Humans_Bin_Choice\"],\"tickvals\":[0,1,2,3,4,5],\"ticktext\":[\"\",\"\",\"\",\"\",\"\",\"\"],\"tickmode\":\"array\",\"range\":[-0.5,5.5],\"autorange\":false,\"showgrid\":false},\"title\":{\"text\":\"\",\"font\":{\"size\":12}},\"height\":400,\"width\":800,\"plot_bgcolor\":\"white\",\"annotations\":[{\"align\":\"left\",\"font\":{\"size\":14},\"showarrow\":false,\"text\":\"Sparing females\",\"x\":1.06,\"xanchor\":\"left\",\"xref\":\"paper\",\"y\":0,\"yref\":\"y\"},{\"align\":\"left\",\"font\":{\"size\":14},\"showarrow\":false,\"text\":\"Sparing the fit\",\"x\":1.06,\"xanchor\":\"left\",\"xref\":\"paper\",\"y\":1,\"yref\":\"y\"},{\"align\":\"left\",\"font\":{\"size\":14},\"showarrow\":false,\"text\":\"Sparing higher status\",\"x\":1.06,\"xanchor\":\"left\",\"xref\":\"paper\",\"y\":2,\"yref\":\"y\"},{\"align\":\"left\",\"font\":{\"size\":14},\"showarrow\":false,\"text\":\"Sparing the young\",\"x\":1.06,\"xanchor\":\"left\",\"xref\":\"paper\",\"y\":3,\"yref\":\"y\"},{\"align\":\"left\",\"font\":{\"size\":14},\"showarrow\":false,\"text\":\"Sparing more characters\",\"x\":1.06,\"xanchor\":\"left\",\"xref\":\"paper\",\"y\":4,\"yref\":\"y\"},{\"align\":\"left\",\"font\":{\"size\":14},\"showarrow\":false,\"text\":\"Sparing humans\",\"x\":1.06,\"xanchor\":\"left\",\"xref\":\"paper\",\"y\":5,\"yref\":\"y\"},{\"align\":\"right\",\"font\":{\"size\":14},\"showarrow\":false,\"text\":\"Sparing males\",\"x\":-0.02,\"xanchor\":\"right\",\"xref\":\"paper\",\"y\":0,\"yref\":\"y\"},{\"align\":\"right\",\"font\":{\"size\":14},\"showarrow\":false,\"text\":\"Sparing the large\",\"x\":-0.02,\"xanchor\":\"right\",\"xref\":\"paper\",\"y\":1,\"yref\":\"y\"},{\"align\":\"right\",\"font\":{\"size\":14},\"showarrow\":false,\"text\":\"Sparing lower status\",\"x\":-0.02,\"xanchor\":\"right\",\"xref\":\"paper\",\"y\":2,\"yref\":\"y\"},{\"align\":\"right\",\"font\":{\"size\":14},\"showarrow\":false,\"text\":\"Sparing the elderly\",\"x\":-0.02,\"xanchor\":\"right\",\"xref\":\"paper\",\"y\":3,\"yref\":\"y\"},{\"align\":\"right\",\"font\":{\"size\":14},\"showarrow\":false,\"text\":\"Sparing fewer characters\",\"x\":-0.02,\"xanchor\":\"right\",\"xref\":\"paper\",\"y\":4,\"yref\":\"y\"},{\"align\":\"right\",\"font\":{\"size\":14},\"showarrow\":false,\"text\":\"Sparing pets\",\"x\":-0.02,\"xanchor\":\"right\",\"xref\":\"paper\",\"y\":5,\"yref\":\"y\"}],\"images\":[{\"sizex\":0.5,\"sizey\":0.5,\"source\":\".\\u002ficons\\u002ficons_tradeoff\\u002ffemale.png\",\"x\":0.95,\"xanchor\":\"left\",\"xref\":\"paper\",\"y\":0,\"yanchor\":\"middle\",\"yref\":\"y\"},{\"sizex\":0.5,\"sizey\":0.5,\"source\":\".\\u002ficons\\u002ficons_tradeoff\\u002ffit.png\",\"x\":0.95,\"xanchor\":\"left\",\"xref\":\"paper\",\"y\":1,\"yanchor\":\"middle\",\"yref\":\"y\"},{\"sizex\":0.5,\"sizey\":0.5,\"source\":\".\\u002ficons\\u002ficons_tradeoff\\u002fhigher_status.png\",\"x\":0.95,\"xanchor\":\"left\",\"xref\":\"paper\",\"y\":2,\"yanchor\":\"middle\",\"yref\":\"y\"},{\"sizex\":0.5,\"sizey\":0.5,\"source\":\".\\u002ficons\\u002ficons_tradeoff\\u002fyoung.png\",\"x\":0.95,\"xanchor\":\"left\",\"xref\":\"paper\",\"y\":3,\"yanchor\":\"middle\",\"yref\":\"y\"},{\"sizex\":0.5,\"sizey\":0.5,\"source\":\".\\u002ficons\\u002ficons_tradeoff\\u002fmore_character.png\",\"x\":0.95,\"xanchor\":\"left\",\"xref\":\"paper\",\"y\":4,\"yanchor\":\"middle\",\"yref\":\"y\"},{\"sizex\":0.5,\"sizey\":0.5,\"source\":\".\\u002ficons\\u002ficons_tradeoff\\u002fhumans.png\",\"x\":0.95,\"xanchor\":\"left\",\"xref\":\"paper\",\"y\":5,\"yanchor\":\"middle\",\"yref\":\"y\"},{\"sizex\":0.5,\"sizey\":0.5,\"source\":\".\\u002ficons\\u002ficons_tradeoff\\u002fmale.png\",\"x\":-0.01,\"xanchor\":\"left\",\"xref\":\"paper\",\"y\":0,\"yanchor\":\"middle\",\"yref\":\"y\"},{\"sizex\":0.5,\"sizey\":0.5,\"source\":\".\\u002ficons\\u002ficons_tradeoff\\u002flarge.png\",\"x\":-0.01,\"xanchor\":\"left\",\"xref\":\"paper\",\"y\":1,\"yanchor\":\"middle\",\"yref\":\"y\"},{\"sizex\":0.5,\"sizey\":0.5,\"source\":\".\\u002ficons\\u002ficons_tradeoff\\u002flower_status.png\",\"x\":-0.01,\"xanchor\":\"left\",\"xref\":\"paper\",\"y\":2,\"yanchor\":\"middle\",\"yref\":\"y\"},{\"sizex\":0.5,\"sizey\":0.5,\"source\":\".\\u002ficons\\u002ficons_tradeoff\\u002felderly.png\",\"x\":-0.01,\"xanchor\":\"left\",\"xref\":\"paper\",\"y\":3,\"yanchor\":\"middle\",\"yref\":\"y\"},{\"sizex\":0.5,\"sizey\":0.5,\"source\":\".\\u002ficons\\u002ficons_tradeoff\\u002ffewer.png\",\"x\":-0.01,\"xanchor\":\"left\",\"xref\":\"paper\",\"y\":4,\"yanchor\":\"middle\",\"yref\":\"y\"},{\"sizex\":0.5,\"sizey\":0.5,\"source\":\".\\u002ficons\\u002ficons_tradeoff\\u002fpet.png\",\"x\":-0.01,\"xanchor\":\"left\",\"xref\":\"paper\",\"y\":5,\"yanchor\":\"middle\",\"yref\":\"y\"}],\"margin\":{\"l\":160,\"r\":170,\"t\":50,\"b\":50},\"legend\":{\"orientation\":\"h\",\"yanchor\":\"bottom\",\"y\":1,\"xanchor\":\"center\",\"x\":0.5},\"showlegend\":true,\"font\":{\"family\":\"Times New Roman\",\"size\":12}},                        {\"responsive\": true}                    ).then(function(){\n",
       "                            \n",
       "var gd = document.getElementById('c1ddf452-fd82-4430-9221-3258adb14f5a');\n",
       "var x = new MutationObserver(function (mutations, observer) {{\n",
       "        var display = window.getComputedStyle(gd).display;\n",
       "        if (!display || display === 'none') {{\n",
       "            console.log([gd, 'removed!']);\n",
       "            Plotly.purge(gd);\n",
       "            observer.disconnect();\n",
       "        }}\n",
       "}});\n",
       "\n",
       "// Listen for the removal of the full notebook cells\n",
       "var notebookContainer = gd.closest('#notebook-container');\n",
       "if (notebookContainer) {{\n",
       "    x.observe(notebookContainer, {childList: true});\n",
       "}}\n",
       "\n",
       "// Listen for the clearing of the current output cell\n",
       "var outputEl = gd.closest('.output');\n",
       "if (outputEl) {{\n",
       "    x.observe(outputEl, {childList: true});\n",
       "}}\n",
       "\n",
       "                        })                };                });            </script>        </div>"
      ]
     },
     "metadata": {},
     "output_type": "display_data"
    },
    {
     "data": {
      "application/vnd.plotly.v1+json": {
       "config": {
        "plotlyServerURL": "https://plot.ly"
       },
       "data": [
        {
         "marker": {
          "color": "#0077ad",
          "line": {
           "color": "#0077ad",
           "width": 2
          }
         },
         "name": "Llama 2 7B",
         "opacity": 0.7,
         "orientation": "h",
         "type": "bar",
         "width": 0.3,
         "x": [
          1,
          0.5,
          0.375,
          0.6315999999999999,
          1,
          1
         ],
         "y": [
          "Species_Humans_Bin_Choice",
          "Utilitarianism_More_Bin_Choice",
          "Age_Young_Bin_Choice",
          "SocialValue_High_Bin_Choice",
          "Fitness_Fit_Bin_Choice",
          "Gender_Female_Bin_Choice"
         ]
        },
        {
         "marker": {
          "color": "white",
          "line": {
           "color": "#ad0077",
           "width": 2
          },
          "size": 20
         },
         "mode": "markers",
         "name": "Human Preference",
         "showlegend": true,
         "type": "scatter",
         "x": [
          0.7974454552522746,
          0.753525616600679,
          0.7241555080471478,
          0.6617809934377845,
          0.576127833908965,
          0.5625438093111024
         ],
         "y": [
          "Species_Humans_Bin_Choice",
          "Utilitarianism_More_Bin_Choice",
          "Age_Young_Bin_Choice",
          "SocialValue_High_Bin_Choice",
          "Fitness_Fit_Bin_Choice",
          "Gender_Female_Bin_Choice"
         ]
        }
       ],
       "layout": {
        "annotations": [
         {
          "align": "left",
          "font": {
           "size": 14
          },
          "showarrow": false,
          "text": "Sparing females",
          "x": 1.06,
          "xanchor": "left",
          "xref": "paper",
          "y": 0,
          "yref": "y"
         },
         {
          "align": "left",
          "font": {
           "size": 14
          },
          "showarrow": false,
          "text": "Sparing the fit",
          "x": 1.06,
          "xanchor": "left",
          "xref": "paper",
          "y": 1,
          "yref": "y"
         },
         {
          "align": "left",
          "font": {
           "size": 14
          },
          "showarrow": false,
          "text": "Sparing higher status",
          "x": 1.06,
          "xanchor": "left",
          "xref": "paper",
          "y": 2,
          "yref": "y"
         },
         {
          "align": "left",
          "font": {
           "size": 14
          },
          "showarrow": false,
          "text": "Sparing the young",
          "x": 1.06,
          "xanchor": "left",
          "xref": "paper",
          "y": 3,
          "yref": "y"
         },
         {
          "align": "left",
          "font": {
           "size": 14
          },
          "showarrow": false,
          "text": "Sparing more characters",
          "x": 1.06,
          "xanchor": "left",
          "xref": "paper",
          "y": 4,
          "yref": "y"
         },
         {
          "align": "left",
          "font": {
           "size": 14
          },
          "showarrow": false,
          "text": "Sparing humans",
          "x": 1.06,
          "xanchor": "left",
          "xref": "paper",
          "y": 5,
          "yref": "y"
         },
         {
          "align": "right",
          "font": {
           "size": 14
          },
          "showarrow": false,
          "text": "Sparing males",
          "x": -0.02,
          "xanchor": "right",
          "xref": "paper",
          "y": 0,
          "yref": "y"
         },
         {
          "align": "right",
          "font": {
           "size": 14
          },
          "showarrow": false,
          "text": "Sparing the large",
          "x": -0.02,
          "xanchor": "right",
          "xref": "paper",
          "y": 1,
          "yref": "y"
         },
         {
          "align": "right",
          "font": {
           "size": 14
          },
          "showarrow": false,
          "text": "Sparing lower status",
          "x": -0.02,
          "xanchor": "right",
          "xref": "paper",
          "y": 2,
          "yref": "y"
         },
         {
          "align": "right",
          "font": {
           "size": 14
          },
          "showarrow": false,
          "text": "Sparing the elderly",
          "x": -0.02,
          "xanchor": "right",
          "xref": "paper",
          "y": 3,
          "yref": "y"
         },
         {
          "align": "right",
          "font": {
           "size": 14
          },
          "showarrow": false,
          "text": "Sparing fewer characters",
          "x": -0.02,
          "xanchor": "right",
          "xref": "paper",
          "y": 4,
          "yref": "y"
         },
         {
          "align": "right",
          "font": {
           "size": 14
          },
          "showarrow": false,
          "text": "Sparing pets",
          "x": -0.02,
          "xanchor": "right",
          "xref": "paper",
          "y": 5,
          "yref": "y"
         }
        ],
        "font": {
         "family": "Times New Roman",
         "size": 12
        },
        "height": 400,
        "images": [
         {
          "sizex": 0.5,
          "sizey": 0.5,
          "source": "./icons/icons_tradeoff/female.png",
          "x": 0.95,
          "xanchor": "left",
          "xref": "paper",
          "y": 0,
          "yanchor": "middle",
          "yref": "y"
         },
         {
          "sizex": 0.5,
          "sizey": 0.5,
          "source": "./icons/icons_tradeoff/fit.png",
          "x": 0.95,
          "xanchor": "left",
          "xref": "paper",
          "y": 1,
          "yanchor": "middle",
          "yref": "y"
         },
         {
          "sizex": 0.5,
          "sizey": 0.5,
          "source": "./icons/icons_tradeoff/higher_status.png",
          "x": 0.95,
          "xanchor": "left",
          "xref": "paper",
          "y": 2,
          "yanchor": "middle",
          "yref": "y"
         },
         {
          "sizex": 0.5,
          "sizey": 0.5,
          "source": "./icons/icons_tradeoff/young.png",
          "x": 0.95,
          "xanchor": "left",
          "xref": "paper",
          "y": 3,
          "yanchor": "middle",
          "yref": "y"
         },
         {
          "sizex": 0.5,
          "sizey": 0.5,
          "source": "./icons/icons_tradeoff/more_character.png",
          "x": 0.95,
          "xanchor": "left",
          "xref": "paper",
          "y": 4,
          "yanchor": "middle",
          "yref": "y"
         },
         {
          "sizex": 0.5,
          "sizey": 0.5,
          "source": "./icons/icons_tradeoff/humans.png",
          "x": 0.95,
          "xanchor": "left",
          "xref": "paper",
          "y": 5,
          "yanchor": "middle",
          "yref": "y"
         },
         {
          "sizex": 0.5,
          "sizey": 0.5,
          "source": "./icons/icons_tradeoff/male.png",
          "x": -0.01,
          "xanchor": "left",
          "xref": "paper",
          "y": 0,
          "yanchor": "middle",
          "yref": "y"
         },
         {
          "sizex": 0.5,
          "sizey": 0.5,
          "source": "./icons/icons_tradeoff/large.png",
          "x": -0.01,
          "xanchor": "left",
          "xref": "paper",
          "y": 1,
          "yanchor": "middle",
          "yref": "y"
         },
         {
          "sizex": 0.5,
          "sizey": 0.5,
          "source": "./icons/icons_tradeoff/lower_status.png",
          "x": -0.01,
          "xanchor": "left",
          "xref": "paper",
          "y": 2,
          "yanchor": "middle",
          "yref": "y"
         },
         {
          "sizex": 0.5,
          "sizey": 0.5,
          "source": "./icons/icons_tradeoff/elderly.png",
          "x": -0.01,
          "xanchor": "left",
          "xref": "paper",
          "y": 3,
          "yanchor": "middle",
          "yref": "y"
         },
         {
          "sizex": 0.5,
          "sizey": 0.5,
          "source": "./icons/icons_tradeoff/fewer.png",
          "x": -0.01,
          "xanchor": "left",
          "xref": "paper",
          "y": 4,
          "yanchor": "middle",
          "yref": "y"
         },
         {
          "sizex": 0.5,
          "sizey": 0.5,
          "source": "./icons/icons_tradeoff/pet.png",
          "x": -0.01,
          "xanchor": "left",
          "xref": "paper",
          "y": 5,
          "yanchor": "middle",
          "yref": "y"
         }
        ],
        "legend": {
         "orientation": "h",
         "x": 0.5,
         "xanchor": "center",
         "y": 1,
         "yanchor": "bottom"
        },
        "margin": {
         "b": 50,
         "l": 160,
         "r": 170,
         "t": 50
        },
        "plot_bgcolor": "white",
        "showlegend": true,
        "template": {
         "data": {
          "bar": [
           {
            "error_x": {
             "color": "#2a3f5f"
            },
            "error_y": {
             "color": "#2a3f5f"
            },
            "marker": {
             "line": {
              "color": "#E5ECF6",
              "width": 0.5
             },
             "pattern": {
              "fillmode": "overlay",
              "size": 10,
              "solidity": 0.2
             }
            },
            "type": "bar"
           }
          ],
          "barpolar": [
           {
            "marker": {
             "line": {
              "color": "#E5ECF6",
              "width": 0.5
             },
             "pattern": {
              "fillmode": "overlay",
              "size": 10,
              "solidity": 0.2
             }
            },
            "type": "barpolar"
           }
          ],
          "carpet": [
           {
            "aaxis": {
             "endlinecolor": "#2a3f5f",
             "gridcolor": "white",
             "linecolor": "white",
             "minorgridcolor": "white",
             "startlinecolor": "#2a3f5f"
            },
            "baxis": {
             "endlinecolor": "#2a3f5f",
             "gridcolor": "white",
             "linecolor": "white",
             "minorgridcolor": "white",
             "startlinecolor": "#2a3f5f"
            },
            "type": "carpet"
           }
          ],
          "choropleth": [
           {
            "colorbar": {
             "outlinewidth": 0,
             "ticks": ""
            },
            "type": "choropleth"
           }
          ],
          "contour": [
           {
            "colorbar": {
             "outlinewidth": 0,
             "ticks": ""
            },
            "colorscale": [
             [
              0,
              "#0d0887"
             ],
             [
              0.1111111111111111,
              "#46039f"
             ],
             [
              0.2222222222222222,
              "#7201a8"
             ],
             [
              0.3333333333333333,
              "#9c179e"
             ],
             [
              0.4444444444444444,
              "#bd3786"
             ],
             [
              0.5555555555555556,
              "#d8576b"
             ],
             [
              0.6666666666666666,
              "#ed7953"
             ],
             [
              0.7777777777777778,
              "#fb9f3a"
             ],
             [
              0.8888888888888888,
              "#fdca26"
             ],
             [
              1,
              "#f0f921"
             ]
            ],
            "type": "contour"
           }
          ],
          "contourcarpet": [
           {
            "colorbar": {
             "outlinewidth": 0,
             "ticks": ""
            },
            "type": "contourcarpet"
           }
          ],
          "heatmap": [
           {
            "colorbar": {
             "outlinewidth": 0,
             "ticks": ""
            },
            "colorscale": [
             [
              0,
              "#0d0887"
             ],
             [
              0.1111111111111111,
              "#46039f"
             ],
             [
              0.2222222222222222,
              "#7201a8"
             ],
             [
              0.3333333333333333,
              "#9c179e"
             ],
             [
              0.4444444444444444,
              "#bd3786"
             ],
             [
              0.5555555555555556,
              "#d8576b"
             ],
             [
              0.6666666666666666,
              "#ed7953"
             ],
             [
              0.7777777777777778,
              "#fb9f3a"
             ],
             [
              0.8888888888888888,
              "#fdca26"
             ],
             [
              1,
              "#f0f921"
             ]
            ],
            "type": "heatmap"
           }
          ],
          "heatmapgl": [
           {
            "colorbar": {
             "outlinewidth": 0,
             "ticks": ""
            },
            "colorscale": [
             [
              0,
              "#0d0887"
             ],
             [
              0.1111111111111111,
              "#46039f"
             ],
             [
              0.2222222222222222,
              "#7201a8"
             ],
             [
              0.3333333333333333,
              "#9c179e"
             ],
             [
              0.4444444444444444,
              "#bd3786"
             ],
             [
              0.5555555555555556,
              "#d8576b"
             ],
             [
              0.6666666666666666,
              "#ed7953"
             ],
             [
              0.7777777777777778,
              "#fb9f3a"
             ],
             [
              0.8888888888888888,
              "#fdca26"
             ],
             [
              1,
              "#f0f921"
             ]
            ],
            "type": "heatmapgl"
           }
          ],
          "histogram": [
           {
            "marker": {
             "pattern": {
              "fillmode": "overlay",
              "size": 10,
              "solidity": 0.2
             }
            },
            "type": "histogram"
           }
          ],
          "histogram2d": [
           {
            "colorbar": {
             "outlinewidth": 0,
             "ticks": ""
            },
            "colorscale": [
             [
              0,
              "#0d0887"
             ],
             [
              0.1111111111111111,
              "#46039f"
             ],
             [
              0.2222222222222222,
              "#7201a8"
             ],
             [
              0.3333333333333333,
              "#9c179e"
             ],
             [
              0.4444444444444444,
              "#bd3786"
             ],
             [
              0.5555555555555556,
              "#d8576b"
             ],
             [
              0.6666666666666666,
              "#ed7953"
             ],
             [
              0.7777777777777778,
              "#fb9f3a"
             ],
             [
              0.8888888888888888,
              "#fdca26"
             ],
             [
              1,
              "#f0f921"
             ]
            ],
            "type": "histogram2d"
           }
          ],
          "histogram2dcontour": [
           {
            "colorbar": {
             "outlinewidth": 0,
             "ticks": ""
            },
            "colorscale": [
             [
              0,
              "#0d0887"
             ],
             [
              0.1111111111111111,
              "#46039f"
             ],
             [
              0.2222222222222222,
              "#7201a8"
             ],
             [
              0.3333333333333333,
              "#9c179e"
             ],
             [
              0.4444444444444444,
              "#bd3786"
             ],
             [
              0.5555555555555556,
              "#d8576b"
             ],
             [
              0.6666666666666666,
              "#ed7953"
             ],
             [
              0.7777777777777778,
              "#fb9f3a"
             ],
             [
              0.8888888888888888,
              "#fdca26"
             ],
             [
              1,
              "#f0f921"
             ]
            ],
            "type": "histogram2dcontour"
           }
          ],
          "mesh3d": [
           {
            "colorbar": {
             "outlinewidth": 0,
             "ticks": ""
            },
            "type": "mesh3d"
           }
          ],
          "parcoords": [
           {
            "line": {
             "colorbar": {
              "outlinewidth": 0,
              "ticks": ""
             }
            },
            "type": "parcoords"
           }
          ],
          "pie": [
           {
            "automargin": true,
            "type": "pie"
           }
          ],
          "scatter": [
           {
            "fillpattern": {
             "fillmode": "overlay",
             "size": 10,
             "solidity": 0.2
            },
            "type": "scatter"
           }
          ],
          "scatter3d": [
           {
            "line": {
             "colorbar": {
              "outlinewidth": 0,
              "ticks": ""
             }
            },
            "marker": {
             "colorbar": {
              "outlinewidth": 0,
              "ticks": ""
             }
            },
            "type": "scatter3d"
           }
          ],
          "scattercarpet": [
           {
            "marker": {
             "colorbar": {
              "outlinewidth": 0,
              "ticks": ""
             }
            },
            "type": "scattercarpet"
           }
          ],
          "scattergeo": [
           {
            "marker": {
             "colorbar": {
              "outlinewidth": 0,
              "ticks": ""
             }
            },
            "type": "scattergeo"
           }
          ],
          "scattergl": [
           {
            "marker": {
             "colorbar": {
              "outlinewidth": 0,
              "ticks": ""
             }
            },
            "type": "scattergl"
           }
          ],
          "scattermapbox": [
           {
            "marker": {
             "colorbar": {
              "outlinewidth": 0,
              "ticks": ""
             }
            },
            "type": "scattermapbox"
           }
          ],
          "scatterpolar": [
           {
            "marker": {
             "colorbar": {
              "outlinewidth": 0,
              "ticks": ""
             }
            },
            "type": "scatterpolar"
           }
          ],
          "scatterpolargl": [
           {
            "marker": {
             "colorbar": {
              "outlinewidth": 0,
              "ticks": ""
             }
            },
            "type": "scatterpolargl"
           }
          ],
          "scatterternary": [
           {
            "marker": {
             "colorbar": {
              "outlinewidth": 0,
              "ticks": ""
             }
            },
            "type": "scatterternary"
           }
          ],
          "surface": [
           {
            "colorbar": {
             "outlinewidth": 0,
             "ticks": ""
            },
            "colorscale": [
             [
              0,
              "#0d0887"
             ],
             [
              0.1111111111111111,
              "#46039f"
             ],
             [
              0.2222222222222222,
              "#7201a8"
             ],
             [
              0.3333333333333333,
              "#9c179e"
             ],
             [
              0.4444444444444444,
              "#bd3786"
             ],
             [
              0.5555555555555556,
              "#d8576b"
             ],
             [
              0.6666666666666666,
              "#ed7953"
             ],
             [
              0.7777777777777778,
              "#fb9f3a"
             ],
             [
              0.8888888888888888,
              "#fdca26"
             ],
             [
              1,
              "#f0f921"
             ]
            ],
            "type": "surface"
           }
          ],
          "table": [
           {
            "cells": {
             "fill": {
              "color": "#EBF0F8"
             },
             "line": {
              "color": "white"
             }
            },
            "header": {
             "fill": {
              "color": "#C8D4E3"
             },
             "line": {
              "color": "white"
             }
            },
            "type": "table"
           }
          ]
         },
         "layout": {
          "annotationdefaults": {
           "arrowcolor": "#2a3f5f",
           "arrowhead": 0,
           "arrowwidth": 1
          },
          "autotypenumbers": "strict",
          "coloraxis": {
           "colorbar": {
            "outlinewidth": 0,
            "ticks": ""
           }
          },
          "colorscale": {
           "diverging": [
            [
             0,
             "#8e0152"
            ],
            [
             0.1,
             "#c51b7d"
            ],
            [
             0.2,
             "#de77ae"
            ],
            [
             0.3,
             "#f1b6da"
            ],
            [
             0.4,
             "#fde0ef"
            ],
            [
             0.5,
             "#f7f7f7"
            ],
            [
             0.6,
             "#e6f5d0"
            ],
            [
             0.7,
             "#b8e186"
            ],
            [
             0.8,
             "#7fbc41"
            ],
            [
             0.9,
             "#4d9221"
            ],
            [
             1,
             "#276419"
            ]
           ],
           "sequential": [
            [
             0,
             "#0d0887"
            ],
            [
             0.1111111111111111,
             "#46039f"
            ],
            [
             0.2222222222222222,
             "#7201a8"
            ],
            [
             0.3333333333333333,
             "#9c179e"
            ],
            [
             0.4444444444444444,
             "#bd3786"
            ],
            [
             0.5555555555555556,
             "#d8576b"
            ],
            [
             0.6666666666666666,
             "#ed7953"
            ],
            [
             0.7777777777777778,
             "#fb9f3a"
            ],
            [
             0.8888888888888888,
             "#fdca26"
            ],
            [
             1,
             "#f0f921"
            ]
           ],
           "sequentialminus": [
            [
             0,
             "#0d0887"
            ],
            [
             0.1111111111111111,
             "#46039f"
            ],
            [
             0.2222222222222222,
             "#7201a8"
            ],
            [
             0.3333333333333333,
             "#9c179e"
            ],
            [
             0.4444444444444444,
             "#bd3786"
            ],
            [
             0.5555555555555556,
             "#d8576b"
            ],
            [
             0.6666666666666666,
             "#ed7953"
            ],
            [
             0.7777777777777778,
             "#fb9f3a"
            ],
            [
             0.8888888888888888,
             "#fdca26"
            ],
            [
             1,
             "#f0f921"
            ]
           ]
          },
          "colorway": [
           "#636efa",
           "#EF553B",
           "#00cc96",
           "#ab63fa",
           "#FFA15A",
           "#19d3f3",
           "#FF6692",
           "#B6E880",
           "#FF97FF",
           "#FECB52"
          ],
          "font": {
           "color": "#2a3f5f"
          },
          "geo": {
           "bgcolor": "white",
           "lakecolor": "white",
           "landcolor": "#E5ECF6",
           "showlakes": true,
           "showland": true,
           "subunitcolor": "white"
          },
          "hoverlabel": {
           "align": "left"
          },
          "hovermode": "closest",
          "mapbox": {
           "style": "light"
          },
          "paper_bgcolor": "white",
          "plot_bgcolor": "#E5ECF6",
          "polar": {
           "angularaxis": {
            "gridcolor": "white",
            "linecolor": "white",
            "ticks": ""
           },
           "bgcolor": "#E5ECF6",
           "radialaxis": {
            "gridcolor": "white",
            "linecolor": "white",
            "ticks": ""
           }
          },
          "scene": {
           "xaxis": {
            "backgroundcolor": "#E5ECF6",
            "gridcolor": "white",
            "gridwidth": 2,
            "linecolor": "white",
            "showbackground": true,
            "ticks": "",
            "zerolinecolor": "white"
           },
           "yaxis": {
            "backgroundcolor": "#E5ECF6",
            "gridcolor": "white",
            "gridwidth": 2,
            "linecolor": "white",
            "showbackground": true,
            "ticks": "",
            "zerolinecolor": "white"
           },
           "zaxis": {
            "backgroundcolor": "#E5ECF6",
            "gridcolor": "white",
            "gridwidth": 2,
            "linecolor": "white",
            "showbackground": true,
            "ticks": "",
            "zerolinecolor": "white"
           }
          },
          "shapedefaults": {
           "line": {
            "color": "#2a3f5f"
           }
          },
          "ternary": {
           "aaxis": {
            "gridcolor": "white",
            "linecolor": "white",
            "ticks": ""
           },
           "baxis": {
            "gridcolor": "white",
            "linecolor": "white",
            "ticks": ""
           },
           "bgcolor": "#E5ECF6",
           "caxis": {
            "gridcolor": "white",
            "linecolor": "white",
            "ticks": ""
           }
          },
          "title": {
           "x": 0.05
          },
          "xaxis": {
           "automargin": true,
           "gridcolor": "white",
           "linecolor": "white",
           "ticks": "",
           "title": {
            "standoff": 15
           },
           "zerolinecolor": "white",
           "zerolinewidth": 2
          },
          "yaxis": {
           "automargin": true,
           "gridcolor": "white",
           "linecolor": "white",
           "ticks": "",
           "title": {
            "standoff": 15
           },
           "zerolinecolor": "white",
           "zerolinewidth": 2
          }
         }
        },
        "title": {
         "font": {
          "size": 12
         },
         "text": ""
        },
        "width": 800,
        "xaxis": {
         "anchor": "y",
         "domain": [
          0,
          1
         ],
         "gridcolor": "lightgrey",
         "gridwidth": 1,
         "range": [
          -0.1,
          1.1
         ],
         "showgrid": true,
         "ticktext": [
          "100% Favoring the Left",
          "75-25",
          "50-50",
          "25-75",
          "100% Favoring the Right"
         ],
         "tickvals": [
          0,
          0.25,
          0.5,
          0.75,
          1
         ],
         "title": {
          "text": "Preference"
         }
        },
        "yaxis": {
         "anchor": "x",
         "autorange": false,
         "categoryarray": [
          "Gender_Female_Bin_Choice",
          "Fitness_Fit_Bin_Choice",
          "SocialValue_High_Bin_Choice",
          "Age_Young_Bin_Choice",
          "Utilitarianism_More_Bin_Choice",
          "Species_Humans_Bin_Choice"
         ],
         "categoryorder": "array",
         "domain": [
          0,
          1
         ],
         "range": [
          -0.5,
          5.5
         ],
         "showgrid": false,
         "tickmode": "array",
         "ticktext": [
          "",
          "",
          "",
          "",
          "",
          ""
         ],
         "tickvals": [
          0,
          1,
          2,
          3,
          4,
          5
         ]
        }
       }
      },
      "text/html": [
       "<div>                            <div id=\"d5d7b49e-b0d7-4053-a843-a262e91c0aea\" class=\"plotly-graph-div\" style=\"height:400px; width:800px;\"></div>            <script type=\"text/javascript\">                require([\"plotly\"], function(Plotly) {                    window.PLOTLYENV=window.PLOTLYENV || {};                                    if (document.getElementById(\"d5d7b49e-b0d7-4053-a843-a262e91c0aea\")) {                    Plotly.newPlot(                        \"d5d7b49e-b0d7-4053-a843-a262e91c0aea\",                        [{\"marker\":{\"color\":\"#0077ad\",\"line\":{\"color\":\"#0077ad\",\"width\":2}},\"name\":\"Llama 2 7B\",\"opacity\":0.7,\"orientation\":\"h\",\"width\":0.3,\"x\":[1.0,0.5,0.375,0.6315999999999999,1.0,1.0],\"y\":[\"Species_Humans_Bin_Choice\",\"Utilitarianism_More_Bin_Choice\",\"Age_Young_Bin_Choice\",\"SocialValue_High_Bin_Choice\",\"Fitness_Fit_Bin_Choice\",\"Gender_Female_Bin_Choice\"],\"type\":\"bar\"},{\"marker\":{\"color\":\"white\",\"line\":{\"color\":\"#ad0077\",\"width\":2},\"size\":20},\"mode\":\"markers\",\"name\":\"Human Preference\",\"showlegend\":true,\"x\":[0.7974454552522746,0.753525616600679,0.7241555080471478,0.6617809934377845,0.576127833908965,0.5625438093111024],\"y\":[\"Species_Humans_Bin_Choice\",\"Utilitarianism_More_Bin_Choice\",\"Age_Young_Bin_Choice\",\"SocialValue_High_Bin_Choice\",\"Fitness_Fit_Bin_Choice\",\"Gender_Female_Bin_Choice\"],\"type\":\"scatter\"}],                        {\"template\":{\"data\":{\"histogram2dcontour\":[{\"type\":\"histogram2dcontour\",\"colorbar\":{\"outlinewidth\":0,\"ticks\":\"\"},\"colorscale\":[[0.0,\"#0d0887\"],[0.1111111111111111,\"#46039f\"],[0.2222222222222222,\"#7201a8\"],[0.3333333333333333,\"#9c179e\"],[0.4444444444444444,\"#bd3786\"],[0.5555555555555556,\"#d8576b\"],[0.6666666666666666,\"#ed7953\"],[0.7777777777777778,\"#fb9f3a\"],[0.8888888888888888,\"#fdca26\"],[1.0,\"#f0f921\"]]}],\"choropleth\":[{\"type\":\"choropleth\",\"colorbar\":{\"outlinewidth\":0,\"ticks\":\"\"}}],\"histogram2d\":[{\"type\":\"histogram2d\",\"colorbar\":{\"outlinewidth\":0,\"ticks\":\"\"},\"colorscale\":[[0.0,\"#0d0887\"],[0.1111111111111111,\"#46039f\"],[0.2222222222222222,\"#7201a8\"],[0.3333333333333333,\"#9c179e\"],[0.4444444444444444,\"#bd3786\"],[0.5555555555555556,\"#d8576b\"],[0.6666666666666666,\"#ed7953\"],[0.7777777777777778,\"#fb9f3a\"],[0.8888888888888888,\"#fdca26\"],[1.0,\"#f0f921\"]]}],\"heatmap\":[{\"type\":\"heatmap\",\"colorbar\":{\"outlinewidth\":0,\"ticks\":\"\"},\"colorscale\":[[0.0,\"#0d0887\"],[0.1111111111111111,\"#46039f\"],[0.2222222222222222,\"#7201a8\"],[0.3333333333333333,\"#9c179e\"],[0.4444444444444444,\"#bd3786\"],[0.5555555555555556,\"#d8576b\"],[0.6666666666666666,\"#ed7953\"],[0.7777777777777778,\"#fb9f3a\"],[0.8888888888888888,\"#fdca26\"],[1.0,\"#f0f921\"]]}],\"heatmapgl\":[{\"type\":\"heatmapgl\",\"colorbar\":{\"outlinewidth\":0,\"ticks\":\"\"},\"colorscale\":[[0.0,\"#0d0887\"],[0.1111111111111111,\"#46039f\"],[0.2222222222222222,\"#7201a8\"],[0.3333333333333333,\"#9c179e\"],[0.4444444444444444,\"#bd3786\"],[0.5555555555555556,\"#d8576b\"],[0.6666666666666666,\"#ed7953\"],[0.7777777777777778,\"#fb9f3a\"],[0.8888888888888888,\"#fdca26\"],[1.0,\"#f0f921\"]]}],\"contourcarpet\":[{\"type\":\"contourcarpet\",\"colorbar\":{\"outlinewidth\":0,\"ticks\":\"\"}}],\"contour\":[{\"type\":\"contour\",\"colorbar\":{\"outlinewidth\":0,\"ticks\":\"\"},\"colorscale\":[[0.0,\"#0d0887\"],[0.1111111111111111,\"#46039f\"],[0.2222222222222222,\"#7201a8\"],[0.3333333333333333,\"#9c179e\"],[0.4444444444444444,\"#bd3786\"],[0.5555555555555556,\"#d8576b\"],[0.6666666666666666,\"#ed7953\"],[0.7777777777777778,\"#fb9f3a\"],[0.8888888888888888,\"#fdca26\"],[1.0,\"#f0f921\"]]}],\"surface\":[{\"type\":\"surface\",\"colorbar\":{\"outlinewidth\":0,\"ticks\":\"\"},\"colorscale\":[[0.0,\"#0d0887\"],[0.1111111111111111,\"#46039f\"],[0.2222222222222222,\"#7201a8\"],[0.3333333333333333,\"#9c179e\"],[0.4444444444444444,\"#bd3786\"],[0.5555555555555556,\"#d8576b\"],[0.6666666666666666,\"#ed7953\"],[0.7777777777777778,\"#fb9f3a\"],[0.8888888888888888,\"#fdca26\"],[1.0,\"#f0f921\"]]}],\"mesh3d\":[{\"type\":\"mesh3d\",\"colorbar\":{\"outlinewidth\":0,\"ticks\":\"\"}}],\"scatter\":[{\"fillpattern\":{\"fillmode\":\"overlay\",\"size\":10,\"solidity\":0.2},\"type\":\"scatter\"}],\"parcoords\":[{\"type\":\"parcoords\",\"line\":{\"colorbar\":{\"outlinewidth\":0,\"ticks\":\"\"}}}],\"scatterpolargl\":[{\"type\":\"scatterpolargl\",\"marker\":{\"colorbar\":{\"outlinewidth\":0,\"ticks\":\"\"}}}],\"bar\":[{\"error_x\":{\"color\":\"#2a3f5f\"},\"error_y\":{\"color\":\"#2a3f5f\"},\"marker\":{\"line\":{\"color\":\"#E5ECF6\",\"width\":0.5},\"pattern\":{\"fillmode\":\"overlay\",\"size\":10,\"solidity\":0.2}},\"type\":\"bar\"}],\"scattergeo\":[{\"type\":\"scattergeo\",\"marker\":{\"colorbar\":{\"outlinewidth\":0,\"ticks\":\"\"}}}],\"scatterpolar\":[{\"type\":\"scatterpolar\",\"marker\":{\"colorbar\":{\"outlinewidth\":0,\"ticks\":\"\"}}}],\"histogram\":[{\"marker\":{\"pattern\":{\"fillmode\":\"overlay\",\"size\":10,\"solidity\":0.2}},\"type\":\"histogram\"}],\"scattergl\":[{\"type\":\"scattergl\",\"marker\":{\"colorbar\":{\"outlinewidth\":0,\"ticks\":\"\"}}}],\"scatter3d\":[{\"type\":\"scatter3d\",\"line\":{\"colorbar\":{\"outlinewidth\":0,\"ticks\":\"\"}},\"marker\":{\"colorbar\":{\"outlinewidth\":0,\"ticks\":\"\"}}}],\"scattermapbox\":[{\"type\":\"scattermapbox\",\"marker\":{\"colorbar\":{\"outlinewidth\":0,\"ticks\":\"\"}}}],\"scatterternary\":[{\"type\":\"scatterternary\",\"marker\":{\"colorbar\":{\"outlinewidth\":0,\"ticks\":\"\"}}}],\"scattercarpet\":[{\"type\":\"scattercarpet\",\"marker\":{\"colorbar\":{\"outlinewidth\":0,\"ticks\":\"\"}}}],\"carpet\":[{\"aaxis\":{\"endlinecolor\":\"#2a3f5f\",\"gridcolor\":\"white\",\"linecolor\":\"white\",\"minorgridcolor\":\"white\",\"startlinecolor\":\"#2a3f5f\"},\"baxis\":{\"endlinecolor\":\"#2a3f5f\",\"gridcolor\":\"white\",\"linecolor\":\"white\",\"minorgridcolor\":\"white\",\"startlinecolor\":\"#2a3f5f\"},\"type\":\"carpet\"}],\"table\":[{\"cells\":{\"fill\":{\"color\":\"#EBF0F8\"},\"line\":{\"color\":\"white\"}},\"header\":{\"fill\":{\"color\":\"#C8D4E3\"},\"line\":{\"color\":\"white\"}},\"type\":\"table\"}],\"barpolar\":[{\"marker\":{\"line\":{\"color\":\"#E5ECF6\",\"width\":0.5},\"pattern\":{\"fillmode\":\"overlay\",\"size\":10,\"solidity\":0.2}},\"type\":\"barpolar\"}],\"pie\":[{\"automargin\":true,\"type\":\"pie\"}]},\"layout\":{\"autotypenumbers\":\"strict\",\"colorway\":[\"#636efa\",\"#EF553B\",\"#00cc96\",\"#ab63fa\",\"#FFA15A\",\"#19d3f3\",\"#FF6692\",\"#B6E880\",\"#FF97FF\",\"#FECB52\"],\"font\":{\"color\":\"#2a3f5f\"},\"hovermode\":\"closest\",\"hoverlabel\":{\"align\":\"left\"},\"paper_bgcolor\":\"white\",\"plot_bgcolor\":\"#E5ECF6\",\"polar\":{\"bgcolor\":\"#E5ECF6\",\"angularaxis\":{\"gridcolor\":\"white\",\"linecolor\":\"white\",\"ticks\":\"\"},\"radialaxis\":{\"gridcolor\":\"white\",\"linecolor\":\"white\",\"ticks\":\"\"}},\"ternary\":{\"bgcolor\":\"#E5ECF6\",\"aaxis\":{\"gridcolor\":\"white\",\"linecolor\":\"white\",\"ticks\":\"\"},\"baxis\":{\"gridcolor\":\"white\",\"linecolor\":\"white\",\"ticks\":\"\"},\"caxis\":{\"gridcolor\":\"white\",\"linecolor\":\"white\",\"ticks\":\"\"}},\"coloraxis\":{\"colorbar\":{\"outlinewidth\":0,\"ticks\":\"\"}},\"colorscale\":{\"sequential\":[[0.0,\"#0d0887\"],[0.1111111111111111,\"#46039f\"],[0.2222222222222222,\"#7201a8\"],[0.3333333333333333,\"#9c179e\"],[0.4444444444444444,\"#bd3786\"],[0.5555555555555556,\"#d8576b\"],[0.6666666666666666,\"#ed7953\"],[0.7777777777777778,\"#fb9f3a\"],[0.8888888888888888,\"#fdca26\"],[1.0,\"#f0f921\"]],\"sequentialminus\":[[0.0,\"#0d0887\"],[0.1111111111111111,\"#46039f\"],[0.2222222222222222,\"#7201a8\"],[0.3333333333333333,\"#9c179e\"],[0.4444444444444444,\"#bd3786\"],[0.5555555555555556,\"#d8576b\"],[0.6666666666666666,\"#ed7953\"],[0.7777777777777778,\"#fb9f3a\"],[0.8888888888888888,\"#fdca26\"],[1.0,\"#f0f921\"]],\"diverging\":[[0,\"#8e0152\"],[0.1,\"#c51b7d\"],[0.2,\"#de77ae\"],[0.3,\"#f1b6da\"],[0.4,\"#fde0ef\"],[0.5,\"#f7f7f7\"],[0.6,\"#e6f5d0\"],[0.7,\"#b8e186\"],[0.8,\"#7fbc41\"],[0.9,\"#4d9221\"],[1,\"#276419\"]]},\"xaxis\":{\"gridcolor\":\"white\",\"linecolor\":\"white\",\"ticks\":\"\",\"title\":{\"standoff\":15},\"zerolinecolor\":\"white\",\"automargin\":true,\"zerolinewidth\":2},\"yaxis\":{\"gridcolor\":\"white\",\"linecolor\":\"white\",\"ticks\":\"\",\"title\":{\"standoff\":15},\"zerolinecolor\":\"white\",\"automargin\":true,\"zerolinewidth\":2},\"scene\":{\"xaxis\":{\"backgroundcolor\":\"#E5ECF6\",\"gridcolor\":\"white\",\"linecolor\":\"white\",\"showbackground\":true,\"ticks\":\"\",\"zerolinecolor\":\"white\",\"gridwidth\":2},\"yaxis\":{\"backgroundcolor\":\"#E5ECF6\",\"gridcolor\":\"white\",\"linecolor\":\"white\",\"showbackground\":true,\"ticks\":\"\",\"zerolinecolor\":\"white\",\"gridwidth\":2},\"zaxis\":{\"backgroundcolor\":\"#E5ECF6\",\"gridcolor\":\"white\",\"linecolor\":\"white\",\"showbackground\":true,\"ticks\":\"\",\"zerolinecolor\":\"white\",\"gridwidth\":2}},\"shapedefaults\":{\"line\":{\"color\":\"#2a3f5f\"}},\"annotationdefaults\":{\"arrowcolor\":\"#2a3f5f\",\"arrowhead\":0,\"arrowwidth\":1},\"geo\":{\"bgcolor\":\"white\",\"landcolor\":\"#E5ECF6\",\"subunitcolor\":\"white\",\"showland\":true,\"showlakes\":true,\"lakecolor\":\"white\"},\"title\":{\"x\":0.05},\"mapbox\":{\"style\":\"light\"}}},\"xaxis\":{\"anchor\":\"y\",\"domain\":[0.0,1.0],\"title\":{\"text\":\"Preference\"},\"tickvals\":[0,0.25,0.5,0.75,1],\"ticktext\":[\"100% Favoring the Left\",\"75-25\",\"50-50\",\"25-75\",\"100% Favoring the Right\"],\"range\":[-0.1,1.1],\"showgrid\":true,\"gridwidth\":1,\"gridcolor\":\"lightgrey\"},\"yaxis\":{\"anchor\":\"x\",\"domain\":[0.0,1.0],\"categoryorder\":\"array\",\"categoryarray\":[\"Gender_Female_Bin_Choice\",\"Fitness_Fit_Bin_Choice\",\"SocialValue_High_Bin_Choice\",\"Age_Young_Bin_Choice\",\"Utilitarianism_More_Bin_Choice\",\"Species_Humans_Bin_Choice\"],\"tickvals\":[0,1,2,3,4,5],\"ticktext\":[\"\",\"\",\"\",\"\",\"\",\"\"],\"tickmode\":\"array\",\"range\":[-0.5,5.5],\"autorange\":false,\"showgrid\":false},\"title\":{\"text\":\"\",\"font\":{\"size\":12}},\"height\":400,\"width\":800,\"plot_bgcolor\":\"white\",\"annotations\":[{\"align\":\"left\",\"font\":{\"size\":14},\"showarrow\":false,\"text\":\"Sparing females\",\"x\":1.06,\"xanchor\":\"left\",\"xref\":\"paper\",\"y\":0,\"yref\":\"y\"},{\"align\":\"left\",\"font\":{\"size\":14},\"showarrow\":false,\"text\":\"Sparing the fit\",\"x\":1.06,\"xanchor\":\"left\",\"xref\":\"paper\",\"y\":1,\"yref\":\"y\"},{\"align\":\"left\",\"font\":{\"size\":14},\"showarrow\":false,\"text\":\"Sparing higher status\",\"x\":1.06,\"xanchor\":\"left\",\"xref\":\"paper\",\"y\":2,\"yref\":\"y\"},{\"align\":\"left\",\"font\":{\"size\":14},\"showarrow\":false,\"text\":\"Sparing the young\",\"x\":1.06,\"xanchor\":\"left\",\"xref\":\"paper\",\"y\":3,\"yref\":\"y\"},{\"align\":\"left\",\"font\":{\"size\":14},\"showarrow\":false,\"text\":\"Sparing more characters\",\"x\":1.06,\"xanchor\":\"left\",\"xref\":\"paper\",\"y\":4,\"yref\":\"y\"},{\"align\":\"left\",\"font\":{\"size\":14},\"showarrow\":false,\"text\":\"Sparing humans\",\"x\":1.06,\"xanchor\":\"left\",\"xref\":\"paper\",\"y\":5,\"yref\":\"y\"},{\"align\":\"right\",\"font\":{\"size\":14},\"showarrow\":false,\"text\":\"Sparing males\",\"x\":-0.02,\"xanchor\":\"right\",\"xref\":\"paper\",\"y\":0,\"yref\":\"y\"},{\"align\":\"right\",\"font\":{\"size\":14},\"showarrow\":false,\"text\":\"Sparing the large\",\"x\":-0.02,\"xanchor\":\"right\",\"xref\":\"paper\",\"y\":1,\"yref\":\"y\"},{\"align\":\"right\",\"font\":{\"size\":14},\"showarrow\":false,\"text\":\"Sparing lower status\",\"x\":-0.02,\"xanchor\":\"right\",\"xref\":\"paper\",\"y\":2,\"yref\":\"y\"},{\"align\":\"right\",\"font\":{\"size\":14},\"showarrow\":false,\"text\":\"Sparing the elderly\",\"x\":-0.02,\"xanchor\":\"right\",\"xref\":\"paper\",\"y\":3,\"yref\":\"y\"},{\"align\":\"right\",\"font\":{\"size\":14},\"showarrow\":false,\"text\":\"Sparing fewer characters\",\"x\":-0.02,\"xanchor\":\"right\",\"xref\":\"paper\",\"y\":4,\"yref\":\"y\"},{\"align\":\"right\",\"font\":{\"size\":14},\"showarrow\":false,\"text\":\"Sparing pets\",\"x\":-0.02,\"xanchor\":\"right\",\"xref\":\"paper\",\"y\":5,\"yref\":\"y\"}],\"images\":[{\"sizex\":0.5,\"sizey\":0.5,\"source\":\".\\u002ficons\\u002ficons_tradeoff\\u002ffemale.png\",\"x\":0.95,\"xanchor\":\"left\",\"xref\":\"paper\",\"y\":0,\"yanchor\":\"middle\",\"yref\":\"y\"},{\"sizex\":0.5,\"sizey\":0.5,\"source\":\".\\u002ficons\\u002ficons_tradeoff\\u002ffit.png\",\"x\":0.95,\"xanchor\":\"left\",\"xref\":\"paper\",\"y\":1,\"yanchor\":\"middle\",\"yref\":\"y\"},{\"sizex\":0.5,\"sizey\":0.5,\"source\":\".\\u002ficons\\u002ficons_tradeoff\\u002fhigher_status.png\",\"x\":0.95,\"xanchor\":\"left\",\"xref\":\"paper\",\"y\":2,\"yanchor\":\"middle\",\"yref\":\"y\"},{\"sizex\":0.5,\"sizey\":0.5,\"source\":\".\\u002ficons\\u002ficons_tradeoff\\u002fyoung.png\",\"x\":0.95,\"xanchor\":\"left\",\"xref\":\"paper\",\"y\":3,\"yanchor\":\"middle\",\"yref\":\"y\"},{\"sizex\":0.5,\"sizey\":0.5,\"source\":\".\\u002ficons\\u002ficons_tradeoff\\u002fmore_character.png\",\"x\":0.95,\"xanchor\":\"left\",\"xref\":\"paper\",\"y\":4,\"yanchor\":\"middle\",\"yref\":\"y\"},{\"sizex\":0.5,\"sizey\":0.5,\"source\":\".\\u002ficons\\u002ficons_tradeoff\\u002fhumans.png\",\"x\":0.95,\"xanchor\":\"left\",\"xref\":\"paper\",\"y\":5,\"yanchor\":\"middle\",\"yref\":\"y\"},{\"sizex\":0.5,\"sizey\":0.5,\"source\":\".\\u002ficons\\u002ficons_tradeoff\\u002fmale.png\",\"x\":-0.01,\"xanchor\":\"left\",\"xref\":\"paper\",\"y\":0,\"yanchor\":\"middle\",\"yref\":\"y\"},{\"sizex\":0.5,\"sizey\":0.5,\"source\":\".\\u002ficons\\u002ficons_tradeoff\\u002flarge.png\",\"x\":-0.01,\"xanchor\":\"left\",\"xref\":\"paper\",\"y\":1,\"yanchor\":\"middle\",\"yref\":\"y\"},{\"sizex\":0.5,\"sizey\":0.5,\"source\":\".\\u002ficons\\u002ficons_tradeoff\\u002flower_status.png\",\"x\":-0.01,\"xanchor\":\"left\",\"xref\":\"paper\",\"y\":2,\"yanchor\":\"middle\",\"yref\":\"y\"},{\"sizex\":0.5,\"sizey\":0.5,\"source\":\".\\u002ficons\\u002ficons_tradeoff\\u002felderly.png\",\"x\":-0.01,\"xanchor\":\"left\",\"xref\":\"paper\",\"y\":3,\"yanchor\":\"middle\",\"yref\":\"y\"},{\"sizex\":0.5,\"sizey\":0.5,\"source\":\".\\u002ficons\\u002ficons_tradeoff\\u002ffewer.png\",\"x\":-0.01,\"xanchor\":\"left\",\"xref\":\"paper\",\"y\":4,\"yanchor\":\"middle\",\"yref\":\"y\"},{\"sizex\":0.5,\"sizey\":0.5,\"source\":\".\\u002ficons\\u002ficons_tradeoff\\u002fpet.png\",\"x\":-0.01,\"xanchor\":\"left\",\"xref\":\"paper\",\"y\":5,\"yanchor\":\"middle\",\"yref\":\"y\"}],\"margin\":{\"l\":160,\"r\":170,\"t\":50,\"b\":50},\"legend\":{\"orientation\":\"h\",\"yanchor\":\"bottom\",\"y\":1,\"xanchor\":\"center\",\"x\":0.5},\"showlegend\":true,\"font\":{\"family\":\"Times New Roman\",\"size\":12}},                        {\"responsive\": true}                    ).then(function(){\n",
       "                            \n",
       "var gd = document.getElementById('d5d7b49e-b0d7-4053-a843-a262e91c0aea');\n",
       "var x = new MutationObserver(function (mutations, observer) {{\n",
       "        var display = window.getComputedStyle(gd).display;\n",
       "        if (!display || display === 'none') {{\n",
       "            console.log([gd, 'removed!']);\n",
       "            Plotly.purge(gd);\n",
       "            observer.disconnect();\n",
       "        }}\n",
       "}});\n",
       "\n",
       "// Listen for the removal of the full notebook cells\n",
       "var notebookContainer = gd.closest('#notebook-container');\n",
       "if (notebookContainer) {{\n",
       "    x.observe(notebookContainer, {childList: true});\n",
       "}}\n",
       "\n",
       "// Listen for the clearing of the current output cell\n",
       "var outputEl = gd.closest('.output');\n",
       "if (outputEl) {{\n",
       "    x.observe(outputEl, {childList: true});\n",
       "}}\n",
       "\n",
       "                        })                };                });            </script>        </div>"
      ]
     },
     "metadata": {},
     "output_type": "display_data"
    },
    {
     "data": {
      "application/vnd.plotly.v1+json": {
       "config": {
        "plotlyServerURL": "https://plot.ly"
       },
       "data": [
        {
         "marker": {
          "color": "#0077ad",
          "line": {
           "color": "#0077ad",
           "width": 2
          }
         },
         "name": "Qwen 2 7B",
         "opacity": 0.7,
         "orientation": "h",
         "type": "bar",
         "width": 0.3,
         "x": [
          1,
          1,
          0.7931,
          0.75,
          1
         ],
         "y": [
          "Species_Humans_Bin_Choice",
          "Utilitarianism_More_Bin_Choice",
          "SocialValue_High_Bin_Choice",
          "Fitness_Fit_Bin_Choice",
          "Gender_Female_Bin_Choice"
         ]
        },
        {
         "marker": {
          "color": "white",
          "line": {
           "color": "#ad0077",
           "width": 2
          },
          "size": 20
         },
         "mode": "markers",
         "name": "Human Preference",
         "showlegend": true,
         "type": "scatter",
         "x": [
          0.7974454552522746,
          0.753525616600679,
          0.7241555080471478,
          0.6617809934377845,
          0.576127833908965,
          0.5625438093111024
         ],
         "y": [
          "Species_Humans_Bin_Choice",
          "Utilitarianism_More_Bin_Choice",
          "Age_Young_Bin_Choice",
          "SocialValue_High_Bin_Choice",
          "Fitness_Fit_Bin_Choice",
          "Gender_Female_Bin_Choice"
         ]
        }
       ],
       "layout": {
        "annotations": [
         {
          "align": "left",
          "font": {
           "size": 14
          },
          "showarrow": false,
          "text": "Sparing females",
          "x": 1.06,
          "xanchor": "left",
          "xref": "paper",
          "y": 0,
          "yref": "y"
         },
         {
          "align": "left",
          "font": {
           "size": 14
          },
          "showarrow": false,
          "text": "Sparing the fit",
          "x": 1.06,
          "xanchor": "left",
          "xref": "paper",
          "y": 1,
          "yref": "y"
         },
         {
          "align": "left",
          "font": {
           "size": 14
          },
          "showarrow": false,
          "text": "Sparing higher status",
          "x": 1.06,
          "xanchor": "left",
          "xref": "paper",
          "y": 2,
          "yref": "y"
         },
         {
          "align": "left",
          "font": {
           "size": 14
          },
          "showarrow": false,
          "text": "Sparing the young",
          "x": 1.06,
          "xanchor": "left",
          "xref": "paper",
          "y": 3,
          "yref": "y"
         },
         {
          "align": "left",
          "font": {
           "size": 14
          },
          "showarrow": false,
          "text": "Sparing more characters",
          "x": 1.06,
          "xanchor": "left",
          "xref": "paper",
          "y": 4,
          "yref": "y"
         },
         {
          "align": "left",
          "font": {
           "size": 14
          },
          "showarrow": false,
          "text": "Sparing humans",
          "x": 1.06,
          "xanchor": "left",
          "xref": "paper",
          "y": 5,
          "yref": "y"
         },
         {
          "align": "right",
          "font": {
           "size": 14
          },
          "showarrow": false,
          "text": "Sparing males",
          "x": -0.02,
          "xanchor": "right",
          "xref": "paper",
          "y": 0,
          "yref": "y"
         },
         {
          "align": "right",
          "font": {
           "size": 14
          },
          "showarrow": false,
          "text": "Sparing the large",
          "x": -0.02,
          "xanchor": "right",
          "xref": "paper",
          "y": 1,
          "yref": "y"
         },
         {
          "align": "right",
          "font": {
           "size": 14
          },
          "showarrow": false,
          "text": "Sparing lower status",
          "x": -0.02,
          "xanchor": "right",
          "xref": "paper",
          "y": 2,
          "yref": "y"
         },
         {
          "align": "right",
          "font": {
           "size": 14
          },
          "showarrow": false,
          "text": "Sparing the elderly",
          "x": -0.02,
          "xanchor": "right",
          "xref": "paper",
          "y": 3,
          "yref": "y"
         },
         {
          "align": "right",
          "font": {
           "size": 14
          },
          "showarrow": false,
          "text": "Sparing fewer characters",
          "x": -0.02,
          "xanchor": "right",
          "xref": "paper",
          "y": 4,
          "yref": "y"
         },
         {
          "align": "right",
          "font": {
           "size": 14
          },
          "showarrow": false,
          "text": "Sparing pets",
          "x": -0.02,
          "xanchor": "right",
          "xref": "paper",
          "y": 5,
          "yref": "y"
         }
        ],
        "font": {
         "family": "Times New Roman",
         "size": 12
        },
        "height": 400,
        "images": [
         {
          "sizex": 0.5,
          "sizey": 0.5,
          "source": "./icons/icons_tradeoff/female.png",
          "x": 0.95,
          "xanchor": "left",
          "xref": "paper",
          "y": 0,
          "yanchor": "middle",
          "yref": "y"
         },
         {
          "sizex": 0.5,
          "sizey": 0.5,
          "source": "./icons/icons_tradeoff/fit.png",
          "x": 0.95,
          "xanchor": "left",
          "xref": "paper",
          "y": 1,
          "yanchor": "middle",
          "yref": "y"
         },
         {
          "sizex": 0.5,
          "sizey": 0.5,
          "source": "./icons/icons_tradeoff/higher_status.png",
          "x": 0.95,
          "xanchor": "left",
          "xref": "paper",
          "y": 2,
          "yanchor": "middle",
          "yref": "y"
         },
         {
          "sizex": 0.5,
          "sizey": 0.5,
          "source": "./icons/icons_tradeoff/young.png",
          "x": 0.95,
          "xanchor": "left",
          "xref": "paper",
          "y": 3,
          "yanchor": "middle",
          "yref": "y"
         },
         {
          "sizex": 0.5,
          "sizey": 0.5,
          "source": "./icons/icons_tradeoff/more_character.png",
          "x": 0.95,
          "xanchor": "left",
          "xref": "paper",
          "y": 4,
          "yanchor": "middle",
          "yref": "y"
         },
         {
          "sizex": 0.5,
          "sizey": 0.5,
          "source": "./icons/icons_tradeoff/humans.png",
          "x": 0.95,
          "xanchor": "left",
          "xref": "paper",
          "y": 5,
          "yanchor": "middle",
          "yref": "y"
         },
         {
          "sizex": 0.5,
          "sizey": 0.5,
          "source": "./icons/icons_tradeoff/male.png",
          "x": -0.01,
          "xanchor": "left",
          "xref": "paper",
          "y": 0,
          "yanchor": "middle",
          "yref": "y"
         },
         {
          "sizex": 0.5,
          "sizey": 0.5,
          "source": "./icons/icons_tradeoff/large.png",
          "x": -0.01,
          "xanchor": "left",
          "xref": "paper",
          "y": 1,
          "yanchor": "middle",
          "yref": "y"
         },
         {
          "sizex": 0.5,
          "sizey": 0.5,
          "source": "./icons/icons_tradeoff/lower_status.png",
          "x": -0.01,
          "xanchor": "left",
          "xref": "paper",
          "y": 2,
          "yanchor": "middle",
          "yref": "y"
         },
         {
          "sizex": 0.5,
          "sizey": 0.5,
          "source": "./icons/icons_tradeoff/elderly.png",
          "x": -0.01,
          "xanchor": "left",
          "xref": "paper",
          "y": 3,
          "yanchor": "middle",
          "yref": "y"
         },
         {
          "sizex": 0.5,
          "sizey": 0.5,
          "source": "./icons/icons_tradeoff/fewer.png",
          "x": -0.01,
          "xanchor": "left",
          "xref": "paper",
          "y": 4,
          "yanchor": "middle",
          "yref": "y"
         },
         {
          "sizex": 0.5,
          "sizey": 0.5,
          "source": "./icons/icons_tradeoff/pet.png",
          "x": -0.01,
          "xanchor": "left",
          "xref": "paper",
          "y": 5,
          "yanchor": "middle",
          "yref": "y"
         }
        ],
        "legend": {
         "orientation": "h",
         "x": 0.5,
         "xanchor": "center",
         "y": 1,
         "yanchor": "bottom"
        },
        "margin": {
         "b": 50,
         "l": 160,
         "r": 170,
         "t": 50
        },
        "plot_bgcolor": "white",
        "showlegend": true,
        "template": {
         "data": {
          "bar": [
           {
            "error_x": {
             "color": "#2a3f5f"
            },
            "error_y": {
             "color": "#2a3f5f"
            },
            "marker": {
             "line": {
              "color": "#E5ECF6",
              "width": 0.5
             },
             "pattern": {
              "fillmode": "overlay",
              "size": 10,
              "solidity": 0.2
             }
            },
            "type": "bar"
           }
          ],
          "barpolar": [
           {
            "marker": {
             "line": {
              "color": "#E5ECF6",
              "width": 0.5
             },
             "pattern": {
              "fillmode": "overlay",
              "size": 10,
              "solidity": 0.2
             }
            },
            "type": "barpolar"
           }
          ],
          "carpet": [
           {
            "aaxis": {
             "endlinecolor": "#2a3f5f",
             "gridcolor": "white",
             "linecolor": "white",
             "minorgridcolor": "white",
             "startlinecolor": "#2a3f5f"
            },
            "baxis": {
             "endlinecolor": "#2a3f5f",
             "gridcolor": "white",
             "linecolor": "white",
             "minorgridcolor": "white",
             "startlinecolor": "#2a3f5f"
            },
            "type": "carpet"
           }
          ],
          "choropleth": [
           {
            "colorbar": {
             "outlinewidth": 0,
             "ticks": ""
            },
            "type": "choropleth"
           }
          ],
          "contour": [
           {
            "colorbar": {
             "outlinewidth": 0,
             "ticks": ""
            },
            "colorscale": [
             [
              0,
              "#0d0887"
             ],
             [
              0.1111111111111111,
              "#46039f"
             ],
             [
              0.2222222222222222,
              "#7201a8"
             ],
             [
              0.3333333333333333,
              "#9c179e"
             ],
             [
              0.4444444444444444,
              "#bd3786"
             ],
             [
              0.5555555555555556,
              "#d8576b"
             ],
             [
              0.6666666666666666,
              "#ed7953"
             ],
             [
              0.7777777777777778,
              "#fb9f3a"
             ],
             [
              0.8888888888888888,
              "#fdca26"
             ],
             [
              1,
              "#f0f921"
             ]
            ],
            "type": "contour"
           }
          ],
          "contourcarpet": [
           {
            "colorbar": {
             "outlinewidth": 0,
             "ticks": ""
            },
            "type": "contourcarpet"
           }
          ],
          "heatmap": [
           {
            "colorbar": {
             "outlinewidth": 0,
             "ticks": ""
            },
            "colorscale": [
             [
              0,
              "#0d0887"
             ],
             [
              0.1111111111111111,
              "#46039f"
             ],
             [
              0.2222222222222222,
              "#7201a8"
             ],
             [
              0.3333333333333333,
              "#9c179e"
             ],
             [
              0.4444444444444444,
              "#bd3786"
             ],
             [
              0.5555555555555556,
              "#d8576b"
             ],
             [
              0.6666666666666666,
              "#ed7953"
             ],
             [
              0.7777777777777778,
              "#fb9f3a"
             ],
             [
              0.8888888888888888,
              "#fdca26"
             ],
             [
              1,
              "#f0f921"
             ]
            ],
            "type": "heatmap"
           }
          ],
          "heatmapgl": [
           {
            "colorbar": {
             "outlinewidth": 0,
             "ticks": ""
            },
            "colorscale": [
             [
              0,
              "#0d0887"
             ],
             [
              0.1111111111111111,
              "#46039f"
             ],
             [
              0.2222222222222222,
              "#7201a8"
             ],
             [
              0.3333333333333333,
              "#9c179e"
             ],
             [
              0.4444444444444444,
              "#bd3786"
             ],
             [
              0.5555555555555556,
              "#d8576b"
             ],
             [
              0.6666666666666666,
              "#ed7953"
             ],
             [
              0.7777777777777778,
              "#fb9f3a"
             ],
             [
              0.8888888888888888,
              "#fdca26"
             ],
             [
              1,
              "#f0f921"
             ]
            ],
            "type": "heatmapgl"
           }
          ],
          "histogram": [
           {
            "marker": {
             "pattern": {
              "fillmode": "overlay",
              "size": 10,
              "solidity": 0.2
             }
            },
            "type": "histogram"
           }
          ],
          "histogram2d": [
           {
            "colorbar": {
             "outlinewidth": 0,
             "ticks": ""
            },
            "colorscale": [
             [
              0,
              "#0d0887"
             ],
             [
              0.1111111111111111,
              "#46039f"
             ],
             [
              0.2222222222222222,
              "#7201a8"
             ],
             [
              0.3333333333333333,
              "#9c179e"
             ],
             [
              0.4444444444444444,
              "#bd3786"
             ],
             [
              0.5555555555555556,
              "#d8576b"
             ],
             [
              0.6666666666666666,
              "#ed7953"
             ],
             [
              0.7777777777777778,
              "#fb9f3a"
             ],
             [
              0.8888888888888888,
              "#fdca26"
             ],
             [
              1,
              "#f0f921"
             ]
            ],
            "type": "histogram2d"
           }
          ],
          "histogram2dcontour": [
           {
            "colorbar": {
             "outlinewidth": 0,
             "ticks": ""
            },
            "colorscale": [
             [
              0,
              "#0d0887"
             ],
             [
              0.1111111111111111,
              "#46039f"
             ],
             [
              0.2222222222222222,
              "#7201a8"
             ],
             [
              0.3333333333333333,
              "#9c179e"
             ],
             [
              0.4444444444444444,
              "#bd3786"
             ],
             [
              0.5555555555555556,
              "#d8576b"
             ],
             [
              0.6666666666666666,
              "#ed7953"
             ],
             [
              0.7777777777777778,
              "#fb9f3a"
             ],
             [
              0.8888888888888888,
              "#fdca26"
             ],
             [
              1,
              "#f0f921"
             ]
            ],
            "type": "histogram2dcontour"
           }
          ],
          "mesh3d": [
           {
            "colorbar": {
             "outlinewidth": 0,
             "ticks": ""
            },
            "type": "mesh3d"
           }
          ],
          "parcoords": [
           {
            "line": {
             "colorbar": {
              "outlinewidth": 0,
              "ticks": ""
             }
            },
            "type": "parcoords"
           }
          ],
          "pie": [
           {
            "automargin": true,
            "type": "pie"
           }
          ],
          "scatter": [
           {
            "fillpattern": {
             "fillmode": "overlay",
             "size": 10,
             "solidity": 0.2
            },
            "type": "scatter"
           }
          ],
          "scatter3d": [
           {
            "line": {
             "colorbar": {
              "outlinewidth": 0,
              "ticks": ""
             }
            },
            "marker": {
             "colorbar": {
              "outlinewidth": 0,
              "ticks": ""
             }
            },
            "type": "scatter3d"
           }
          ],
          "scattercarpet": [
           {
            "marker": {
             "colorbar": {
              "outlinewidth": 0,
              "ticks": ""
             }
            },
            "type": "scattercarpet"
           }
          ],
          "scattergeo": [
           {
            "marker": {
             "colorbar": {
              "outlinewidth": 0,
              "ticks": ""
             }
            },
            "type": "scattergeo"
           }
          ],
          "scattergl": [
           {
            "marker": {
             "colorbar": {
              "outlinewidth": 0,
              "ticks": ""
             }
            },
            "type": "scattergl"
           }
          ],
          "scattermapbox": [
           {
            "marker": {
             "colorbar": {
              "outlinewidth": 0,
              "ticks": ""
             }
            },
            "type": "scattermapbox"
           }
          ],
          "scatterpolar": [
           {
            "marker": {
             "colorbar": {
              "outlinewidth": 0,
              "ticks": ""
             }
            },
            "type": "scatterpolar"
           }
          ],
          "scatterpolargl": [
           {
            "marker": {
             "colorbar": {
              "outlinewidth": 0,
              "ticks": ""
             }
            },
            "type": "scatterpolargl"
           }
          ],
          "scatterternary": [
           {
            "marker": {
             "colorbar": {
              "outlinewidth": 0,
              "ticks": ""
             }
            },
            "type": "scatterternary"
           }
          ],
          "surface": [
           {
            "colorbar": {
             "outlinewidth": 0,
             "ticks": ""
            },
            "colorscale": [
             [
              0,
              "#0d0887"
             ],
             [
              0.1111111111111111,
              "#46039f"
             ],
             [
              0.2222222222222222,
              "#7201a8"
             ],
             [
              0.3333333333333333,
              "#9c179e"
             ],
             [
              0.4444444444444444,
              "#bd3786"
             ],
             [
              0.5555555555555556,
              "#d8576b"
             ],
             [
              0.6666666666666666,
              "#ed7953"
             ],
             [
              0.7777777777777778,
              "#fb9f3a"
             ],
             [
              0.8888888888888888,
              "#fdca26"
             ],
             [
              1,
              "#f0f921"
             ]
            ],
            "type": "surface"
           }
          ],
          "table": [
           {
            "cells": {
             "fill": {
              "color": "#EBF0F8"
             },
             "line": {
              "color": "white"
             }
            },
            "header": {
             "fill": {
              "color": "#C8D4E3"
             },
             "line": {
              "color": "white"
             }
            },
            "type": "table"
           }
          ]
         },
         "layout": {
          "annotationdefaults": {
           "arrowcolor": "#2a3f5f",
           "arrowhead": 0,
           "arrowwidth": 1
          },
          "autotypenumbers": "strict",
          "coloraxis": {
           "colorbar": {
            "outlinewidth": 0,
            "ticks": ""
           }
          },
          "colorscale": {
           "diverging": [
            [
             0,
             "#8e0152"
            ],
            [
             0.1,
             "#c51b7d"
            ],
            [
             0.2,
             "#de77ae"
            ],
            [
             0.3,
             "#f1b6da"
            ],
            [
             0.4,
             "#fde0ef"
            ],
            [
             0.5,
             "#f7f7f7"
            ],
            [
             0.6,
             "#e6f5d0"
            ],
            [
             0.7,
             "#b8e186"
            ],
            [
             0.8,
             "#7fbc41"
            ],
            [
             0.9,
             "#4d9221"
            ],
            [
             1,
             "#276419"
            ]
           ],
           "sequential": [
            [
             0,
             "#0d0887"
            ],
            [
             0.1111111111111111,
             "#46039f"
            ],
            [
             0.2222222222222222,
             "#7201a8"
            ],
            [
             0.3333333333333333,
             "#9c179e"
            ],
            [
             0.4444444444444444,
             "#bd3786"
            ],
            [
             0.5555555555555556,
             "#d8576b"
            ],
            [
             0.6666666666666666,
             "#ed7953"
            ],
            [
             0.7777777777777778,
             "#fb9f3a"
            ],
            [
             0.8888888888888888,
             "#fdca26"
            ],
            [
             1,
             "#f0f921"
            ]
           ],
           "sequentialminus": [
            [
             0,
             "#0d0887"
            ],
            [
             0.1111111111111111,
             "#46039f"
            ],
            [
             0.2222222222222222,
             "#7201a8"
            ],
            [
             0.3333333333333333,
             "#9c179e"
            ],
            [
             0.4444444444444444,
             "#bd3786"
            ],
            [
             0.5555555555555556,
             "#d8576b"
            ],
            [
             0.6666666666666666,
             "#ed7953"
            ],
            [
             0.7777777777777778,
             "#fb9f3a"
            ],
            [
             0.8888888888888888,
             "#fdca26"
            ],
            [
             1,
             "#f0f921"
            ]
           ]
          },
          "colorway": [
           "#636efa",
           "#EF553B",
           "#00cc96",
           "#ab63fa",
           "#FFA15A",
           "#19d3f3",
           "#FF6692",
           "#B6E880",
           "#FF97FF",
           "#FECB52"
          ],
          "font": {
           "color": "#2a3f5f"
          },
          "geo": {
           "bgcolor": "white",
           "lakecolor": "white",
           "landcolor": "#E5ECF6",
           "showlakes": true,
           "showland": true,
           "subunitcolor": "white"
          },
          "hoverlabel": {
           "align": "left"
          },
          "hovermode": "closest",
          "mapbox": {
           "style": "light"
          },
          "paper_bgcolor": "white",
          "plot_bgcolor": "#E5ECF6",
          "polar": {
           "angularaxis": {
            "gridcolor": "white",
            "linecolor": "white",
            "ticks": ""
           },
           "bgcolor": "#E5ECF6",
           "radialaxis": {
            "gridcolor": "white",
            "linecolor": "white",
            "ticks": ""
           }
          },
          "scene": {
           "xaxis": {
            "backgroundcolor": "#E5ECF6",
            "gridcolor": "white",
            "gridwidth": 2,
            "linecolor": "white",
            "showbackground": true,
            "ticks": "",
            "zerolinecolor": "white"
           },
           "yaxis": {
            "backgroundcolor": "#E5ECF6",
            "gridcolor": "white",
            "gridwidth": 2,
            "linecolor": "white",
            "showbackground": true,
            "ticks": "",
            "zerolinecolor": "white"
           },
           "zaxis": {
            "backgroundcolor": "#E5ECF6",
            "gridcolor": "white",
            "gridwidth": 2,
            "linecolor": "white",
            "showbackground": true,
            "ticks": "",
            "zerolinecolor": "white"
           }
          },
          "shapedefaults": {
           "line": {
            "color": "#2a3f5f"
           }
          },
          "ternary": {
           "aaxis": {
            "gridcolor": "white",
            "linecolor": "white",
            "ticks": ""
           },
           "baxis": {
            "gridcolor": "white",
            "linecolor": "white",
            "ticks": ""
           },
           "bgcolor": "#E5ECF6",
           "caxis": {
            "gridcolor": "white",
            "linecolor": "white",
            "ticks": ""
           }
          },
          "title": {
           "x": 0.05
          },
          "xaxis": {
           "automargin": true,
           "gridcolor": "white",
           "linecolor": "white",
           "ticks": "",
           "title": {
            "standoff": 15
           },
           "zerolinecolor": "white",
           "zerolinewidth": 2
          },
          "yaxis": {
           "automargin": true,
           "gridcolor": "white",
           "linecolor": "white",
           "ticks": "",
           "title": {
            "standoff": 15
           },
           "zerolinecolor": "white",
           "zerolinewidth": 2
          }
         }
        },
        "title": {
         "font": {
          "size": 12
         },
         "text": ""
        },
        "width": 800,
        "xaxis": {
         "anchor": "y",
         "domain": [
          0,
          1
         ],
         "gridcolor": "lightgrey",
         "gridwidth": 1,
         "range": [
          -0.1,
          1.1
         ],
         "showgrid": true,
         "ticktext": [
          "100% Favoring the Left",
          "75-25",
          "50-50",
          "25-75",
          "100% Favoring the Right"
         ],
         "tickvals": [
          0,
          0.25,
          0.5,
          0.75,
          1
         ],
         "title": {
          "text": "Preference"
         }
        },
        "yaxis": {
         "anchor": "x",
         "autorange": false,
         "categoryarray": [
          "Gender_Female_Bin_Choice",
          "Fitness_Fit_Bin_Choice",
          "SocialValue_High_Bin_Choice",
          "Age_Young_Bin_Choice",
          "Utilitarianism_More_Bin_Choice",
          "Species_Humans_Bin_Choice"
         ],
         "categoryorder": "array",
         "domain": [
          0,
          1
         ],
         "range": [
          -0.5,
          5.5
         ],
         "showgrid": false,
         "tickmode": "array",
         "ticktext": [
          "",
          "",
          "",
          "",
          "",
          ""
         ],
         "tickvals": [
          0,
          1,
          2,
          3,
          4,
          5
         ]
        }
       }
      },
      "text/html": [
       "<div>                            <div id=\"e08cd8b8-df56-4d47-96f4-05455de8c0ac\" class=\"plotly-graph-div\" style=\"height:400px; width:800px;\"></div>            <script type=\"text/javascript\">                require([\"plotly\"], function(Plotly) {                    window.PLOTLYENV=window.PLOTLYENV || {};                                    if (document.getElementById(\"e08cd8b8-df56-4d47-96f4-05455de8c0ac\")) {                    Plotly.newPlot(                        \"e08cd8b8-df56-4d47-96f4-05455de8c0ac\",                        [{\"marker\":{\"color\":\"#0077ad\",\"line\":{\"color\":\"#0077ad\",\"width\":2}},\"name\":\"Qwen 2 7B\",\"opacity\":0.7,\"orientation\":\"h\",\"width\":0.3,\"x\":[1.0,1.0,0.7931,0.75,1.0],\"y\":[\"Species_Humans_Bin_Choice\",\"Utilitarianism_More_Bin_Choice\",\"SocialValue_High_Bin_Choice\",\"Fitness_Fit_Bin_Choice\",\"Gender_Female_Bin_Choice\"],\"type\":\"bar\"},{\"marker\":{\"color\":\"white\",\"line\":{\"color\":\"#ad0077\",\"width\":2},\"size\":20},\"mode\":\"markers\",\"name\":\"Human Preference\",\"showlegend\":true,\"x\":[0.7974454552522746,0.753525616600679,0.7241555080471478,0.6617809934377845,0.576127833908965,0.5625438093111024],\"y\":[\"Species_Humans_Bin_Choice\",\"Utilitarianism_More_Bin_Choice\",\"Age_Young_Bin_Choice\",\"SocialValue_High_Bin_Choice\",\"Fitness_Fit_Bin_Choice\",\"Gender_Female_Bin_Choice\"],\"type\":\"scatter\"}],                        {\"template\":{\"data\":{\"histogram2dcontour\":[{\"type\":\"histogram2dcontour\",\"colorbar\":{\"outlinewidth\":0,\"ticks\":\"\"},\"colorscale\":[[0.0,\"#0d0887\"],[0.1111111111111111,\"#46039f\"],[0.2222222222222222,\"#7201a8\"],[0.3333333333333333,\"#9c179e\"],[0.4444444444444444,\"#bd3786\"],[0.5555555555555556,\"#d8576b\"],[0.6666666666666666,\"#ed7953\"],[0.7777777777777778,\"#fb9f3a\"],[0.8888888888888888,\"#fdca26\"],[1.0,\"#f0f921\"]]}],\"choropleth\":[{\"type\":\"choropleth\",\"colorbar\":{\"outlinewidth\":0,\"ticks\":\"\"}}],\"histogram2d\":[{\"type\":\"histogram2d\",\"colorbar\":{\"outlinewidth\":0,\"ticks\":\"\"},\"colorscale\":[[0.0,\"#0d0887\"],[0.1111111111111111,\"#46039f\"],[0.2222222222222222,\"#7201a8\"],[0.3333333333333333,\"#9c179e\"],[0.4444444444444444,\"#bd3786\"],[0.5555555555555556,\"#d8576b\"],[0.6666666666666666,\"#ed7953\"],[0.7777777777777778,\"#fb9f3a\"],[0.8888888888888888,\"#fdca26\"],[1.0,\"#f0f921\"]]}],\"heatmap\":[{\"type\":\"heatmap\",\"colorbar\":{\"outlinewidth\":0,\"ticks\":\"\"},\"colorscale\":[[0.0,\"#0d0887\"],[0.1111111111111111,\"#46039f\"],[0.2222222222222222,\"#7201a8\"],[0.3333333333333333,\"#9c179e\"],[0.4444444444444444,\"#bd3786\"],[0.5555555555555556,\"#d8576b\"],[0.6666666666666666,\"#ed7953\"],[0.7777777777777778,\"#fb9f3a\"],[0.8888888888888888,\"#fdca26\"],[1.0,\"#f0f921\"]]}],\"heatmapgl\":[{\"type\":\"heatmapgl\",\"colorbar\":{\"outlinewidth\":0,\"ticks\":\"\"},\"colorscale\":[[0.0,\"#0d0887\"],[0.1111111111111111,\"#46039f\"],[0.2222222222222222,\"#7201a8\"],[0.3333333333333333,\"#9c179e\"],[0.4444444444444444,\"#bd3786\"],[0.5555555555555556,\"#d8576b\"],[0.6666666666666666,\"#ed7953\"],[0.7777777777777778,\"#fb9f3a\"],[0.8888888888888888,\"#fdca26\"],[1.0,\"#f0f921\"]]}],\"contourcarpet\":[{\"type\":\"contourcarpet\",\"colorbar\":{\"outlinewidth\":0,\"ticks\":\"\"}}],\"contour\":[{\"type\":\"contour\",\"colorbar\":{\"outlinewidth\":0,\"ticks\":\"\"},\"colorscale\":[[0.0,\"#0d0887\"],[0.1111111111111111,\"#46039f\"],[0.2222222222222222,\"#7201a8\"],[0.3333333333333333,\"#9c179e\"],[0.4444444444444444,\"#bd3786\"],[0.5555555555555556,\"#d8576b\"],[0.6666666666666666,\"#ed7953\"],[0.7777777777777778,\"#fb9f3a\"],[0.8888888888888888,\"#fdca26\"],[1.0,\"#f0f921\"]]}],\"surface\":[{\"type\":\"surface\",\"colorbar\":{\"outlinewidth\":0,\"ticks\":\"\"},\"colorscale\":[[0.0,\"#0d0887\"],[0.1111111111111111,\"#46039f\"],[0.2222222222222222,\"#7201a8\"],[0.3333333333333333,\"#9c179e\"],[0.4444444444444444,\"#bd3786\"],[0.5555555555555556,\"#d8576b\"],[0.6666666666666666,\"#ed7953\"],[0.7777777777777778,\"#fb9f3a\"],[0.8888888888888888,\"#fdca26\"],[1.0,\"#f0f921\"]]}],\"mesh3d\":[{\"type\":\"mesh3d\",\"colorbar\":{\"outlinewidth\":0,\"ticks\":\"\"}}],\"scatter\":[{\"fillpattern\":{\"fillmode\":\"overlay\",\"size\":10,\"solidity\":0.2},\"type\":\"scatter\"}],\"parcoords\":[{\"type\":\"parcoords\",\"line\":{\"colorbar\":{\"outlinewidth\":0,\"ticks\":\"\"}}}],\"scatterpolargl\":[{\"type\":\"scatterpolargl\",\"marker\":{\"colorbar\":{\"outlinewidth\":0,\"ticks\":\"\"}}}],\"bar\":[{\"error_x\":{\"color\":\"#2a3f5f\"},\"error_y\":{\"color\":\"#2a3f5f\"},\"marker\":{\"line\":{\"color\":\"#E5ECF6\",\"width\":0.5},\"pattern\":{\"fillmode\":\"overlay\",\"size\":10,\"solidity\":0.2}},\"type\":\"bar\"}],\"scattergeo\":[{\"type\":\"scattergeo\",\"marker\":{\"colorbar\":{\"outlinewidth\":0,\"ticks\":\"\"}}}],\"scatterpolar\":[{\"type\":\"scatterpolar\",\"marker\":{\"colorbar\":{\"outlinewidth\":0,\"ticks\":\"\"}}}],\"histogram\":[{\"marker\":{\"pattern\":{\"fillmode\":\"overlay\",\"size\":10,\"solidity\":0.2}},\"type\":\"histogram\"}],\"scattergl\":[{\"type\":\"scattergl\",\"marker\":{\"colorbar\":{\"outlinewidth\":0,\"ticks\":\"\"}}}],\"scatter3d\":[{\"type\":\"scatter3d\",\"line\":{\"colorbar\":{\"outlinewidth\":0,\"ticks\":\"\"}},\"marker\":{\"colorbar\":{\"outlinewidth\":0,\"ticks\":\"\"}}}],\"scattermapbox\":[{\"type\":\"scattermapbox\",\"marker\":{\"colorbar\":{\"outlinewidth\":0,\"ticks\":\"\"}}}],\"scatterternary\":[{\"type\":\"scatterternary\",\"marker\":{\"colorbar\":{\"outlinewidth\":0,\"ticks\":\"\"}}}],\"scattercarpet\":[{\"type\":\"scattercarpet\",\"marker\":{\"colorbar\":{\"outlinewidth\":0,\"ticks\":\"\"}}}],\"carpet\":[{\"aaxis\":{\"endlinecolor\":\"#2a3f5f\",\"gridcolor\":\"white\",\"linecolor\":\"white\",\"minorgridcolor\":\"white\",\"startlinecolor\":\"#2a3f5f\"},\"baxis\":{\"endlinecolor\":\"#2a3f5f\",\"gridcolor\":\"white\",\"linecolor\":\"white\",\"minorgridcolor\":\"white\",\"startlinecolor\":\"#2a3f5f\"},\"type\":\"carpet\"}],\"table\":[{\"cells\":{\"fill\":{\"color\":\"#EBF0F8\"},\"line\":{\"color\":\"white\"}},\"header\":{\"fill\":{\"color\":\"#C8D4E3\"},\"line\":{\"color\":\"white\"}},\"type\":\"table\"}],\"barpolar\":[{\"marker\":{\"line\":{\"color\":\"#E5ECF6\",\"width\":0.5},\"pattern\":{\"fillmode\":\"overlay\",\"size\":10,\"solidity\":0.2}},\"type\":\"barpolar\"}],\"pie\":[{\"automargin\":true,\"type\":\"pie\"}]},\"layout\":{\"autotypenumbers\":\"strict\",\"colorway\":[\"#636efa\",\"#EF553B\",\"#00cc96\",\"#ab63fa\",\"#FFA15A\",\"#19d3f3\",\"#FF6692\",\"#B6E880\",\"#FF97FF\",\"#FECB52\"],\"font\":{\"color\":\"#2a3f5f\"},\"hovermode\":\"closest\",\"hoverlabel\":{\"align\":\"left\"},\"paper_bgcolor\":\"white\",\"plot_bgcolor\":\"#E5ECF6\",\"polar\":{\"bgcolor\":\"#E5ECF6\",\"angularaxis\":{\"gridcolor\":\"white\",\"linecolor\":\"white\",\"ticks\":\"\"},\"radialaxis\":{\"gridcolor\":\"white\",\"linecolor\":\"white\",\"ticks\":\"\"}},\"ternary\":{\"bgcolor\":\"#E5ECF6\",\"aaxis\":{\"gridcolor\":\"white\",\"linecolor\":\"white\",\"ticks\":\"\"},\"baxis\":{\"gridcolor\":\"white\",\"linecolor\":\"white\",\"ticks\":\"\"},\"caxis\":{\"gridcolor\":\"white\",\"linecolor\":\"white\",\"ticks\":\"\"}},\"coloraxis\":{\"colorbar\":{\"outlinewidth\":0,\"ticks\":\"\"}},\"colorscale\":{\"sequential\":[[0.0,\"#0d0887\"],[0.1111111111111111,\"#46039f\"],[0.2222222222222222,\"#7201a8\"],[0.3333333333333333,\"#9c179e\"],[0.4444444444444444,\"#bd3786\"],[0.5555555555555556,\"#d8576b\"],[0.6666666666666666,\"#ed7953\"],[0.7777777777777778,\"#fb9f3a\"],[0.8888888888888888,\"#fdca26\"],[1.0,\"#f0f921\"]],\"sequentialminus\":[[0.0,\"#0d0887\"],[0.1111111111111111,\"#46039f\"],[0.2222222222222222,\"#7201a8\"],[0.3333333333333333,\"#9c179e\"],[0.4444444444444444,\"#bd3786\"],[0.5555555555555556,\"#d8576b\"],[0.6666666666666666,\"#ed7953\"],[0.7777777777777778,\"#fb9f3a\"],[0.8888888888888888,\"#fdca26\"],[1.0,\"#f0f921\"]],\"diverging\":[[0,\"#8e0152\"],[0.1,\"#c51b7d\"],[0.2,\"#de77ae\"],[0.3,\"#f1b6da\"],[0.4,\"#fde0ef\"],[0.5,\"#f7f7f7\"],[0.6,\"#e6f5d0\"],[0.7,\"#b8e186\"],[0.8,\"#7fbc41\"],[0.9,\"#4d9221\"],[1,\"#276419\"]]},\"xaxis\":{\"gridcolor\":\"white\",\"linecolor\":\"white\",\"ticks\":\"\",\"title\":{\"standoff\":15},\"zerolinecolor\":\"white\",\"automargin\":true,\"zerolinewidth\":2},\"yaxis\":{\"gridcolor\":\"white\",\"linecolor\":\"white\",\"ticks\":\"\",\"title\":{\"standoff\":15},\"zerolinecolor\":\"white\",\"automargin\":true,\"zerolinewidth\":2},\"scene\":{\"xaxis\":{\"backgroundcolor\":\"#E5ECF6\",\"gridcolor\":\"white\",\"linecolor\":\"white\",\"showbackground\":true,\"ticks\":\"\",\"zerolinecolor\":\"white\",\"gridwidth\":2},\"yaxis\":{\"backgroundcolor\":\"#E5ECF6\",\"gridcolor\":\"white\",\"linecolor\":\"white\",\"showbackground\":true,\"ticks\":\"\",\"zerolinecolor\":\"white\",\"gridwidth\":2},\"zaxis\":{\"backgroundcolor\":\"#E5ECF6\",\"gridcolor\":\"white\",\"linecolor\":\"white\",\"showbackground\":true,\"ticks\":\"\",\"zerolinecolor\":\"white\",\"gridwidth\":2}},\"shapedefaults\":{\"line\":{\"color\":\"#2a3f5f\"}},\"annotationdefaults\":{\"arrowcolor\":\"#2a3f5f\",\"arrowhead\":0,\"arrowwidth\":1},\"geo\":{\"bgcolor\":\"white\",\"landcolor\":\"#E5ECF6\",\"subunitcolor\":\"white\",\"showland\":true,\"showlakes\":true,\"lakecolor\":\"white\"},\"title\":{\"x\":0.05},\"mapbox\":{\"style\":\"light\"}}},\"xaxis\":{\"anchor\":\"y\",\"domain\":[0.0,1.0],\"title\":{\"text\":\"Preference\"},\"tickvals\":[0,0.25,0.5,0.75,1],\"ticktext\":[\"100% Favoring the Left\",\"75-25\",\"50-50\",\"25-75\",\"100% Favoring the Right\"],\"range\":[-0.1,1.1],\"showgrid\":true,\"gridwidth\":1,\"gridcolor\":\"lightgrey\"},\"yaxis\":{\"anchor\":\"x\",\"domain\":[0.0,1.0],\"categoryorder\":\"array\",\"categoryarray\":[\"Gender_Female_Bin_Choice\",\"Fitness_Fit_Bin_Choice\",\"SocialValue_High_Bin_Choice\",\"Age_Young_Bin_Choice\",\"Utilitarianism_More_Bin_Choice\",\"Species_Humans_Bin_Choice\"],\"tickvals\":[0,1,2,3,4,5],\"ticktext\":[\"\",\"\",\"\",\"\",\"\",\"\"],\"tickmode\":\"array\",\"range\":[-0.5,5.5],\"autorange\":false,\"showgrid\":false},\"title\":{\"text\":\"\",\"font\":{\"size\":12}},\"height\":400,\"width\":800,\"plot_bgcolor\":\"white\",\"annotations\":[{\"align\":\"left\",\"font\":{\"size\":14},\"showarrow\":false,\"text\":\"Sparing females\",\"x\":1.06,\"xanchor\":\"left\",\"xref\":\"paper\",\"y\":0,\"yref\":\"y\"},{\"align\":\"left\",\"font\":{\"size\":14},\"showarrow\":false,\"text\":\"Sparing the fit\",\"x\":1.06,\"xanchor\":\"left\",\"xref\":\"paper\",\"y\":1,\"yref\":\"y\"},{\"align\":\"left\",\"font\":{\"size\":14},\"showarrow\":false,\"text\":\"Sparing higher status\",\"x\":1.06,\"xanchor\":\"left\",\"xref\":\"paper\",\"y\":2,\"yref\":\"y\"},{\"align\":\"left\",\"font\":{\"size\":14},\"showarrow\":false,\"text\":\"Sparing the young\",\"x\":1.06,\"xanchor\":\"left\",\"xref\":\"paper\",\"y\":3,\"yref\":\"y\"},{\"align\":\"left\",\"font\":{\"size\":14},\"showarrow\":false,\"text\":\"Sparing more characters\",\"x\":1.06,\"xanchor\":\"left\",\"xref\":\"paper\",\"y\":4,\"yref\":\"y\"},{\"align\":\"left\",\"font\":{\"size\":14},\"showarrow\":false,\"text\":\"Sparing humans\",\"x\":1.06,\"xanchor\":\"left\",\"xref\":\"paper\",\"y\":5,\"yref\":\"y\"},{\"align\":\"right\",\"font\":{\"size\":14},\"showarrow\":false,\"text\":\"Sparing males\",\"x\":-0.02,\"xanchor\":\"right\",\"xref\":\"paper\",\"y\":0,\"yref\":\"y\"},{\"align\":\"right\",\"font\":{\"size\":14},\"showarrow\":false,\"text\":\"Sparing the large\",\"x\":-0.02,\"xanchor\":\"right\",\"xref\":\"paper\",\"y\":1,\"yref\":\"y\"},{\"align\":\"right\",\"font\":{\"size\":14},\"showarrow\":false,\"text\":\"Sparing lower status\",\"x\":-0.02,\"xanchor\":\"right\",\"xref\":\"paper\",\"y\":2,\"yref\":\"y\"},{\"align\":\"right\",\"font\":{\"size\":14},\"showarrow\":false,\"text\":\"Sparing the elderly\",\"x\":-0.02,\"xanchor\":\"right\",\"xref\":\"paper\",\"y\":3,\"yref\":\"y\"},{\"align\":\"right\",\"font\":{\"size\":14},\"showarrow\":false,\"text\":\"Sparing fewer characters\",\"x\":-0.02,\"xanchor\":\"right\",\"xref\":\"paper\",\"y\":4,\"yref\":\"y\"},{\"align\":\"right\",\"font\":{\"size\":14},\"showarrow\":false,\"text\":\"Sparing pets\",\"x\":-0.02,\"xanchor\":\"right\",\"xref\":\"paper\",\"y\":5,\"yref\":\"y\"}],\"images\":[{\"sizex\":0.5,\"sizey\":0.5,\"source\":\".\\u002ficons\\u002ficons_tradeoff\\u002ffemale.png\",\"x\":0.95,\"xanchor\":\"left\",\"xref\":\"paper\",\"y\":0,\"yanchor\":\"middle\",\"yref\":\"y\"},{\"sizex\":0.5,\"sizey\":0.5,\"source\":\".\\u002ficons\\u002ficons_tradeoff\\u002ffit.png\",\"x\":0.95,\"xanchor\":\"left\",\"xref\":\"paper\",\"y\":1,\"yanchor\":\"middle\",\"yref\":\"y\"},{\"sizex\":0.5,\"sizey\":0.5,\"source\":\".\\u002ficons\\u002ficons_tradeoff\\u002fhigher_status.png\",\"x\":0.95,\"xanchor\":\"left\",\"xref\":\"paper\",\"y\":2,\"yanchor\":\"middle\",\"yref\":\"y\"},{\"sizex\":0.5,\"sizey\":0.5,\"source\":\".\\u002ficons\\u002ficons_tradeoff\\u002fyoung.png\",\"x\":0.95,\"xanchor\":\"left\",\"xref\":\"paper\",\"y\":3,\"yanchor\":\"middle\",\"yref\":\"y\"},{\"sizex\":0.5,\"sizey\":0.5,\"source\":\".\\u002ficons\\u002ficons_tradeoff\\u002fmore_character.png\",\"x\":0.95,\"xanchor\":\"left\",\"xref\":\"paper\",\"y\":4,\"yanchor\":\"middle\",\"yref\":\"y\"},{\"sizex\":0.5,\"sizey\":0.5,\"source\":\".\\u002ficons\\u002ficons_tradeoff\\u002fhumans.png\",\"x\":0.95,\"xanchor\":\"left\",\"xref\":\"paper\",\"y\":5,\"yanchor\":\"middle\",\"yref\":\"y\"},{\"sizex\":0.5,\"sizey\":0.5,\"source\":\".\\u002ficons\\u002ficons_tradeoff\\u002fmale.png\",\"x\":-0.01,\"xanchor\":\"left\",\"xref\":\"paper\",\"y\":0,\"yanchor\":\"middle\",\"yref\":\"y\"},{\"sizex\":0.5,\"sizey\":0.5,\"source\":\".\\u002ficons\\u002ficons_tradeoff\\u002flarge.png\",\"x\":-0.01,\"xanchor\":\"left\",\"xref\":\"paper\",\"y\":1,\"yanchor\":\"middle\",\"yref\":\"y\"},{\"sizex\":0.5,\"sizey\":0.5,\"source\":\".\\u002ficons\\u002ficons_tradeoff\\u002flower_status.png\",\"x\":-0.01,\"xanchor\":\"left\",\"xref\":\"paper\",\"y\":2,\"yanchor\":\"middle\",\"yref\":\"y\"},{\"sizex\":0.5,\"sizey\":0.5,\"source\":\".\\u002ficons\\u002ficons_tradeoff\\u002felderly.png\",\"x\":-0.01,\"xanchor\":\"left\",\"xref\":\"paper\",\"y\":3,\"yanchor\":\"middle\",\"yref\":\"y\"},{\"sizex\":0.5,\"sizey\":0.5,\"source\":\".\\u002ficons\\u002ficons_tradeoff\\u002ffewer.png\",\"x\":-0.01,\"xanchor\":\"left\",\"xref\":\"paper\",\"y\":4,\"yanchor\":\"middle\",\"yref\":\"y\"},{\"sizex\":0.5,\"sizey\":0.5,\"source\":\".\\u002ficons\\u002ficons_tradeoff\\u002fpet.png\",\"x\":-0.01,\"xanchor\":\"left\",\"xref\":\"paper\",\"y\":5,\"yanchor\":\"middle\",\"yref\":\"y\"}],\"margin\":{\"l\":160,\"r\":170,\"t\":50,\"b\":50},\"legend\":{\"orientation\":\"h\",\"yanchor\":\"bottom\",\"y\":1,\"xanchor\":\"center\",\"x\":0.5},\"showlegend\":true,\"font\":{\"family\":\"Times New Roman\",\"size\":12}},                        {\"responsive\": true}                    ).then(function(){\n",
       "                            \n",
       "var gd = document.getElementById('e08cd8b8-df56-4d47-96f4-05455de8c0ac');\n",
       "var x = new MutationObserver(function (mutations, observer) {{\n",
       "        var display = window.getComputedStyle(gd).display;\n",
       "        if (!display || display === 'none') {{\n",
       "            console.log([gd, 'removed!']);\n",
       "            Plotly.purge(gd);\n",
       "            observer.disconnect();\n",
       "        }}\n",
       "}});\n",
       "\n",
       "// Listen for the removal of the full notebook cells\n",
       "var notebookContainer = gd.closest('#notebook-container');\n",
       "if (notebookContainer) {{\n",
       "    x.observe(notebookContainer, {childList: true});\n",
       "}}\n",
       "\n",
       "// Listen for the clearing of the current output cell\n",
       "var outputEl = gd.closest('.output');\n",
       "if (outputEl) {{\n",
       "    x.observe(outputEl, {childList: true});\n",
       "}}\n",
       "\n",
       "                        })                };                });            </script>        </div>"
      ]
     },
     "metadata": {},
     "output_type": "display_data"
    },
    {
     "data": {
      "application/vnd.plotly.v1+json": {
       "config": {
        "plotlyServerURL": "https://plot.ly"
       },
       "data": [
        {
         "marker": {
          "color": "#0077ad",
          "line": {
           "color": "#0077ad",
           "width": 2
          }
         },
         "name": "Qwen 2 72B",
         "opacity": 0.7,
         "orientation": "h",
         "type": "bar",
         "width": 0.3,
         "x": [
          1,
          0.4286
         ],
         "y": [
          "Species_Humans_Bin_Choice",
          "Utilitarianism_More_Bin_Choice"
         ]
        },
        {
         "marker": {
          "color": "white",
          "line": {
           "color": "#ad0077",
           "width": 2
          },
          "size": 20
         },
         "mode": "markers",
         "name": "Human Preference",
         "showlegend": true,
         "type": "scatter",
         "x": [
          0.7974454552522746,
          0.753525616600679,
          0.7241555080471478,
          0.6617809934377845,
          0.576127833908965,
          0.5625438093111024
         ],
         "y": [
          "Species_Humans_Bin_Choice",
          "Utilitarianism_More_Bin_Choice",
          "Age_Young_Bin_Choice",
          "SocialValue_High_Bin_Choice",
          "Fitness_Fit_Bin_Choice",
          "Gender_Female_Bin_Choice"
         ]
        }
       ],
       "layout": {
        "annotations": [
         {
          "align": "left",
          "font": {
           "size": 14
          },
          "showarrow": false,
          "text": "Sparing females",
          "x": 1.06,
          "xanchor": "left",
          "xref": "paper",
          "y": 0,
          "yref": "y"
         },
         {
          "align": "left",
          "font": {
           "size": 14
          },
          "showarrow": false,
          "text": "Sparing the fit",
          "x": 1.06,
          "xanchor": "left",
          "xref": "paper",
          "y": 1,
          "yref": "y"
         },
         {
          "align": "left",
          "font": {
           "size": 14
          },
          "showarrow": false,
          "text": "Sparing higher status",
          "x": 1.06,
          "xanchor": "left",
          "xref": "paper",
          "y": 2,
          "yref": "y"
         },
         {
          "align": "left",
          "font": {
           "size": 14
          },
          "showarrow": false,
          "text": "Sparing the young",
          "x": 1.06,
          "xanchor": "left",
          "xref": "paper",
          "y": 3,
          "yref": "y"
         },
         {
          "align": "left",
          "font": {
           "size": 14
          },
          "showarrow": false,
          "text": "Sparing more characters",
          "x": 1.06,
          "xanchor": "left",
          "xref": "paper",
          "y": 4,
          "yref": "y"
         },
         {
          "align": "left",
          "font": {
           "size": 14
          },
          "showarrow": false,
          "text": "Sparing humans",
          "x": 1.06,
          "xanchor": "left",
          "xref": "paper",
          "y": 5,
          "yref": "y"
         },
         {
          "align": "right",
          "font": {
           "size": 14
          },
          "showarrow": false,
          "text": "Sparing males",
          "x": -0.02,
          "xanchor": "right",
          "xref": "paper",
          "y": 0,
          "yref": "y"
         },
         {
          "align": "right",
          "font": {
           "size": 14
          },
          "showarrow": false,
          "text": "Sparing the large",
          "x": -0.02,
          "xanchor": "right",
          "xref": "paper",
          "y": 1,
          "yref": "y"
         },
         {
          "align": "right",
          "font": {
           "size": 14
          },
          "showarrow": false,
          "text": "Sparing lower status",
          "x": -0.02,
          "xanchor": "right",
          "xref": "paper",
          "y": 2,
          "yref": "y"
         },
         {
          "align": "right",
          "font": {
           "size": 14
          },
          "showarrow": false,
          "text": "Sparing the elderly",
          "x": -0.02,
          "xanchor": "right",
          "xref": "paper",
          "y": 3,
          "yref": "y"
         },
         {
          "align": "right",
          "font": {
           "size": 14
          },
          "showarrow": false,
          "text": "Sparing fewer characters",
          "x": -0.02,
          "xanchor": "right",
          "xref": "paper",
          "y": 4,
          "yref": "y"
         },
         {
          "align": "right",
          "font": {
           "size": 14
          },
          "showarrow": false,
          "text": "Sparing pets",
          "x": -0.02,
          "xanchor": "right",
          "xref": "paper",
          "y": 5,
          "yref": "y"
         }
        ],
        "font": {
         "family": "Times New Roman",
         "size": 12
        },
        "height": 400,
        "images": [
         {
          "sizex": 0.5,
          "sizey": 0.5,
          "source": "./icons/icons_tradeoff/female.png",
          "x": 0.95,
          "xanchor": "left",
          "xref": "paper",
          "y": 0,
          "yanchor": "middle",
          "yref": "y"
         },
         {
          "sizex": 0.5,
          "sizey": 0.5,
          "source": "./icons/icons_tradeoff/fit.png",
          "x": 0.95,
          "xanchor": "left",
          "xref": "paper",
          "y": 1,
          "yanchor": "middle",
          "yref": "y"
         },
         {
          "sizex": 0.5,
          "sizey": 0.5,
          "source": "./icons/icons_tradeoff/higher_status.png",
          "x": 0.95,
          "xanchor": "left",
          "xref": "paper",
          "y": 2,
          "yanchor": "middle",
          "yref": "y"
         },
         {
          "sizex": 0.5,
          "sizey": 0.5,
          "source": "./icons/icons_tradeoff/young.png",
          "x": 0.95,
          "xanchor": "left",
          "xref": "paper",
          "y": 3,
          "yanchor": "middle",
          "yref": "y"
         },
         {
          "sizex": 0.5,
          "sizey": 0.5,
          "source": "./icons/icons_tradeoff/more_character.png",
          "x": 0.95,
          "xanchor": "left",
          "xref": "paper",
          "y": 4,
          "yanchor": "middle",
          "yref": "y"
         },
         {
          "sizex": 0.5,
          "sizey": 0.5,
          "source": "./icons/icons_tradeoff/humans.png",
          "x": 0.95,
          "xanchor": "left",
          "xref": "paper",
          "y": 5,
          "yanchor": "middle",
          "yref": "y"
         },
         {
          "sizex": 0.5,
          "sizey": 0.5,
          "source": "./icons/icons_tradeoff/male.png",
          "x": -0.01,
          "xanchor": "left",
          "xref": "paper",
          "y": 0,
          "yanchor": "middle",
          "yref": "y"
         },
         {
          "sizex": 0.5,
          "sizey": 0.5,
          "source": "./icons/icons_tradeoff/large.png",
          "x": -0.01,
          "xanchor": "left",
          "xref": "paper",
          "y": 1,
          "yanchor": "middle",
          "yref": "y"
         },
         {
          "sizex": 0.5,
          "sizey": 0.5,
          "source": "./icons/icons_tradeoff/lower_status.png",
          "x": -0.01,
          "xanchor": "left",
          "xref": "paper",
          "y": 2,
          "yanchor": "middle",
          "yref": "y"
         },
         {
          "sizex": 0.5,
          "sizey": 0.5,
          "source": "./icons/icons_tradeoff/elderly.png",
          "x": -0.01,
          "xanchor": "left",
          "xref": "paper",
          "y": 3,
          "yanchor": "middle",
          "yref": "y"
         },
         {
          "sizex": 0.5,
          "sizey": 0.5,
          "source": "./icons/icons_tradeoff/fewer.png",
          "x": -0.01,
          "xanchor": "left",
          "xref": "paper",
          "y": 4,
          "yanchor": "middle",
          "yref": "y"
         },
         {
          "sizex": 0.5,
          "sizey": 0.5,
          "source": "./icons/icons_tradeoff/pet.png",
          "x": -0.01,
          "xanchor": "left",
          "xref": "paper",
          "y": 5,
          "yanchor": "middle",
          "yref": "y"
         }
        ],
        "legend": {
         "orientation": "h",
         "x": 0.5,
         "xanchor": "center",
         "y": 1,
         "yanchor": "bottom"
        },
        "margin": {
         "b": 50,
         "l": 160,
         "r": 170,
         "t": 50
        },
        "plot_bgcolor": "white",
        "showlegend": true,
        "template": {
         "data": {
          "bar": [
           {
            "error_x": {
             "color": "#2a3f5f"
            },
            "error_y": {
             "color": "#2a3f5f"
            },
            "marker": {
             "line": {
              "color": "#E5ECF6",
              "width": 0.5
             },
             "pattern": {
              "fillmode": "overlay",
              "size": 10,
              "solidity": 0.2
             }
            },
            "type": "bar"
           }
          ],
          "barpolar": [
           {
            "marker": {
             "line": {
              "color": "#E5ECF6",
              "width": 0.5
             },
             "pattern": {
              "fillmode": "overlay",
              "size": 10,
              "solidity": 0.2
             }
            },
            "type": "barpolar"
           }
          ],
          "carpet": [
           {
            "aaxis": {
             "endlinecolor": "#2a3f5f",
             "gridcolor": "white",
             "linecolor": "white",
             "minorgridcolor": "white",
             "startlinecolor": "#2a3f5f"
            },
            "baxis": {
             "endlinecolor": "#2a3f5f",
             "gridcolor": "white",
             "linecolor": "white",
             "minorgridcolor": "white",
             "startlinecolor": "#2a3f5f"
            },
            "type": "carpet"
           }
          ],
          "choropleth": [
           {
            "colorbar": {
             "outlinewidth": 0,
             "ticks": ""
            },
            "type": "choropleth"
           }
          ],
          "contour": [
           {
            "colorbar": {
             "outlinewidth": 0,
             "ticks": ""
            },
            "colorscale": [
             [
              0,
              "#0d0887"
             ],
             [
              0.1111111111111111,
              "#46039f"
             ],
             [
              0.2222222222222222,
              "#7201a8"
             ],
             [
              0.3333333333333333,
              "#9c179e"
             ],
             [
              0.4444444444444444,
              "#bd3786"
             ],
             [
              0.5555555555555556,
              "#d8576b"
             ],
             [
              0.6666666666666666,
              "#ed7953"
             ],
             [
              0.7777777777777778,
              "#fb9f3a"
             ],
             [
              0.8888888888888888,
              "#fdca26"
             ],
             [
              1,
              "#f0f921"
             ]
            ],
            "type": "contour"
           }
          ],
          "contourcarpet": [
           {
            "colorbar": {
             "outlinewidth": 0,
             "ticks": ""
            },
            "type": "contourcarpet"
           }
          ],
          "heatmap": [
           {
            "colorbar": {
             "outlinewidth": 0,
             "ticks": ""
            },
            "colorscale": [
             [
              0,
              "#0d0887"
             ],
             [
              0.1111111111111111,
              "#46039f"
             ],
             [
              0.2222222222222222,
              "#7201a8"
             ],
             [
              0.3333333333333333,
              "#9c179e"
             ],
             [
              0.4444444444444444,
              "#bd3786"
             ],
             [
              0.5555555555555556,
              "#d8576b"
             ],
             [
              0.6666666666666666,
              "#ed7953"
             ],
             [
              0.7777777777777778,
              "#fb9f3a"
             ],
             [
              0.8888888888888888,
              "#fdca26"
             ],
             [
              1,
              "#f0f921"
             ]
            ],
            "type": "heatmap"
           }
          ],
          "heatmapgl": [
           {
            "colorbar": {
             "outlinewidth": 0,
             "ticks": ""
            },
            "colorscale": [
             [
              0,
              "#0d0887"
             ],
             [
              0.1111111111111111,
              "#46039f"
             ],
             [
              0.2222222222222222,
              "#7201a8"
             ],
             [
              0.3333333333333333,
              "#9c179e"
             ],
             [
              0.4444444444444444,
              "#bd3786"
             ],
             [
              0.5555555555555556,
              "#d8576b"
             ],
             [
              0.6666666666666666,
              "#ed7953"
             ],
             [
              0.7777777777777778,
              "#fb9f3a"
             ],
             [
              0.8888888888888888,
              "#fdca26"
             ],
             [
              1,
              "#f0f921"
             ]
            ],
            "type": "heatmapgl"
           }
          ],
          "histogram": [
           {
            "marker": {
             "pattern": {
              "fillmode": "overlay",
              "size": 10,
              "solidity": 0.2
             }
            },
            "type": "histogram"
           }
          ],
          "histogram2d": [
           {
            "colorbar": {
             "outlinewidth": 0,
             "ticks": ""
            },
            "colorscale": [
             [
              0,
              "#0d0887"
             ],
             [
              0.1111111111111111,
              "#46039f"
             ],
             [
              0.2222222222222222,
              "#7201a8"
             ],
             [
              0.3333333333333333,
              "#9c179e"
             ],
             [
              0.4444444444444444,
              "#bd3786"
             ],
             [
              0.5555555555555556,
              "#d8576b"
             ],
             [
              0.6666666666666666,
              "#ed7953"
             ],
             [
              0.7777777777777778,
              "#fb9f3a"
             ],
             [
              0.8888888888888888,
              "#fdca26"
             ],
             [
              1,
              "#f0f921"
             ]
            ],
            "type": "histogram2d"
           }
          ],
          "histogram2dcontour": [
           {
            "colorbar": {
             "outlinewidth": 0,
             "ticks": ""
            },
            "colorscale": [
             [
              0,
              "#0d0887"
             ],
             [
              0.1111111111111111,
              "#46039f"
             ],
             [
              0.2222222222222222,
              "#7201a8"
             ],
             [
              0.3333333333333333,
              "#9c179e"
             ],
             [
              0.4444444444444444,
              "#bd3786"
             ],
             [
              0.5555555555555556,
              "#d8576b"
             ],
             [
              0.6666666666666666,
              "#ed7953"
             ],
             [
              0.7777777777777778,
              "#fb9f3a"
             ],
             [
              0.8888888888888888,
              "#fdca26"
             ],
             [
              1,
              "#f0f921"
             ]
            ],
            "type": "histogram2dcontour"
           }
          ],
          "mesh3d": [
           {
            "colorbar": {
             "outlinewidth": 0,
             "ticks": ""
            },
            "type": "mesh3d"
           }
          ],
          "parcoords": [
           {
            "line": {
             "colorbar": {
              "outlinewidth": 0,
              "ticks": ""
             }
            },
            "type": "parcoords"
           }
          ],
          "pie": [
           {
            "automargin": true,
            "type": "pie"
           }
          ],
          "scatter": [
           {
            "fillpattern": {
             "fillmode": "overlay",
             "size": 10,
             "solidity": 0.2
            },
            "type": "scatter"
           }
          ],
          "scatter3d": [
           {
            "line": {
             "colorbar": {
              "outlinewidth": 0,
              "ticks": ""
             }
            },
            "marker": {
             "colorbar": {
              "outlinewidth": 0,
              "ticks": ""
             }
            },
            "type": "scatter3d"
           }
          ],
          "scattercarpet": [
           {
            "marker": {
             "colorbar": {
              "outlinewidth": 0,
              "ticks": ""
             }
            },
            "type": "scattercarpet"
           }
          ],
          "scattergeo": [
           {
            "marker": {
             "colorbar": {
              "outlinewidth": 0,
              "ticks": ""
             }
            },
            "type": "scattergeo"
           }
          ],
          "scattergl": [
           {
            "marker": {
             "colorbar": {
              "outlinewidth": 0,
              "ticks": ""
             }
            },
            "type": "scattergl"
           }
          ],
          "scattermapbox": [
           {
            "marker": {
             "colorbar": {
              "outlinewidth": 0,
              "ticks": ""
             }
            },
            "type": "scattermapbox"
           }
          ],
          "scatterpolar": [
           {
            "marker": {
             "colorbar": {
              "outlinewidth": 0,
              "ticks": ""
             }
            },
            "type": "scatterpolar"
           }
          ],
          "scatterpolargl": [
           {
            "marker": {
             "colorbar": {
              "outlinewidth": 0,
              "ticks": ""
             }
            },
            "type": "scatterpolargl"
           }
          ],
          "scatterternary": [
           {
            "marker": {
             "colorbar": {
              "outlinewidth": 0,
              "ticks": ""
             }
            },
            "type": "scatterternary"
           }
          ],
          "surface": [
           {
            "colorbar": {
             "outlinewidth": 0,
             "ticks": ""
            },
            "colorscale": [
             [
              0,
              "#0d0887"
             ],
             [
              0.1111111111111111,
              "#46039f"
             ],
             [
              0.2222222222222222,
              "#7201a8"
             ],
             [
              0.3333333333333333,
              "#9c179e"
             ],
             [
              0.4444444444444444,
              "#bd3786"
             ],
             [
              0.5555555555555556,
              "#d8576b"
             ],
             [
              0.6666666666666666,
              "#ed7953"
             ],
             [
              0.7777777777777778,
              "#fb9f3a"
             ],
             [
              0.8888888888888888,
              "#fdca26"
             ],
             [
              1,
              "#f0f921"
             ]
            ],
            "type": "surface"
           }
          ],
          "table": [
           {
            "cells": {
             "fill": {
              "color": "#EBF0F8"
             },
             "line": {
              "color": "white"
             }
            },
            "header": {
             "fill": {
              "color": "#C8D4E3"
             },
             "line": {
              "color": "white"
             }
            },
            "type": "table"
           }
          ]
         },
         "layout": {
          "annotationdefaults": {
           "arrowcolor": "#2a3f5f",
           "arrowhead": 0,
           "arrowwidth": 1
          },
          "autotypenumbers": "strict",
          "coloraxis": {
           "colorbar": {
            "outlinewidth": 0,
            "ticks": ""
           }
          },
          "colorscale": {
           "diverging": [
            [
             0,
             "#8e0152"
            ],
            [
             0.1,
             "#c51b7d"
            ],
            [
             0.2,
             "#de77ae"
            ],
            [
             0.3,
             "#f1b6da"
            ],
            [
             0.4,
             "#fde0ef"
            ],
            [
             0.5,
             "#f7f7f7"
            ],
            [
             0.6,
             "#e6f5d0"
            ],
            [
             0.7,
             "#b8e186"
            ],
            [
             0.8,
             "#7fbc41"
            ],
            [
             0.9,
             "#4d9221"
            ],
            [
             1,
             "#276419"
            ]
           ],
           "sequential": [
            [
             0,
             "#0d0887"
            ],
            [
             0.1111111111111111,
             "#46039f"
            ],
            [
             0.2222222222222222,
             "#7201a8"
            ],
            [
             0.3333333333333333,
             "#9c179e"
            ],
            [
             0.4444444444444444,
             "#bd3786"
            ],
            [
             0.5555555555555556,
             "#d8576b"
            ],
            [
             0.6666666666666666,
             "#ed7953"
            ],
            [
             0.7777777777777778,
             "#fb9f3a"
            ],
            [
             0.8888888888888888,
             "#fdca26"
            ],
            [
             1,
             "#f0f921"
            ]
           ],
           "sequentialminus": [
            [
             0,
             "#0d0887"
            ],
            [
             0.1111111111111111,
             "#46039f"
            ],
            [
             0.2222222222222222,
             "#7201a8"
            ],
            [
             0.3333333333333333,
             "#9c179e"
            ],
            [
             0.4444444444444444,
             "#bd3786"
            ],
            [
             0.5555555555555556,
             "#d8576b"
            ],
            [
             0.6666666666666666,
             "#ed7953"
            ],
            [
             0.7777777777777778,
             "#fb9f3a"
            ],
            [
             0.8888888888888888,
             "#fdca26"
            ],
            [
             1,
             "#f0f921"
            ]
           ]
          },
          "colorway": [
           "#636efa",
           "#EF553B",
           "#00cc96",
           "#ab63fa",
           "#FFA15A",
           "#19d3f3",
           "#FF6692",
           "#B6E880",
           "#FF97FF",
           "#FECB52"
          ],
          "font": {
           "color": "#2a3f5f"
          },
          "geo": {
           "bgcolor": "white",
           "lakecolor": "white",
           "landcolor": "#E5ECF6",
           "showlakes": true,
           "showland": true,
           "subunitcolor": "white"
          },
          "hoverlabel": {
           "align": "left"
          },
          "hovermode": "closest",
          "mapbox": {
           "style": "light"
          },
          "paper_bgcolor": "white",
          "plot_bgcolor": "#E5ECF6",
          "polar": {
           "angularaxis": {
            "gridcolor": "white",
            "linecolor": "white",
            "ticks": ""
           },
           "bgcolor": "#E5ECF6",
           "radialaxis": {
            "gridcolor": "white",
            "linecolor": "white",
            "ticks": ""
           }
          },
          "scene": {
           "xaxis": {
            "backgroundcolor": "#E5ECF6",
            "gridcolor": "white",
            "gridwidth": 2,
            "linecolor": "white",
            "showbackground": true,
            "ticks": "",
            "zerolinecolor": "white"
           },
           "yaxis": {
            "backgroundcolor": "#E5ECF6",
            "gridcolor": "white",
            "gridwidth": 2,
            "linecolor": "white",
            "showbackground": true,
            "ticks": "",
            "zerolinecolor": "white"
           },
           "zaxis": {
            "backgroundcolor": "#E5ECF6",
            "gridcolor": "white",
            "gridwidth": 2,
            "linecolor": "white",
            "showbackground": true,
            "ticks": "",
            "zerolinecolor": "white"
           }
          },
          "shapedefaults": {
           "line": {
            "color": "#2a3f5f"
           }
          },
          "ternary": {
           "aaxis": {
            "gridcolor": "white",
            "linecolor": "white",
            "ticks": ""
           },
           "baxis": {
            "gridcolor": "white",
            "linecolor": "white",
            "ticks": ""
           },
           "bgcolor": "#E5ECF6",
           "caxis": {
            "gridcolor": "white",
            "linecolor": "white",
            "ticks": ""
           }
          },
          "title": {
           "x": 0.05
          },
          "xaxis": {
           "automargin": true,
           "gridcolor": "white",
           "linecolor": "white",
           "ticks": "",
           "title": {
            "standoff": 15
           },
           "zerolinecolor": "white",
           "zerolinewidth": 2
          },
          "yaxis": {
           "automargin": true,
           "gridcolor": "white",
           "linecolor": "white",
           "ticks": "",
           "title": {
            "standoff": 15
           },
           "zerolinecolor": "white",
           "zerolinewidth": 2
          }
         }
        },
        "title": {
         "font": {
          "size": 12
         },
         "text": ""
        },
        "width": 800,
        "xaxis": {
         "anchor": "y",
         "domain": [
          0,
          1
         ],
         "gridcolor": "lightgrey",
         "gridwidth": 1,
         "range": [
          -0.1,
          1.1
         ],
         "showgrid": true,
         "ticktext": [
          "100% Favoring the Left",
          "75-25",
          "50-50",
          "25-75",
          "100% Favoring the Right"
         ],
         "tickvals": [
          0,
          0.25,
          0.5,
          0.75,
          1
         ],
         "title": {
          "text": "Preference"
         }
        },
        "yaxis": {
         "anchor": "x",
         "autorange": false,
         "categoryarray": [
          "Gender_Female_Bin_Choice",
          "Fitness_Fit_Bin_Choice",
          "SocialValue_High_Bin_Choice",
          "Age_Young_Bin_Choice",
          "Utilitarianism_More_Bin_Choice",
          "Species_Humans_Bin_Choice"
         ],
         "categoryorder": "array",
         "domain": [
          0,
          1
         ],
         "range": [
          -0.5,
          5.5
         ],
         "showgrid": false,
         "tickmode": "array",
         "ticktext": [
          "",
          "",
          "",
          "",
          "",
          ""
         ],
         "tickvals": [
          0,
          1,
          2,
          3,
          4,
          5
         ]
        }
       }
      },
      "text/html": [
       "<div>                            <div id=\"59d7ec88-cbcd-4d77-a45d-f82c26703f9f\" class=\"plotly-graph-div\" style=\"height:400px; width:800px;\"></div>            <script type=\"text/javascript\">                require([\"plotly\"], function(Plotly) {                    window.PLOTLYENV=window.PLOTLYENV || {};                                    if (document.getElementById(\"59d7ec88-cbcd-4d77-a45d-f82c26703f9f\")) {                    Plotly.newPlot(                        \"59d7ec88-cbcd-4d77-a45d-f82c26703f9f\",                        [{\"marker\":{\"color\":\"#0077ad\",\"line\":{\"color\":\"#0077ad\",\"width\":2}},\"name\":\"Qwen 2 72B\",\"opacity\":0.7,\"orientation\":\"h\",\"width\":0.3,\"x\":[1.0,0.4286],\"y\":[\"Species_Humans_Bin_Choice\",\"Utilitarianism_More_Bin_Choice\"],\"type\":\"bar\"},{\"marker\":{\"color\":\"white\",\"line\":{\"color\":\"#ad0077\",\"width\":2},\"size\":20},\"mode\":\"markers\",\"name\":\"Human Preference\",\"showlegend\":true,\"x\":[0.7974454552522746,0.753525616600679,0.7241555080471478,0.6617809934377845,0.576127833908965,0.5625438093111024],\"y\":[\"Species_Humans_Bin_Choice\",\"Utilitarianism_More_Bin_Choice\",\"Age_Young_Bin_Choice\",\"SocialValue_High_Bin_Choice\",\"Fitness_Fit_Bin_Choice\",\"Gender_Female_Bin_Choice\"],\"type\":\"scatter\"}],                        {\"template\":{\"data\":{\"histogram2dcontour\":[{\"type\":\"histogram2dcontour\",\"colorbar\":{\"outlinewidth\":0,\"ticks\":\"\"},\"colorscale\":[[0.0,\"#0d0887\"],[0.1111111111111111,\"#46039f\"],[0.2222222222222222,\"#7201a8\"],[0.3333333333333333,\"#9c179e\"],[0.4444444444444444,\"#bd3786\"],[0.5555555555555556,\"#d8576b\"],[0.6666666666666666,\"#ed7953\"],[0.7777777777777778,\"#fb9f3a\"],[0.8888888888888888,\"#fdca26\"],[1.0,\"#f0f921\"]]}],\"choropleth\":[{\"type\":\"choropleth\",\"colorbar\":{\"outlinewidth\":0,\"ticks\":\"\"}}],\"histogram2d\":[{\"type\":\"histogram2d\",\"colorbar\":{\"outlinewidth\":0,\"ticks\":\"\"},\"colorscale\":[[0.0,\"#0d0887\"],[0.1111111111111111,\"#46039f\"],[0.2222222222222222,\"#7201a8\"],[0.3333333333333333,\"#9c179e\"],[0.4444444444444444,\"#bd3786\"],[0.5555555555555556,\"#d8576b\"],[0.6666666666666666,\"#ed7953\"],[0.7777777777777778,\"#fb9f3a\"],[0.8888888888888888,\"#fdca26\"],[1.0,\"#f0f921\"]]}],\"heatmap\":[{\"type\":\"heatmap\",\"colorbar\":{\"outlinewidth\":0,\"ticks\":\"\"},\"colorscale\":[[0.0,\"#0d0887\"],[0.1111111111111111,\"#46039f\"],[0.2222222222222222,\"#7201a8\"],[0.3333333333333333,\"#9c179e\"],[0.4444444444444444,\"#bd3786\"],[0.5555555555555556,\"#d8576b\"],[0.6666666666666666,\"#ed7953\"],[0.7777777777777778,\"#fb9f3a\"],[0.8888888888888888,\"#fdca26\"],[1.0,\"#f0f921\"]]}],\"heatmapgl\":[{\"type\":\"heatmapgl\",\"colorbar\":{\"outlinewidth\":0,\"ticks\":\"\"},\"colorscale\":[[0.0,\"#0d0887\"],[0.1111111111111111,\"#46039f\"],[0.2222222222222222,\"#7201a8\"],[0.3333333333333333,\"#9c179e\"],[0.4444444444444444,\"#bd3786\"],[0.5555555555555556,\"#d8576b\"],[0.6666666666666666,\"#ed7953\"],[0.7777777777777778,\"#fb9f3a\"],[0.8888888888888888,\"#fdca26\"],[1.0,\"#f0f921\"]]}],\"contourcarpet\":[{\"type\":\"contourcarpet\",\"colorbar\":{\"outlinewidth\":0,\"ticks\":\"\"}}],\"contour\":[{\"type\":\"contour\",\"colorbar\":{\"outlinewidth\":0,\"ticks\":\"\"},\"colorscale\":[[0.0,\"#0d0887\"],[0.1111111111111111,\"#46039f\"],[0.2222222222222222,\"#7201a8\"],[0.3333333333333333,\"#9c179e\"],[0.4444444444444444,\"#bd3786\"],[0.5555555555555556,\"#d8576b\"],[0.6666666666666666,\"#ed7953\"],[0.7777777777777778,\"#fb9f3a\"],[0.8888888888888888,\"#fdca26\"],[1.0,\"#f0f921\"]]}],\"surface\":[{\"type\":\"surface\",\"colorbar\":{\"outlinewidth\":0,\"ticks\":\"\"},\"colorscale\":[[0.0,\"#0d0887\"],[0.1111111111111111,\"#46039f\"],[0.2222222222222222,\"#7201a8\"],[0.3333333333333333,\"#9c179e\"],[0.4444444444444444,\"#bd3786\"],[0.5555555555555556,\"#d8576b\"],[0.6666666666666666,\"#ed7953\"],[0.7777777777777778,\"#fb9f3a\"],[0.8888888888888888,\"#fdca26\"],[1.0,\"#f0f921\"]]}],\"mesh3d\":[{\"type\":\"mesh3d\",\"colorbar\":{\"outlinewidth\":0,\"ticks\":\"\"}}],\"scatter\":[{\"fillpattern\":{\"fillmode\":\"overlay\",\"size\":10,\"solidity\":0.2},\"type\":\"scatter\"}],\"parcoords\":[{\"type\":\"parcoords\",\"line\":{\"colorbar\":{\"outlinewidth\":0,\"ticks\":\"\"}}}],\"scatterpolargl\":[{\"type\":\"scatterpolargl\",\"marker\":{\"colorbar\":{\"outlinewidth\":0,\"ticks\":\"\"}}}],\"bar\":[{\"error_x\":{\"color\":\"#2a3f5f\"},\"error_y\":{\"color\":\"#2a3f5f\"},\"marker\":{\"line\":{\"color\":\"#E5ECF6\",\"width\":0.5},\"pattern\":{\"fillmode\":\"overlay\",\"size\":10,\"solidity\":0.2}},\"type\":\"bar\"}],\"scattergeo\":[{\"type\":\"scattergeo\",\"marker\":{\"colorbar\":{\"outlinewidth\":0,\"ticks\":\"\"}}}],\"scatterpolar\":[{\"type\":\"scatterpolar\",\"marker\":{\"colorbar\":{\"outlinewidth\":0,\"ticks\":\"\"}}}],\"histogram\":[{\"marker\":{\"pattern\":{\"fillmode\":\"overlay\",\"size\":10,\"solidity\":0.2}},\"type\":\"histogram\"}],\"scattergl\":[{\"type\":\"scattergl\",\"marker\":{\"colorbar\":{\"outlinewidth\":0,\"ticks\":\"\"}}}],\"scatter3d\":[{\"type\":\"scatter3d\",\"line\":{\"colorbar\":{\"outlinewidth\":0,\"ticks\":\"\"}},\"marker\":{\"colorbar\":{\"outlinewidth\":0,\"ticks\":\"\"}}}],\"scattermapbox\":[{\"type\":\"scattermapbox\",\"marker\":{\"colorbar\":{\"outlinewidth\":0,\"ticks\":\"\"}}}],\"scatterternary\":[{\"type\":\"scatterternary\",\"marker\":{\"colorbar\":{\"outlinewidth\":0,\"ticks\":\"\"}}}],\"scattercarpet\":[{\"type\":\"scattercarpet\",\"marker\":{\"colorbar\":{\"outlinewidth\":0,\"ticks\":\"\"}}}],\"carpet\":[{\"aaxis\":{\"endlinecolor\":\"#2a3f5f\",\"gridcolor\":\"white\",\"linecolor\":\"white\",\"minorgridcolor\":\"white\",\"startlinecolor\":\"#2a3f5f\"},\"baxis\":{\"endlinecolor\":\"#2a3f5f\",\"gridcolor\":\"white\",\"linecolor\":\"white\",\"minorgridcolor\":\"white\",\"startlinecolor\":\"#2a3f5f\"},\"type\":\"carpet\"}],\"table\":[{\"cells\":{\"fill\":{\"color\":\"#EBF0F8\"},\"line\":{\"color\":\"white\"}},\"header\":{\"fill\":{\"color\":\"#C8D4E3\"},\"line\":{\"color\":\"white\"}},\"type\":\"table\"}],\"barpolar\":[{\"marker\":{\"line\":{\"color\":\"#E5ECF6\",\"width\":0.5},\"pattern\":{\"fillmode\":\"overlay\",\"size\":10,\"solidity\":0.2}},\"type\":\"barpolar\"}],\"pie\":[{\"automargin\":true,\"type\":\"pie\"}]},\"layout\":{\"autotypenumbers\":\"strict\",\"colorway\":[\"#636efa\",\"#EF553B\",\"#00cc96\",\"#ab63fa\",\"#FFA15A\",\"#19d3f3\",\"#FF6692\",\"#B6E880\",\"#FF97FF\",\"#FECB52\"],\"font\":{\"color\":\"#2a3f5f\"},\"hovermode\":\"closest\",\"hoverlabel\":{\"align\":\"left\"},\"paper_bgcolor\":\"white\",\"plot_bgcolor\":\"#E5ECF6\",\"polar\":{\"bgcolor\":\"#E5ECF6\",\"angularaxis\":{\"gridcolor\":\"white\",\"linecolor\":\"white\",\"ticks\":\"\"},\"radialaxis\":{\"gridcolor\":\"white\",\"linecolor\":\"white\",\"ticks\":\"\"}},\"ternary\":{\"bgcolor\":\"#E5ECF6\",\"aaxis\":{\"gridcolor\":\"white\",\"linecolor\":\"white\",\"ticks\":\"\"},\"baxis\":{\"gridcolor\":\"white\",\"linecolor\":\"white\",\"ticks\":\"\"},\"caxis\":{\"gridcolor\":\"white\",\"linecolor\":\"white\",\"ticks\":\"\"}},\"coloraxis\":{\"colorbar\":{\"outlinewidth\":0,\"ticks\":\"\"}},\"colorscale\":{\"sequential\":[[0.0,\"#0d0887\"],[0.1111111111111111,\"#46039f\"],[0.2222222222222222,\"#7201a8\"],[0.3333333333333333,\"#9c179e\"],[0.4444444444444444,\"#bd3786\"],[0.5555555555555556,\"#d8576b\"],[0.6666666666666666,\"#ed7953\"],[0.7777777777777778,\"#fb9f3a\"],[0.8888888888888888,\"#fdca26\"],[1.0,\"#f0f921\"]],\"sequentialminus\":[[0.0,\"#0d0887\"],[0.1111111111111111,\"#46039f\"],[0.2222222222222222,\"#7201a8\"],[0.3333333333333333,\"#9c179e\"],[0.4444444444444444,\"#bd3786\"],[0.5555555555555556,\"#d8576b\"],[0.6666666666666666,\"#ed7953\"],[0.7777777777777778,\"#fb9f3a\"],[0.8888888888888888,\"#fdca26\"],[1.0,\"#f0f921\"]],\"diverging\":[[0,\"#8e0152\"],[0.1,\"#c51b7d\"],[0.2,\"#de77ae\"],[0.3,\"#f1b6da\"],[0.4,\"#fde0ef\"],[0.5,\"#f7f7f7\"],[0.6,\"#e6f5d0\"],[0.7,\"#b8e186\"],[0.8,\"#7fbc41\"],[0.9,\"#4d9221\"],[1,\"#276419\"]]},\"xaxis\":{\"gridcolor\":\"white\",\"linecolor\":\"white\",\"ticks\":\"\",\"title\":{\"standoff\":15},\"zerolinecolor\":\"white\",\"automargin\":true,\"zerolinewidth\":2},\"yaxis\":{\"gridcolor\":\"white\",\"linecolor\":\"white\",\"ticks\":\"\",\"title\":{\"standoff\":15},\"zerolinecolor\":\"white\",\"automargin\":true,\"zerolinewidth\":2},\"scene\":{\"xaxis\":{\"backgroundcolor\":\"#E5ECF6\",\"gridcolor\":\"white\",\"linecolor\":\"white\",\"showbackground\":true,\"ticks\":\"\",\"zerolinecolor\":\"white\",\"gridwidth\":2},\"yaxis\":{\"backgroundcolor\":\"#E5ECF6\",\"gridcolor\":\"white\",\"linecolor\":\"white\",\"showbackground\":true,\"ticks\":\"\",\"zerolinecolor\":\"white\",\"gridwidth\":2},\"zaxis\":{\"backgroundcolor\":\"#E5ECF6\",\"gridcolor\":\"white\",\"linecolor\":\"white\",\"showbackground\":true,\"ticks\":\"\",\"zerolinecolor\":\"white\",\"gridwidth\":2}},\"shapedefaults\":{\"line\":{\"color\":\"#2a3f5f\"}},\"annotationdefaults\":{\"arrowcolor\":\"#2a3f5f\",\"arrowhead\":0,\"arrowwidth\":1},\"geo\":{\"bgcolor\":\"white\",\"landcolor\":\"#E5ECF6\",\"subunitcolor\":\"white\",\"showland\":true,\"showlakes\":true,\"lakecolor\":\"white\"},\"title\":{\"x\":0.05},\"mapbox\":{\"style\":\"light\"}}},\"xaxis\":{\"anchor\":\"y\",\"domain\":[0.0,1.0],\"title\":{\"text\":\"Preference\"},\"tickvals\":[0,0.25,0.5,0.75,1],\"ticktext\":[\"100% Favoring the Left\",\"75-25\",\"50-50\",\"25-75\",\"100% Favoring the Right\"],\"range\":[-0.1,1.1],\"showgrid\":true,\"gridwidth\":1,\"gridcolor\":\"lightgrey\"},\"yaxis\":{\"anchor\":\"x\",\"domain\":[0.0,1.0],\"categoryorder\":\"array\",\"categoryarray\":[\"Gender_Female_Bin_Choice\",\"Fitness_Fit_Bin_Choice\",\"SocialValue_High_Bin_Choice\",\"Age_Young_Bin_Choice\",\"Utilitarianism_More_Bin_Choice\",\"Species_Humans_Bin_Choice\"],\"tickvals\":[0,1,2,3,4,5],\"ticktext\":[\"\",\"\",\"\",\"\",\"\",\"\"],\"tickmode\":\"array\",\"range\":[-0.5,5.5],\"autorange\":false,\"showgrid\":false},\"title\":{\"text\":\"\",\"font\":{\"size\":12}},\"height\":400,\"width\":800,\"plot_bgcolor\":\"white\",\"annotations\":[{\"align\":\"left\",\"font\":{\"size\":14},\"showarrow\":false,\"text\":\"Sparing females\",\"x\":1.06,\"xanchor\":\"left\",\"xref\":\"paper\",\"y\":0,\"yref\":\"y\"},{\"align\":\"left\",\"font\":{\"size\":14},\"showarrow\":false,\"text\":\"Sparing the fit\",\"x\":1.06,\"xanchor\":\"left\",\"xref\":\"paper\",\"y\":1,\"yref\":\"y\"},{\"align\":\"left\",\"font\":{\"size\":14},\"showarrow\":false,\"text\":\"Sparing higher status\",\"x\":1.06,\"xanchor\":\"left\",\"xref\":\"paper\",\"y\":2,\"yref\":\"y\"},{\"align\":\"left\",\"font\":{\"size\":14},\"showarrow\":false,\"text\":\"Sparing the young\",\"x\":1.06,\"xanchor\":\"left\",\"xref\":\"paper\",\"y\":3,\"yref\":\"y\"},{\"align\":\"left\",\"font\":{\"size\":14},\"showarrow\":false,\"text\":\"Sparing more characters\",\"x\":1.06,\"xanchor\":\"left\",\"xref\":\"paper\",\"y\":4,\"yref\":\"y\"},{\"align\":\"left\",\"font\":{\"size\":14},\"showarrow\":false,\"text\":\"Sparing humans\",\"x\":1.06,\"xanchor\":\"left\",\"xref\":\"paper\",\"y\":5,\"yref\":\"y\"},{\"align\":\"right\",\"font\":{\"size\":14},\"showarrow\":false,\"text\":\"Sparing males\",\"x\":-0.02,\"xanchor\":\"right\",\"xref\":\"paper\",\"y\":0,\"yref\":\"y\"},{\"align\":\"right\",\"font\":{\"size\":14},\"showarrow\":false,\"text\":\"Sparing the large\",\"x\":-0.02,\"xanchor\":\"right\",\"xref\":\"paper\",\"y\":1,\"yref\":\"y\"},{\"align\":\"right\",\"font\":{\"size\":14},\"showarrow\":false,\"text\":\"Sparing lower status\",\"x\":-0.02,\"xanchor\":\"right\",\"xref\":\"paper\",\"y\":2,\"yref\":\"y\"},{\"align\":\"right\",\"font\":{\"size\":14},\"showarrow\":false,\"text\":\"Sparing the elderly\",\"x\":-0.02,\"xanchor\":\"right\",\"xref\":\"paper\",\"y\":3,\"yref\":\"y\"},{\"align\":\"right\",\"font\":{\"size\":14},\"showarrow\":false,\"text\":\"Sparing fewer characters\",\"x\":-0.02,\"xanchor\":\"right\",\"xref\":\"paper\",\"y\":4,\"yref\":\"y\"},{\"align\":\"right\",\"font\":{\"size\":14},\"showarrow\":false,\"text\":\"Sparing pets\",\"x\":-0.02,\"xanchor\":\"right\",\"xref\":\"paper\",\"y\":5,\"yref\":\"y\"}],\"images\":[{\"sizex\":0.5,\"sizey\":0.5,\"source\":\".\\u002ficons\\u002ficons_tradeoff\\u002ffemale.png\",\"x\":0.95,\"xanchor\":\"left\",\"xref\":\"paper\",\"y\":0,\"yanchor\":\"middle\",\"yref\":\"y\"},{\"sizex\":0.5,\"sizey\":0.5,\"source\":\".\\u002ficons\\u002ficons_tradeoff\\u002ffit.png\",\"x\":0.95,\"xanchor\":\"left\",\"xref\":\"paper\",\"y\":1,\"yanchor\":\"middle\",\"yref\":\"y\"},{\"sizex\":0.5,\"sizey\":0.5,\"source\":\".\\u002ficons\\u002ficons_tradeoff\\u002fhigher_status.png\",\"x\":0.95,\"xanchor\":\"left\",\"xref\":\"paper\",\"y\":2,\"yanchor\":\"middle\",\"yref\":\"y\"},{\"sizex\":0.5,\"sizey\":0.5,\"source\":\".\\u002ficons\\u002ficons_tradeoff\\u002fyoung.png\",\"x\":0.95,\"xanchor\":\"left\",\"xref\":\"paper\",\"y\":3,\"yanchor\":\"middle\",\"yref\":\"y\"},{\"sizex\":0.5,\"sizey\":0.5,\"source\":\".\\u002ficons\\u002ficons_tradeoff\\u002fmore_character.png\",\"x\":0.95,\"xanchor\":\"left\",\"xref\":\"paper\",\"y\":4,\"yanchor\":\"middle\",\"yref\":\"y\"},{\"sizex\":0.5,\"sizey\":0.5,\"source\":\".\\u002ficons\\u002ficons_tradeoff\\u002fhumans.png\",\"x\":0.95,\"xanchor\":\"left\",\"xref\":\"paper\",\"y\":5,\"yanchor\":\"middle\",\"yref\":\"y\"},{\"sizex\":0.5,\"sizey\":0.5,\"source\":\".\\u002ficons\\u002ficons_tradeoff\\u002fmale.png\",\"x\":-0.01,\"xanchor\":\"left\",\"xref\":\"paper\",\"y\":0,\"yanchor\":\"middle\",\"yref\":\"y\"},{\"sizex\":0.5,\"sizey\":0.5,\"source\":\".\\u002ficons\\u002ficons_tradeoff\\u002flarge.png\",\"x\":-0.01,\"xanchor\":\"left\",\"xref\":\"paper\",\"y\":1,\"yanchor\":\"middle\",\"yref\":\"y\"},{\"sizex\":0.5,\"sizey\":0.5,\"source\":\".\\u002ficons\\u002ficons_tradeoff\\u002flower_status.png\",\"x\":-0.01,\"xanchor\":\"left\",\"xref\":\"paper\",\"y\":2,\"yanchor\":\"middle\",\"yref\":\"y\"},{\"sizex\":0.5,\"sizey\":0.5,\"source\":\".\\u002ficons\\u002ficons_tradeoff\\u002felderly.png\",\"x\":-0.01,\"xanchor\":\"left\",\"xref\":\"paper\",\"y\":3,\"yanchor\":\"middle\",\"yref\":\"y\"},{\"sizex\":0.5,\"sizey\":0.5,\"source\":\".\\u002ficons\\u002ficons_tradeoff\\u002ffewer.png\",\"x\":-0.01,\"xanchor\":\"left\",\"xref\":\"paper\",\"y\":4,\"yanchor\":\"middle\",\"yref\":\"y\"},{\"sizex\":0.5,\"sizey\":0.5,\"source\":\".\\u002ficons\\u002ficons_tradeoff\\u002fpet.png\",\"x\":-0.01,\"xanchor\":\"left\",\"xref\":\"paper\",\"y\":5,\"yanchor\":\"middle\",\"yref\":\"y\"}],\"margin\":{\"l\":160,\"r\":170,\"t\":50,\"b\":50},\"legend\":{\"orientation\":\"h\",\"yanchor\":\"bottom\",\"y\":1,\"xanchor\":\"center\",\"x\":0.5},\"showlegend\":true,\"font\":{\"family\":\"Times New Roman\",\"size\":12}},                        {\"responsive\": true}                    ).then(function(){\n",
       "                            \n",
       "var gd = document.getElementById('59d7ec88-cbcd-4d77-a45d-f82c26703f9f');\n",
       "var x = new MutationObserver(function (mutations, observer) {{\n",
       "        var display = window.getComputedStyle(gd).display;\n",
       "        if (!display || display === 'none') {{\n",
       "            console.log([gd, 'removed!']);\n",
       "            Plotly.purge(gd);\n",
       "            observer.disconnect();\n",
       "        }}\n",
       "}});\n",
       "\n",
       "// Listen for the removal of the full notebook cells\n",
       "var notebookContainer = gd.closest('#notebook-container');\n",
       "if (notebookContainer) {{\n",
       "    x.observe(notebookContainer, {childList: true});\n",
       "}}\n",
       "\n",
       "// Listen for the clearing of the current output cell\n",
       "var outputEl = gd.closest('.output');\n",
       "if (outputEl) {{\n",
       "    x.observe(outputEl, {childList: true});\n",
       "}}\n",
       "\n",
       "                        })                };                });            </script>        </div>"
      ]
     },
     "metadata": {},
     "output_type": "display_data"
    },
    {
     "data": {
      "application/vnd.plotly.v1+json": {
       "config": {
        "plotlyServerURL": "https://plot.ly"
       },
       "data": [
        {
         "marker": {
          "color": "#0077ad",
          "line": {
           "color": "#0077ad",
           "width": 2
          }
         },
         "name": "Phi-3 Medium",
         "opacity": 0.7,
         "orientation": "h",
         "type": "bar",
         "width": 0.3,
         "x": [
          1,
          0.6875,
          0.7778
         ],
         "y": [
          "Species_Humans_Bin_Choice",
          "Utilitarianism_More_Bin_Choice",
          "SocialValue_High_Bin_Choice"
         ]
        },
        {
         "marker": {
          "color": "white",
          "line": {
           "color": "#ad0077",
           "width": 2
          },
          "size": 20
         },
         "mode": "markers",
         "name": "Human Preference",
         "showlegend": true,
         "type": "scatter",
         "x": [
          0.7974454552522746,
          0.753525616600679,
          0.7241555080471478,
          0.6617809934377845,
          0.576127833908965,
          0.5625438093111024
         ],
         "y": [
          "Species_Humans_Bin_Choice",
          "Utilitarianism_More_Bin_Choice",
          "Age_Young_Bin_Choice",
          "SocialValue_High_Bin_Choice",
          "Fitness_Fit_Bin_Choice",
          "Gender_Female_Bin_Choice"
         ]
        }
       ],
       "layout": {
        "annotations": [
         {
          "align": "left",
          "font": {
           "size": 14
          },
          "showarrow": false,
          "text": "Sparing females",
          "x": 1.06,
          "xanchor": "left",
          "xref": "paper",
          "y": 0,
          "yref": "y"
         },
         {
          "align": "left",
          "font": {
           "size": 14
          },
          "showarrow": false,
          "text": "Sparing the fit",
          "x": 1.06,
          "xanchor": "left",
          "xref": "paper",
          "y": 1,
          "yref": "y"
         },
         {
          "align": "left",
          "font": {
           "size": 14
          },
          "showarrow": false,
          "text": "Sparing higher status",
          "x": 1.06,
          "xanchor": "left",
          "xref": "paper",
          "y": 2,
          "yref": "y"
         },
         {
          "align": "left",
          "font": {
           "size": 14
          },
          "showarrow": false,
          "text": "Sparing the young",
          "x": 1.06,
          "xanchor": "left",
          "xref": "paper",
          "y": 3,
          "yref": "y"
         },
         {
          "align": "left",
          "font": {
           "size": 14
          },
          "showarrow": false,
          "text": "Sparing more characters",
          "x": 1.06,
          "xanchor": "left",
          "xref": "paper",
          "y": 4,
          "yref": "y"
         },
         {
          "align": "left",
          "font": {
           "size": 14
          },
          "showarrow": false,
          "text": "Sparing humans",
          "x": 1.06,
          "xanchor": "left",
          "xref": "paper",
          "y": 5,
          "yref": "y"
         },
         {
          "align": "right",
          "font": {
           "size": 14
          },
          "showarrow": false,
          "text": "Sparing males",
          "x": -0.02,
          "xanchor": "right",
          "xref": "paper",
          "y": 0,
          "yref": "y"
         },
         {
          "align": "right",
          "font": {
           "size": 14
          },
          "showarrow": false,
          "text": "Sparing the large",
          "x": -0.02,
          "xanchor": "right",
          "xref": "paper",
          "y": 1,
          "yref": "y"
         },
         {
          "align": "right",
          "font": {
           "size": 14
          },
          "showarrow": false,
          "text": "Sparing lower status",
          "x": -0.02,
          "xanchor": "right",
          "xref": "paper",
          "y": 2,
          "yref": "y"
         },
         {
          "align": "right",
          "font": {
           "size": 14
          },
          "showarrow": false,
          "text": "Sparing the elderly",
          "x": -0.02,
          "xanchor": "right",
          "xref": "paper",
          "y": 3,
          "yref": "y"
         },
         {
          "align": "right",
          "font": {
           "size": 14
          },
          "showarrow": false,
          "text": "Sparing fewer characters",
          "x": -0.02,
          "xanchor": "right",
          "xref": "paper",
          "y": 4,
          "yref": "y"
         },
         {
          "align": "right",
          "font": {
           "size": 14
          },
          "showarrow": false,
          "text": "Sparing pets",
          "x": -0.02,
          "xanchor": "right",
          "xref": "paper",
          "y": 5,
          "yref": "y"
         }
        ],
        "font": {
         "family": "Times New Roman",
         "size": 12
        },
        "height": 400,
        "images": [
         {
          "sizex": 0.5,
          "sizey": 0.5,
          "source": "./icons/icons_tradeoff/female.png",
          "x": 0.95,
          "xanchor": "left",
          "xref": "paper",
          "y": 0,
          "yanchor": "middle",
          "yref": "y"
         },
         {
          "sizex": 0.5,
          "sizey": 0.5,
          "source": "./icons/icons_tradeoff/fit.png",
          "x": 0.95,
          "xanchor": "left",
          "xref": "paper",
          "y": 1,
          "yanchor": "middle",
          "yref": "y"
         },
         {
          "sizex": 0.5,
          "sizey": 0.5,
          "source": "./icons/icons_tradeoff/higher_status.png",
          "x": 0.95,
          "xanchor": "left",
          "xref": "paper",
          "y": 2,
          "yanchor": "middle",
          "yref": "y"
         },
         {
          "sizex": 0.5,
          "sizey": 0.5,
          "source": "./icons/icons_tradeoff/young.png",
          "x": 0.95,
          "xanchor": "left",
          "xref": "paper",
          "y": 3,
          "yanchor": "middle",
          "yref": "y"
         },
         {
          "sizex": 0.5,
          "sizey": 0.5,
          "source": "./icons/icons_tradeoff/more_character.png",
          "x": 0.95,
          "xanchor": "left",
          "xref": "paper",
          "y": 4,
          "yanchor": "middle",
          "yref": "y"
         },
         {
          "sizex": 0.5,
          "sizey": 0.5,
          "source": "./icons/icons_tradeoff/humans.png",
          "x": 0.95,
          "xanchor": "left",
          "xref": "paper",
          "y": 5,
          "yanchor": "middle",
          "yref": "y"
         },
         {
          "sizex": 0.5,
          "sizey": 0.5,
          "source": "./icons/icons_tradeoff/male.png",
          "x": -0.01,
          "xanchor": "left",
          "xref": "paper",
          "y": 0,
          "yanchor": "middle",
          "yref": "y"
         },
         {
          "sizex": 0.5,
          "sizey": 0.5,
          "source": "./icons/icons_tradeoff/large.png",
          "x": -0.01,
          "xanchor": "left",
          "xref": "paper",
          "y": 1,
          "yanchor": "middle",
          "yref": "y"
         },
         {
          "sizex": 0.5,
          "sizey": 0.5,
          "source": "./icons/icons_tradeoff/lower_status.png",
          "x": -0.01,
          "xanchor": "left",
          "xref": "paper",
          "y": 2,
          "yanchor": "middle",
          "yref": "y"
         },
         {
          "sizex": 0.5,
          "sizey": 0.5,
          "source": "./icons/icons_tradeoff/elderly.png",
          "x": -0.01,
          "xanchor": "left",
          "xref": "paper",
          "y": 3,
          "yanchor": "middle",
          "yref": "y"
         },
         {
          "sizex": 0.5,
          "sizey": 0.5,
          "source": "./icons/icons_tradeoff/fewer.png",
          "x": -0.01,
          "xanchor": "left",
          "xref": "paper",
          "y": 4,
          "yanchor": "middle",
          "yref": "y"
         },
         {
          "sizex": 0.5,
          "sizey": 0.5,
          "source": "./icons/icons_tradeoff/pet.png",
          "x": -0.01,
          "xanchor": "left",
          "xref": "paper",
          "y": 5,
          "yanchor": "middle",
          "yref": "y"
         }
        ],
        "legend": {
         "orientation": "h",
         "x": 0.5,
         "xanchor": "center",
         "y": 1,
         "yanchor": "bottom"
        },
        "margin": {
         "b": 50,
         "l": 160,
         "r": 170,
         "t": 50
        },
        "plot_bgcolor": "white",
        "showlegend": true,
        "template": {
         "data": {
          "bar": [
           {
            "error_x": {
             "color": "#2a3f5f"
            },
            "error_y": {
             "color": "#2a3f5f"
            },
            "marker": {
             "line": {
              "color": "#E5ECF6",
              "width": 0.5
             },
             "pattern": {
              "fillmode": "overlay",
              "size": 10,
              "solidity": 0.2
             }
            },
            "type": "bar"
           }
          ],
          "barpolar": [
           {
            "marker": {
             "line": {
              "color": "#E5ECF6",
              "width": 0.5
             },
             "pattern": {
              "fillmode": "overlay",
              "size": 10,
              "solidity": 0.2
             }
            },
            "type": "barpolar"
           }
          ],
          "carpet": [
           {
            "aaxis": {
             "endlinecolor": "#2a3f5f",
             "gridcolor": "white",
             "linecolor": "white",
             "minorgridcolor": "white",
             "startlinecolor": "#2a3f5f"
            },
            "baxis": {
             "endlinecolor": "#2a3f5f",
             "gridcolor": "white",
             "linecolor": "white",
             "minorgridcolor": "white",
             "startlinecolor": "#2a3f5f"
            },
            "type": "carpet"
           }
          ],
          "choropleth": [
           {
            "colorbar": {
             "outlinewidth": 0,
             "ticks": ""
            },
            "type": "choropleth"
           }
          ],
          "contour": [
           {
            "colorbar": {
             "outlinewidth": 0,
             "ticks": ""
            },
            "colorscale": [
             [
              0,
              "#0d0887"
             ],
             [
              0.1111111111111111,
              "#46039f"
             ],
             [
              0.2222222222222222,
              "#7201a8"
             ],
             [
              0.3333333333333333,
              "#9c179e"
             ],
             [
              0.4444444444444444,
              "#bd3786"
             ],
             [
              0.5555555555555556,
              "#d8576b"
             ],
             [
              0.6666666666666666,
              "#ed7953"
             ],
             [
              0.7777777777777778,
              "#fb9f3a"
             ],
             [
              0.8888888888888888,
              "#fdca26"
             ],
             [
              1,
              "#f0f921"
             ]
            ],
            "type": "contour"
           }
          ],
          "contourcarpet": [
           {
            "colorbar": {
             "outlinewidth": 0,
             "ticks": ""
            },
            "type": "contourcarpet"
           }
          ],
          "heatmap": [
           {
            "colorbar": {
             "outlinewidth": 0,
             "ticks": ""
            },
            "colorscale": [
             [
              0,
              "#0d0887"
             ],
             [
              0.1111111111111111,
              "#46039f"
             ],
             [
              0.2222222222222222,
              "#7201a8"
             ],
             [
              0.3333333333333333,
              "#9c179e"
             ],
             [
              0.4444444444444444,
              "#bd3786"
             ],
             [
              0.5555555555555556,
              "#d8576b"
             ],
             [
              0.6666666666666666,
              "#ed7953"
             ],
             [
              0.7777777777777778,
              "#fb9f3a"
             ],
             [
              0.8888888888888888,
              "#fdca26"
             ],
             [
              1,
              "#f0f921"
             ]
            ],
            "type": "heatmap"
           }
          ],
          "heatmapgl": [
           {
            "colorbar": {
             "outlinewidth": 0,
             "ticks": ""
            },
            "colorscale": [
             [
              0,
              "#0d0887"
             ],
             [
              0.1111111111111111,
              "#46039f"
             ],
             [
              0.2222222222222222,
              "#7201a8"
             ],
             [
              0.3333333333333333,
              "#9c179e"
             ],
             [
              0.4444444444444444,
              "#bd3786"
             ],
             [
              0.5555555555555556,
              "#d8576b"
             ],
             [
              0.6666666666666666,
              "#ed7953"
             ],
             [
              0.7777777777777778,
              "#fb9f3a"
             ],
             [
              0.8888888888888888,
              "#fdca26"
             ],
             [
              1,
              "#f0f921"
             ]
            ],
            "type": "heatmapgl"
           }
          ],
          "histogram": [
           {
            "marker": {
             "pattern": {
              "fillmode": "overlay",
              "size": 10,
              "solidity": 0.2
             }
            },
            "type": "histogram"
           }
          ],
          "histogram2d": [
           {
            "colorbar": {
             "outlinewidth": 0,
             "ticks": ""
            },
            "colorscale": [
             [
              0,
              "#0d0887"
             ],
             [
              0.1111111111111111,
              "#46039f"
             ],
             [
              0.2222222222222222,
              "#7201a8"
             ],
             [
              0.3333333333333333,
              "#9c179e"
             ],
             [
              0.4444444444444444,
              "#bd3786"
             ],
             [
              0.5555555555555556,
              "#d8576b"
             ],
             [
              0.6666666666666666,
              "#ed7953"
             ],
             [
              0.7777777777777778,
              "#fb9f3a"
             ],
             [
              0.8888888888888888,
              "#fdca26"
             ],
             [
              1,
              "#f0f921"
             ]
            ],
            "type": "histogram2d"
           }
          ],
          "histogram2dcontour": [
           {
            "colorbar": {
             "outlinewidth": 0,
             "ticks": ""
            },
            "colorscale": [
             [
              0,
              "#0d0887"
             ],
             [
              0.1111111111111111,
              "#46039f"
             ],
             [
              0.2222222222222222,
              "#7201a8"
             ],
             [
              0.3333333333333333,
              "#9c179e"
             ],
             [
              0.4444444444444444,
              "#bd3786"
             ],
             [
              0.5555555555555556,
              "#d8576b"
             ],
             [
              0.6666666666666666,
              "#ed7953"
             ],
             [
              0.7777777777777778,
              "#fb9f3a"
             ],
             [
              0.8888888888888888,
              "#fdca26"
             ],
             [
              1,
              "#f0f921"
             ]
            ],
            "type": "histogram2dcontour"
           }
          ],
          "mesh3d": [
           {
            "colorbar": {
             "outlinewidth": 0,
             "ticks": ""
            },
            "type": "mesh3d"
           }
          ],
          "parcoords": [
           {
            "line": {
             "colorbar": {
              "outlinewidth": 0,
              "ticks": ""
             }
            },
            "type": "parcoords"
           }
          ],
          "pie": [
           {
            "automargin": true,
            "type": "pie"
           }
          ],
          "scatter": [
           {
            "fillpattern": {
             "fillmode": "overlay",
             "size": 10,
             "solidity": 0.2
            },
            "type": "scatter"
           }
          ],
          "scatter3d": [
           {
            "line": {
             "colorbar": {
              "outlinewidth": 0,
              "ticks": ""
             }
            },
            "marker": {
             "colorbar": {
              "outlinewidth": 0,
              "ticks": ""
             }
            },
            "type": "scatter3d"
           }
          ],
          "scattercarpet": [
           {
            "marker": {
             "colorbar": {
              "outlinewidth": 0,
              "ticks": ""
             }
            },
            "type": "scattercarpet"
           }
          ],
          "scattergeo": [
           {
            "marker": {
             "colorbar": {
              "outlinewidth": 0,
              "ticks": ""
             }
            },
            "type": "scattergeo"
           }
          ],
          "scattergl": [
           {
            "marker": {
             "colorbar": {
              "outlinewidth": 0,
              "ticks": ""
             }
            },
            "type": "scattergl"
           }
          ],
          "scattermapbox": [
           {
            "marker": {
             "colorbar": {
              "outlinewidth": 0,
              "ticks": ""
             }
            },
            "type": "scattermapbox"
           }
          ],
          "scatterpolar": [
           {
            "marker": {
             "colorbar": {
              "outlinewidth": 0,
              "ticks": ""
             }
            },
            "type": "scatterpolar"
           }
          ],
          "scatterpolargl": [
           {
            "marker": {
             "colorbar": {
              "outlinewidth": 0,
              "ticks": ""
             }
            },
            "type": "scatterpolargl"
           }
          ],
          "scatterternary": [
           {
            "marker": {
             "colorbar": {
              "outlinewidth": 0,
              "ticks": ""
             }
            },
            "type": "scatterternary"
           }
          ],
          "surface": [
           {
            "colorbar": {
             "outlinewidth": 0,
             "ticks": ""
            },
            "colorscale": [
             [
              0,
              "#0d0887"
             ],
             [
              0.1111111111111111,
              "#46039f"
             ],
             [
              0.2222222222222222,
              "#7201a8"
             ],
             [
              0.3333333333333333,
              "#9c179e"
             ],
             [
              0.4444444444444444,
              "#bd3786"
             ],
             [
              0.5555555555555556,
              "#d8576b"
             ],
             [
              0.6666666666666666,
              "#ed7953"
             ],
             [
              0.7777777777777778,
              "#fb9f3a"
             ],
             [
              0.8888888888888888,
              "#fdca26"
             ],
             [
              1,
              "#f0f921"
             ]
            ],
            "type": "surface"
           }
          ],
          "table": [
           {
            "cells": {
             "fill": {
              "color": "#EBF0F8"
             },
             "line": {
              "color": "white"
             }
            },
            "header": {
             "fill": {
              "color": "#C8D4E3"
             },
             "line": {
              "color": "white"
             }
            },
            "type": "table"
           }
          ]
         },
         "layout": {
          "annotationdefaults": {
           "arrowcolor": "#2a3f5f",
           "arrowhead": 0,
           "arrowwidth": 1
          },
          "autotypenumbers": "strict",
          "coloraxis": {
           "colorbar": {
            "outlinewidth": 0,
            "ticks": ""
           }
          },
          "colorscale": {
           "diverging": [
            [
             0,
             "#8e0152"
            ],
            [
             0.1,
             "#c51b7d"
            ],
            [
             0.2,
             "#de77ae"
            ],
            [
             0.3,
             "#f1b6da"
            ],
            [
             0.4,
             "#fde0ef"
            ],
            [
             0.5,
             "#f7f7f7"
            ],
            [
             0.6,
             "#e6f5d0"
            ],
            [
             0.7,
             "#b8e186"
            ],
            [
             0.8,
             "#7fbc41"
            ],
            [
             0.9,
             "#4d9221"
            ],
            [
             1,
             "#276419"
            ]
           ],
           "sequential": [
            [
             0,
             "#0d0887"
            ],
            [
             0.1111111111111111,
             "#46039f"
            ],
            [
             0.2222222222222222,
             "#7201a8"
            ],
            [
             0.3333333333333333,
             "#9c179e"
            ],
            [
             0.4444444444444444,
             "#bd3786"
            ],
            [
             0.5555555555555556,
             "#d8576b"
            ],
            [
             0.6666666666666666,
             "#ed7953"
            ],
            [
             0.7777777777777778,
             "#fb9f3a"
            ],
            [
             0.8888888888888888,
             "#fdca26"
            ],
            [
             1,
             "#f0f921"
            ]
           ],
           "sequentialminus": [
            [
             0,
             "#0d0887"
            ],
            [
             0.1111111111111111,
             "#46039f"
            ],
            [
             0.2222222222222222,
             "#7201a8"
            ],
            [
             0.3333333333333333,
             "#9c179e"
            ],
            [
             0.4444444444444444,
             "#bd3786"
            ],
            [
             0.5555555555555556,
             "#d8576b"
            ],
            [
             0.6666666666666666,
             "#ed7953"
            ],
            [
             0.7777777777777778,
             "#fb9f3a"
            ],
            [
             0.8888888888888888,
             "#fdca26"
            ],
            [
             1,
             "#f0f921"
            ]
           ]
          },
          "colorway": [
           "#636efa",
           "#EF553B",
           "#00cc96",
           "#ab63fa",
           "#FFA15A",
           "#19d3f3",
           "#FF6692",
           "#B6E880",
           "#FF97FF",
           "#FECB52"
          ],
          "font": {
           "color": "#2a3f5f"
          },
          "geo": {
           "bgcolor": "white",
           "lakecolor": "white",
           "landcolor": "#E5ECF6",
           "showlakes": true,
           "showland": true,
           "subunitcolor": "white"
          },
          "hoverlabel": {
           "align": "left"
          },
          "hovermode": "closest",
          "mapbox": {
           "style": "light"
          },
          "paper_bgcolor": "white",
          "plot_bgcolor": "#E5ECF6",
          "polar": {
           "angularaxis": {
            "gridcolor": "white",
            "linecolor": "white",
            "ticks": ""
           },
           "bgcolor": "#E5ECF6",
           "radialaxis": {
            "gridcolor": "white",
            "linecolor": "white",
            "ticks": ""
           }
          },
          "scene": {
           "xaxis": {
            "backgroundcolor": "#E5ECF6",
            "gridcolor": "white",
            "gridwidth": 2,
            "linecolor": "white",
            "showbackground": true,
            "ticks": "",
            "zerolinecolor": "white"
           },
           "yaxis": {
            "backgroundcolor": "#E5ECF6",
            "gridcolor": "white",
            "gridwidth": 2,
            "linecolor": "white",
            "showbackground": true,
            "ticks": "",
            "zerolinecolor": "white"
           },
           "zaxis": {
            "backgroundcolor": "#E5ECF6",
            "gridcolor": "white",
            "gridwidth": 2,
            "linecolor": "white",
            "showbackground": true,
            "ticks": "",
            "zerolinecolor": "white"
           }
          },
          "shapedefaults": {
           "line": {
            "color": "#2a3f5f"
           }
          },
          "ternary": {
           "aaxis": {
            "gridcolor": "white",
            "linecolor": "white",
            "ticks": ""
           },
           "baxis": {
            "gridcolor": "white",
            "linecolor": "white",
            "ticks": ""
           },
           "bgcolor": "#E5ECF6",
           "caxis": {
            "gridcolor": "white",
            "linecolor": "white",
            "ticks": ""
           }
          },
          "title": {
           "x": 0.05
          },
          "xaxis": {
           "automargin": true,
           "gridcolor": "white",
           "linecolor": "white",
           "ticks": "",
           "title": {
            "standoff": 15
           },
           "zerolinecolor": "white",
           "zerolinewidth": 2
          },
          "yaxis": {
           "automargin": true,
           "gridcolor": "white",
           "linecolor": "white",
           "ticks": "",
           "title": {
            "standoff": 15
           },
           "zerolinecolor": "white",
           "zerolinewidth": 2
          }
         }
        },
        "title": {
         "font": {
          "size": 12
         },
         "text": ""
        },
        "width": 800,
        "xaxis": {
         "anchor": "y",
         "domain": [
          0,
          1
         ],
         "gridcolor": "lightgrey",
         "gridwidth": 1,
         "range": [
          -0.1,
          1.1
         ],
         "showgrid": true,
         "ticktext": [
          "100% Favoring the Left",
          "75-25",
          "50-50",
          "25-75",
          "100% Favoring the Right"
         ],
         "tickvals": [
          0,
          0.25,
          0.5,
          0.75,
          1
         ],
         "title": {
          "text": "Preference"
         }
        },
        "yaxis": {
         "anchor": "x",
         "autorange": false,
         "categoryarray": [
          "Gender_Female_Bin_Choice",
          "Fitness_Fit_Bin_Choice",
          "SocialValue_High_Bin_Choice",
          "Age_Young_Bin_Choice",
          "Utilitarianism_More_Bin_Choice",
          "Species_Humans_Bin_Choice"
         ],
         "categoryorder": "array",
         "domain": [
          0,
          1
         ],
         "range": [
          -0.5,
          5.5
         ],
         "showgrid": false,
         "tickmode": "array",
         "ticktext": [
          "",
          "",
          "",
          "",
          "",
          ""
         ],
         "tickvals": [
          0,
          1,
          2,
          3,
          4,
          5
         ]
        }
       }
      },
      "text/html": [
       "<div>                            <div id=\"5187a7dc-62f0-4105-87bf-fa4fdb36c64b\" class=\"plotly-graph-div\" style=\"height:400px; width:800px;\"></div>            <script type=\"text/javascript\">                require([\"plotly\"], function(Plotly) {                    window.PLOTLYENV=window.PLOTLYENV || {};                                    if (document.getElementById(\"5187a7dc-62f0-4105-87bf-fa4fdb36c64b\")) {                    Plotly.newPlot(                        \"5187a7dc-62f0-4105-87bf-fa4fdb36c64b\",                        [{\"marker\":{\"color\":\"#0077ad\",\"line\":{\"color\":\"#0077ad\",\"width\":2}},\"name\":\"Phi-3 Medium\",\"opacity\":0.7,\"orientation\":\"h\",\"width\":0.3,\"x\":[1.0,0.6875,0.7778],\"y\":[\"Species_Humans_Bin_Choice\",\"Utilitarianism_More_Bin_Choice\",\"SocialValue_High_Bin_Choice\"],\"type\":\"bar\"},{\"marker\":{\"color\":\"white\",\"line\":{\"color\":\"#ad0077\",\"width\":2},\"size\":20},\"mode\":\"markers\",\"name\":\"Human Preference\",\"showlegend\":true,\"x\":[0.7974454552522746,0.753525616600679,0.7241555080471478,0.6617809934377845,0.576127833908965,0.5625438093111024],\"y\":[\"Species_Humans_Bin_Choice\",\"Utilitarianism_More_Bin_Choice\",\"Age_Young_Bin_Choice\",\"SocialValue_High_Bin_Choice\",\"Fitness_Fit_Bin_Choice\",\"Gender_Female_Bin_Choice\"],\"type\":\"scatter\"}],                        {\"template\":{\"data\":{\"histogram2dcontour\":[{\"type\":\"histogram2dcontour\",\"colorbar\":{\"outlinewidth\":0,\"ticks\":\"\"},\"colorscale\":[[0.0,\"#0d0887\"],[0.1111111111111111,\"#46039f\"],[0.2222222222222222,\"#7201a8\"],[0.3333333333333333,\"#9c179e\"],[0.4444444444444444,\"#bd3786\"],[0.5555555555555556,\"#d8576b\"],[0.6666666666666666,\"#ed7953\"],[0.7777777777777778,\"#fb9f3a\"],[0.8888888888888888,\"#fdca26\"],[1.0,\"#f0f921\"]]}],\"choropleth\":[{\"type\":\"choropleth\",\"colorbar\":{\"outlinewidth\":0,\"ticks\":\"\"}}],\"histogram2d\":[{\"type\":\"histogram2d\",\"colorbar\":{\"outlinewidth\":0,\"ticks\":\"\"},\"colorscale\":[[0.0,\"#0d0887\"],[0.1111111111111111,\"#46039f\"],[0.2222222222222222,\"#7201a8\"],[0.3333333333333333,\"#9c179e\"],[0.4444444444444444,\"#bd3786\"],[0.5555555555555556,\"#d8576b\"],[0.6666666666666666,\"#ed7953\"],[0.7777777777777778,\"#fb9f3a\"],[0.8888888888888888,\"#fdca26\"],[1.0,\"#f0f921\"]]}],\"heatmap\":[{\"type\":\"heatmap\",\"colorbar\":{\"outlinewidth\":0,\"ticks\":\"\"},\"colorscale\":[[0.0,\"#0d0887\"],[0.1111111111111111,\"#46039f\"],[0.2222222222222222,\"#7201a8\"],[0.3333333333333333,\"#9c179e\"],[0.4444444444444444,\"#bd3786\"],[0.5555555555555556,\"#d8576b\"],[0.6666666666666666,\"#ed7953\"],[0.7777777777777778,\"#fb9f3a\"],[0.8888888888888888,\"#fdca26\"],[1.0,\"#f0f921\"]]}],\"heatmapgl\":[{\"type\":\"heatmapgl\",\"colorbar\":{\"outlinewidth\":0,\"ticks\":\"\"},\"colorscale\":[[0.0,\"#0d0887\"],[0.1111111111111111,\"#46039f\"],[0.2222222222222222,\"#7201a8\"],[0.3333333333333333,\"#9c179e\"],[0.4444444444444444,\"#bd3786\"],[0.5555555555555556,\"#d8576b\"],[0.6666666666666666,\"#ed7953\"],[0.7777777777777778,\"#fb9f3a\"],[0.8888888888888888,\"#fdca26\"],[1.0,\"#f0f921\"]]}],\"contourcarpet\":[{\"type\":\"contourcarpet\",\"colorbar\":{\"outlinewidth\":0,\"ticks\":\"\"}}],\"contour\":[{\"type\":\"contour\",\"colorbar\":{\"outlinewidth\":0,\"ticks\":\"\"},\"colorscale\":[[0.0,\"#0d0887\"],[0.1111111111111111,\"#46039f\"],[0.2222222222222222,\"#7201a8\"],[0.3333333333333333,\"#9c179e\"],[0.4444444444444444,\"#bd3786\"],[0.5555555555555556,\"#d8576b\"],[0.6666666666666666,\"#ed7953\"],[0.7777777777777778,\"#fb9f3a\"],[0.8888888888888888,\"#fdca26\"],[1.0,\"#f0f921\"]]}],\"surface\":[{\"type\":\"surface\",\"colorbar\":{\"outlinewidth\":0,\"ticks\":\"\"},\"colorscale\":[[0.0,\"#0d0887\"],[0.1111111111111111,\"#46039f\"],[0.2222222222222222,\"#7201a8\"],[0.3333333333333333,\"#9c179e\"],[0.4444444444444444,\"#bd3786\"],[0.5555555555555556,\"#d8576b\"],[0.6666666666666666,\"#ed7953\"],[0.7777777777777778,\"#fb9f3a\"],[0.8888888888888888,\"#fdca26\"],[1.0,\"#f0f921\"]]}],\"mesh3d\":[{\"type\":\"mesh3d\",\"colorbar\":{\"outlinewidth\":0,\"ticks\":\"\"}}],\"scatter\":[{\"fillpattern\":{\"fillmode\":\"overlay\",\"size\":10,\"solidity\":0.2},\"type\":\"scatter\"}],\"parcoords\":[{\"type\":\"parcoords\",\"line\":{\"colorbar\":{\"outlinewidth\":0,\"ticks\":\"\"}}}],\"scatterpolargl\":[{\"type\":\"scatterpolargl\",\"marker\":{\"colorbar\":{\"outlinewidth\":0,\"ticks\":\"\"}}}],\"bar\":[{\"error_x\":{\"color\":\"#2a3f5f\"},\"error_y\":{\"color\":\"#2a3f5f\"},\"marker\":{\"line\":{\"color\":\"#E5ECF6\",\"width\":0.5},\"pattern\":{\"fillmode\":\"overlay\",\"size\":10,\"solidity\":0.2}},\"type\":\"bar\"}],\"scattergeo\":[{\"type\":\"scattergeo\",\"marker\":{\"colorbar\":{\"outlinewidth\":0,\"ticks\":\"\"}}}],\"scatterpolar\":[{\"type\":\"scatterpolar\",\"marker\":{\"colorbar\":{\"outlinewidth\":0,\"ticks\":\"\"}}}],\"histogram\":[{\"marker\":{\"pattern\":{\"fillmode\":\"overlay\",\"size\":10,\"solidity\":0.2}},\"type\":\"histogram\"}],\"scattergl\":[{\"type\":\"scattergl\",\"marker\":{\"colorbar\":{\"outlinewidth\":0,\"ticks\":\"\"}}}],\"scatter3d\":[{\"type\":\"scatter3d\",\"line\":{\"colorbar\":{\"outlinewidth\":0,\"ticks\":\"\"}},\"marker\":{\"colorbar\":{\"outlinewidth\":0,\"ticks\":\"\"}}}],\"scattermapbox\":[{\"type\":\"scattermapbox\",\"marker\":{\"colorbar\":{\"outlinewidth\":0,\"ticks\":\"\"}}}],\"scatterternary\":[{\"type\":\"scatterternary\",\"marker\":{\"colorbar\":{\"outlinewidth\":0,\"ticks\":\"\"}}}],\"scattercarpet\":[{\"type\":\"scattercarpet\",\"marker\":{\"colorbar\":{\"outlinewidth\":0,\"ticks\":\"\"}}}],\"carpet\":[{\"aaxis\":{\"endlinecolor\":\"#2a3f5f\",\"gridcolor\":\"white\",\"linecolor\":\"white\",\"minorgridcolor\":\"white\",\"startlinecolor\":\"#2a3f5f\"},\"baxis\":{\"endlinecolor\":\"#2a3f5f\",\"gridcolor\":\"white\",\"linecolor\":\"white\",\"minorgridcolor\":\"white\",\"startlinecolor\":\"#2a3f5f\"},\"type\":\"carpet\"}],\"table\":[{\"cells\":{\"fill\":{\"color\":\"#EBF0F8\"},\"line\":{\"color\":\"white\"}},\"header\":{\"fill\":{\"color\":\"#C8D4E3\"},\"line\":{\"color\":\"white\"}},\"type\":\"table\"}],\"barpolar\":[{\"marker\":{\"line\":{\"color\":\"#E5ECF6\",\"width\":0.5},\"pattern\":{\"fillmode\":\"overlay\",\"size\":10,\"solidity\":0.2}},\"type\":\"barpolar\"}],\"pie\":[{\"automargin\":true,\"type\":\"pie\"}]},\"layout\":{\"autotypenumbers\":\"strict\",\"colorway\":[\"#636efa\",\"#EF553B\",\"#00cc96\",\"#ab63fa\",\"#FFA15A\",\"#19d3f3\",\"#FF6692\",\"#B6E880\",\"#FF97FF\",\"#FECB52\"],\"font\":{\"color\":\"#2a3f5f\"},\"hovermode\":\"closest\",\"hoverlabel\":{\"align\":\"left\"},\"paper_bgcolor\":\"white\",\"plot_bgcolor\":\"#E5ECF6\",\"polar\":{\"bgcolor\":\"#E5ECF6\",\"angularaxis\":{\"gridcolor\":\"white\",\"linecolor\":\"white\",\"ticks\":\"\"},\"radialaxis\":{\"gridcolor\":\"white\",\"linecolor\":\"white\",\"ticks\":\"\"}},\"ternary\":{\"bgcolor\":\"#E5ECF6\",\"aaxis\":{\"gridcolor\":\"white\",\"linecolor\":\"white\",\"ticks\":\"\"},\"baxis\":{\"gridcolor\":\"white\",\"linecolor\":\"white\",\"ticks\":\"\"},\"caxis\":{\"gridcolor\":\"white\",\"linecolor\":\"white\",\"ticks\":\"\"}},\"coloraxis\":{\"colorbar\":{\"outlinewidth\":0,\"ticks\":\"\"}},\"colorscale\":{\"sequential\":[[0.0,\"#0d0887\"],[0.1111111111111111,\"#46039f\"],[0.2222222222222222,\"#7201a8\"],[0.3333333333333333,\"#9c179e\"],[0.4444444444444444,\"#bd3786\"],[0.5555555555555556,\"#d8576b\"],[0.6666666666666666,\"#ed7953\"],[0.7777777777777778,\"#fb9f3a\"],[0.8888888888888888,\"#fdca26\"],[1.0,\"#f0f921\"]],\"sequentialminus\":[[0.0,\"#0d0887\"],[0.1111111111111111,\"#46039f\"],[0.2222222222222222,\"#7201a8\"],[0.3333333333333333,\"#9c179e\"],[0.4444444444444444,\"#bd3786\"],[0.5555555555555556,\"#d8576b\"],[0.6666666666666666,\"#ed7953\"],[0.7777777777777778,\"#fb9f3a\"],[0.8888888888888888,\"#fdca26\"],[1.0,\"#f0f921\"]],\"diverging\":[[0,\"#8e0152\"],[0.1,\"#c51b7d\"],[0.2,\"#de77ae\"],[0.3,\"#f1b6da\"],[0.4,\"#fde0ef\"],[0.5,\"#f7f7f7\"],[0.6,\"#e6f5d0\"],[0.7,\"#b8e186\"],[0.8,\"#7fbc41\"],[0.9,\"#4d9221\"],[1,\"#276419\"]]},\"xaxis\":{\"gridcolor\":\"white\",\"linecolor\":\"white\",\"ticks\":\"\",\"title\":{\"standoff\":15},\"zerolinecolor\":\"white\",\"automargin\":true,\"zerolinewidth\":2},\"yaxis\":{\"gridcolor\":\"white\",\"linecolor\":\"white\",\"ticks\":\"\",\"title\":{\"standoff\":15},\"zerolinecolor\":\"white\",\"automargin\":true,\"zerolinewidth\":2},\"scene\":{\"xaxis\":{\"backgroundcolor\":\"#E5ECF6\",\"gridcolor\":\"white\",\"linecolor\":\"white\",\"showbackground\":true,\"ticks\":\"\",\"zerolinecolor\":\"white\",\"gridwidth\":2},\"yaxis\":{\"backgroundcolor\":\"#E5ECF6\",\"gridcolor\":\"white\",\"linecolor\":\"white\",\"showbackground\":true,\"ticks\":\"\",\"zerolinecolor\":\"white\",\"gridwidth\":2},\"zaxis\":{\"backgroundcolor\":\"#E5ECF6\",\"gridcolor\":\"white\",\"linecolor\":\"white\",\"showbackground\":true,\"ticks\":\"\",\"zerolinecolor\":\"white\",\"gridwidth\":2}},\"shapedefaults\":{\"line\":{\"color\":\"#2a3f5f\"}},\"annotationdefaults\":{\"arrowcolor\":\"#2a3f5f\",\"arrowhead\":0,\"arrowwidth\":1},\"geo\":{\"bgcolor\":\"white\",\"landcolor\":\"#E5ECF6\",\"subunitcolor\":\"white\",\"showland\":true,\"showlakes\":true,\"lakecolor\":\"white\"},\"title\":{\"x\":0.05},\"mapbox\":{\"style\":\"light\"}}},\"xaxis\":{\"anchor\":\"y\",\"domain\":[0.0,1.0],\"title\":{\"text\":\"Preference\"},\"tickvals\":[0,0.25,0.5,0.75,1],\"ticktext\":[\"100% Favoring the Left\",\"75-25\",\"50-50\",\"25-75\",\"100% Favoring the Right\"],\"range\":[-0.1,1.1],\"showgrid\":true,\"gridwidth\":1,\"gridcolor\":\"lightgrey\"},\"yaxis\":{\"anchor\":\"x\",\"domain\":[0.0,1.0],\"categoryorder\":\"array\",\"categoryarray\":[\"Gender_Female_Bin_Choice\",\"Fitness_Fit_Bin_Choice\",\"SocialValue_High_Bin_Choice\",\"Age_Young_Bin_Choice\",\"Utilitarianism_More_Bin_Choice\",\"Species_Humans_Bin_Choice\"],\"tickvals\":[0,1,2,3,4,5],\"ticktext\":[\"\",\"\",\"\",\"\",\"\",\"\"],\"tickmode\":\"array\",\"range\":[-0.5,5.5],\"autorange\":false,\"showgrid\":false},\"title\":{\"text\":\"\",\"font\":{\"size\":12}},\"height\":400,\"width\":800,\"plot_bgcolor\":\"white\",\"annotations\":[{\"align\":\"left\",\"font\":{\"size\":14},\"showarrow\":false,\"text\":\"Sparing females\",\"x\":1.06,\"xanchor\":\"left\",\"xref\":\"paper\",\"y\":0,\"yref\":\"y\"},{\"align\":\"left\",\"font\":{\"size\":14},\"showarrow\":false,\"text\":\"Sparing the fit\",\"x\":1.06,\"xanchor\":\"left\",\"xref\":\"paper\",\"y\":1,\"yref\":\"y\"},{\"align\":\"left\",\"font\":{\"size\":14},\"showarrow\":false,\"text\":\"Sparing higher status\",\"x\":1.06,\"xanchor\":\"left\",\"xref\":\"paper\",\"y\":2,\"yref\":\"y\"},{\"align\":\"left\",\"font\":{\"size\":14},\"showarrow\":false,\"text\":\"Sparing the young\",\"x\":1.06,\"xanchor\":\"left\",\"xref\":\"paper\",\"y\":3,\"yref\":\"y\"},{\"align\":\"left\",\"font\":{\"size\":14},\"showarrow\":false,\"text\":\"Sparing more characters\",\"x\":1.06,\"xanchor\":\"left\",\"xref\":\"paper\",\"y\":4,\"yref\":\"y\"},{\"align\":\"left\",\"font\":{\"size\":14},\"showarrow\":false,\"text\":\"Sparing humans\",\"x\":1.06,\"xanchor\":\"left\",\"xref\":\"paper\",\"y\":5,\"yref\":\"y\"},{\"align\":\"right\",\"font\":{\"size\":14},\"showarrow\":false,\"text\":\"Sparing males\",\"x\":-0.02,\"xanchor\":\"right\",\"xref\":\"paper\",\"y\":0,\"yref\":\"y\"},{\"align\":\"right\",\"font\":{\"size\":14},\"showarrow\":false,\"text\":\"Sparing the large\",\"x\":-0.02,\"xanchor\":\"right\",\"xref\":\"paper\",\"y\":1,\"yref\":\"y\"},{\"align\":\"right\",\"font\":{\"size\":14},\"showarrow\":false,\"text\":\"Sparing lower status\",\"x\":-0.02,\"xanchor\":\"right\",\"xref\":\"paper\",\"y\":2,\"yref\":\"y\"},{\"align\":\"right\",\"font\":{\"size\":14},\"showarrow\":false,\"text\":\"Sparing the elderly\",\"x\":-0.02,\"xanchor\":\"right\",\"xref\":\"paper\",\"y\":3,\"yref\":\"y\"},{\"align\":\"right\",\"font\":{\"size\":14},\"showarrow\":false,\"text\":\"Sparing fewer characters\",\"x\":-0.02,\"xanchor\":\"right\",\"xref\":\"paper\",\"y\":4,\"yref\":\"y\"},{\"align\":\"right\",\"font\":{\"size\":14},\"showarrow\":false,\"text\":\"Sparing pets\",\"x\":-0.02,\"xanchor\":\"right\",\"xref\":\"paper\",\"y\":5,\"yref\":\"y\"}],\"images\":[{\"sizex\":0.5,\"sizey\":0.5,\"source\":\".\\u002ficons\\u002ficons_tradeoff\\u002ffemale.png\",\"x\":0.95,\"xanchor\":\"left\",\"xref\":\"paper\",\"y\":0,\"yanchor\":\"middle\",\"yref\":\"y\"},{\"sizex\":0.5,\"sizey\":0.5,\"source\":\".\\u002ficons\\u002ficons_tradeoff\\u002ffit.png\",\"x\":0.95,\"xanchor\":\"left\",\"xref\":\"paper\",\"y\":1,\"yanchor\":\"middle\",\"yref\":\"y\"},{\"sizex\":0.5,\"sizey\":0.5,\"source\":\".\\u002ficons\\u002ficons_tradeoff\\u002fhigher_status.png\",\"x\":0.95,\"xanchor\":\"left\",\"xref\":\"paper\",\"y\":2,\"yanchor\":\"middle\",\"yref\":\"y\"},{\"sizex\":0.5,\"sizey\":0.5,\"source\":\".\\u002ficons\\u002ficons_tradeoff\\u002fyoung.png\",\"x\":0.95,\"xanchor\":\"left\",\"xref\":\"paper\",\"y\":3,\"yanchor\":\"middle\",\"yref\":\"y\"},{\"sizex\":0.5,\"sizey\":0.5,\"source\":\".\\u002ficons\\u002ficons_tradeoff\\u002fmore_character.png\",\"x\":0.95,\"xanchor\":\"left\",\"xref\":\"paper\",\"y\":4,\"yanchor\":\"middle\",\"yref\":\"y\"},{\"sizex\":0.5,\"sizey\":0.5,\"source\":\".\\u002ficons\\u002ficons_tradeoff\\u002fhumans.png\",\"x\":0.95,\"xanchor\":\"left\",\"xref\":\"paper\",\"y\":5,\"yanchor\":\"middle\",\"yref\":\"y\"},{\"sizex\":0.5,\"sizey\":0.5,\"source\":\".\\u002ficons\\u002ficons_tradeoff\\u002fmale.png\",\"x\":-0.01,\"xanchor\":\"left\",\"xref\":\"paper\",\"y\":0,\"yanchor\":\"middle\",\"yref\":\"y\"},{\"sizex\":0.5,\"sizey\":0.5,\"source\":\".\\u002ficons\\u002ficons_tradeoff\\u002flarge.png\",\"x\":-0.01,\"xanchor\":\"left\",\"xref\":\"paper\",\"y\":1,\"yanchor\":\"middle\",\"yref\":\"y\"},{\"sizex\":0.5,\"sizey\":0.5,\"source\":\".\\u002ficons\\u002ficons_tradeoff\\u002flower_status.png\",\"x\":-0.01,\"xanchor\":\"left\",\"xref\":\"paper\",\"y\":2,\"yanchor\":\"middle\",\"yref\":\"y\"},{\"sizex\":0.5,\"sizey\":0.5,\"source\":\".\\u002ficons\\u002ficons_tradeoff\\u002felderly.png\",\"x\":-0.01,\"xanchor\":\"left\",\"xref\":\"paper\",\"y\":3,\"yanchor\":\"middle\",\"yref\":\"y\"},{\"sizex\":0.5,\"sizey\":0.5,\"source\":\".\\u002ficons\\u002ficons_tradeoff\\u002ffewer.png\",\"x\":-0.01,\"xanchor\":\"left\",\"xref\":\"paper\",\"y\":4,\"yanchor\":\"middle\",\"yref\":\"y\"},{\"sizex\":0.5,\"sizey\":0.5,\"source\":\".\\u002ficons\\u002ficons_tradeoff\\u002fpet.png\",\"x\":-0.01,\"xanchor\":\"left\",\"xref\":\"paper\",\"y\":5,\"yanchor\":\"middle\",\"yref\":\"y\"}],\"margin\":{\"l\":160,\"r\":170,\"t\":50,\"b\":50},\"legend\":{\"orientation\":\"h\",\"yanchor\":\"bottom\",\"y\":1,\"xanchor\":\"center\",\"x\":0.5},\"showlegend\":true,\"font\":{\"family\":\"Times New Roman\",\"size\":12}},                        {\"responsive\": true}                    ).then(function(){\n",
       "                            \n",
       "var gd = document.getElementById('5187a7dc-62f0-4105-87bf-fa4fdb36c64b');\n",
       "var x = new MutationObserver(function (mutations, observer) {{\n",
       "        var display = window.getComputedStyle(gd).display;\n",
       "        if (!display || display === 'none') {{\n",
       "            console.log([gd, 'removed!']);\n",
       "            Plotly.purge(gd);\n",
       "            observer.disconnect();\n",
       "        }}\n",
       "}});\n",
       "\n",
       "// Listen for the removal of the full notebook cells\n",
       "var notebookContainer = gd.closest('#notebook-container');\n",
       "if (notebookContainer) {{\n",
       "    x.observe(notebookContainer, {childList: true});\n",
       "}}\n",
       "\n",
       "// Listen for the clearing of the current output cell\n",
       "var outputEl = gd.closest('.output');\n",
       "if (outputEl) {{\n",
       "    x.observe(outputEl, {childList: true});\n",
       "}}\n",
       "\n",
       "                        })                };                });            </script>        </div>"
      ]
     },
     "metadata": {},
     "output_type": "display_data"
    },
    {
     "data": {
      "application/vnd.plotly.v1+json": {
       "config": {
        "plotlyServerURL": "https://plot.ly"
       },
       "data": [
        {
         "marker": {
          "color": "#0077ad",
          "line": {
           "color": "#0077ad",
           "width": 2
          }
         },
         "name": "Phi-3.5 Mini",
         "opacity": 0.7,
         "orientation": "h",
         "type": "bar",
         "width": 0.3,
         "x": [
          1,
          1
         ],
         "y": [
          "Species_Humans_Bin_Choice",
          "SocialValue_High_Bin_Choice"
         ]
        },
        {
         "marker": {
          "color": "white",
          "line": {
           "color": "#ad0077",
           "width": 2
          },
          "size": 20
         },
         "mode": "markers",
         "name": "Human Preference",
         "showlegend": true,
         "type": "scatter",
         "x": [
          0.7974454552522746,
          0.753525616600679,
          0.7241555080471478,
          0.6617809934377845,
          0.576127833908965,
          0.5625438093111024
         ],
         "y": [
          "Species_Humans_Bin_Choice",
          "Utilitarianism_More_Bin_Choice",
          "Age_Young_Bin_Choice",
          "SocialValue_High_Bin_Choice",
          "Fitness_Fit_Bin_Choice",
          "Gender_Female_Bin_Choice"
         ]
        }
       ],
       "layout": {
        "annotations": [
         {
          "align": "left",
          "font": {
           "size": 14
          },
          "showarrow": false,
          "text": "Sparing females",
          "x": 1.06,
          "xanchor": "left",
          "xref": "paper",
          "y": 0,
          "yref": "y"
         },
         {
          "align": "left",
          "font": {
           "size": 14
          },
          "showarrow": false,
          "text": "Sparing the fit",
          "x": 1.06,
          "xanchor": "left",
          "xref": "paper",
          "y": 1,
          "yref": "y"
         },
         {
          "align": "left",
          "font": {
           "size": 14
          },
          "showarrow": false,
          "text": "Sparing higher status",
          "x": 1.06,
          "xanchor": "left",
          "xref": "paper",
          "y": 2,
          "yref": "y"
         },
         {
          "align": "left",
          "font": {
           "size": 14
          },
          "showarrow": false,
          "text": "Sparing the young",
          "x": 1.06,
          "xanchor": "left",
          "xref": "paper",
          "y": 3,
          "yref": "y"
         },
         {
          "align": "left",
          "font": {
           "size": 14
          },
          "showarrow": false,
          "text": "Sparing more characters",
          "x": 1.06,
          "xanchor": "left",
          "xref": "paper",
          "y": 4,
          "yref": "y"
         },
         {
          "align": "left",
          "font": {
           "size": 14
          },
          "showarrow": false,
          "text": "Sparing humans",
          "x": 1.06,
          "xanchor": "left",
          "xref": "paper",
          "y": 5,
          "yref": "y"
         },
         {
          "align": "right",
          "font": {
           "size": 14
          },
          "showarrow": false,
          "text": "Sparing males",
          "x": -0.02,
          "xanchor": "right",
          "xref": "paper",
          "y": 0,
          "yref": "y"
         },
         {
          "align": "right",
          "font": {
           "size": 14
          },
          "showarrow": false,
          "text": "Sparing the large",
          "x": -0.02,
          "xanchor": "right",
          "xref": "paper",
          "y": 1,
          "yref": "y"
         },
         {
          "align": "right",
          "font": {
           "size": 14
          },
          "showarrow": false,
          "text": "Sparing lower status",
          "x": -0.02,
          "xanchor": "right",
          "xref": "paper",
          "y": 2,
          "yref": "y"
         },
         {
          "align": "right",
          "font": {
           "size": 14
          },
          "showarrow": false,
          "text": "Sparing the elderly",
          "x": -0.02,
          "xanchor": "right",
          "xref": "paper",
          "y": 3,
          "yref": "y"
         },
         {
          "align": "right",
          "font": {
           "size": 14
          },
          "showarrow": false,
          "text": "Sparing fewer characters",
          "x": -0.02,
          "xanchor": "right",
          "xref": "paper",
          "y": 4,
          "yref": "y"
         },
         {
          "align": "right",
          "font": {
           "size": 14
          },
          "showarrow": false,
          "text": "Sparing pets",
          "x": -0.02,
          "xanchor": "right",
          "xref": "paper",
          "y": 5,
          "yref": "y"
         }
        ],
        "font": {
         "family": "Times New Roman",
         "size": 12
        },
        "height": 400,
        "images": [
         {
          "sizex": 0.5,
          "sizey": 0.5,
          "source": "./icons/icons_tradeoff/female.png",
          "x": 0.95,
          "xanchor": "left",
          "xref": "paper",
          "y": 0,
          "yanchor": "middle",
          "yref": "y"
         },
         {
          "sizex": 0.5,
          "sizey": 0.5,
          "source": "./icons/icons_tradeoff/fit.png",
          "x": 0.95,
          "xanchor": "left",
          "xref": "paper",
          "y": 1,
          "yanchor": "middle",
          "yref": "y"
         },
         {
          "sizex": 0.5,
          "sizey": 0.5,
          "source": "./icons/icons_tradeoff/higher_status.png",
          "x": 0.95,
          "xanchor": "left",
          "xref": "paper",
          "y": 2,
          "yanchor": "middle",
          "yref": "y"
         },
         {
          "sizex": 0.5,
          "sizey": 0.5,
          "source": "./icons/icons_tradeoff/young.png",
          "x": 0.95,
          "xanchor": "left",
          "xref": "paper",
          "y": 3,
          "yanchor": "middle",
          "yref": "y"
         },
         {
          "sizex": 0.5,
          "sizey": 0.5,
          "source": "./icons/icons_tradeoff/more_character.png",
          "x": 0.95,
          "xanchor": "left",
          "xref": "paper",
          "y": 4,
          "yanchor": "middle",
          "yref": "y"
         },
         {
          "sizex": 0.5,
          "sizey": 0.5,
          "source": "./icons/icons_tradeoff/humans.png",
          "x": 0.95,
          "xanchor": "left",
          "xref": "paper",
          "y": 5,
          "yanchor": "middle",
          "yref": "y"
         },
         {
          "sizex": 0.5,
          "sizey": 0.5,
          "source": "./icons/icons_tradeoff/male.png",
          "x": -0.01,
          "xanchor": "left",
          "xref": "paper",
          "y": 0,
          "yanchor": "middle",
          "yref": "y"
         },
         {
          "sizex": 0.5,
          "sizey": 0.5,
          "source": "./icons/icons_tradeoff/large.png",
          "x": -0.01,
          "xanchor": "left",
          "xref": "paper",
          "y": 1,
          "yanchor": "middle",
          "yref": "y"
         },
         {
          "sizex": 0.5,
          "sizey": 0.5,
          "source": "./icons/icons_tradeoff/lower_status.png",
          "x": -0.01,
          "xanchor": "left",
          "xref": "paper",
          "y": 2,
          "yanchor": "middle",
          "yref": "y"
         },
         {
          "sizex": 0.5,
          "sizey": 0.5,
          "source": "./icons/icons_tradeoff/elderly.png",
          "x": -0.01,
          "xanchor": "left",
          "xref": "paper",
          "y": 3,
          "yanchor": "middle",
          "yref": "y"
         },
         {
          "sizex": 0.5,
          "sizey": 0.5,
          "source": "./icons/icons_tradeoff/fewer.png",
          "x": -0.01,
          "xanchor": "left",
          "xref": "paper",
          "y": 4,
          "yanchor": "middle",
          "yref": "y"
         },
         {
          "sizex": 0.5,
          "sizey": 0.5,
          "source": "./icons/icons_tradeoff/pet.png",
          "x": -0.01,
          "xanchor": "left",
          "xref": "paper",
          "y": 5,
          "yanchor": "middle",
          "yref": "y"
         }
        ],
        "legend": {
         "orientation": "h",
         "x": 0.5,
         "xanchor": "center",
         "y": 1,
         "yanchor": "bottom"
        },
        "margin": {
         "b": 50,
         "l": 160,
         "r": 170,
         "t": 50
        },
        "plot_bgcolor": "white",
        "showlegend": true,
        "template": {
         "data": {
          "bar": [
           {
            "error_x": {
             "color": "#2a3f5f"
            },
            "error_y": {
             "color": "#2a3f5f"
            },
            "marker": {
             "line": {
              "color": "#E5ECF6",
              "width": 0.5
             },
             "pattern": {
              "fillmode": "overlay",
              "size": 10,
              "solidity": 0.2
             }
            },
            "type": "bar"
           }
          ],
          "barpolar": [
           {
            "marker": {
             "line": {
              "color": "#E5ECF6",
              "width": 0.5
             },
             "pattern": {
              "fillmode": "overlay",
              "size": 10,
              "solidity": 0.2
             }
            },
            "type": "barpolar"
           }
          ],
          "carpet": [
           {
            "aaxis": {
             "endlinecolor": "#2a3f5f",
             "gridcolor": "white",
             "linecolor": "white",
             "minorgridcolor": "white",
             "startlinecolor": "#2a3f5f"
            },
            "baxis": {
             "endlinecolor": "#2a3f5f",
             "gridcolor": "white",
             "linecolor": "white",
             "minorgridcolor": "white",
             "startlinecolor": "#2a3f5f"
            },
            "type": "carpet"
           }
          ],
          "choropleth": [
           {
            "colorbar": {
             "outlinewidth": 0,
             "ticks": ""
            },
            "type": "choropleth"
           }
          ],
          "contour": [
           {
            "colorbar": {
             "outlinewidth": 0,
             "ticks": ""
            },
            "colorscale": [
             [
              0,
              "#0d0887"
             ],
             [
              0.1111111111111111,
              "#46039f"
             ],
             [
              0.2222222222222222,
              "#7201a8"
             ],
             [
              0.3333333333333333,
              "#9c179e"
             ],
             [
              0.4444444444444444,
              "#bd3786"
             ],
             [
              0.5555555555555556,
              "#d8576b"
             ],
             [
              0.6666666666666666,
              "#ed7953"
             ],
             [
              0.7777777777777778,
              "#fb9f3a"
             ],
             [
              0.8888888888888888,
              "#fdca26"
             ],
             [
              1,
              "#f0f921"
             ]
            ],
            "type": "contour"
           }
          ],
          "contourcarpet": [
           {
            "colorbar": {
             "outlinewidth": 0,
             "ticks": ""
            },
            "type": "contourcarpet"
           }
          ],
          "heatmap": [
           {
            "colorbar": {
             "outlinewidth": 0,
             "ticks": ""
            },
            "colorscale": [
             [
              0,
              "#0d0887"
             ],
             [
              0.1111111111111111,
              "#46039f"
             ],
             [
              0.2222222222222222,
              "#7201a8"
             ],
             [
              0.3333333333333333,
              "#9c179e"
             ],
             [
              0.4444444444444444,
              "#bd3786"
             ],
             [
              0.5555555555555556,
              "#d8576b"
             ],
             [
              0.6666666666666666,
              "#ed7953"
             ],
             [
              0.7777777777777778,
              "#fb9f3a"
             ],
             [
              0.8888888888888888,
              "#fdca26"
             ],
             [
              1,
              "#f0f921"
             ]
            ],
            "type": "heatmap"
           }
          ],
          "heatmapgl": [
           {
            "colorbar": {
             "outlinewidth": 0,
             "ticks": ""
            },
            "colorscale": [
             [
              0,
              "#0d0887"
             ],
             [
              0.1111111111111111,
              "#46039f"
             ],
             [
              0.2222222222222222,
              "#7201a8"
             ],
             [
              0.3333333333333333,
              "#9c179e"
             ],
             [
              0.4444444444444444,
              "#bd3786"
             ],
             [
              0.5555555555555556,
              "#d8576b"
             ],
             [
              0.6666666666666666,
              "#ed7953"
             ],
             [
              0.7777777777777778,
              "#fb9f3a"
             ],
             [
              0.8888888888888888,
              "#fdca26"
             ],
             [
              1,
              "#f0f921"
             ]
            ],
            "type": "heatmapgl"
           }
          ],
          "histogram": [
           {
            "marker": {
             "pattern": {
              "fillmode": "overlay",
              "size": 10,
              "solidity": 0.2
             }
            },
            "type": "histogram"
           }
          ],
          "histogram2d": [
           {
            "colorbar": {
             "outlinewidth": 0,
             "ticks": ""
            },
            "colorscale": [
             [
              0,
              "#0d0887"
             ],
             [
              0.1111111111111111,
              "#46039f"
             ],
             [
              0.2222222222222222,
              "#7201a8"
             ],
             [
              0.3333333333333333,
              "#9c179e"
             ],
             [
              0.4444444444444444,
              "#bd3786"
             ],
             [
              0.5555555555555556,
              "#d8576b"
             ],
             [
              0.6666666666666666,
              "#ed7953"
             ],
             [
              0.7777777777777778,
              "#fb9f3a"
             ],
             [
              0.8888888888888888,
              "#fdca26"
             ],
             [
              1,
              "#f0f921"
             ]
            ],
            "type": "histogram2d"
           }
          ],
          "histogram2dcontour": [
           {
            "colorbar": {
             "outlinewidth": 0,
             "ticks": ""
            },
            "colorscale": [
             [
              0,
              "#0d0887"
             ],
             [
              0.1111111111111111,
              "#46039f"
             ],
             [
              0.2222222222222222,
              "#7201a8"
             ],
             [
              0.3333333333333333,
              "#9c179e"
             ],
             [
              0.4444444444444444,
              "#bd3786"
             ],
             [
              0.5555555555555556,
              "#d8576b"
             ],
             [
              0.6666666666666666,
              "#ed7953"
             ],
             [
              0.7777777777777778,
              "#fb9f3a"
             ],
             [
              0.8888888888888888,
              "#fdca26"
             ],
             [
              1,
              "#f0f921"
             ]
            ],
            "type": "histogram2dcontour"
           }
          ],
          "mesh3d": [
           {
            "colorbar": {
             "outlinewidth": 0,
             "ticks": ""
            },
            "type": "mesh3d"
           }
          ],
          "parcoords": [
           {
            "line": {
             "colorbar": {
              "outlinewidth": 0,
              "ticks": ""
             }
            },
            "type": "parcoords"
           }
          ],
          "pie": [
           {
            "automargin": true,
            "type": "pie"
           }
          ],
          "scatter": [
           {
            "fillpattern": {
             "fillmode": "overlay",
             "size": 10,
             "solidity": 0.2
            },
            "type": "scatter"
           }
          ],
          "scatter3d": [
           {
            "line": {
             "colorbar": {
              "outlinewidth": 0,
              "ticks": ""
             }
            },
            "marker": {
             "colorbar": {
              "outlinewidth": 0,
              "ticks": ""
             }
            },
            "type": "scatter3d"
           }
          ],
          "scattercarpet": [
           {
            "marker": {
             "colorbar": {
              "outlinewidth": 0,
              "ticks": ""
             }
            },
            "type": "scattercarpet"
           }
          ],
          "scattergeo": [
           {
            "marker": {
             "colorbar": {
              "outlinewidth": 0,
              "ticks": ""
             }
            },
            "type": "scattergeo"
           }
          ],
          "scattergl": [
           {
            "marker": {
             "colorbar": {
              "outlinewidth": 0,
              "ticks": ""
             }
            },
            "type": "scattergl"
           }
          ],
          "scattermapbox": [
           {
            "marker": {
             "colorbar": {
              "outlinewidth": 0,
              "ticks": ""
             }
            },
            "type": "scattermapbox"
           }
          ],
          "scatterpolar": [
           {
            "marker": {
             "colorbar": {
              "outlinewidth": 0,
              "ticks": ""
             }
            },
            "type": "scatterpolar"
           }
          ],
          "scatterpolargl": [
           {
            "marker": {
             "colorbar": {
              "outlinewidth": 0,
              "ticks": ""
             }
            },
            "type": "scatterpolargl"
           }
          ],
          "scatterternary": [
           {
            "marker": {
             "colorbar": {
              "outlinewidth": 0,
              "ticks": ""
             }
            },
            "type": "scatterternary"
           }
          ],
          "surface": [
           {
            "colorbar": {
             "outlinewidth": 0,
             "ticks": ""
            },
            "colorscale": [
             [
              0,
              "#0d0887"
             ],
             [
              0.1111111111111111,
              "#46039f"
             ],
             [
              0.2222222222222222,
              "#7201a8"
             ],
             [
              0.3333333333333333,
              "#9c179e"
             ],
             [
              0.4444444444444444,
              "#bd3786"
             ],
             [
              0.5555555555555556,
              "#d8576b"
             ],
             [
              0.6666666666666666,
              "#ed7953"
             ],
             [
              0.7777777777777778,
              "#fb9f3a"
             ],
             [
              0.8888888888888888,
              "#fdca26"
             ],
             [
              1,
              "#f0f921"
             ]
            ],
            "type": "surface"
           }
          ],
          "table": [
           {
            "cells": {
             "fill": {
              "color": "#EBF0F8"
             },
             "line": {
              "color": "white"
             }
            },
            "header": {
             "fill": {
              "color": "#C8D4E3"
             },
             "line": {
              "color": "white"
             }
            },
            "type": "table"
           }
          ]
         },
         "layout": {
          "annotationdefaults": {
           "arrowcolor": "#2a3f5f",
           "arrowhead": 0,
           "arrowwidth": 1
          },
          "autotypenumbers": "strict",
          "coloraxis": {
           "colorbar": {
            "outlinewidth": 0,
            "ticks": ""
           }
          },
          "colorscale": {
           "diverging": [
            [
             0,
             "#8e0152"
            ],
            [
             0.1,
             "#c51b7d"
            ],
            [
             0.2,
             "#de77ae"
            ],
            [
             0.3,
             "#f1b6da"
            ],
            [
             0.4,
             "#fde0ef"
            ],
            [
             0.5,
             "#f7f7f7"
            ],
            [
             0.6,
             "#e6f5d0"
            ],
            [
             0.7,
             "#b8e186"
            ],
            [
             0.8,
             "#7fbc41"
            ],
            [
             0.9,
             "#4d9221"
            ],
            [
             1,
             "#276419"
            ]
           ],
           "sequential": [
            [
             0,
             "#0d0887"
            ],
            [
             0.1111111111111111,
             "#46039f"
            ],
            [
             0.2222222222222222,
             "#7201a8"
            ],
            [
             0.3333333333333333,
             "#9c179e"
            ],
            [
             0.4444444444444444,
             "#bd3786"
            ],
            [
             0.5555555555555556,
             "#d8576b"
            ],
            [
             0.6666666666666666,
             "#ed7953"
            ],
            [
             0.7777777777777778,
             "#fb9f3a"
            ],
            [
             0.8888888888888888,
             "#fdca26"
            ],
            [
             1,
             "#f0f921"
            ]
           ],
           "sequentialminus": [
            [
             0,
             "#0d0887"
            ],
            [
             0.1111111111111111,
             "#46039f"
            ],
            [
             0.2222222222222222,
             "#7201a8"
            ],
            [
             0.3333333333333333,
             "#9c179e"
            ],
            [
             0.4444444444444444,
             "#bd3786"
            ],
            [
             0.5555555555555556,
             "#d8576b"
            ],
            [
             0.6666666666666666,
             "#ed7953"
            ],
            [
             0.7777777777777778,
             "#fb9f3a"
            ],
            [
             0.8888888888888888,
             "#fdca26"
            ],
            [
             1,
             "#f0f921"
            ]
           ]
          },
          "colorway": [
           "#636efa",
           "#EF553B",
           "#00cc96",
           "#ab63fa",
           "#FFA15A",
           "#19d3f3",
           "#FF6692",
           "#B6E880",
           "#FF97FF",
           "#FECB52"
          ],
          "font": {
           "color": "#2a3f5f"
          },
          "geo": {
           "bgcolor": "white",
           "lakecolor": "white",
           "landcolor": "#E5ECF6",
           "showlakes": true,
           "showland": true,
           "subunitcolor": "white"
          },
          "hoverlabel": {
           "align": "left"
          },
          "hovermode": "closest",
          "mapbox": {
           "style": "light"
          },
          "paper_bgcolor": "white",
          "plot_bgcolor": "#E5ECF6",
          "polar": {
           "angularaxis": {
            "gridcolor": "white",
            "linecolor": "white",
            "ticks": ""
           },
           "bgcolor": "#E5ECF6",
           "radialaxis": {
            "gridcolor": "white",
            "linecolor": "white",
            "ticks": ""
           }
          },
          "scene": {
           "xaxis": {
            "backgroundcolor": "#E5ECF6",
            "gridcolor": "white",
            "gridwidth": 2,
            "linecolor": "white",
            "showbackground": true,
            "ticks": "",
            "zerolinecolor": "white"
           },
           "yaxis": {
            "backgroundcolor": "#E5ECF6",
            "gridcolor": "white",
            "gridwidth": 2,
            "linecolor": "white",
            "showbackground": true,
            "ticks": "",
            "zerolinecolor": "white"
           },
           "zaxis": {
            "backgroundcolor": "#E5ECF6",
            "gridcolor": "white",
            "gridwidth": 2,
            "linecolor": "white",
            "showbackground": true,
            "ticks": "",
            "zerolinecolor": "white"
           }
          },
          "shapedefaults": {
           "line": {
            "color": "#2a3f5f"
           }
          },
          "ternary": {
           "aaxis": {
            "gridcolor": "white",
            "linecolor": "white",
            "ticks": ""
           },
           "baxis": {
            "gridcolor": "white",
            "linecolor": "white",
            "ticks": ""
           },
           "bgcolor": "#E5ECF6",
           "caxis": {
            "gridcolor": "white",
            "linecolor": "white",
            "ticks": ""
           }
          },
          "title": {
           "x": 0.05
          },
          "xaxis": {
           "automargin": true,
           "gridcolor": "white",
           "linecolor": "white",
           "ticks": "",
           "title": {
            "standoff": 15
           },
           "zerolinecolor": "white",
           "zerolinewidth": 2
          },
          "yaxis": {
           "automargin": true,
           "gridcolor": "white",
           "linecolor": "white",
           "ticks": "",
           "title": {
            "standoff": 15
           },
           "zerolinecolor": "white",
           "zerolinewidth": 2
          }
         }
        },
        "title": {
         "font": {
          "size": 12
         },
         "text": ""
        },
        "width": 800,
        "xaxis": {
         "anchor": "y",
         "domain": [
          0,
          1
         ],
         "gridcolor": "lightgrey",
         "gridwidth": 1,
         "range": [
          -0.1,
          1.1
         ],
         "showgrid": true,
         "ticktext": [
          "100% Favoring the Left",
          "75-25",
          "50-50",
          "25-75",
          "100% Favoring the Right"
         ],
         "tickvals": [
          0,
          0.25,
          0.5,
          0.75,
          1
         ],
         "title": {
          "text": "Preference"
         }
        },
        "yaxis": {
         "anchor": "x",
         "autorange": false,
         "categoryarray": [
          "Gender_Female_Bin_Choice",
          "Fitness_Fit_Bin_Choice",
          "SocialValue_High_Bin_Choice",
          "Age_Young_Bin_Choice",
          "Utilitarianism_More_Bin_Choice",
          "Species_Humans_Bin_Choice"
         ],
         "categoryorder": "array",
         "domain": [
          0,
          1
         ],
         "range": [
          -0.5,
          5.5
         ],
         "showgrid": false,
         "tickmode": "array",
         "ticktext": [
          "",
          "",
          "",
          "",
          "",
          ""
         ],
         "tickvals": [
          0,
          1,
          2,
          3,
          4,
          5
         ]
        }
       }
      },
      "text/html": [
       "<div>                            <div id=\"baa8661d-88b1-4848-89e0-b89cb7b99cab\" class=\"plotly-graph-div\" style=\"height:400px; width:800px;\"></div>            <script type=\"text/javascript\">                require([\"plotly\"], function(Plotly) {                    window.PLOTLYENV=window.PLOTLYENV || {};                                    if (document.getElementById(\"baa8661d-88b1-4848-89e0-b89cb7b99cab\")) {                    Plotly.newPlot(                        \"baa8661d-88b1-4848-89e0-b89cb7b99cab\",                        [{\"marker\":{\"color\":\"#0077ad\",\"line\":{\"color\":\"#0077ad\",\"width\":2}},\"name\":\"Phi-3.5 Mini\",\"opacity\":0.7,\"orientation\":\"h\",\"width\":0.3,\"x\":[1.0,1.0],\"y\":[\"Species_Humans_Bin_Choice\",\"SocialValue_High_Bin_Choice\"],\"type\":\"bar\"},{\"marker\":{\"color\":\"white\",\"line\":{\"color\":\"#ad0077\",\"width\":2},\"size\":20},\"mode\":\"markers\",\"name\":\"Human Preference\",\"showlegend\":true,\"x\":[0.7974454552522746,0.753525616600679,0.7241555080471478,0.6617809934377845,0.576127833908965,0.5625438093111024],\"y\":[\"Species_Humans_Bin_Choice\",\"Utilitarianism_More_Bin_Choice\",\"Age_Young_Bin_Choice\",\"SocialValue_High_Bin_Choice\",\"Fitness_Fit_Bin_Choice\",\"Gender_Female_Bin_Choice\"],\"type\":\"scatter\"}],                        {\"template\":{\"data\":{\"histogram2dcontour\":[{\"type\":\"histogram2dcontour\",\"colorbar\":{\"outlinewidth\":0,\"ticks\":\"\"},\"colorscale\":[[0.0,\"#0d0887\"],[0.1111111111111111,\"#46039f\"],[0.2222222222222222,\"#7201a8\"],[0.3333333333333333,\"#9c179e\"],[0.4444444444444444,\"#bd3786\"],[0.5555555555555556,\"#d8576b\"],[0.6666666666666666,\"#ed7953\"],[0.7777777777777778,\"#fb9f3a\"],[0.8888888888888888,\"#fdca26\"],[1.0,\"#f0f921\"]]}],\"choropleth\":[{\"type\":\"choropleth\",\"colorbar\":{\"outlinewidth\":0,\"ticks\":\"\"}}],\"histogram2d\":[{\"type\":\"histogram2d\",\"colorbar\":{\"outlinewidth\":0,\"ticks\":\"\"},\"colorscale\":[[0.0,\"#0d0887\"],[0.1111111111111111,\"#46039f\"],[0.2222222222222222,\"#7201a8\"],[0.3333333333333333,\"#9c179e\"],[0.4444444444444444,\"#bd3786\"],[0.5555555555555556,\"#d8576b\"],[0.6666666666666666,\"#ed7953\"],[0.7777777777777778,\"#fb9f3a\"],[0.8888888888888888,\"#fdca26\"],[1.0,\"#f0f921\"]]}],\"heatmap\":[{\"type\":\"heatmap\",\"colorbar\":{\"outlinewidth\":0,\"ticks\":\"\"},\"colorscale\":[[0.0,\"#0d0887\"],[0.1111111111111111,\"#46039f\"],[0.2222222222222222,\"#7201a8\"],[0.3333333333333333,\"#9c179e\"],[0.4444444444444444,\"#bd3786\"],[0.5555555555555556,\"#d8576b\"],[0.6666666666666666,\"#ed7953\"],[0.7777777777777778,\"#fb9f3a\"],[0.8888888888888888,\"#fdca26\"],[1.0,\"#f0f921\"]]}],\"heatmapgl\":[{\"type\":\"heatmapgl\",\"colorbar\":{\"outlinewidth\":0,\"ticks\":\"\"},\"colorscale\":[[0.0,\"#0d0887\"],[0.1111111111111111,\"#46039f\"],[0.2222222222222222,\"#7201a8\"],[0.3333333333333333,\"#9c179e\"],[0.4444444444444444,\"#bd3786\"],[0.5555555555555556,\"#d8576b\"],[0.6666666666666666,\"#ed7953\"],[0.7777777777777778,\"#fb9f3a\"],[0.8888888888888888,\"#fdca26\"],[1.0,\"#f0f921\"]]}],\"contourcarpet\":[{\"type\":\"contourcarpet\",\"colorbar\":{\"outlinewidth\":0,\"ticks\":\"\"}}],\"contour\":[{\"type\":\"contour\",\"colorbar\":{\"outlinewidth\":0,\"ticks\":\"\"},\"colorscale\":[[0.0,\"#0d0887\"],[0.1111111111111111,\"#46039f\"],[0.2222222222222222,\"#7201a8\"],[0.3333333333333333,\"#9c179e\"],[0.4444444444444444,\"#bd3786\"],[0.5555555555555556,\"#d8576b\"],[0.6666666666666666,\"#ed7953\"],[0.7777777777777778,\"#fb9f3a\"],[0.8888888888888888,\"#fdca26\"],[1.0,\"#f0f921\"]]}],\"surface\":[{\"type\":\"surface\",\"colorbar\":{\"outlinewidth\":0,\"ticks\":\"\"},\"colorscale\":[[0.0,\"#0d0887\"],[0.1111111111111111,\"#46039f\"],[0.2222222222222222,\"#7201a8\"],[0.3333333333333333,\"#9c179e\"],[0.4444444444444444,\"#bd3786\"],[0.5555555555555556,\"#d8576b\"],[0.6666666666666666,\"#ed7953\"],[0.7777777777777778,\"#fb9f3a\"],[0.8888888888888888,\"#fdca26\"],[1.0,\"#f0f921\"]]}],\"mesh3d\":[{\"type\":\"mesh3d\",\"colorbar\":{\"outlinewidth\":0,\"ticks\":\"\"}}],\"scatter\":[{\"fillpattern\":{\"fillmode\":\"overlay\",\"size\":10,\"solidity\":0.2},\"type\":\"scatter\"}],\"parcoords\":[{\"type\":\"parcoords\",\"line\":{\"colorbar\":{\"outlinewidth\":0,\"ticks\":\"\"}}}],\"scatterpolargl\":[{\"type\":\"scatterpolargl\",\"marker\":{\"colorbar\":{\"outlinewidth\":0,\"ticks\":\"\"}}}],\"bar\":[{\"error_x\":{\"color\":\"#2a3f5f\"},\"error_y\":{\"color\":\"#2a3f5f\"},\"marker\":{\"line\":{\"color\":\"#E5ECF6\",\"width\":0.5},\"pattern\":{\"fillmode\":\"overlay\",\"size\":10,\"solidity\":0.2}},\"type\":\"bar\"}],\"scattergeo\":[{\"type\":\"scattergeo\",\"marker\":{\"colorbar\":{\"outlinewidth\":0,\"ticks\":\"\"}}}],\"scatterpolar\":[{\"type\":\"scatterpolar\",\"marker\":{\"colorbar\":{\"outlinewidth\":0,\"ticks\":\"\"}}}],\"histogram\":[{\"marker\":{\"pattern\":{\"fillmode\":\"overlay\",\"size\":10,\"solidity\":0.2}},\"type\":\"histogram\"}],\"scattergl\":[{\"type\":\"scattergl\",\"marker\":{\"colorbar\":{\"outlinewidth\":0,\"ticks\":\"\"}}}],\"scatter3d\":[{\"type\":\"scatter3d\",\"line\":{\"colorbar\":{\"outlinewidth\":0,\"ticks\":\"\"}},\"marker\":{\"colorbar\":{\"outlinewidth\":0,\"ticks\":\"\"}}}],\"scattermapbox\":[{\"type\":\"scattermapbox\",\"marker\":{\"colorbar\":{\"outlinewidth\":0,\"ticks\":\"\"}}}],\"scatterternary\":[{\"type\":\"scatterternary\",\"marker\":{\"colorbar\":{\"outlinewidth\":0,\"ticks\":\"\"}}}],\"scattercarpet\":[{\"type\":\"scattercarpet\",\"marker\":{\"colorbar\":{\"outlinewidth\":0,\"ticks\":\"\"}}}],\"carpet\":[{\"aaxis\":{\"endlinecolor\":\"#2a3f5f\",\"gridcolor\":\"white\",\"linecolor\":\"white\",\"minorgridcolor\":\"white\",\"startlinecolor\":\"#2a3f5f\"},\"baxis\":{\"endlinecolor\":\"#2a3f5f\",\"gridcolor\":\"white\",\"linecolor\":\"white\",\"minorgridcolor\":\"white\",\"startlinecolor\":\"#2a3f5f\"},\"type\":\"carpet\"}],\"table\":[{\"cells\":{\"fill\":{\"color\":\"#EBF0F8\"},\"line\":{\"color\":\"white\"}},\"header\":{\"fill\":{\"color\":\"#C8D4E3\"},\"line\":{\"color\":\"white\"}},\"type\":\"table\"}],\"barpolar\":[{\"marker\":{\"line\":{\"color\":\"#E5ECF6\",\"width\":0.5},\"pattern\":{\"fillmode\":\"overlay\",\"size\":10,\"solidity\":0.2}},\"type\":\"barpolar\"}],\"pie\":[{\"automargin\":true,\"type\":\"pie\"}]},\"layout\":{\"autotypenumbers\":\"strict\",\"colorway\":[\"#636efa\",\"#EF553B\",\"#00cc96\",\"#ab63fa\",\"#FFA15A\",\"#19d3f3\",\"#FF6692\",\"#B6E880\",\"#FF97FF\",\"#FECB52\"],\"font\":{\"color\":\"#2a3f5f\"},\"hovermode\":\"closest\",\"hoverlabel\":{\"align\":\"left\"},\"paper_bgcolor\":\"white\",\"plot_bgcolor\":\"#E5ECF6\",\"polar\":{\"bgcolor\":\"#E5ECF6\",\"angularaxis\":{\"gridcolor\":\"white\",\"linecolor\":\"white\",\"ticks\":\"\"},\"radialaxis\":{\"gridcolor\":\"white\",\"linecolor\":\"white\",\"ticks\":\"\"}},\"ternary\":{\"bgcolor\":\"#E5ECF6\",\"aaxis\":{\"gridcolor\":\"white\",\"linecolor\":\"white\",\"ticks\":\"\"},\"baxis\":{\"gridcolor\":\"white\",\"linecolor\":\"white\",\"ticks\":\"\"},\"caxis\":{\"gridcolor\":\"white\",\"linecolor\":\"white\",\"ticks\":\"\"}},\"coloraxis\":{\"colorbar\":{\"outlinewidth\":0,\"ticks\":\"\"}},\"colorscale\":{\"sequential\":[[0.0,\"#0d0887\"],[0.1111111111111111,\"#46039f\"],[0.2222222222222222,\"#7201a8\"],[0.3333333333333333,\"#9c179e\"],[0.4444444444444444,\"#bd3786\"],[0.5555555555555556,\"#d8576b\"],[0.6666666666666666,\"#ed7953\"],[0.7777777777777778,\"#fb9f3a\"],[0.8888888888888888,\"#fdca26\"],[1.0,\"#f0f921\"]],\"sequentialminus\":[[0.0,\"#0d0887\"],[0.1111111111111111,\"#46039f\"],[0.2222222222222222,\"#7201a8\"],[0.3333333333333333,\"#9c179e\"],[0.4444444444444444,\"#bd3786\"],[0.5555555555555556,\"#d8576b\"],[0.6666666666666666,\"#ed7953\"],[0.7777777777777778,\"#fb9f3a\"],[0.8888888888888888,\"#fdca26\"],[1.0,\"#f0f921\"]],\"diverging\":[[0,\"#8e0152\"],[0.1,\"#c51b7d\"],[0.2,\"#de77ae\"],[0.3,\"#f1b6da\"],[0.4,\"#fde0ef\"],[0.5,\"#f7f7f7\"],[0.6,\"#e6f5d0\"],[0.7,\"#b8e186\"],[0.8,\"#7fbc41\"],[0.9,\"#4d9221\"],[1,\"#276419\"]]},\"xaxis\":{\"gridcolor\":\"white\",\"linecolor\":\"white\",\"ticks\":\"\",\"title\":{\"standoff\":15},\"zerolinecolor\":\"white\",\"automargin\":true,\"zerolinewidth\":2},\"yaxis\":{\"gridcolor\":\"white\",\"linecolor\":\"white\",\"ticks\":\"\",\"title\":{\"standoff\":15},\"zerolinecolor\":\"white\",\"automargin\":true,\"zerolinewidth\":2},\"scene\":{\"xaxis\":{\"backgroundcolor\":\"#E5ECF6\",\"gridcolor\":\"white\",\"linecolor\":\"white\",\"showbackground\":true,\"ticks\":\"\",\"zerolinecolor\":\"white\",\"gridwidth\":2},\"yaxis\":{\"backgroundcolor\":\"#E5ECF6\",\"gridcolor\":\"white\",\"linecolor\":\"white\",\"showbackground\":true,\"ticks\":\"\",\"zerolinecolor\":\"white\",\"gridwidth\":2},\"zaxis\":{\"backgroundcolor\":\"#E5ECF6\",\"gridcolor\":\"white\",\"linecolor\":\"white\",\"showbackground\":true,\"ticks\":\"\",\"zerolinecolor\":\"white\",\"gridwidth\":2}},\"shapedefaults\":{\"line\":{\"color\":\"#2a3f5f\"}},\"annotationdefaults\":{\"arrowcolor\":\"#2a3f5f\",\"arrowhead\":0,\"arrowwidth\":1},\"geo\":{\"bgcolor\":\"white\",\"landcolor\":\"#E5ECF6\",\"subunitcolor\":\"white\",\"showland\":true,\"showlakes\":true,\"lakecolor\":\"white\"},\"title\":{\"x\":0.05},\"mapbox\":{\"style\":\"light\"}}},\"xaxis\":{\"anchor\":\"y\",\"domain\":[0.0,1.0],\"title\":{\"text\":\"Preference\"},\"tickvals\":[0,0.25,0.5,0.75,1],\"ticktext\":[\"100% Favoring the Left\",\"75-25\",\"50-50\",\"25-75\",\"100% Favoring the Right\"],\"range\":[-0.1,1.1],\"showgrid\":true,\"gridwidth\":1,\"gridcolor\":\"lightgrey\"},\"yaxis\":{\"anchor\":\"x\",\"domain\":[0.0,1.0],\"categoryorder\":\"array\",\"categoryarray\":[\"Gender_Female_Bin_Choice\",\"Fitness_Fit_Bin_Choice\",\"SocialValue_High_Bin_Choice\",\"Age_Young_Bin_Choice\",\"Utilitarianism_More_Bin_Choice\",\"Species_Humans_Bin_Choice\"],\"tickvals\":[0,1,2,3,4,5],\"ticktext\":[\"\",\"\",\"\",\"\",\"\",\"\"],\"tickmode\":\"array\",\"range\":[-0.5,5.5],\"autorange\":false,\"showgrid\":false},\"title\":{\"text\":\"\",\"font\":{\"size\":12}},\"height\":400,\"width\":800,\"plot_bgcolor\":\"white\",\"annotations\":[{\"align\":\"left\",\"font\":{\"size\":14},\"showarrow\":false,\"text\":\"Sparing females\",\"x\":1.06,\"xanchor\":\"left\",\"xref\":\"paper\",\"y\":0,\"yref\":\"y\"},{\"align\":\"left\",\"font\":{\"size\":14},\"showarrow\":false,\"text\":\"Sparing the fit\",\"x\":1.06,\"xanchor\":\"left\",\"xref\":\"paper\",\"y\":1,\"yref\":\"y\"},{\"align\":\"left\",\"font\":{\"size\":14},\"showarrow\":false,\"text\":\"Sparing higher status\",\"x\":1.06,\"xanchor\":\"left\",\"xref\":\"paper\",\"y\":2,\"yref\":\"y\"},{\"align\":\"left\",\"font\":{\"size\":14},\"showarrow\":false,\"text\":\"Sparing the young\",\"x\":1.06,\"xanchor\":\"left\",\"xref\":\"paper\",\"y\":3,\"yref\":\"y\"},{\"align\":\"left\",\"font\":{\"size\":14},\"showarrow\":false,\"text\":\"Sparing more characters\",\"x\":1.06,\"xanchor\":\"left\",\"xref\":\"paper\",\"y\":4,\"yref\":\"y\"},{\"align\":\"left\",\"font\":{\"size\":14},\"showarrow\":false,\"text\":\"Sparing humans\",\"x\":1.06,\"xanchor\":\"left\",\"xref\":\"paper\",\"y\":5,\"yref\":\"y\"},{\"align\":\"right\",\"font\":{\"size\":14},\"showarrow\":false,\"text\":\"Sparing males\",\"x\":-0.02,\"xanchor\":\"right\",\"xref\":\"paper\",\"y\":0,\"yref\":\"y\"},{\"align\":\"right\",\"font\":{\"size\":14},\"showarrow\":false,\"text\":\"Sparing the large\",\"x\":-0.02,\"xanchor\":\"right\",\"xref\":\"paper\",\"y\":1,\"yref\":\"y\"},{\"align\":\"right\",\"font\":{\"size\":14},\"showarrow\":false,\"text\":\"Sparing lower status\",\"x\":-0.02,\"xanchor\":\"right\",\"xref\":\"paper\",\"y\":2,\"yref\":\"y\"},{\"align\":\"right\",\"font\":{\"size\":14},\"showarrow\":false,\"text\":\"Sparing the elderly\",\"x\":-0.02,\"xanchor\":\"right\",\"xref\":\"paper\",\"y\":3,\"yref\":\"y\"},{\"align\":\"right\",\"font\":{\"size\":14},\"showarrow\":false,\"text\":\"Sparing fewer characters\",\"x\":-0.02,\"xanchor\":\"right\",\"xref\":\"paper\",\"y\":4,\"yref\":\"y\"},{\"align\":\"right\",\"font\":{\"size\":14},\"showarrow\":false,\"text\":\"Sparing pets\",\"x\":-0.02,\"xanchor\":\"right\",\"xref\":\"paper\",\"y\":5,\"yref\":\"y\"}],\"images\":[{\"sizex\":0.5,\"sizey\":0.5,\"source\":\".\\u002ficons\\u002ficons_tradeoff\\u002ffemale.png\",\"x\":0.95,\"xanchor\":\"left\",\"xref\":\"paper\",\"y\":0,\"yanchor\":\"middle\",\"yref\":\"y\"},{\"sizex\":0.5,\"sizey\":0.5,\"source\":\".\\u002ficons\\u002ficons_tradeoff\\u002ffit.png\",\"x\":0.95,\"xanchor\":\"left\",\"xref\":\"paper\",\"y\":1,\"yanchor\":\"middle\",\"yref\":\"y\"},{\"sizex\":0.5,\"sizey\":0.5,\"source\":\".\\u002ficons\\u002ficons_tradeoff\\u002fhigher_status.png\",\"x\":0.95,\"xanchor\":\"left\",\"xref\":\"paper\",\"y\":2,\"yanchor\":\"middle\",\"yref\":\"y\"},{\"sizex\":0.5,\"sizey\":0.5,\"source\":\".\\u002ficons\\u002ficons_tradeoff\\u002fyoung.png\",\"x\":0.95,\"xanchor\":\"left\",\"xref\":\"paper\",\"y\":3,\"yanchor\":\"middle\",\"yref\":\"y\"},{\"sizex\":0.5,\"sizey\":0.5,\"source\":\".\\u002ficons\\u002ficons_tradeoff\\u002fmore_character.png\",\"x\":0.95,\"xanchor\":\"left\",\"xref\":\"paper\",\"y\":4,\"yanchor\":\"middle\",\"yref\":\"y\"},{\"sizex\":0.5,\"sizey\":0.5,\"source\":\".\\u002ficons\\u002ficons_tradeoff\\u002fhumans.png\",\"x\":0.95,\"xanchor\":\"left\",\"xref\":\"paper\",\"y\":5,\"yanchor\":\"middle\",\"yref\":\"y\"},{\"sizex\":0.5,\"sizey\":0.5,\"source\":\".\\u002ficons\\u002ficons_tradeoff\\u002fmale.png\",\"x\":-0.01,\"xanchor\":\"left\",\"xref\":\"paper\",\"y\":0,\"yanchor\":\"middle\",\"yref\":\"y\"},{\"sizex\":0.5,\"sizey\":0.5,\"source\":\".\\u002ficons\\u002ficons_tradeoff\\u002flarge.png\",\"x\":-0.01,\"xanchor\":\"left\",\"xref\":\"paper\",\"y\":1,\"yanchor\":\"middle\",\"yref\":\"y\"},{\"sizex\":0.5,\"sizey\":0.5,\"source\":\".\\u002ficons\\u002ficons_tradeoff\\u002flower_status.png\",\"x\":-0.01,\"xanchor\":\"left\",\"xref\":\"paper\",\"y\":2,\"yanchor\":\"middle\",\"yref\":\"y\"},{\"sizex\":0.5,\"sizey\":0.5,\"source\":\".\\u002ficons\\u002ficons_tradeoff\\u002felderly.png\",\"x\":-0.01,\"xanchor\":\"left\",\"xref\":\"paper\",\"y\":3,\"yanchor\":\"middle\",\"yref\":\"y\"},{\"sizex\":0.5,\"sizey\":0.5,\"source\":\".\\u002ficons\\u002ficons_tradeoff\\u002ffewer.png\",\"x\":-0.01,\"xanchor\":\"left\",\"xref\":\"paper\",\"y\":4,\"yanchor\":\"middle\",\"yref\":\"y\"},{\"sizex\":0.5,\"sizey\":0.5,\"source\":\".\\u002ficons\\u002ficons_tradeoff\\u002fpet.png\",\"x\":-0.01,\"xanchor\":\"left\",\"xref\":\"paper\",\"y\":5,\"yanchor\":\"middle\",\"yref\":\"y\"}],\"margin\":{\"l\":160,\"r\":170,\"t\":50,\"b\":50},\"legend\":{\"orientation\":\"h\",\"yanchor\":\"bottom\",\"y\":1,\"xanchor\":\"center\",\"x\":0.5},\"showlegend\":true,\"font\":{\"family\":\"Times New Roman\",\"size\":12}},                        {\"responsive\": true}                    ).then(function(){\n",
       "                            \n",
       "var gd = document.getElementById('baa8661d-88b1-4848-89e0-b89cb7b99cab');\n",
       "var x = new MutationObserver(function (mutations, observer) {{\n",
       "        var display = window.getComputedStyle(gd).display;\n",
       "        if (!display || display === 'none') {{\n",
       "            console.log([gd, 'removed!']);\n",
       "            Plotly.purge(gd);\n",
       "            observer.disconnect();\n",
       "        }}\n",
       "}});\n",
       "\n",
       "// Listen for the removal of the full notebook cells\n",
       "var notebookContainer = gd.closest('#notebook-container');\n",
       "if (notebookContainer) {{\n",
       "    x.observe(notebookContainer, {childList: true});\n",
       "}}\n",
       "\n",
       "// Listen for the clearing of the current output cell\n",
       "var outputEl = gd.closest('.output');\n",
       "if (outputEl) {{\n",
       "    x.observe(outputEl, {childList: true});\n",
       "}}\n",
       "\n",
       "                        })                };                });            </script>        </div>"
      ]
     },
     "metadata": {},
     "output_type": "display_data"
    },
    {
     "data": {
      "application/vnd.plotly.v1+json": {
       "config": {
        "plotlyServerURL": "https://plot.ly"
       },
       "data": [
        {
         "marker": {
          "color": "#0077ad",
          "line": {
           "color": "#0077ad",
           "width": 2
          }
         },
         "name": "Gemma 2 9B",
         "opacity": 0.7,
         "orientation": "h",
         "type": "bar",
         "width": 0.3,
         "x": [
          1,
          1,
          1,
          0.8065000000000001,
          0.5
         ],
         "y": [
          "Species_Humans_Bin_Choice",
          "Utilitarianism_More_Bin_Choice",
          "Age_Young_Bin_Choice",
          "SocialValue_High_Bin_Choice",
          "Gender_Female_Bin_Choice"
         ]
        },
        {
         "marker": {
          "color": "white",
          "line": {
           "color": "#ad0077",
           "width": 2
          },
          "size": 20
         },
         "mode": "markers",
         "name": "Human Preference",
         "showlegend": true,
         "type": "scatter",
         "x": [
          0.7974454552522746,
          0.753525616600679,
          0.7241555080471478,
          0.6617809934377845,
          0.576127833908965,
          0.5625438093111024
         ],
         "y": [
          "Species_Humans_Bin_Choice",
          "Utilitarianism_More_Bin_Choice",
          "Age_Young_Bin_Choice",
          "SocialValue_High_Bin_Choice",
          "Fitness_Fit_Bin_Choice",
          "Gender_Female_Bin_Choice"
         ]
        }
       ],
       "layout": {
        "annotations": [
         {
          "align": "left",
          "font": {
           "size": 14
          },
          "showarrow": false,
          "text": "Sparing females",
          "x": 1.06,
          "xanchor": "left",
          "xref": "paper",
          "y": 0,
          "yref": "y"
         },
         {
          "align": "left",
          "font": {
           "size": 14
          },
          "showarrow": false,
          "text": "Sparing the fit",
          "x": 1.06,
          "xanchor": "left",
          "xref": "paper",
          "y": 1,
          "yref": "y"
         },
         {
          "align": "left",
          "font": {
           "size": 14
          },
          "showarrow": false,
          "text": "Sparing higher status",
          "x": 1.06,
          "xanchor": "left",
          "xref": "paper",
          "y": 2,
          "yref": "y"
         },
         {
          "align": "left",
          "font": {
           "size": 14
          },
          "showarrow": false,
          "text": "Sparing the young",
          "x": 1.06,
          "xanchor": "left",
          "xref": "paper",
          "y": 3,
          "yref": "y"
         },
         {
          "align": "left",
          "font": {
           "size": 14
          },
          "showarrow": false,
          "text": "Sparing more characters",
          "x": 1.06,
          "xanchor": "left",
          "xref": "paper",
          "y": 4,
          "yref": "y"
         },
         {
          "align": "left",
          "font": {
           "size": 14
          },
          "showarrow": false,
          "text": "Sparing humans",
          "x": 1.06,
          "xanchor": "left",
          "xref": "paper",
          "y": 5,
          "yref": "y"
         },
         {
          "align": "right",
          "font": {
           "size": 14
          },
          "showarrow": false,
          "text": "Sparing males",
          "x": -0.02,
          "xanchor": "right",
          "xref": "paper",
          "y": 0,
          "yref": "y"
         },
         {
          "align": "right",
          "font": {
           "size": 14
          },
          "showarrow": false,
          "text": "Sparing the large",
          "x": -0.02,
          "xanchor": "right",
          "xref": "paper",
          "y": 1,
          "yref": "y"
         },
         {
          "align": "right",
          "font": {
           "size": 14
          },
          "showarrow": false,
          "text": "Sparing lower status",
          "x": -0.02,
          "xanchor": "right",
          "xref": "paper",
          "y": 2,
          "yref": "y"
         },
         {
          "align": "right",
          "font": {
           "size": 14
          },
          "showarrow": false,
          "text": "Sparing the elderly",
          "x": -0.02,
          "xanchor": "right",
          "xref": "paper",
          "y": 3,
          "yref": "y"
         },
         {
          "align": "right",
          "font": {
           "size": 14
          },
          "showarrow": false,
          "text": "Sparing fewer characters",
          "x": -0.02,
          "xanchor": "right",
          "xref": "paper",
          "y": 4,
          "yref": "y"
         },
         {
          "align": "right",
          "font": {
           "size": 14
          },
          "showarrow": false,
          "text": "Sparing pets",
          "x": -0.02,
          "xanchor": "right",
          "xref": "paper",
          "y": 5,
          "yref": "y"
         }
        ],
        "font": {
         "family": "Times New Roman",
         "size": 12
        },
        "height": 400,
        "images": [
         {
          "sizex": 0.5,
          "sizey": 0.5,
          "source": "./icons/icons_tradeoff/female.png",
          "x": 0.95,
          "xanchor": "left",
          "xref": "paper",
          "y": 0,
          "yanchor": "middle",
          "yref": "y"
         },
         {
          "sizex": 0.5,
          "sizey": 0.5,
          "source": "./icons/icons_tradeoff/fit.png",
          "x": 0.95,
          "xanchor": "left",
          "xref": "paper",
          "y": 1,
          "yanchor": "middle",
          "yref": "y"
         },
         {
          "sizex": 0.5,
          "sizey": 0.5,
          "source": "./icons/icons_tradeoff/higher_status.png",
          "x": 0.95,
          "xanchor": "left",
          "xref": "paper",
          "y": 2,
          "yanchor": "middle",
          "yref": "y"
         },
         {
          "sizex": 0.5,
          "sizey": 0.5,
          "source": "./icons/icons_tradeoff/young.png",
          "x": 0.95,
          "xanchor": "left",
          "xref": "paper",
          "y": 3,
          "yanchor": "middle",
          "yref": "y"
         },
         {
          "sizex": 0.5,
          "sizey": 0.5,
          "source": "./icons/icons_tradeoff/more_character.png",
          "x": 0.95,
          "xanchor": "left",
          "xref": "paper",
          "y": 4,
          "yanchor": "middle",
          "yref": "y"
         },
         {
          "sizex": 0.5,
          "sizey": 0.5,
          "source": "./icons/icons_tradeoff/humans.png",
          "x": 0.95,
          "xanchor": "left",
          "xref": "paper",
          "y": 5,
          "yanchor": "middle",
          "yref": "y"
         },
         {
          "sizex": 0.5,
          "sizey": 0.5,
          "source": "./icons/icons_tradeoff/male.png",
          "x": -0.01,
          "xanchor": "left",
          "xref": "paper",
          "y": 0,
          "yanchor": "middle",
          "yref": "y"
         },
         {
          "sizex": 0.5,
          "sizey": 0.5,
          "source": "./icons/icons_tradeoff/large.png",
          "x": -0.01,
          "xanchor": "left",
          "xref": "paper",
          "y": 1,
          "yanchor": "middle",
          "yref": "y"
         },
         {
          "sizex": 0.5,
          "sizey": 0.5,
          "source": "./icons/icons_tradeoff/lower_status.png",
          "x": -0.01,
          "xanchor": "left",
          "xref": "paper",
          "y": 2,
          "yanchor": "middle",
          "yref": "y"
         },
         {
          "sizex": 0.5,
          "sizey": 0.5,
          "source": "./icons/icons_tradeoff/elderly.png",
          "x": -0.01,
          "xanchor": "left",
          "xref": "paper",
          "y": 3,
          "yanchor": "middle",
          "yref": "y"
         },
         {
          "sizex": 0.5,
          "sizey": 0.5,
          "source": "./icons/icons_tradeoff/fewer.png",
          "x": -0.01,
          "xanchor": "left",
          "xref": "paper",
          "y": 4,
          "yanchor": "middle",
          "yref": "y"
         },
         {
          "sizex": 0.5,
          "sizey": 0.5,
          "source": "./icons/icons_tradeoff/pet.png",
          "x": -0.01,
          "xanchor": "left",
          "xref": "paper",
          "y": 5,
          "yanchor": "middle",
          "yref": "y"
         }
        ],
        "legend": {
         "orientation": "h",
         "x": 0.5,
         "xanchor": "center",
         "y": 1,
         "yanchor": "bottom"
        },
        "margin": {
         "b": 50,
         "l": 160,
         "r": 170,
         "t": 50
        },
        "plot_bgcolor": "white",
        "showlegend": true,
        "template": {
         "data": {
          "bar": [
           {
            "error_x": {
             "color": "#2a3f5f"
            },
            "error_y": {
             "color": "#2a3f5f"
            },
            "marker": {
             "line": {
              "color": "#E5ECF6",
              "width": 0.5
             },
             "pattern": {
              "fillmode": "overlay",
              "size": 10,
              "solidity": 0.2
             }
            },
            "type": "bar"
           }
          ],
          "barpolar": [
           {
            "marker": {
             "line": {
              "color": "#E5ECF6",
              "width": 0.5
             },
             "pattern": {
              "fillmode": "overlay",
              "size": 10,
              "solidity": 0.2
             }
            },
            "type": "barpolar"
           }
          ],
          "carpet": [
           {
            "aaxis": {
             "endlinecolor": "#2a3f5f",
             "gridcolor": "white",
             "linecolor": "white",
             "minorgridcolor": "white",
             "startlinecolor": "#2a3f5f"
            },
            "baxis": {
             "endlinecolor": "#2a3f5f",
             "gridcolor": "white",
             "linecolor": "white",
             "minorgridcolor": "white",
             "startlinecolor": "#2a3f5f"
            },
            "type": "carpet"
           }
          ],
          "choropleth": [
           {
            "colorbar": {
             "outlinewidth": 0,
             "ticks": ""
            },
            "type": "choropleth"
           }
          ],
          "contour": [
           {
            "colorbar": {
             "outlinewidth": 0,
             "ticks": ""
            },
            "colorscale": [
             [
              0,
              "#0d0887"
             ],
             [
              0.1111111111111111,
              "#46039f"
             ],
             [
              0.2222222222222222,
              "#7201a8"
             ],
             [
              0.3333333333333333,
              "#9c179e"
             ],
             [
              0.4444444444444444,
              "#bd3786"
             ],
             [
              0.5555555555555556,
              "#d8576b"
             ],
             [
              0.6666666666666666,
              "#ed7953"
             ],
             [
              0.7777777777777778,
              "#fb9f3a"
             ],
             [
              0.8888888888888888,
              "#fdca26"
             ],
             [
              1,
              "#f0f921"
             ]
            ],
            "type": "contour"
           }
          ],
          "contourcarpet": [
           {
            "colorbar": {
             "outlinewidth": 0,
             "ticks": ""
            },
            "type": "contourcarpet"
           }
          ],
          "heatmap": [
           {
            "colorbar": {
             "outlinewidth": 0,
             "ticks": ""
            },
            "colorscale": [
             [
              0,
              "#0d0887"
             ],
             [
              0.1111111111111111,
              "#46039f"
             ],
             [
              0.2222222222222222,
              "#7201a8"
             ],
             [
              0.3333333333333333,
              "#9c179e"
             ],
             [
              0.4444444444444444,
              "#bd3786"
             ],
             [
              0.5555555555555556,
              "#d8576b"
             ],
             [
              0.6666666666666666,
              "#ed7953"
             ],
             [
              0.7777777777777778,
              "#fb9f3a"
             ],
             [
              0.8888888888888888,
              "#fdca26"
             ],
             [
              1,
              "#f0f921"
             ]
            ],
            "type": "heatmap"
           }
          ],
          "heatmapgl": [
           {
            "colorbar": {
             "outlinewidth": 0,
             "ticks": ""
            },
            "colorscale": [
             [
              0,
              "#0d0887"
             ],
             [
              0.1111111111111111,
              "#46039f"
             ],
             [
              0.2222222222222222,
              "#7201a8"
             ],
             [
              0.3333333333333333,
              "#9c179e"
             ],
             [
              0.4444444444444444,
              "#bd3786"
             ],
             [
              0.5555555555555556,
              "#d8576b"
             ],
             [
              0.6666666666666666,
              "#ed7953"
             ],
             [
              0.7777777777777778,
              "#fb9f3a"
             ],
             [
              0.8888888888888888,
              "#fdca26"
             ],
             [
              1,
              "#f0f921"
             ]
            ],
            "type": "heatmapgl"
           }
          ],
          "histogram": [
           {
            "marker": {
             "pattern": {
              "fillmode": "overlay",
              "size": 10,
              "solidity": 0.2
             }
            },
            "type": "histogram"
           }
          ],
          "histogram2d": [
           {
            "colorbar": {
             "outlinewidth": 0,
             "ticks": ""
            },
            "colorscale": [
             [
              0,
              "#0d0887"
             ],
             [
              0.1111111111111111,
              "#46039f"
             ],
             [
              0.2222222222222222,
              "#7201a8"
             ],
             [
              0.3333333333333333,
              "#9c179e"
             ],
             [
              0.4444444444444444,
              "#bd3786"
             ],
             [
              0.5555555555555556,
              "#d8576b"
             ],
             [
              0.6666666666666666,
              "#ed7953"
             ],
             [
              0.7777777777777778,
              "#fb9f3a"
             ],
             [
              0.8888888888888888,
              "#fdca26"
             ],
             [
              1,
              "#f0f921"
             ]
            ],
            "type": "histogram2d"
           }
          ],
          "histogram2dcontour": [
           {
            "colorbar": {
             "outlinewidth": 0,
             "ticks": ""
            },
            "colorscale": [
             [
              0,
              "#0d0887"
             ],
             [
              0.1111111111111111,
              "#46039f"
             ],
             [
              0.2222222222222222,
              "#7201a8"
             ],
             [
              0.3333333333333333,
              "#9c179e"
             ],
             [
              0.4444444444444444,
              "#bd3786"
             ],
             [
              0.5555555555555556,
              "#d8576b"
             ],
             [
              0.6666666666666666,
              "#ed7953"
             ],
             [
              0.7777777777777778,
              "#fb9f3a"
             ],
             [
              0.8888888888888888,
              "#fdca26"
             ],
             [
              1,
              "#f0f921"
             ]
            ],
            "type": "histogram2dcontour"
           }
          ],
          "mesh3d": [
           {
            "colorbar": {
             "outlinewidth": 0,
             "ticks": ""
            },
            "type": "mesh3d"
           }
          ],
          "parcoords": [
           {
            "line": {
             "colorbar": {
              "outlinewidth": 0,
              "ticks": ""
             }
            },
            "type": "parcoords"
           }
          ],
          "pie": [
           {
            "automargin": true,
            "type": "pie"
           }
          ],
          "scatter": [
           {
            "fillpattern": {
             "fillmode": "overlay",
             "size": 10,
             "solidity": 0.2
            },
            "type": "scatter"
           }
          ],
          "scatter3d": [
           {
            "line": {
             "colorbar": {
              "outlinewidth": 0,
              "ticks": ""
             }
            },
            "marker": {
             "colorbar": {
              "outlinewidth": 0,
              "ticks": ""
             }
            },
            "type": "scatter3d"
           }
          ],
          "scattercarpet": [
           {
            "marker": {
             "colorbar": {
              "outlinewidth": 0,
              "ticks": ""
             }
            },
            "type": "scattercarpet"
           }
          ],
          "scattergeo": [
           {
            "marker": {
             "colorbar": {
              "outlinewidth": 0,
              "ticks": ""
             }
            },
            "type": "scattergeo"
           }
          ],
          "scattergl": [
           {
            "marker": {
             "colorbar": {
              "outlinewidth": 0,
              "ticks": ""
             }
            },
            "type": "scattergl"
           }
          ],
          "scattermapbox": [
           {
            "marker": {
             "colorbar": {
              "outlinewidth": 0,
              "ticks": ""
             }
            },
            "type": "scattermapbox"
           }
          ],
          "scatterpolar": [
           {
            "marker": {
             "colorbar": {
              "outlinewidth": 0,
              "ticks": ""
             }
            },
            "type": "scatterpolar"
           }
          ],
          "scatterpolargl": [
           {
            "marker": {
             "colorbar": {
              "outlinewidth": 0,
              "ticks": ""
             }
            },
            "type": "scatterpolargl"
           }
          ],
          "scatterternary": [
           {
            "marker": {
             "colorbar": {
              "outlinewidth": 0,
              "ticks": ""
             }
            },
            "type": "scatterternary"
           }
          ],
          "surface": [
           {
            "colorbar": {
             "outlinewidth": 0,
             "ticks": ""
            },
            "colorscale": [
             [
              0,
              "#0d0887"
             ],
             [
              0.1111111111111111,
              "#46039f"
             ],
             [
              0.2222222222222222,
              "#7201a8"
             ],
             [
              0.3333333333333333,
              "#9c179e"
             ],
             [
              0.4444444444444444,
              "#bd3786"
             ],
             [
              0.5555555555555556,
              "#d8576b"
             ],
             [
              0.6666666666666666,
              "#ed7953"
             ],
             [
              0.7777777777777778,
              "#fb9f3a"
             ],
             [
              0.8888888888888888,
              "#fdca26"
             ],
             [
              1,
              "#f0f921"
             ]
            ],
            "type": "surface"
           }
          ],
          "table": [
           {
            "cells": {
             "fill": {
              "color": "#EBF0F8"
             },
             "line": {
              "color": "white"
             }
            },
            "header": {
             "fill": {
              "color": "#C8D4E3"
             },
             "line": {
              "color": "white"
             }
            },
            "type": "table"
           }
          ]
         },
         "layout": {
          "annotationdefaults": {
           "arrowcolor": "#2a3f5f",
           "arrowhead": 0,
           "arrowwidth": 1
          },
          "autotypenumbers": "strict",
          "coloraxis": {
           "colorbar": {
            "outlinewidth": 0,
            "ticks": ""
           }
          },
          "colorscale": {
           "diverging": [
            [
             0,
             "#8e0152"
            ],
            [
             0.1,
             "#c51b7d"
            ],
            [
             0.2,
             "#de77ae"
            ],
            [
             0.3,
             "#f1b6da"
            ],
            [
             0.4,
             "#fde0ef"
            ],
            [
             0.5,
             "#f7f7f7"
            ],
            [
             0.6,
             "#e6f5d0"
            ],
            [
             0.7,
             "#b8e186"
            ],
            [
             0.8,
             "#7fbc41"
            ],
            [
             0.9,
             "#4d9221"
            ],
            [
             1,
             "#276419"
            ]
           ],
           "sequential": [
            [
             0,
             "#0d0887"
            ],
            [
             0.1111111111111111,
             "#46039f"
            ],
            [
             0.2222222222222222,
             "#7201a8"
            ],
            [
             0.3333333333333333,
             "#9c179e"
            ],
            [
             0.4444444444444444,
             "#bd3786"
            ],
            [
             0.5555555555555556,
             "#d8576b"
            ],
            [
             0.6666666666666666,
             "#ed7953"
            ],
            [
             0.7777777777777778,
             "#fb9f3a"
            ],
            [
             0.8888888888888888,
             "#fdca26"
            ],
            [
             1,
             "#f0f921"
            ]
           ],
           "sequentialminus": [
            [
             0,
             "#0d0887"
            ],
            [
             0.1111111111111111,
             "#46039f"
            ],
            [
             0.2222222222222222,
             "#7201a8"
            ],
            [
             0.3333333333333333,
             "#9c179e"
            ],
            [
             0.4444444444444444,
             "#bd3786"
            ],
            [
             0.5555555555555556,
             "#d8576b"
            ],
            [
             0.6666666666666666,
             "#ed7953"
            ],
            [
             0.7777777777777778,
             "#fb9f3a"
            ],
            [
             0.8888888888888888,
             "#fdca26"
            ],
            [
             1,
             "#f0f921"
            ]
           ]
          },
          "colorway": [
           "#636efa",
           "#EF553B",
           "#00cc96",
           "#ab63fa",
           "#FFA15A",
           "#19d3f3",
           "#FF6692",
           "#B6E880",
           "#FF97FF",
           "#FECB52"
          ],
          "font": {
           "color": "#2a3f5f"
          },
          "geo": {
           "bgcolor": "white",
           "lakecolor": "white",
           "landcolor": "#E5ECF6",
           "showlakes": true,
           "showland": true,
           "subunitcolor": "white"
          },
          "hoverlabel": {
           "align": "left"
          },
          "hovermode": "closest",
          "mapbox": {
           "style": "light"
          },
          "paper_bgcolor": "white",
          "plot_bgcolor": "#E5ECF6",
          "polar": {
           "angularaxis": {
            "gridcolor": "white",
            "linecolor": "white",
            "ticks": ""
           },
           "bgcolor": "#E5ECF6",
           "radialaxis": {
            "gridcolor": "white",
            "linecolor": "white",
            "ticks": ""
           }
          },
          "scene": {
           "xaxis": {
            "backgroundcolor": "#E5ECF6",
            "gridcolor": "white",
            "gridwidth": 2,
            "linecolor": "white",
            "showbackground": true,
            "ticks": "",
            "zerolinecolor": "white"
           },
           "yaxis": {
            "backgroundcolor": "#E5ECF6",
            "gridcolor": "white",
            "gridwidth": 2,
            "linecolor": "white",
            "showbackground": true,
            "ticks": "",
            "zerolinecolor": "white"
           },
           "zaxis": {
            "backgroundcolor": "#E5ECF6",
            "gridcolor": "white",
            "gridwidth": 2,
            "linecolor": "white",
            "showbackground": true,
            "ticks": "",
            "zerolinecolor": "white"
           }
          },
          "shapedefaults": {
           "line": {
            "color": "#2a3f5f"
           }
          },
          "ternary": {
           "aaxis": {
            "gridcolor": "white",
            "linecolor": "white",
            "ticks": ""
           },
           "baxis": {
            "gridcolor": "white",
            "linecolor": "white",
            "ticks": ""
           },
           "bgcolor": "#E5ECF6",
           "caxis": {
            "gridcolor": "white",
            "linecolor": "white",
            "ticks": ""
           }
          },
          "title": {
           "x": 0.05
          },
          "xaxis": {
           "automargin": true,
           "gridcolor": "white",
           "linecolor": "white",
           "ticks": "",
           "title": {
            "standoff": 15
           },
           "zerolinecolor": "white",
           "zerolinewidth": 2
          },
          "yaxis": {
           "automargin": true,
           "gridcolor": "white",
           "linecolor": "white",
           "ticks": "",
           "title": {
            "standoff": 15
           },
           "zerolinecolor": "white",
           "zerolinewidth": 2
          }
         }
        },
        "title": {
         "font": {
          "size": 12
         },
         "text": ""
        },
        "width": 800,
        "xaxis": {
         "anchor": "y",
         "domain": [
          0,
          1
         ],
         "gridcolor": "lightgrey",
         "gridwidth": 1,
         "range": [
          -0.1,
          1.1
         ],
         "showgrid": true,
         "ticktext": [
          "100% Favoring the Left",
          "75-25",
          "50-50",
          "25-75",
          "100% Favoring the Right"
         ],
         "tickvals": [
          0,
          0.25,
          0.5,
          0.75,
          1
         ],
         "title": {
          "text": "Preference"
         }
        },
        "yaxis": {
         "anchor": "x",
         "autorange": false,
         "categoryarray": [
          "Gender_Female_Bin_Choice",
          "Fitness_Fit_Bin_Choice",
          "SocialValue_High_Bin_Choice",
          "Age_Young_Bin_Choice",
          "Utilitarianism_More_Bin_Choice",
          "Species_Humans_Bin_Choice"
         ],
         "categoryorder": "array",
         "domain": [
          0,
          1
         ],
         "range": [
          -0.5,
          5.5
         ],
         "showgrid": false,
         "tickmode": "array",
         "ticktext": [
          "",
          "",
          "",
          "",
          "",
          ""
         ],
         "tickvals": [
          0,
          1,
          2,
          3,
          4,
          5
         ]
        }
       }
      },
      "text/html": [
       "<div>                            <div id=\"6d398a58-a229-4337-8728-c58ce88f366b\" class=\"plotly-graph-div\" style=\"height:400px; width:800px;\"></div>            <script type=\"text/javascript\">                require([\"plotly\"], function(Plotly) {                    window.PLOTLYENV=window.PLOTLYENV || {};                                    if (document.getElementById(\"6d398a58-a229-4337-8728-c58ce88f366b\")) {                    Plotly.newPlot(                        \"6d398a58-a229-4337-8728-c58ce88f366b\",                        [{\"marker\":{\"color\":\"#0077ad\",\"line\":{\"color\":\"#0077ad\",\"width\":2}},\"name\":\"Gemma 2 9B\",\"opacity\":0.7,\"orientation\":\"h\",\"width\":0.3,\"x\":[1.0,1.0,1.0,0.8065000000000001,0.5],\"y\":[\"Species_Humans_Bin_Choice\",\"Utilitarianism_More_Bin_Choice\",\"Age_Young_Bin_Choice\",\"SocialValue_High_Bin_Choice\",\"Gender_Female_Bin_Choice\"],\"type\":\"bar\"},{\"marker\":{\"color\":\"white\",\"line\":{\"color\":\"#ad0077\",\"width\":2},\"size\":20},\"mode\":\"markers\",\"name\":\"Human Preference\",\"showlegend\":true,\"x\":[0.7974454552522746,0.753525616600679,0.7241555080471478,0.6617809934377845,0.576127833908965,0.5625438093111024],\"y\":[\"Species_Humans_Bin_Choice\",\"Utilitarianism_More_Bin_Choice\",\"Age_Young_Bin_Choice\",\"SocialValue_High_Bin_Choice\",\"Fitness_Fit_Bin_Choice\",\"Gender_Female_Bin_Choice\"],\"type\":\"scatter\"}],                        {\"template\":{\"data\":{\"histogram2dcontour\":[{\"type\":\"histogram2dcontour\",\"colorbar\":{\"outlinewidth\":0,\"ticks\":\"\"},\"colorscale\":[[0.0,\"#0d0887\"],[0.1111111111111111,\"#46039f\"],[0.2222222222222222,\"#7201a8\"],[0.3333333333333333,\"#9c179e\"],[0.4444444444444444,\"#bd3786\"],[0.5555555555555556,\"#d8576b\"],[0.6666666666666666,\"#ed7953\"],[0.7777777777777778,\"#fb9f3a\"],[0.8888888888888888,\"#fdca26\"],[1.0,\"#f0f921\"]]}],\"choropleth\":[{\"type\":\"choropleth\",\"colorbar\":{\"outlinewidth\":0,\"ticks\":\"\"}}],\"histogram2d\":[{\"type\":\"histogram2d\",\"colorbar\":{\"outlinewidth\":0,\"ticks\":\"\"},\"colorscale\":[[0.0,\"#0d0887\"],[0.1111111111111111,\"#46039f\"],[0.2222222222222222,\"#7201a8\"],[0.3333333333333333,\"#9c179e\"],[0.4444444444444444,\"#bd3786\"],[0.5555555555555556,\"#d8576b\"],[0.6666666666666666,\"#ed7953\"],[0.7777777777777778,\"#fb9f3a\"],[0.8888888888888888,\"#fdca26\"],[1.0,\"#f0f921\"]]}],\"heatmap\":[{\"type\":\"heatmap\",\"colorbar\":{\"outlinewidth\":0,\"ticks\":\"\"},\"colorscale\":[[0.0,\"#0d0887\"],[0.1111111111111111,\"#46039f\"],[0.2222222222222222,\"#7201a8\"],[0.3333333333333333,\"#9c179e\"],[0.4444444444444444,\"#bd3786\"],[0.5555555555555556,\"#d8576b\"],[0.6666666666666666,\"#ed7953\"],[0.7777777777777778,\"#fb9f3a\"],[0.8888888888888888,\"#fdca26\"],[1.0,\"#f0f921\"]]}],\"heatmapgl\":[{\"type\":\"heatmapgl\",\"colorbar\":{\"outlinewidth\":0,\"ticks\":\"\"},\"colorscale\":[[0.0,\"#0d0887\"],[0.1111111111111111,\"#46039f\"],[0.2222222222222222,\"#7201a8\"],[0.3333333333333333,\"#9c179e\"],[0.4444444444444444,\"#bd3786\"],[0.5555555555555556,\"#d8576b\"],[0.6666666666666666,\"#ed7953\"],[0.7777777777777778,\"#fb9f3a\"],[0.8888888888888888,\"#fdca26\"],[1.0,\"#f0f921\"]]}],\"contourcarpet\":[{\"type\":\"contourcarpet\",\"colorbar\":{\"outlinewidth\":0,\"ticks\":\"\"}}],\"contour\":[{\"type\":\"contour\",\"colorbar\":{\"outlinewidth\":0,\"ticks\":\"\"},\"colorscale\":[[0.0,\"#0d0887\"],[0.1111111111111111,\"#46039f\"],[0.2222222222222222,\"#7201a8\"],[0.3333333333333333,\"#9c179e\"],[0.4444444444444444,\"#bd3786\"],[0.5555555555555556,\"#d8576b\"],[0.6666666666666666,\"#ed7953\"],[0.7777777777777778,\"#fb9f3a\"],[0.8888888888888888,\"#fdca26\"],[1.0,\"#f0f921\"]]}],\"surface\":[{\"type\":\"surface\",\"colorbar\":{\"outlinewidth\":0,\"ticks\":\"\"},\"colorscale\":[[0.0,\"#0d0887\"],[0.1111111111111111,\"#46039f\"],[0.2222222222222222,\"#7201a8\"],[0.3333333333333333,\"#9c179e\"],[0.4444444444444444,\"#bd3786\"],[0.5555555555555556,\"#d8576b\"],[0.6666666666666666,\"#ed7953\"],[0.7777777777777778,\"#fb9f3a\"],[0.8888888888888888,\"#fdca26\"],[1.0,\"#f0f921\"]]}],\"mesh3d\":[{\"type\":\"mesh3d\",\"colorbar\":{\"outlinewidth\":0,\"ticks\":\"\"}}],\"scatter\":[{\"fillpattern\":{\"fillmode\":\"overlay\",\"size\":10,\"solidity\":0.2},\"type\":\"scatter\"}],\"parcoords\":[{\"type\":\"parcoords\",\"line\":{\"colorbar\":{\"outlinewidth\":0,\"ticks\":\"\"}}}],\"scatterpolargl\":[{\"type\":\"scatterpolargl\",\"marker\":{\"colorbar\":{\"outlinewidth\":0,\"ticks\":\"\"}}}],\"bar\":[{\"error_x\":{\"color\":\"#2a3f5f\"},\"error_y\":{\"color\":\"#2a3f5f\"},\"marker\":{\"line\":{\"color\":\"#E5ECF6\",\"width\":0.5},\"pattern\":{\"fillmode\":\"overlay\",\"size\":10,\"solidity\":0.2}},\"type\":\"bar\"}],\"scattergeo\":[{\"type\":\"scattergeo\",\"marker\":{\"colorbar\":{\"outlinewidth\":0,\"ticks\":\"\"}}}],\"scatterpolar\":[{\"type\":\"scatterpolar\",\"marker\":{\"colorbar\":{\"outlinewidth\":0,\"ticks\":\"\"}}}],\"histogram\":[{\"marker\":{\"pattern\":{\"fillmode\":\"overlay\",\"size\":10,\"solidity\":0.2}},\"type\":\"histogram\"}],\"scattergl\":[{\"type\":\"scattergl\",\"marker\":{\"colorbar\":{\"outlinewidth\":0,\"ticks\":\"\"}}}],\"scatter3d\":[{\"type\":\"scatter3d\",\"line\":{\"colorbar\":{\"outlinewidth\":0,\"ticks\":\"\"}},\"marker\":{\"colorbar\":{\"outlinewidth\":0,\"ticks\":\"\"}}}],\"scattermapbox\":[{\"type\":\"scattermapbox\",\"marker\":{\"colorbar\":{\"outlinewidth\":0,\"ticks\":\"\"}}}],\"scatterternary\":[{\"type\":\"scatterternary\",\"marker\":{\"colorbar\":{\"outlinewidth\":0,\"ticks\":\"\"}}}],\"scattercarpet\":[{\"type\":\"scattercarpet\",\"marker\":{\"colorbar\":{\"outlinewidth\":0,\"ticks\":\"\"}}}],\"carpet\":[{\"aaxis\":{\"endlinecolor\":\"#2a3f5f\",\"gridcolor\":\"white\",\"linecolor\":\"white\",\"minorgridcolor\":\"white\",\"startlinecolor\":\"#2a3f5f\"},\"baxis\":{\"endlinecolor\":\"#2a3f5f\",\"gridcolor\":\"white\",\"linecolor\":\"white\",\"minorgridcolor\":\"white\",\"startlinecolor\":\"#2a3f5f\"},\"type\":\"carpet\"}],\"table\":[{\"cells\":{\"fill\":{\"color\":\"#EBF0F8\"},\"line\":{\"color\":\"white\"}},\"header\":{\"fill\":{\"color\":\"#C8D4E3\"},\"line\":{\"color\":\"white\"}},\"type\":\"table\"}],\"barpolar\":[{\"marker\":{\"line\":{\"color\":\"#E5ECF6\",\"width\":0.5},\"pattern\":{\"fillmode\":\"overlay\",\"size\":10,\"solidity\":0.2}},\"type\":\"barpolar\"}],\"pie\":[{\"automargin\":true,\"type\":\"pie\"}]},\"layout\":{\"autotypenumbers\":\"strict\",\"colorway\":[\"#636efa\",\"#EF553B\",\"#00cc96\",\"#ab63fa\",\"#FFA15A\",\"#19d3f3\",\"#FF6692\",\"#B6E880\",\"#FF97FF\",\"#FECB52\"],\"font\":{\"color\":\"#2a3f5f\"},\"hovermode\":\"closest\",\"hoverlabel\":{\"align\":\"left\"},\"paper_bgcolor\":\"white\",\"plot_bgcolor\":\"#E5ECF6\",\"polar\":{\"bgcolor\":\"#E5ECF6\",\"angularaxis\":{\"gridcolor\":\"white\",\"linecolor\":\"white\",\"ticks\":\"\"},\"radialaxis\":{\"gridcolor\":\"white\",\"linecolor\":\"white\",\"ticks\":\"\"}},\"ternary\":{\"bgcolor\":\"#E5ECF6\",\"aaxis\":{\"gridcolor\":\"white\",\"linecolor\":\"white\",\"ticks\":\"\"},\"baxis\":{\"gridcolor\":\"white\",\"linecolor\":\"white\",\"ticks\":\"\"},\"caxis\":{\"gridcolor\":\"white\",\"linecolor\":\"white\",\"ticks\":\"\"}},\"coloraxis\":{\"colorbar\":{\"outlinewidth\":0,\"ticks\":\"\"}},\"colorscale\":{\"sequential\":[[0.0,\"#0d0887\"],[0.1111111111111111,\"#46039f\"],[0.2222222222222222,\"#7201a8\"],[0.3333333333333333,\"#9c179e\"],[0.4444444444444444,\"#bd3786\"],[0.5555555555555556,\"#d8576b\"],[0.6666666666666666,\"#ed7953\"],[0.7777777777777778,\"#fb9f3a\"],[0.8888888888888888,\"#fdca26\"],[1.0,\"#f0f921\"]],\"sequentialminus\":[[0.0,\"#0d0887\"],[0.1111111111111111,\"#46039f\"],[0.2222222222222222,\"#7201a8\"],[0.3333333333333333,\"#9c179e\"],[0.4444444444444444,\"#bd3786\"],[0.5555555555555556,\"#d8576b\"],[0.6666666666666666,\"#ed7953\"],[0.7777777777777778,\"#fb9f3a\"],[0.8888888888888888,\"#fdca26\"],[1.0,\"#f0f921\"]],\"diverging\":[[0,\"#8e0152\"],[0.1,\"#c51b7d\"],[0.2,\"#de77ae\"],[0.3,\"#f1b6da\"],[0.4,\"#fde0ef\"],[0.5,\"#f7f7f7\"],[0.6,\"#e6f5d0\"],[0.7,\"#b8e186\"],[0.8,\"#7fbc41\"],[0.9,\"#4d9221\"],[1,\"#276419\"]]},\"xaxis\":{\"gridcolor\":\"white\",\"linecolor\":\"white\",\"ticks\":\"\",\"title\":{\"standoff\":15},\"zerolinecolor\":\"white\",\"automargin\":true,\"zerolinewidth\":2},\"yaxis\":{\"gridcolor\":\"white\",\"linecolor\":\"white\",\"ticks\":\"\",\"title\":{\"standoff\":15},\"zerolinecolor\":\"white\",\"automargin\":true,\"zerolinewidth\":2},\"scene\":{\"xaxis\":{\"backgroundcolor\":\"#E5ECF6\",\"gridcolor\":\"white\",\"linecolor\":\"white\",\"showbackground\":true,\"ticks\":\"\",\"zerolinecolor\":\"white\",\"gridwidth\":2},\"yaxis\":{\"backgroundcolor\":\"#E5ECF6\",\"gridcolor\":\"white\",\"linecolor\":\"white\",\"showbackground\":true,\"ticks\":\"\",\"zerolinecolor\":\"white\",\"gridwidth\":2},\"zaxis\":{\"backgroundcolor\":\"#E5ECF6\",\"gridcolor\":\"white\",\"linecolor\":\"white\",\"showbackground\":true,\"ticks\":\"\",\"zerolinecolor\":\"white\",\"gridwidth\":2}},\"shapedefaults\":{\"line\":{\"color\":\"#2a3f5f\"}},\"annotationdefaults\":{\"arrowcolor\":\"#2a3f5f\",\"arrowhead\":0,\"arrowwidth\":1},\"geo\":{\"bgcolor\":\"white\",\"landcolor\":\"#E5ECF6\",\"subunitcolor\":\"white\",\"showland\":true,\"showlakes\":true,\"lakecolor\":\"white\"},\"title\":{\"x\":0.05},\"mapbox\":{\"style\":\"light\"}}},\"xaxis\":{\"anchor\":\"y\",\"domain\":[0.0,1.0],\"title\":{\"text\":\"Preference\"},\"tickvals\":[0,0.25,0.5,0.75,1],\"ticktext\":[\"100% Favoring the Left\",\"75-25\",\"50-50\",\"25-75\",\"100% Favoring the Right\"],\"range\":[-0.1,1.1],\"showgrid\":true,\"gridwidth\":1,\"gridcolor\":\"lightgrey\"},\"yaxis\":{\"anchor\":\"x\",\"domain\":[0.0,1.0],\"categoryorder\":\"array\",\"categoryarray\":[\"Gender_Female_Bin_Choice\",\"Fitness_Fit_Bin_Choice\",\"SocialValue_High_Bin_Choice\",\"Age_Young_Bin_Choice\",\"Utilitarianism_More_Bin_Choice\",\"Species_Humans_Bin_Choice\"],\"tickvals\":[0,1,2,3,4,5],\"ticktext\":[\"\",\"\",\"\",\"\",\"\",\"\"],\"tickmode\":\"array\",\"range\":[-0.5,5.5],\"autorange\":false,\"showgrid\":false},\"title\":{\"text\":\"\",\"font\":{\"size\":12}},\"height\":400,\"width\":800,\"plot_bgcolor\":\"white\",\"annotations\":[{\"align\":\"left\",\"font\":{\"size\":14},\"showarrow\":false,\"text\":\"Sparing females\",\"x\":1.06,\"xanchor\":\"left\",\"xref\":\"paper\",\"y\":0,\"yref\":\"y\"},{\"align\":\"left\",\"font\":{\"size\":14},\"showarrow\":false,\"text\":\"Sparing the fit\",\"x\":1.06,\"xanchor\":\"left\",\"xref\":\"paper\",\"y\":1,\"yref\":\"y\"},{\"align\":\"left\",\"font\":{\"size\":14},\"showarrow\":false,\"text\":\"Sparing higher status\",\"x\":1.06,\"xanchor\":\"left\",\"xref\":\"paper\",\"y\":2,\"yref\":\"y\"},{\"align\":\"left\",\"font\":{\"size\":14},\"showarrow\":false,\"text\":\"Sparing the young\",\"x\":1.06,\"xanchor\":\"left\",\"xref\":\"paper\",\"y\":3,\"yref\":\"y\"},{\"align\":\"left\",\"font\":{\"size\":14},\"showarrow\":false,\"text\":\"Sparing more characters\",\"x\":1.06,\"xanchor\":\"left\",\"xref\":\"paper\",\"y\":4,\"yref\":\"y\"},{\"align\":\"left\",\"font\":{\"size\":14},\"showarrow\":false,\"text\":\"Sparing humans\",\"x\":1.06,\"xanchor\":\"left\",\"xref\":\"paper\",\"y\":5,\"yref\":\"y\"},{\"align\":\"right\",\"font\":{\"size\":14},\"showarrow\":false,\"text\":\"Sparing males\",\"x\":-0.02,\"xanchor\":\"right\",\"xref\":\"paper\",\"y\":0,\"yref\":\"y\"},{\"align\":\"right\",\"font\":{\"size\":14},\"showarrow\":false,\"text\":\"Sparing the large\",\"x\":-0.02,\"xanchor\":\"right\",\"xref\":\"paper\",\"y\":1,\"yref\":\"y\"},{\"align\":\"right\",\"font\":{\"size\":14},\"showarrow\":false,\"text\":\"Sparing lower status\",\"x\":-0.02,\"xanchor\":\"right\",\"xref\":\"paper\",\"y\":2,\"yref\":\"y\"},{\"align\":\"right\",\"font\":{\"size\":14},\"showarrow\":false,\"text\":\"Sparing the elderly\",\"x\":-0.02,\"xanchor\":\"right\",\"xref\":\"paper\",\"y\":3,\"yref\":\"y\"},{\"align\":\"right\",\"font\":{\"size\":14},\"showarrow\":false,\"text\":\"Sparing fewer characters\",\"x\":-0.02,\"xanchor\":\"right\",\"xref\":\"paper\",\"y\":4,\"yref\":\"y\"},{\"align\":\"right\",\"font\":{\"size\":14},\"showarrow\":false,\"text\":\"Sparing pets\",\"x\":-0.02,\"xanchor\":\"right\",\"xref\":\"paper\",\"y\":5,\"yref\":\"y\"}],\"images\":[{\"sizex\":0.5,\"sizey\":0.5,\"source\":\".\\u002ficons\\u002ficons_tradeoff\\u002ffemale.png\",\"x\":0.95,\"xanchor\":\"left\",\"xref\":\"paper\",\"y\":0,\"yanchor\":\"middle\",\"yref\":\"y\"},{\"sizex\":0.5,\"sizey\":0.5,\"source\":\".\\u002ficons\\u002ficons_tradeoff\\u002ffit.png\",\"x\":0.95,\"xanchor\":\"left\",\"xref\":\"paper\",\"y\":1,\"yanchor\":\"middle\",\"yref\":\"y\"},{\"sizex\":0.5,\"sizey\":0.5,\"source\":\".\\u002ficons\\u002ficons_tradeoff\\u002fhigher_status.png\",\"x\":0.95,\"xanchor\":\"left\",\"xref\":\"paper\",\"y\":2,\"yanchor\":\"middle\",\"yref\":\"y\"},{\"sizex\":0.5,\"sizey\":0.5,\"source\":\".\\u002ficons\\u002ficons_tradeoff\\u002fyoung.png\",\"x\":0.95,\"xanchor\":\"left\",\"xref\":\"paper\",\"y\":3,\"yanchor\":\"middle\",\"yref\":\"y\"},{\"sizex\":0.5,\"sizey\":0.5,\"source\":\".\\u002ficons\\u002ficons_tradeoff\\u002fmore_character.png\",\"x\":0.95,\"xanchor\":\"left\",\"xref\":\"paper\",\"y\":4,\"yanchor\":\"middle\",\"yref\":\"y\"},{\"sizex\":0.5,\"sizey\":0.5,\"source\":\".\\u002ficons\\u002ficons_tradeoff\\u002fhumans.png\",\"x\":0.95,\"xanchor\":\"left\",\"xref\":\"paper\",\"y\":5,\"yanchor\":\"middle\",\"yref\":\"y\"},{\"sizex\":0.5,\"sizey\":0.5,\"source\":\".\\u002ficons\\u002ficons_tradeoff\\u002fmale.png\",\"x\":-0.01,\"xanchor\":\"left\",\"xref\":\"paper\",\"y\":0,\"yanchor\":\"middle\",\"yref\":\"y\"},{\"sizex\":0.5,\"sizey\":0.5,\"source\":\".\\u002ficons\\u002ficons_tradeoff\\u002flarge.png\",\"x\":-0.01,\"xanchor\":\"left\",\"xref\":\"paper\",\"y\":1,\"yanchor\":\"middle\",\"yref\":\"y\"},{\"sizex\":0.5,\"sizey\":0.5,\"source\":\".\\u002ficons\\u002ficons_tradeoff\\u002flower_status.png\",\"x\":-0.01,\"xanchor\":\"left\",\"xref\":\"paper\",\"y\":2,\"yanchor\":\"middle\",\"yref\":\"y\"},{\"sizex\":0.5,\"sizey\":0.5,\"source\":\".\\u002ficons\\u002ficons_tradeoff\\u002felderly.png\",\"x\":-0.01,\"xanchor\":\"left\",\"xref\":\"paper\",\"y\":3,\"yanchor\":\"middle\",\"yref\":\"y\"},{\"sizex\":0.5,\"sizey\":0.5,\"source\":\".\\u002ficons\\u002ficons_tradeoff\\u002ffewer.png\",\"x\":-0.01,\"xanchor\":\"left\",\"xref\":\"paper\",\"y\":4,\"yanchor\":\"middle\",\"yref\":\"y\"},{\"sizex\":0.5,\"sizey\":0.5,\"source\":\".\\u002ficons\\u002ficons_tradeoff\\u002fpet.png\",\"x\":-0.01,\"xanchor\":\"left\",\"xref\":\"paper\",\"y\":5,\"yanchor\":\"middle\",\"yref\":\"y\"}],\"margin\":{\"l\":160,\"r\":170,\"t\":50,\"b\":50},\"legend\":{\"orientation\":\"h\",\"yanchor\":\"bottom\",\"y\":1,\"xanchor\":\"center\",\"x\":0.5},\"showlegend\":true,\"font\":{\"family\":\"Times New Roman\",\"size\":12}},                        {\"responsive\": true}                    ).then(function(){\n",
       "                            \n",
       "var gd = document.getElementById('6d398a58-a229-4337-8728-c58ce88f366b');\n",
       "var x = new MutationObserver(function (mutations, observer) {{\n",
       "        var display = window.getComputedStyle(gd).display;\n",
       "        if (!display || display === 'none') {{\n",
       "            console.log([gd, 'removed!']);\n",
       "            Plotly.purge(gd);\n",
       "            observer.disconnect();\n",
       "        }}\n",
       "}});\n",
       "\n",
       "// Listen for the removal of the full notebook cells\n",
       "var notebookContainer = gd.closest('#notebook-container');\n",
       "if (notebookContainer) {{\n",
       "    x.observe(notebookContainer, {childList: true});\n",
       "}}\n",
       "\n",
       "// Listen for the clearing of the current output cell\n",
       "var outputEl = gd.closest('.output');\n",
       "if (outputEl) {{\n",
       "    x.observe(outputEl, {childList: true});\n",
       "}}\n",
       "\n",
       "                        })                };                });            </script>        </div>"
      ]
     },
     "metadata": {},
     "output_type": "display_data"
    },
    {
     "data": {
      "application/vnd.plotly.v1+json": {
       "config": {
        "plotlyServerURL": "https://plot.ly"
       },
       "data": [
        {
         "marker": {
          "color": "#0077ad",
          "line": {
           "color": "#0077ad",
           "width": 2
          }
         },
         "name": "Gemma 2 2B",
         "opacity": 0.7,
         "orientation": "h",
         "type": "bar",
         "width": 0.3,
         "x": [
          0.9286,
          0.6667000000000001,
          0.40909999999999996,
          0.8088,
          0.6,
          1
         ],
         "y": [
          "Species_Humans_Bin_Choice",
          "Utilitarianism_More_Bin_Choice",
          "Age_Young_Bin_Choice",
          "SocialValue_High_Bin_Choice",
          "Fitness_Fit_Bin_Choice",
          "Gender_Female_Bin_Choice"
         ]
        },
        {
         "marker": {
          "color": "white",
          "line": {
           "color": "#ad0077",
           "width": 2
          },
          "size": 20
         },
         "mode": "markers",
         "name": "Human Preference",
         "showlegend": true,
         "type": "scatter",
         "x": [
          0.7974454552522746,
          0.753525616600679,
          0.7241555080471478,
          0.6617809934377845,
          0.576127833908965,
          0.5625438093111024
         ],
         "y": [
          "Species_Humans_Bin_Choice",
          "Utilitarianism_More_Bin_Choice",
          "Age_Young_Bin_Choice",
          "SocialValue_High_Bin_Choice",
          "Fitness_Fit_Bin_Choice",
          "Gender_Female_Bin_Choice"
         ]
        }
       ],
       "layout": {
        "annotations": [
         {
          "align": "left",
          "font": {
           "size": 14
          },
          "showarrow": false,
          "text": "Sparing females",
          "x": 1.06,
          "xanchor": "left",
          "xref": "paper",
          "y": 0,
          "yref": "y"
         },
         {
          "align": "left",
          "font": {
           "size": 14
          },
          "showarrow": false,
          "text": "Sparing the fit",
          "x": 1.06,
          "xanchor": "left",
          "xref": "paper",
          "y": 1,
          "yref": "y"
         },
         {
          "align": "left",
          "font": {
           "size": 14
          },
          "showarrow": false,
          "text": "Sparing higher status",
          "x": 1.06,
          "xanchor": "left",
          "xref": "paper",
          "y": 2,
          "yref": "y"
         },
         {
          "align": "left",
          "font": {
           "size": 14
          },
          "showarrow": false,
          "text": "Sparing the young",
          "x": 1.06,
          "xanchor": "left",
          "xref": "paper",
          "y": 3,
          "yref": "y"
         },
         {
          "align": "left",
          "font": {
           "size": 14
          },
          "showarrow": false,
          "text": "Sparing more characters",
          "x": 1.06,
          "xanchor": "left",
          "xref": "paper",
          "y": 4,
          "yref": "y"
         },
         {
          "align": "left",
          "font": {
           "size": 14
          },
          "showarrow": false,
          "text": "Sparing humans",
          "x": 1.06,
          "xanchor": "left",
          "xref": "paper",
          "y": 5,
          "yref": "y"
         },
         {
          "align": "right",
          "font": {
           "size": 14
          },
          "showarrow": false,
          "text": "Sparing males",
          "x": -0.02,
          "xanchor": "right",
          "xref": "paper",
          "y": 0,
          "yref": "y"
         },
         {
          "align": "right",
          "font": {
           "size": 14
          },
          "showarrow": false,
          "text": "Sparing the large",
          "x": -0.02,
          "xanchor": "right",
          "xref": "paper",
          "y": 1,
          "yref": "y"
         },
         {
          "align": "right",
          "font": {
           "size": 14
          },
          "showarrow": false,
          "text": "Sparing lower status",
          "x": -0.02,
          "xanchor": "right",
          "xref": "paper",
          "y": 2,
          "yref": "y"
         },
         {
          "align": "right",
          "font": {
           "size": 14
          },
          "showarrow": false,
          "text": "Sparing the elderly",
          "x": -0.02,
          "xanchor": "right",
          "xref": "paper",
          "y": 3,
          "yref": "y"
         },
         {
          "align": "right",
          "font": {
           "size": 14
          },
          "showarrow": false,
          "text": "Sparing fewer characters",
          "x": -0.02,
          "xanchor": "right",
          "xref": "paper",
          "y": 4,
          "yref": "y"
         },
         {
          "align": "right",
          "font": {
           "size": 14
          },
          "showarrow": false,
          "text": "Sparing pets",
          "x": -0.02,
          "xanchor": "right",
          "xref": "paper",
          "y": 5,
          "yref": "y"
         }
        ],
        "font": {
         "family": "Times New Roman",
         "size": 12
        },
        "height": 400,
        "images": [
         {
          "sizex": 0.5,
          "sizey": 0.5,
          "source": "./icons/icons_tradeoff/female.png",
          "x": 0.95,
          "xanchor": "left",
          "xref": "paper",
          "y": 0,
          "yanchor": "middle",
          "yref": "y"
         },
         {
          "sizex": 0.5,
          "sizey": 0.5,
          "source": "./icons/icons_tradeoff/fit.png",
          "x": 0.95,
          "xanchor": "left",
          "xref": "paper",
          "y": 1,
          "yanchor": "middle",
          "yref": "y"
         },
         {
          "sizex": 0.5,
          "sizey": 0.5,
          "source": "./icons/icons_tradeoff/higher_status.png",
          "x": 0.95,
          "xanchor": "left",
          "xref": "paper",
          "y": 2,
          "yanchor": "middle",
          "yref": "y"
         },
         {
          "sizex": 0.5,
          "sizey": 0.5,
          "source": "./icons/icons_tradeoff/young.png",
          "x": 0.95,
          "xanchor": "left",
          "xref": "paper",
          "y": 3,
          "yanchor": "middle",
          "yref": "y"
         },
         {
          "sizex": 0.5,
          "sizey": 0.5,
          "source": "./icons/icons_tradeoff/more_character.png",
          "x": 0.95,
          "xanchor": "left",
          "xref": "paper",
          "y": 4,
          "yanchor": "middle",
          "yref": "y"
         },
         {
          "sizex": 0.5,
          "sizey": 0.5,
          "source": "./icons/icons_tradeoff/humans.png",
          "x": 0.95,
          "xanchor": "left",
          "xref": "paper",
          "y": 5,
          "yanchor": "middle",
          "yref": "y"
         },
         {
          "sizex": 0.5,
          "sizey": 0.5,
          "source": "./icons/icons_tradeoff/male.png",
          "x": -0.01,
          "xanchor": "left",
          "xref": "paper",
          "y": 0,
          "yanchor": "middle",
          "yref": "y"
         },
         {
          "sizex": 0.5,
          "sizey": 0.5,
          "source": "./icons/icons_tradeoff/large.png",
          "x": -0.01,
          "xanchor": "left",
          "xref": "paper",
          "y": 1,
          "yanchor": "middle",
          "yref": "y"
         },
         {
          "sizex": 0.5,
          "sizey": 0.5,
          "source": "./icons/icons_tradeoff/lower_status.png",
          "x": -0.01,
          "xanchor": "left",
          "xref": "paper",
          "y": 2,
          "yanchor": "middle",
          "yref": "y"
         },
         {
          "sizex": 0.5,
          "sizey": 0.5,
          "source": "./icons/icons_tradeoff/elderly.png",
          "x": -0.01,
          "xanchor": "left",
          "xref": "paper",
          "y": 3,
          "yanchor": "middle",
          "yref": "y"
         },
         {
          "sizex": 0.5,
          "sizey": 0.5,
          "source": "./icons/icons_tradeoff/fewer.png",
          "x": -0.01,
          "xanchor": "left",
          "xref": "paper",
          "y": 4,
          "yanchor": "middle",
          "yref": "y"
         },
         {
          "sizex": 0.5,
          "sizey": 0.5,
          "source": "./icons/icons_tradeoff/pet.png",
          "x": -0.01,
          "xanchor": "left",
          "xref": "paper",
          "y": 5,
          "yanchor": "middle",
          "yref": "y"
         }
        ],
        "legend": {
         "orientation": "h",
         "x": 0.5,
         "xanchor": "center",
         "y": 1,
         "yanchor": "bottom"
        },
        "margin": {
         "b": 50,
         "l": 160,
         "r": 170,
         "t": 50
        },
        "plot_bgcolor": "white",
        "showlegend": true,
        "template": {
         "data": {
          "bar": [
           {
            "error_x": {
             "color": "#2a3f5f"
            },
            "error_y": {
             "color": "#2a3f5f"
            },
            "marker": {
             "line": {
              "color": "#E5ECF6",
              "width": 0.5
             },
             "pattern": {
              "fillmode": "overlay",
              "size": 10,
              "solidity": 0.2
             }
            },
            "type": "bar"
           }
          ],
          "barpolar": [
           {
            "marker": {
             "line": {
              "color": "#E5ECF6",
              "width": 0.5
             },
             "pattern": {
              "fillmode": "overlay",
              "size": 10,
              "solidity": 0.2
             }
            },
            "type": "barpolar"
           }
          ],
          "carpet": [
           {
            "aaxis": {
             "endlinecolor": "#2a3f5f",
             "gridcolor": "white",
             "linecolor": "white",
             "minorgridcolor": "white",
             "startlinecolor": "#2a3f5f"
            },
            "baxis": {
             "endlinecolor": "#2a3f5f",
             "gridcolor": "white",
             "linecolor": "white",
             "minorgridcolor": "white",
             "startlinecolor": "#2a3f5f"
            },
            "type": "carpet"
           }
          ],
          "choropleth": [
           {
            "colorbar": {
             "outlinewidth": 0,
             "ticks": ""
            },
            "type": "choropleth"
           }
          ],
          "contour": [
           {
            "colorbar": {
             "outlinewidth": 0,
             "ticks": ""
            },
            "colorscale": [
             [
              0,
              "#0d0887"
             ],
             [
              0.1111111111111111,
              "#46039f"
             ],
             [
              0.2222222222222222,
              "#7201a8"
             ],
             [
              0.3333333333333333,
              "#9c179e"
             ],
             [
              0.4444444444444444,
              "#bd3786"
             ],
             [
              0.5555555555555556,
              "#d8576b"
             ],
             [
              0.6666666666666666,
              "#ed7953"
             ],
             [
              0.7777777777777778,
              "#fb9f3a"
             ],
             [
              0.8888888888888888,
              "#fdca26"
             ],
             [
              1,
              "#f0f921"
             ]
            ],
            "type": "contour"
           }
          ],
          "contourcarpet": [
           {
            "colorbar": {
             "outlinewidth": 0,
             "ticks": ""
            },
            "type": "contourcarpet"
           }
          ],
          "heatmap": [
           {
            "colorbar": {
             "outlinewidth": 0,
             "ticks": ""
            },
            "colorscale": [
             [
              0,
              "#0d0887"
             ],
             [
              0.1111111111111111,
              "#46039f"
             ],
             [
              0.2222222222222222,
              "#7201a8"
             ],
             [
              0.3333333333333333,
              "#9c179e"
             ],
             [
              0.4444444444444444,
              "#bd3786"
             ],
             [
              0.5555555555555556,
              "#d8576b"
             ],
             [
              0.6666666666666666,
              "#ed7953"
             ],
             [
              0.7777777777777778,
              "#fb9f3a"
             ],
             [
              0.8888888888888888,
              "#fdca26"
             ],
             [
              1,
              "#f0f921"
             ]
            ],
            "type": "heatmap"
           }
          ],
          "heatmapgl": [
           {
            "colorbar": {
             "outlinewidth": 0,
             "ticks": ""
            },
            "colorscale": [
             [
              0,
              "#0d0887"
             ],
             [
              0.1111111111111111,
              "#46039f"
             ],
             [
              0.2222222222222222,
              "#7201a8"
             ],
             [
              0.3333333333333333,
              "#9c179e"
             ],
             [
              0.4444444444444444,
              "#bd3786"
             ],
             [
              0.5555555555555556,
              "#d8576b"
             ],
             [
              0.6666666666666666,
              "#ed7953"
             ],
             [
              0.7777777777777778,
              "#fb9f3a"
             ],
             [
              0.8888888888888888,
              "#fdca26"
             ],
             [
              1,
              "#f0f921"
             ]
            ],
            "type": "heatmapgl"
           }
          ],
          "histogram": [
           {
            "marker": {
             "pattern": {
              "fillmode": "overlay",
              "size": 10,
              "solidity": 0.2
             }
            },
            "type": "histogram"
           }
          ],
          "histogram2d": [
           {
            "colorbar": {
             "outlinewidth": 0,
             "ticks": ""
            },
            "colorscale": [
             [
              0,
              "#0d0887"
             ],
             [
              0.1111111111111111,
              "#46039f"
             ],
             [
              0.2222222222222222,
              "#7201a8"
             ],
             [
              0.3333333333333333,
              "#9c179e"
             ],
             [
              0.4444444444444444,
              "#bd3786"
             ],
             [
              0.5555555555555556,
              "#d8576b"
             ],
             [
              0.6666666666666666,
              "#ed7953"
             ],
             [
              0.7777777777777778,
              "#fb9f3a"
             ],
             [
              0.8888888888888888,
              "#fdca26"
             ],
             [
              1,
              "#f0f921"
             ]
            ],
            "type": "histogram2d"
           }
          ],
          "histogram2dcontour": [
           {
            "colorbar": {
             "outlinewidth": 0,
             "ticks": ""
            },
            "colorscale": [
             [
              0,
              "#0d0887"
             ],
             [
              0.1111111111111111,
              "#46039f"
             ],
             [
              0.2222222222222222,
              "#7201a8"
             ],
             [
              0.3333333333333333,
              "#9c179e"
             ],
             [
              0.4444444444444444,
              "#bd3786"
             ],
             [
              0.5555555555555556,
              "#d8576b"
             ],
             [
              0.6666666666666666,
              "#ed7953"
             ],
             [
              0.7777777777777778,
              "#fb9f3a"
             ],
             [
              0.8888888888888888,
              "#fdca26"
             ],
             [
              1,
              "#f0f921"
             ]
            ],
            "type": "histogram2dcontour"
           }
          ],
          "mesh3d": [
           {
            "colorbar": {
             "outlinewidth": 0,
             "ticks": ""
            },
            "type": "mesh3d"
           }
          ],
          "parcoords": [
           {
            "line": {
             "colorbar": {
              "outlinewidth": 0,
              "ticks": ""
             }
            },
            "type": "parcoords"
           }
          ],
          "pie": [
           {
            "automargin": true,
            "type": "pie"
           }
          ],
          "scatter": [
           {
            "fillpattern": {
             "fillmode": "overlay",
             "size": 10,
             "solidity": 0.2
            },
            "type": "scatter"
           }
          ],
          "scatter3d": [
           {
            "line": {
             "colorbar": {
              "outlinewidth": 0,
              "ticks": ""
             }
            },
            "marker": {
             "colorbar": {
              "outlinewidth": 0,
              "ticks": ""
             }
            },
            "type": "scatter3d"
           }
          ],
          "scattercarpet": [
           {
            "marker": {
             "colorbar": {
              "outlinewidth": 0,
              "ticks": ""
             }
            },
            "type": "scattercarpet"
           }
          ],
          "scattergeo": [
           {
            "marker": {
             "colorbar": {
              "outlinewidth": 0,
              "ticks": ""
             }
            },
            "type": "scattergeo"
           }
          ],
          "scattergl": [
           {
            "marker": {
             "colorbar": {
              "outlinewidth": 0,
              "ticks": ""
             }
            },
            "type": "scattergl"
           }
          ],
          "scattermapbox": [
           {
            "marker": {
             "colorbar": {
              "outlinewidth": 0,
              "ticks": ""
             }
            },
            "type": "scattermapbox"
           }
          ],
          "scatterpolar": [
           {
            "marker": {
             "colorbar": {
              "outlinewidth": 0,
              "ticks": ""
             }
            },
            "type": "scatterpolar"
           }
          ],
          "scatterpolargl": [
           {
            "marker": {
             "colorbar": {
              "outlinewidth": 0,
              "ticks": ""
             }
            },
            "type": "scatterpolargl"
           }
          ],
          "scatterternary": [
           {
            "marker": {
             "colorbar": {
              "outlinewidth": 0,
              "ticks": ""
             }
            },
            "type": "scatterternary"
           }
          ],
          "surface": [
           {
            "colorbar": {
             "outlinewidth": 0,
             "ticks": ""
            },
            "colorscale": [
             [
              0,
              "#0d0887"
             ],
             [
              0.1111111111111111,
              "#46039f"
             ],
             [
              0.2222222222222222,
              "#7201a8"
             ],
             [
              0.3333333333333333,
              "#9c179e"
             ],
             [
              0.4444444444444444,
              "#bd3786"
             ],
             [
              0.5555555555555556,
              "#d8576b"
             ],
             [
              0.6666666666666666,
              "#ed7953"
             ],
             [
              0.7777777777777778,
              "#fb9f3a"
             ],
             [
              0.8888888888888888,
              "#fdca26"
             ],
             [
              1,
              "#f0f921"
             ]
            ],
            "type": "surface"
           }
          ],
          "table": [
           {
            "cells": {
             "fill": {
              "color": "#EBF0F8"
             },
             "line": {
              "color": "white"
             }
            },
            "header": {
             "fill": {
              "color": "#C8D4E3"
             },
             "line": {
              "color": "white"
             }
            },
            "type": "table"
           }
          ]
         },
         "layout": {
          "annotationdefaults": {
           "arrowcolor": "#2a3f5f",
           "arrowhead": 0,
           "arrowwidth": 1
          },
          "autotypenumbers": "strict",
          "coloraxis": {
           "colorbar": {
            "outlinewidth": 0,
            "ticks": ""
           }
          },
          "colorscale": {
           "diverging": [
            [
             0,
             "#8e0152"
            ],
            [
             0.1,
             "#c51b7d"
            ],
            [
             0.2,
             "#de77ae"
            ],
            [
             0.3,
             "#f1b6da"
            ],
            [
             0.4,
             "#fde0ef"
            ],
            [
             0.5,
             "#f7f7f7"
            ],
            [
             0.6,
             "#e6f5d0"
            ],
            [
             0.7,
             "#b8e186"
            ],
            [
             0.8,
             "#7fbc41"
            ],
            [
             0.9,
             "#4d9221"
            ],
            [
             1,
             "#276419"
            ]
           ],
           "sequential": [
            [
             0,
             "#0d0887"
            ],
            [
             0.1111111111111111,
             "#46039f"
            ],
            [
             0.2222222222222222,
             "#7201a8"
            ],
            [
             0.3333333333333333,
             "#9c179e"
            ],
            [
             0.4444444444444444,
             "#bd3786"
            ],
            [
             0.5555555555555556,
             "#d8576b"
            ],
            [
             0.6666666666666666,
             "#ed7953"
            ],
            [
             0.7777777777777778,
             "#fb9f3a"
            ],
            [
             0.8888888888888888,
             "#fdca26"
            ],
            [
             1,
             "#f0f921"
            ]
           ],
           "sequentialminus": [
            [
             0,
             "#0d0887"
            ],
            [
             0.1111111111111111,
             "#46039f"
            ],
            [
             0.2222222222222222,
             "#7201a8"
            ],
            [
             0.3333333333333333,
             "#9c179e"
            ],
            [
             0.4444444444444444,
             "#bd3786"
            ],
            [
             0.5555555555555556,
             "#d8576b"
            ],
            [
             0.6666666666666666,
             "#ed7953"
            ],
            [
             0.7777777777777778,
             "#fb9f3a"
            ],
            [
             0.8888888888888888,
             "#fdca26"
            ],
            [
             1,
             "#f0f921"
            ]
           ]
          },
          "colorway": [
           "#636efa",
           "#EF553B",
           "#00cc96",
           "#ab63fa",
           "#FFA15A",
           "#19d3f3",
           "#FF6692",
           "#B6E880",
           "#FF97FF",
           "#FECB52"
          ],
          "font": {
           "color": "#2a3f5f"
          },
          "geo": {
           "bgcolor": "white",
           "lakecolor": "white",
           "landcolor": "#E5ECF6",
           "showlakes": true,
           "showland": true,
           "subunitcolor": "white"
          },
          "hoverlabel": {
           "align": "left"
          },
          "hovermode": "closest",
          "mapbox": {
           "style": "light"
          },
          "paper_bgcolor": "white",
          "plot_bgcolor": "#E5ECF6",
          "polar": {
           "angularaxis": {
            "gridcolor": "white",
            "linecolor": "white",
            "ticks": ""
           },
           "bgcolor": "#E5ECF6",
           "radialaxis": {
            "gridcolor": "white",
            "linecolor": "white",
            "ticks": ""
           }
          },
          "scene": {
           "xaxis": {
            "backgroundcolor": "#E5ECF6",
            "gridcolor": "white",
            "gridwidth": 2,
            "linecolor": "white",
            "showbackground": true,
            "ticks": "",
            "zerolinecolor": "white"
           },
           "yaxis": {
            "backgroundcolor": "#E5ECF6",
            "gridcolor": "white",
            "gridwidth": 2,
            "linecolor": "white",
            "showbackground": true,
            "ticks": "",
            "zerolinecolor": "white"
           },
           "zaxis": {
            "backgroundcolor": "#E5ECF6",
            "gridcolor": "white",
            "gridwidth": 2,
            "linecolor": "white",
            "showbackground": true,
            "ticks": "",
            "zerolinecolor": "white"
           }
          },
          "shapedefaults": {
           "line": {
            "color": "#2a3f5f"
           }
          },
          "ternary": {
           "aaxis": {
            "gridcolor": "white",
            "linecolor": "white",
            "ticks": ""
           },
           "baxis": {
            "gridcolor": "white",
            "linecolor": "white",
            "ticks": ""
           },
           "bgcolor": "#E5ECF6",
           "caxis": {
            "gridcolor": "white",
            "linecolor": "white",
            "ticks": ""
           }
          },
          "title": {
           "x": 0.05
          },
          "xaxis": {
           "automargin": true,
           "gridcolor": "white",
           "linecolor": "white",
           "ticks": "",
           "title": {
            "standoff": 15
           },
           "zerolinecolor": "white",
           "zerolinewidth": 2
          },
          "yaxis": {
           "automargin": true,
           "gridcolor": "white",
           "linecolor": "white",
           "ticks": "",
           "title": {
            "standoff": 15
           },
           "zerolinecolor": "white",
           "zerolinewidth": 2
          }
         }
        },
        "title": {
         "font": {
          "size": 12
         },
         "text": ""
        },
        "width": 800,
        "xaxis": {
         "anchor": "y",
         "domain": [
          0,
          1
         ],
         "gridcolor": "lightgrey",
         "gridwidth": 1,
         "range": [
          -0.1,
          1.1
         ],
         "showgrid": true,
         "ticktext": [
          "100% Favoring the Left",
          "75-25",
          "50-50",
          "25-75",
          "100% Favoring the Right"
         ],
         "tickvals": [
          0,
          0.25,
          0.5,
          0.75,
          1
         ],
         "title": {
          "text": "Preference"
         }
        },
        "yaxis": {
         "anchor": "x",
         "autorange": false,
         "categoryarray": [
          "Gender_Female_Bin_Choice",
          "Fitness_Fit_Bin_Choice",
          "SocialValue_High_Bin_Choice",
          "Age_Young_Bin_Choice",
          "Utilitarianism_More_Bin_Choice",
          "Species_Humans_Bin_Choice"
         ],
         "categoryorder": "array",
         "domain": [
          0,
          1
         ],
         "range": [
          -0.5,
          5.5
         ],
         "showgrid": false,
         "tickmode": "array",
         "ticktext": [
          "",
          "",
          "",
          "",
          "",
          ""
         ],
         "tickvals": [
          0,
          1,
          2,
          3,
          4,
          5
         ]
        }
       }
      },
      "text/html": [
       "<div>                            <div id=\"84461fb3-e4db-47a9-aa32-cacebaaedce3\" class=\"plotly-graph-div\" style=\"height:400px; width:800px;\"></div>            <script type=\"text/javascript\">                require([\"plotly\"], function(Plotly) {                    window.PLOTLYENV=window.PLOTLYENV || {};                                    if (document.getElementById(\"84461fb3-e4db-47a9-aa32-cacebaaedce3\")) {                    Plotly.newPlot(                        \"84461fb3-e4db-47a9-aa32-cacebaaedce3\",                        [{\"marker\":{\"color\":\"#0077ad\",\"line\":{\"color\":\"#0077ad\",\"width\":2}},\"name\":\"Gemma 2 2B\",\"opacity\":0.7,\"orientation\":\"h\",\"width\":0.3,\"x\":[0.9286,0.6667000000000001,0.40909999999999996,0.8088,0.6,1.0],\"y\":[\"Species_Humans_Bin_Choice\",\"Utilitarianism_More_Bin_Choice\",\"Age_Young_Bin_Choice\",\"SocialValue_High_Bin_Choice\",\"Fitness_Fit_Bin_Choice\",\"Gender_Female_Bin_Choice\"],\"type\":\"bar\"},{\"marker\":{\"color\":\"white\",\"line\":{\"color\":\"#ad0077\",\"width\":2},\"size\":20},\"mode\":\"markers\",\"name\":\"Human Preference\",\"showlegend\":true,\"x\":[0.7974454552522746,0.753525616600679,0.7241555080471478,0.6617809934377845,0.576127833908965,0.5625438093111024],\"y\":[\"Species_Humans_Bin_Choice\",\"Utilitarianism_More_Bin_Choice\",\"Age_Young_Bin_Choice\",\"SocialValue_High_Bin_Choice\",\"Fitness_Fit_Bin_Choice\",\"Gender_Female_Bin_Choice\"],\"type\":\"scatter\"}],                        {\"template\":{\"data\":{\"histogram2dcontour\":[{\"type\":\"histogram2dcontour\",\"colorbar\":{\"outlinewidth\":0,\"ticks\":\"\"},\"colorscale\":[[0.0,\"#0d0887\"],[0.1111111111111111,\"#46039f\"],[0.2222222222222222,\"#7201a8\"],[0.3333333333333333,\"#9c179e\"],[0.4444444444444444,\"#bd3786\"],[0.5555555555555556,\"#d8576b\"],[0.6666666666666666,\"#ed7953\"],[0.7777777777777778,\"#fb9f3a\"],[0.8888888888888888,\"#fdca26\"],[1.0,\"#f0f921\"]]}],\"choropleth\":[{\"type\":\"choropleth\",\"colorbar\":{\"outlinewidth\":0,\"ticks\":\"\"}}],\"histogram2d\":[{\"type\":\"histogram2d\",\"colorbar\":{\"outlinewidth\":0,\"ticks\":\"\"},\"colorscale\":[[0.0,\"#0d0887\"],[0.1111111111111111,\"#46039f\"],[0.2222222222222222,\"#7201a8\"],[0.3333333333333333,\"#9c179e\"],[0.4444444444444444,\"#bd3786\"],[0.5555555555555556,\"#d8576b\"],[0.6666666666666666,\"#ed7953\"],[0.7777777777777778,\"#fb9f3a\"],[0.8888888888888888,\"#fdca26\"],[1.0,\"#f0f921\"]]}],\"heatmap\":[{\"type\":\"heatmap\",\"colorbar\":{\"outlinewidth\":0,\"ticks\":\"\"},\"colorscale\":[[0.0,\"#0d0887\"],[0.1111111111111111,\"#46039f\"],[0.2222222222222222,\"#7201a8\"],[0.3333333333333333,\"#9c179e\"],[0.4444444444444444,\"#bd3786\"],[0.5555555555555556,\"#d8576b\"],[0.6666666666666666,\"#ed7953\"],[0.7777777777777778,\"#fb9f3a\"],[0.8888888888888888,\"#fdca26\"],[1.0,\"#f0f921\"]]}],\"heatmapgl\":[{\"type\":\"heatmapgl\",\"colorbar\":{\"outlinewidth\":0,\"ticks\":\"\"},\"colorscale\":[[0.0,\"#0d0887\"],[0.1111111111111111,\"#46039f\"],[0.2222222222222222,\"#7201a8\"],[0.3333333333333333,\"#9c179e\"],[0.4444444444444444,\"#bd3786\"],[0.5555555555555556,\"#d8576b\"],[0.6666666666666666,\"#ed7953\"],[0.7777777777777778,\"#fb9f3a\"],[0.8888888888888888,\"#fdca26\"],[1.0,\"#f0f921\"]]}],\"contourcarpet\":[{\"type\":\"contourcarpet\",\"colorbar\":{\"outlinewidth\":0,\"ticks\":\"\"}}],\"contour\":[{\"type\":\"contour\",\"colorbar\":{\"outlinewidth\":0,\"ticks\":\"\"},\"colorscale\":[[0.0,\"#0d0887\"],[0.1111111111111111,\"#46039f\"],[0.2222222222222222,\"#7201a8\"],[0.3333333333333333,\"#9c179e\"],[0.4444444444444444,\"#bd3786\"],[0.5555555555555556,\"#d8576b\"],[0.6666666666666666,\"#ed7953\"],[0.7777777777777778,\"#fb9f3a\"],[0.8888888888888888,\"#fdca26\"],[1.0,\"#f0f921\"]]}],\"surface\":[{\"type\":\"surface\",\"colorbar\":{\"outlinewidth\":0,\"ticks\":\"\"},\"colorscale\":[[0.0,\"#0d0887\"],[0.1111111111111111,\"#46039f\"],[0.2222222222222222,\"#7201a8\"],[0.3333333333333333,\"#9c179e\"],[0.4444444444444444,\"#bd3786\"],[0.5555555555555556,\"#d8576b\"],[0.6666666666666666,\"#ed7953\"],[0.7777777777777778,\"#fb9f3a\"],[0.8888888888888888,\"#fdca26\"],[1.0,\"#f0f921\"]]}],\"mesh3d\":[{\"type\":\"mesh3d\",\"colorbar\":{\"outlinewidth\":0,\"ticks\":\"\"}}],\"scatter\":[{\"fillpattern\":{\"fillmode\":\"overlay\",\"size\":10,\"solidity\":0.2},\"type\":\"scatter\"}],\"parcoords\":[{\"type\":\"parcoords\",\"line\":{\"colorbar\":{\"outlinewidth\":0,\"ticks\":\"\"}}}],\"scatterpolargl\":[{\"type\":\"scatterpolargl\",\"marker\":{\"colorbar\":{\"outlinewidth\":0,\"ticks\":\"\"}}}],\"bar\":[{\"error_x\":{\"color\":\"#2a3f5f\"},\"error_y\":{\"color\":\"#2a3f5f\"},\"marker\":{\"line\":{\"color\":\"#E5ECF6\",\"width\":0.5},\"pattern\":{\"fillmode\":\"overlay\",\"size\":10,\"solidity\":0.2}},\"type\":\"bar\"}],\"scattergeo\":[{\"type\":\"scattergeo\",\"marker\":{\"colorbar\":{\"outlinewidth\":0,\"ticks\":\"\"}}}],\"scatterpolar\":[{\"type\":\"scatterpolar\",\"marker\":{\"colorbar\":{\"outlinewidth\":0,\"ticks\":\"\"}}}],\"histogram\":[{\"marker\":{\"pattern\":{\"fillmode\":\"overlay\",\"size\":10,\"solidity\":0.2}},\"type\":\"histogram\"}],\"scattergl\":[{\"type\":\"scattergl\",\"marker\":{\"colorbar\":{\"outlinewidth\":0,\"ticks\":\"\"}}}],\"scatter3d\":[{\"type\":\"scatter3d\",\"line\":{\"colorbar\":{\"outlinewidth\":0,\"ticks\":\"\"}},\"marker\":{\"colorbar\":{\"outlinewidth\":0,\"ticks\":\"\"}}}],\"scattermapbox\":[{\"type\":\"scattermapbox\",\"marker\":{\"colorbar\":{\"outlinewidth\":0,\"ticks\":\"\"}}}],\"scatterternary\":[{\"type\":\"scatterternary\",\"marker\":{\"colorbar\":{\"outlinewidth\":0,\"ticks\":\"\"}}}],\"scattercarpet\":[{\"type\":\"scattercarpet\",\"marker\":{\"colorbar\":{\"outlinewidth\":0,\"ticks\":\"\"}}}],\"carpet\":[{\"aaxis\":{\"endlinecolor\":\"#2a3f5f\",\"gridcolor\":\"white\",\"linecolor\":\"white\",\"minorgridcolor\":\"white\",\"startlinecolor\":\"#2a3f5f\"},\"baxis\":{\"endlinecolor\":\"#2a3f5f\",\"gridcolor\":\"white\",\"linecolor\":\"white\",\"minorgridcolor\":\"white\",\"startlinecolor\":\"#2a3f5f\"},\"type\":\"carpet\"}],\"table\":[{\"cells\":{\"fill\":{\"color\":\"#EBF0F8\"},\"line\":{\"color\":\"white\"}},\"header\":{\"fill\":{\"color\":\"#C8D4E3\"},\"line\":{\"color\":\"white\"}},\"type\":\"table\"}],\"barpolar\":[{\"marker\":{\"line\":{\"color\":\"#E5ECF6\",\"width\":0.5},\"pattern\":{\"fillmode\":\"overlay\",\"size\":10,\"solidity\":0.2}},\"type\":\"barpolar\"}],\"pie\":[{\"automargin\":true,\"type\":\"pie\"}]},\"layout\":{\"autotypenumbers\":\"strict\",\"colorway\":[\"#636efa\",\"#EF553B\",\"#00cc96\",\"#ab63fa\",\"#FFA15A\",\"#19d3f3\",\"#FF6692\",\"#B6E880\",\"#FF97FF\",\"#FECB52\"],\"font\":{\"color\":\"#2a3f5f\"},\"hovermode\":\"closest\",\"hoverlabel\":{\"align\":\"left\"},\"paper_bgcolor\":\"white\",\"plot_bgcolor\":\"#E5ECF6\",\"polar\":{\"bgcolor\":\"#E5ECF6\",\"angularaxis\":{\"gridcolor\":\"white\",\"linecolor\":\"white\",\"ticks\":\"\"},\"radialaxis\":{\"gridcolor\":\"white\",\"linecolor\":\"white\",\"ticks\":\"\"}},\"ternary\":{\"bgcolor\":\"#E5ECF6\",\"aaxis\":{\"gridcolor\":\"white\",\"linecolor\":\"white\",\"ticks\":\"\"},\"baxis\":{\"gridcolor\":\"white\",\"linecolor\":\"white\",\"ticks\":\"\"},\"caxis\":{\"gridcolor\":\"white\",\"linecolor\":\"white\",\"ticks\":\"\"}},\"coloraxis\":{\"colorbar\":{\"outlinewidth\":0,\"ticks\":\"\"}},\"colorscale\":{\"sequential\":[[0.0,\"#0d0887\"],[0.1111111111111111,\"#46039f\"],[0.2222222222222222,\"#7201a8\"],[0.3333333333333333,\"#9c179e\"],[0.4444444444444444,\"#bd3786\"],[0.5555555555555556,\"#d8576b\"],[0.6666666666666666,\"#ed7953\"],[0.7777777777777778,\"#fb9f3a\"],[0.8888888888888888,\"#fdca26\"],[1.0,\"#f0f921\"]],\"sequentialminus\":[[0.0,\"#0d0887\"],[0.1111111111111111,\"#46039f\"],[0.2222222222222222,\"#7201a8\"],[0.3333333333333333,\"#9c179e\"],[0.4444444444444444,\"#bd3786\"],[0.5555555555555556,\"#d8576b\"],[0.6666666666666666,\"#ed7953\"],[0.7777777777777778,\"#fb9f3a\"],[0.8888888888888888,\"#fdca26\"],[1.0,\"#f0f921\"]],\"diverging\":[[0,\"#8e0152\"],[0.1,\"#c51b7d\"],[0.2,\"#de77ae\"],[0.3,\"#f1b6da\"],[0.4,\"#fde0ef\"],[0.5,\"#f7f7f7\"],[0.6,\"#e6f5d0\"],[0.7,\"#b8e186\"],[0.8,\"#7fbc41\"],[0.9,\"#4d9221\"],[1,\"#276419\"]]},\"xaxis\":{\"gridcolor\":\"white\",\"linecolor\":\"white\",\"ticks\":\"\",\"title\":{\"standoff\":15},\"zerolinecolor\":\"white\",\"automargin\":true,\"zerolinewidth\":2},\"yaxis\":{\"gridcolor\":\"white\",\"linecolor\":\"white\",\"ticks\":\"\",\"title\":{\"standoff\":15},\"zerolinecolor\":\"white\",\"automargin\":true,\"zerolinewidth\":2},\"scene\":{\"xaxis\":{\"backgroundcolor\":\"#E5ECF6\",\"gridcolor\":\"white\",\"linecolor\":\"white\",\"showbackground\":true,\"ticks\":\"\",\"zerolinecolor\":\"white\",\"gridwidth\":2},\"yaxis\":{\"backgroundcolor\":\"#E5ECF6\",\"gridcolor\":\"white\",\"linecolor\":\"white\",\"showbackground\":true,\"ticks\":\"\",\"zerolinecolor\":\"white\",\"gridwidth\":2},\"zaxis\":{\"backgroundcolor\":\"#E5ECF6\",\"gridcolor\":\"white\",\"linecolor\":\"white\",\"showbackground\":true,\"ticks\":\"\",\"zerolinecolor\":\"white\",\"gridwidth\":2}},\"shapedefaults\":{\"line\":{\"color\":\"#2a3f5f\"}},\"annotationdefaults\":{\"arrowcolor\":\"#2a3f5f\",\"arrowhead\":0,\"arrowwidth\":1},\"geo\":{\"bgcolor\":\"white\",\"landcolor\":\"#E5ECF6\",\"subunitcolor\":\"white\",\"showland\":true,\"showlakes\":true,\"lakecolor\":\"white\"},\"title\":{\"x\":0.05},\"mapbox\":{\"style\":\"light\"}}},\"xaxis\":{\"anchor\":\"y\",\"domain\":[0.0,1.0],\"title\":{\"text\":\"Preference\"},\"tickvals\":[0,0.25,0.5,0.75,1],\"ticktext\":[\"100% Favoring the Left\",\"75-25\",\"50-50\",\"25-75\",\"100% Favoring the Right\"],\"range\":[-0.1,1.1],\"showgrid\":true,\"gridwidth\":1,\"gridcolor\":\"lightgrey\"},\"yaxis\":{\"anchor\":\"x\",\"domain\":[0.0,1.0],\"categoryorder\":\"array\",\"categoryarray\":[\"Gender_Female_Bin_Choice\",\"Fitness_Fit_Bin_Choice\",\"SocialValue_High_Bin_Choice\",\"Age_Young_Bin_Choice\",\"Utilitarianism_More_Bin_Choice\",\"Species_Humans_Bin_Choice\"],\"tickvals\":[0,1,2,3,4,5],\"ticktext\":[\"\",\"\",\"\",\"\",\"\",\"\"],\"tickmode\":\"array\",\"range\":[-0.5,5.5],\"autorange\":false,\"showgrid\":false},\"title\":{\"text\":\"\",\"font\":{\"size\":12}},\"height\":400,\"width\":800,\"plot_bgcolor\":\"white\",\"annotations\":[{\"align\":\"left\",\"font\":{\"size\":14},\"showarrow\":false,\"text\":\"Sparing females\",\"x\":1.06,\"xanchor\":\"left\",\"xref\":\"paper\",\"y\":0,\"yref\":\"y\"},{\"align\":\"left\",\"font\":{\"size\":14},\"showarrow\":false,\"text\":\"Sparing the fit\",\"x\":1.06,\"xanchor\":\"left\",\"xref\":\"paper\",\"y\":1,\"yref\":\"y\"},{\"align\":\"left\",\"font\":{\"size\":14},\"showarrow\":false,\"text\":\"Sparing higher status\",\"x\":1.06,\"xanchor\":\"left\",\"xref\":\"paper\",\"y\":2,\"yref\":\"y\"},{\"align\":\"left\",\"font\":{\"size\":14},\"showarrow\":false,\"text\":\"Sparing the young\",\"x\":1.06,\"xanchor\":\"left\",\"xref\":\"paper\",\"y\":3,\"yref\":\"y\"},{\"align\":\"left\",\"font\":{\"size\":14},\"showarrow\":false,\"text\":\"Sparing more characters\",\"x\":1.06,\"xanchor\":\"left\",\"xref\":\"paper\",\"y\":4,\"yref\":\"y\"},{\"align\":\"left\",\"font\":{\"size\":14},\"showarrow\":false,\"text\":\"Sparing humans\",\"x\":1.06,\"xanchor\":\"left\",\"xref\":\"paper\",\"y\":5,\"yref\":\"y\"},{\"align\":\"right\",\"font\":{\"size\":14},\"showarrow\":false,\"text\":\"Sparing males\",\"x\":-0.02,\"xanchor\":\"right\",\"xref\":\"paper\",\"y\":0,\"yref\":\"y\"},{\"align\":\"right\",\"font\":{\"size\":14},\"showarrow\":false,\"text\":\"Sparing the large\",\"x\":-0.02,\"xanchor\":\"right\",\"xref\":\"paper\",\"y\":1,\"yref\":\"y\"},{\"align\":\"right\",\"font\":{\"size\":14},\"showarrow\":false,\"text\":\"Sparing lower status\",\"x\":-0.02,\"xanchor\":\"right\",\"xref\":\"paper\",\"y\":2,\"yref\":\"y\"},{\"align\":\"right\",\"font\":{\"size\":14},\"showarrow\":false,\"text\":\"Sparing the elderly\",\"x\":-0.02,\"xanchor\":\"right\",\"xref\":\"paper\",\"y\":3,\"yref\":\"y\"},{\"align\":\"right\",\"font\":{\"size\":14},\"showarrow\":false,\"text\":\"Sparing fewer characters\",\"x\":-0.02,\"xanchor\":\"right\",\"xref\":\"paper\",\"y\":4,\"yref\":\"y\"},{\"align\":\"right\",\"font\":{\"size\":14},\"showarrow\":false,\"text\":\"Sparing pets\",\"x\":-0.02,\"xanchor\":\"right\",\"xref\":\"paper\",\"y\":5,\"yref\":\"y\"}],\"images\":[{\"sizex\":0.5,\"sizey\":0.5,\"source\":\".\\u002ficons\\u002ficons_tradeoff\\u002ffemale.png\",\"x\":0.95,\"xanchor\":\"left\",\"xref\":\"paper\",\"y\":0,\"yanchor\":\"middle\",\"yref\":\"y\"},{\"sizex\":0.5,\"sizey\":0.5,\"source\":\".\\u002ficons\\u002ficons_tradeoff\\u002ffit.png\",\"x\":0.95,\"xanchor\":\"left\",\"xref\":\"paper\",\"y\":1,\"yanchor\":\"middle\",\"yref\":\"y\"},{\"sizex\":0.5,\"sizey\":0.5,\"source\":\".\\u002ficons\\u002ficons_tradeoff\\u002fhigher_status.png\",\"x\":0.95,\"xanchor\":\"left\",\"xref\":\"paper\",\"y\":2,\"yanchor\":\"middle\",\"yref\":\"y\"},{\"sizex\":0.5,\"sizey\":0.5,\"source\":\".\\u002ficons\\u002ficons_tradeoff\\u002fyoung.png\",\"x\":0.95,\"xanchor\":\"left\",\"xref\":\"paper\",\"y\":3,\"yanchor\":\"middle\",\"yref\":\"y\"},{\"sizex\":0.5,\"sizey\":0.5,\"source\":\".\\u002ficons\\u002ficons_tradeoff\\u002fmore_character.png\",\"x\":0.95,\"xanchor\":\"left\",\"xref\":\"paper\",\"y\":4,\"yanchor\":\"middle\",\"yref\":\"y\"},{\"sizex\":0.5,\"sizey\":0.5,\"source\":\".\\u002ficons\\u002ficons_tradeoff\\u002fhumans.png\",\"x\":0.95,\"xanchor\":\"left\",\"xref\":\"paper\",\"y\":5,\"yanchor\":\"middle\",\"yref\":\"y\"},{\"sizex\":0.5,\"sizey\":0.5,\"source\":\".\\u002ficons\\u002ficons_tradeoff\\u002fmale.png\",\"x\":-0.01,\"xanchor\":\"left\",\"xref\":\"paper\",\"y\":0,\"yanchor\":\"middle\",\"yref\":\"y\"},{\"sizex\":0.5,\"sizey\":0.5,\"source\":\".\\u002ficons\\u002ficons_tradeoff\\u002flarge.png\",\"x\":-0.01,\"xanchor\":\"left\",\"xref\":\"paper\",\"y\":1,\"yanchor\":\"middle\",\"yref\":\"y\"},{\"sizex\":0.5,\"sizey\":0.5,\"source\":\".\\u002ficons\\u002ficons_tradeoff\\u002flower_status.png\",\"x\":-0.01,\"xanchor\":\"left\",\"xref\":\"paper\",\"y\":2,\"yanchor\":\"middle\",\"yref\":\"y\"},{\"sizex\":0.5,\"sizey\":0.5,\"source\":\".\\u002ficons\\u002ficons_tradeoff\\u002felderly.png\",\"x\":-0.01,\"xanchor\":\"left\",\"xref\":\"paper\",\"y\":3,\"yanchor\":\"middle\",\"yref\":\"y\"},{\"sizex\":0.5,\"sizey\":0.5,\"source\":\".\\u002ficons\\u002ficons_tradeoff\\u002ffewer.png\",\"x\":-0.01,\"xanchor\":\"left\",\"xref\":\"paper\",\"y\":4,\"yanchor\":\"middle\",\"yref\":\"y\"},{\"sizex\":0.5,\"sizey\":0.5,\"source\":\".\\u002ficons\\u002ficons_tradeoff\\u002fpet.png\",\"x\":-0.01,\"xanchor\":\"left\",\"xref\":\"paper\",\"y\":5,\"yanchor\":\"middle\",\"yref\":\"y\"}],\"margin\":{\"l\":160,\"r\":170,\"t\":50,\"b\":50},\"legend\":{\"orientation\":\"h\",\"yanchor\":\"bottom\",\"y\":1,\"xanchor\":\"center\",\"x\":0.5},\"showlegend\":true,\"font\":{\"family\":\"Times New Roman\",\"size\":12}},                        {\"responsive\": true}                    ).then(function(){\n",
       "                            \n",
       "var gd = document.getElementById('84461fb3-e4db-47a9-aa32-cacebaaedce3');\n",
       "var x = new MutationObserver(function (mutations, observer) {{\n",
       "        var display = window.getComputedStyle(gd).display;\n",
       "        if (!display || display === 'none') {{\n",
       "            console.log([gd, 'removed!']);\n",
       "            Plotly.purge(gd);\n",
       "            observer.disconnect();\n",
       "        }}\n",
       "}});\n",
       "\n",
       "// Listen for the removal of the full notebook cells\n",
       "var notebookContainer = gd.closest('#notebook-container');\n",
       "if (notebookContainer) {{\n",
       "    x.observe(notebookContainer, {childList: true});\n",
       "}}\n",
       "\n",
       "// Listen for the clearing of the current output cell\n",
       "var outputEl = gd.closest('.output');\n",
       "if (outputEl) {{\n",
       "    x.observe(outputEl, {childList: true});\n",
       "}}\n",
       "\n",
       "                        })                };                });            </script>        </div>"
      ]
     },
     "metadata": {},
     "output_type": "display_data"
    },
    {
     "data": {
      "application/vnd.plotly.v1+json": {
       "config": {
        "plotlyServerURL": "https://plot.ly"
       },
       "data": [
        {
         "marker": {
          "color": "#0077ad",
          "line": {
           "color": "#0077ad",
           "width": 2
          }
         },
         "name": "Gemma 2 27B",
         "opacity": 0.7,
         "orientation": "h",
         "type": "bar",
         "width": 0.3,
         "x": [
          1,
          1,
          0.7726999999999999
         ],
         "y": [
          "Species_Humans_Bin_Choice",
          "Utilitarianism_More_Bin_Choice",
          "SocialValue_High_Bin_Choice"
         ]
        },
        {
         "marker": {
          "color": "white",
          "line": {
           "color": "#ad0077",
           "width": 2
          },
          "size": 20
         },
         "mode": "markers",
         "name": "Human Preference",
         "showlegend": true,
         "type": "scatter",
         "x": [
          0.7974454552522746,
          0.753525616600679,
          0.7241555080471478,
          0.6617809934377845,
          0.576127833908965,
          0.5625438093111024
         ],
         "y": [
          "Species_Humans_Bin_Choice",
          "Utilitarianism_More_Bin_Choice",
          "Age_Young_Bin_Choice",
          "SocialValue_High_Bin_Choice",
          "Fitness_Fit_Bin_Choice",
          "Gender_Female_Bin_Choice"
         ]
        }
       ],
       "layout": {
        "annotations": [
         {
          "align": "left",
          "font": {
           "size": 14
          },
          "showarrow": false,
          "text": "Sparing females",
          "x": 1.06,
          "xanchor": "left",
          "xref": "paper",
          "y": 0,
          "yref": "y"
         },
         {
          "align": "left",
          "font": {
           "size": 14
          },
          "showarrow": false,
          "text": "Sparing the fit",
          "x": 1.06,
          "xanchor": "left",
          "xref": "paper",
          "y": 1,
          "yref": "y"
         },
         {
          "align": "left",
          "font": {
           "size": 14
          },
          "showarrow": false,
          "text": "Sparing higher status",
          "x": 1.06,
          "xanchor": "left",
          "xref": "paper",
          "y": 2,
          "yref": "y"
         },
         {
          "align": "left",
          "font": {
           "size": 14
          },
          "showarrow": false,
          "text": "Sparing the young",
          "x": 1.06,
          "xanchor": "left",
          "xref": "paper",
          "y": 3,
          "yref": "y"
         },
         {
          "align": "left",
          "font": {
           "size": 14
          },
          "showarrow": false,
          "text": "Sparing more characters",
          "x": 1.06,
          "xanchor": "left",
          "xref": "paper",
          "y": 4,
          "yref": "y"
         },
         {
          "align": "left",
          "font": {
           "size": 14
          },
          "showarrow": false,
          "text": "Sparing humans",
          "x": 1.06,
          "xanchor": "left",
          "xref": "paper",
          "y": 5,
          "yref": "y"
         },
         {
          "align": "right",
          "font": {
           "size": 14
          },
          "showarrow": false,
          "text": "Sparing males",
          "x": -0.02,
          "xanchor": "right",
          "xref": "paper",
          "y": 0,
          "yref": "y"
         },
         {
          "align": "right",
          "font": {
           "size": 14
          },
          "showarrow": false,
          "text": "Sparing the large",
          "x": -0.02,
          "xanchor": "right",
          "xref": "paper",
          "y": 1,
          "yref": "y"
         },
         {
          "align": "right",
          "font": {
           "size": 14
          },
          "showarrow": false,
          "text": "Sparing lower status",
          "x": -0.02,
          "xanchor": "right",
          "xref": "paper",
          "y": 2,
          "yref": "y"
         },
         {
          "align": "right",
          "font": {
           "size": 14
          },
          "showarrow": false,
          "text": "Sparing the elderly",
          "x": -0.02,
          "xanchor": "right",
          "xref": "paper",
          "y": 3,
          "yref": "y"
         },
         {
          "align": "right",
          "font": {
           "size": 14
          },
          "showarrow": false,
          "text": "Sparing fewer characters",
          "x": -0.02,
          "xanchor": "right",
          "xref": "paper",
          "y": 4,
          "yref": "y"
         },
         {
          "align": "right",
          "font": {
           "size": 14
          },
          "showarrow": false,
          "text": "Sparing pets",
          "x": -0.02,
          "xanchor": "right",
          "xref": "paper",
          "y": 5,
          "yref": "y"
         }
        ],
        "font": {
         "family": "Times New Roman",
         "size": 12
        },
        "height": 400,
        "images": [
         {
          "sizex": 0.5,
          "sizey": 0.5,
          "source": "./icons/icons_tradeoff/female.png",
          "x": 0.95,
          "xanchor": "left",
          "xref": "paper",
          "y": 0,
          "yanchor": "middle",
          "yref": "y"
         },
         {
          "sizex": 0.5,
          "sizey": 0.5,
          "source": "./icons/icons_tradeoff/fit.png",
          "x": 0.95,
          "xanchor": "left",
          "xref": "paper",
          "y": 1,
          "yanchor": "middle",
          "yref": "y"
         },
         {
          "sizex": 0.5,
          "sizey": 0.5,
          "source": "./icons/icons_tradeoff/higher_status.png",
          "x": 0.95,
          "xanchor": "left",
          "xref": "paper",
          "y": 2,
          "yanchor": "middle",
          "yref": "y"
         },
         {
          "sizex": 0.5,
          "sizey": 0.5,
          "source": "./icons/icons_tradeoff/young.png",
          "x": 0.95,
          "xanchor": "left",
          "xref": "paper",
          "y": 3,
          "yanchor": "middle",
          "yref": "y"
         },
         {
          "sizex": 0.5,
          "sizey": 0.5,
          "source": "./icons/icons_tradeoff/more_character.png",
          "x": 0.95,
          "xanchor": "left",
          "xref": "paper",
          "y": 4,
          "yanchor": "middle",
          "yref": "y"
         },
         {
          "sizex": 0.5,
          "sizey": 0.5,
          "source": "./icons/icons_tradeoff/humans.png",
          "x": 0.95,
          "xanchor": "left",
          "xref": "paper",
          "y": 5,
          "yanchor": "middle",
          "yref": "y"
         },
         {
          "sizex": 0.5,
          "sizey": 0.5,
          "source": "./icons/icons_tradeoff/male.png",
          "x": -0.01,
          "xanchor": "left",
          "xref": "paper",
          "y": 0,
          "yanchor": "middle",
          "yref": "y"
         },
         {
          "sizex": 0.5,
          "sizey": 0.5,
          "source": "./icons/icons_tradeoff/large.png",
          "x": -0.01,
          "xanchor": "left",
          "xref": "paper",
          "y": 1,
          "yanchor": "middle",
          "yref": "y"
         },
         {
          "sizex": 0.5,
          "sizey": 0.5,
          "source": "./icons/icons_tradeoff/lower_status.png",
          "x": -0.01,
          "xanchor": "left",
          "xref": "paper",
          "y": 2,
          "yanchor": "middle",
          "yref": "y"
         },
         {
          "sizex": 0.5,
          "sizey": 0.5,
          "source": "./icons/icons_tradeoff/elderly.png",
          "x": -0.01,
          "xanchor": "left",
          "xref": "paper",
          "y": 3,
          "yanchor": "middle",
          "yref": "y"
         },
         {
          "sizex": 0.5,
          "sizey": 0.5,
          "source": "./icons/icons_tradeoff/fewer.png",
          "x": -0.01,
          "xanchor": "left",
          "xref": "paper",
          "y": 4,
          "yanchor": "middle",
          "yref": "y"
         },
         {
          "sizex": 0.5,
          "sizey": 0.5,
          "source": "./icons/icons_tradeoff/pet.png",
          "x": -0.01,
          "xanchor": "left",
          "xref": "paper",
          "y": 5,
          "yanchor": "middle",
          "yref": "y"
         }
        ],
        "legend": {
         "orientation": "h",
         "x": 0.5,
         "xanchor": "center",
         "y": 1,
         "yanchor": "bottom"
        },
        "margin": {
         "b": 50,
         "l": 160,
         "r": 170,
         "t": 50
        },
        "plot_bgcolor": "white",
        "showlegend": true,
        "template": {
         "data": {
          "bar": [
           {
            "error_x": {
             "color": "#2a3f5f"
            },
            "error_y": {
             "color": "#2a3f5f"
            },
            "marker": {
             "line": {
              "color": "#E5ECF6",
              "width": 0.5
             },
             "pattern": {
              "fillmode": "overlay",
              "size": 10,
              "solidity": 0.2
             }
            },
            "type": "bar"
           }
          ],
          "barpolar": [
           {
            "marker": {
             "line": {
              "color": "#E5ECF6",
              "width": 0.5
             },
             "pattern": {
              "fillmode": "overlay",
              "size": 10,
              "solidity": 0.2
             }
            },
            "type": "barpolar"
           }
          ],
          "carpet": [
           {
            "aaxis": {
             "endlinecolor": "#2a3f5f",
             "gridcolor": "white",
             "linecolor": "white",
             "minorgridcolor": "white",
             "startlinecolor": "#2a3f5f"
            },
            "baxis": {
             "endlinecolor": "#2a3f5f",
             "gridcolor": "white",
             "linecolor": "white",
             "minorgridcolor": "white",
             "startlinecolor": "#2a3f5f"
            },
            "type": "carpet"
           }
          ],
          "choropleth": [
           {
            "colorbar": {
             "outlinewidth": 0,
             "ticks": ""
            },
            "type": "choropleth"
           }
          ],
          "contour": [
           {
            "colorbar": {
             "outlinewidth": 0,
             "ticks": ""
            },
            "colorscale": [
             [
              0,
              "#0d0887"
             ],
             [
              0.1111111111111111,
              "#46039f"
             ],
             [
              0.2222222222222222,
              "#7201a8"
             ],
             [
              0.3333333333333333,
              "#9c179e"
             ],
             [
              0.4444444444444444,
              "#bd3786"
             ],
             [
              0.5555555555555556,
              "#d8576b"
             ],
             [
              0.6666666666666666,
              "#ed7953"
             ],
             [
              0.7777777777777778,
              "#fb9f3a"
             ],
             [
              0.8888888888888888,
              "#fdca26"
             ],
             [
              1,
              "#f0f921"
             ]
            ],
            "type": "contour"
           }
          ],
          "contourcarpet": [
           {
            "colorbar": {
             "outlinewidth": 0,
             "ticks": ""
            },
            "type": "contourcarpet"
           }
          ],
          "heatmap": [
           {
            "colorbar": {
             "outlinewidth": 0,
             "ticks": ""
            },
            "colorscale": [
             [
              0,
              "#0d0887"
             ],
             [
              0.1111111111111111,
              "#46039f"
             ],
             [
              0.2222222222222222,
              "#7201a8"
             ],
             [
              0.3333333333333333,
              "#9c179e"
             ],
             [
              0.4444444444444444,
              "#bd3786"
             ],
             [
              0.5555555555555556,
              "#d8576b"
             ],
             [
              0.6666666666666666,
              "#ed7953"
             ],
             [
              0.7777777777777778,
              "#fb9f3a"
             ],
             [
              0.8888888888888888,
              "#fdca26"
             ],
             [
              1,
              "#f0f921"
             ]
            ],
            "type": "heatmap"
           }
          ],
          "heatmapgl": [
           {
            "colorbar": {
             "outlinewidth": 0,
             "ticks": ""
            },
            "colorscale": [
             [
              0,
              "#0d0887"
             ],
             [
              0.1111111111111111,
              "#46039f"
             ],
             [
              0.2222222222222222,
              "#7201a8"
             ],
             [
              0.3333333333333333,
              "#9c179e"
             ],
             [
              0.4444444444444444,
              "#bd3786"
             ],
             [
              0.5555555555555556,
              "#d8576b"
             ],
             [
              0.6666666666666666,
              "#ed7953"
             ],
             [
              0.7777777777777778,
              "#fb9f3a"
             ],
             [
              0.8888888888888888,
              "#fdca26"
             ],
             [
              1,
              "#f0f921"
             ]
            ],
            "type": "heatmapgl"
           }
          ],
          "histogram": [
           {
            "marker": {
             "pattern": {
              "fillmode": "overlay",
              "size": 10,
              "solidity": 0.2
             }
            },
            "type": "histogram"
           }
          ],
          "histogram2d": [
           {
            "colorbar": {
             "outlinewidth": 0,
             "ticks": ""
            },
            "colorscale": [
             [
              0,
              "#0d0887"
             ],
             [
              0.1111111111111111,
              "#46039f"
             ],
             [
              0.2222222222222222,
              "#7201a8"
             ],
             [
              0.3333333333333333,
              "#9c179e"
             ],
             [
              0.4444444444444444,
              "#bd3786"
             ],
             [
              0.5555555555555556,
              "#d8576b"
             ],
             [
              0.6666666666666666,
              "#ed7953"
             ],
             [
              0.7777777777777778,
              "#fb9f3a"
             ],
             [
              0.8888888888888888,
              "#fdca26"
             ],
             [
              1,
              "#f0f921"
             ]
            ],
            "type": "histogram2d"
           }
          ],
          "histogram2dcontour": [
           {
            "colorbar": {
             "outlinewidth": 0,
             "ticks": ""
            },
            "colorscale": [
             [
              0,
              "#0d0887"
             ],
             [
              0.1111111111111111,
              "#46039f"
             ],
             [
              0.2222222222222222,
              "#7201a8"
             ],
             [
              0.3333333333333333,
              "#9c179e"
             ],
             [
              0.4444444444444444,
              "#bd3786"
             ],
             [
              0.5555555555555556,
              "#d8576b"
             ],
             [
              0.6666666666666666,
              "#ed7953"
             ],
             [
              0.7777777777777778,
              "#fb9f3a"
             ],
             [
              0.8888888888888888,
              "#fdca26"
             ],
             [
              1,
              "#f0f921"
             ]
            ],
            "type": "histogram2dcontour"
           }
          ],
          "mesh3d": [
           {
            "colorbar": {
             "outlinewidth": 0,
             "ticks": ""
            },
            "type": "mesh3d"
           }
          ],
          "parcoords": [
           {
            "line": {
             "colorbar": {
              "outlinewidth": 0,
              "ticks": ""
             }
            },
            "type": "parcoords"
           }
          ],
          "pie": [
           {
            "automargin": true,
            "type": "pie"
           }
          ],
          "scatter": [
           {
            "fillpattern": {
             "fillmode": "overlay",
             "size": 10,
             "solidity": 0.2
            },
            "type": "scatter"
           }
          ],
          "scatter3d": [
           {
            "line": {
             "colorbar": {
              "outlinewidth": 0,
              "ticks": ""
             }
            },
            "marker": {
             "colorbar": {
              "outlinewidth": 0,
              "ticks": ""
             }
            },
            "type": "scatter3d"
           }
          ],
          "scattercarpet": [
           {
            "marker": {
             "colorbar": {
              "outlinewidth": 0,
              "ticks": ""
             }
            },
            "type": "scattercarpet"
           }
          ],
          "scattergeo": [
           {
            "marker": {
             "colorbar": {
              "outlinewidth": 0,
              "ticks": ""
             }
            },
            "type": "scattergeo"
           }
          ],
          "scattergl": [
           {
            "marker": {
             "colorbar": {
              "outlinewidth": 0,
              "ticks": ""
             }
            },
            "type": "scattergl"
           }
          ],
          "scattermapbox": [
           {
            "marker": {
             "colorbar": {
              "outlinewidth": 0,
              "ticks": ""
             }
            },
            "type": "scattermapbox"
           }
          ],
          "scatterpolar": [
           {
            "marker": {
             "colorbar": {
              "outlinewidth": 0,
              "ticks": ""
             }
            },
            "type": "scatterpolar"
           }
          ],
          "scatterpolargl": [
           {
            "marker": {
             "colorbar": {
              "outlinewidth": 0,
              "ticks": ""
             }
            },
            "type": "scatterpolargl"
           }
          ],
          "scatterternary": [
           {
            "marker": {
             "colorbar": {
              "outlinewidth": 0,
              "ticks": ""
             }
            },
            "type": "scatterternary"
           }
          ],
          "surface": [
           {
            "colorbar": {
             "outlinewidth": 0,
             "ticks": ""
            },
            "colorscale": [
             [
              0,
              "#0d0887"
             ],
             [
              0.1111111111111111,
              "#46039f"
             ],
             [
              0.2222222222222222,
              "#7201a8"
             ],
             [
              0.3333333333333333,
              "#9c179e"
             ],
             [
              0.4444444444444444,
              "#bd3786"
             ],
             [
              0.5555555555555556,
              "#d8576b"
             ],
             [
              0.6666666666666666,
              "#ed7953"
             ],
             [
              0.7777777777777778,
              "#fb9f3a"
             ],
             [
              0.8888888888888888,
              "#fdca26"
             ],
             [
              1,
              "#f0f921"
             ]
            ],
            "type": "surface"
           }
          ],
          "table": [
           {
            "cells": {
             "fill": {
              "color": "#EBF0F8"
             },
             "line": {
              "color": "white"
             }
            },
            "header": {
             "fill": {
              "color": "#C8D4E3"
             },
             "line": {
              "color": "white"
             }
            },
            "type": "table"
           }
          ]
         },
         "layout": {
          "annotationdefaults": {
           "arrowcolor": "#2a3f5f",
           "arrowhead": 0,
           "arrowwidth": 1
          },
          "autotypenumbers": "strict",
          "coloraxis": {
           "colorbar": {
            "outlinewidth": 0,
            "ticks": ""
           }
          },
          "colorscale": {
           "diverging": [
            [
             0,
             "#8e0152"
            ],
            [
             0.1,
             "#c51b7d"
            ],
            [
             0.2,
             "#de77ae"
            ],
            [
             0.3,
             "#f1b6da"
            ],
            [
             0.4,
             "#fde0ef"
            ],
            [
             0.5,
             "#f7f7f7"
            ],
            [
             0.6,
             "#e6f5d0"
            ],
            [
             0.7,
             "#b8e186"
            ],
            [
             0.8,
             "#7fbc41"
            ],
            [
             0.9,
             "#4d9221"
            ],
            [
             1,
             "#276419"
            ]
           ],
           "sequential": [
            [
             0,
             "#0d0887"
            ],
            [
             0.1111111111111111,
             "#46039f"
            ],
            [
             0.2222222222222222,
             "#7201a8"
            ],
            [
             0.3333333333333333,
             "#9c179e"
            ],
            [
             0.4444444444444444,
             "#bd3786"
            ],
            [
             0.5555555555555556,
             "#d8576b"
            ],
            [
             0.6666666666666666,
             "#ed7953"
            ],
            [
             0.7777777777777778,
             "#fb9f3a"
            ],
            [
             0.8888888888888888,
             "#fdca26"
            ],
            [
             1,
             "#f0f921"
            ]
           ],
           "sequentialminus": [
            [
             0,
             "#0d0887"
            ],
            [
             0.1111111111111111,
             "#46039f"
            ],
            [
             0.2222222222222222,
             "#7201a8"
            ],
            [
             0.3333333333333333,
             "#9c179e"
            ],
            [
             0.4444444444444444,
             "#bd3786"
            ],
            [
             0.5555555555555556,
             "#d8576b"
            ],
            [
             0.6666666666666666,
             "#ed7953"
            ],
            [
             0.7777777777777778,
             "#fb9f3a"
            ],
            [
             0.8888888888888888,
             "#fdca26"
            ],
            [
             1,
             "#f0f921"
            ]
           ]
          },
          "colorway": [
           "#636efa",
           "#EF553B",
           "#00cc96",
           "#ab63fa",
           "#FFA15A",
           "#19d3f3",
           "#FF6692",
           "#B6E880",
           "#FF97FF",
           "#FECB52"
          ],
          "font": {
           "color": "#2a3f5f"
          },
          "geo": {
           "bgcolor": "white",
           "lakecolor": "white",
           "landcolor": "#E5ECF6",
           "showlakes": true,
           "showland": true,
           "subunitcolor": "white"
          },
          "hoverlabel": {
           "align": "left"
          },
          "hovermode": "closest",
          "mapbox": {
           "style": "light"
          },
          "paper_bgcolor": "white",
          "plot_bgcolor": "#E5ECF6",
          "polar": {
           "angularaxis": {
            "gridcolor": "white",
            "linecolor": "white",
            "ticks": ""
           },
           "bgcolor": "#E5ECF6",
           "radialaxis": {
            "gridcolor": "white",
            "linecolor": "white",
            "ticks": ""
           }
          },
          "scene": {
           "xaxis": {
            "backgroundcolor": "#E5ECF6",
            "gridcolor": "white",
            "gridwidth": 2,
            "linecolor": "white",
            "showbackground": true,
            "ticks": "",
            "zerolinecolor": "white"
           },
           "yaxis": {
            "backgroundcolor": "#E5ECF6",
            "gridcolor": "white",
            "gridwidth": 2,
            "linecolor": "white",
            "showbackground": true,
            "ticks": "",
            "zerolinecolor": "white"
           },
           "zaxis": {
            "backgroundcolor": "#E5ECF6",
            "gridcolor": "white",
            "gridwidth": 2,
            "linecolor": "white",
            "showbackground": true,
            "ticks": "",
            "zerolinecolor": "white"
           }
          },
          "shapedefaults": {
           "line": {
            "color": "#2a3f5f"
           }
          },
          "ternary": {
           "aaxis": {
            "gridcolor": "white",
            "linecolor": "white",
            "ticks": ""
           },
           "baxis": {
            "gridcolor": "white",
            "linecolor": "white",
            "ticks": ""
           },
           "bgcolor": "#E5ECF6",
           "caxis": {
            "gridcolor": "white",
            "linecolor": "white",
            "ticks": ""
           }
          },
          "title": {
           "x": 0.05
          },
          "xaxis": {
           "automargin": true,
           "gridcolor": "white",
           "linecolor": "white",
           "ticks": "",
           "title": {
            "standoff": 15
           },
           "zerolinecolor": "white",
           "zerolinewidth": 2
          },
          "yaxis": {
           "automargin": true,
           "gridcolor": "white",
           "linecolor": "white",
           "ticks": "",
           "title": {
            "standoff": 15
           },
           "zerolinecolor": "white",
           "zerolinewidth": 2
          }
         }
        },
        "title": {
         "font": {
          "size": 12
         },
         "text": ""
        },
        "width": 800,
        "xaxis": {
         "anchor": "y",
         "domain": [
          0,
          1
         ],
         "gridcolor": "lightgrey",
         "gridwidth": 1,
         "range": [
          -0.1,
          1.1
         ],
         "showgrid": true,
         "ticktext": [
          "100% Favoring the Left",
          "75-25",
          "50-50",
          "25-75",
          "100% Favoring the Right"
         ],
         "tickvals": [
          0,
          0.25,
          0.5,
          0.75,
          1
         ],
         "title": {
          "text": "Preference"
         }
        },
        "yaxis": {
         "anchor": "x",
         "autorange": false,
         "categoryarray": [
          "Gender_Female_Bin_Choice",
          "Fitness_Fit_Bin_Choice",
          "SocialValue_High_Bin_Choice",
          "Age_Young_Bin_Choice",
          "Utilitarianism_More_Bin_Choice",
          "Species_Humans_Bin_Choice"
         ],
         "categoryorder": "array",
         "domain": [
          0,
          1
         ],
         "range": [
          -0.5,
          5.5
         ],
         "showgrid": false,
         "tickmode": "array",
         "ticktext": [
          "",
          "",
          "",
          "",
          "",
          ""
         ],
         "tickvals": [
          0,
          1,
          2,
          3,
          4,
          5
         ]
        }
       }
      },
      "text/html": [
       "<div>                            <div id=\"c7369abd-0190-4019-a66f-e13df2669b9d\" class=\"plotly-graph-div\" style=\"height:400px; width:800px;\"></div>            <script type=\"text/javascript\">                require([\"plotly\"], function(Plotly) {                    window.PLOTLYENV=window.PLOTLYENV || {};                                    if (document.getElementById(\"c7369abd-0190-4019-a66f-e13df2669b9d\")) {                    Plotly.newPlot(                        \"c7369abd-0190-4019-a66f-e13df2669b9d\",                        [{\"marker\":{\"color\":\"#0077ad\",\"line\":{\"color\":\"#0077ad\",\"width\":2}},\"name\":\"Gemma 2 27B\",\"opacity\":0.7,\"orientation\":\"h\",\"width\":0.3,\"x\":[1.0,1.0,0.7726999999999999],\"y\":[\"Species_Humans_Bin_Choice\",\"Utilitarianism_More_Bin_Choice\",\"SocialValue_High_Bin_Choice\"],\"type\":\"bar\"},{\"marker\":{\"color\":\"white\",\"line\":{\"color\":\"#ad0077\",\"width\":2},\"size\":20},\"mode\":\"markers\",\"name\":\"Human Preference\",\"showlegend\":true,\"x\":[0.7974454552522746,0.753525616600679,0.7241555080471478,0.6617809934377845,0.576127833908965,0.5625438093111024],\"y\":[\"Species_Humans_Bin_Choice\",\"Utilitarianism_More_Bin_Choice\",\"Age_Young_Bin_Choice\",\"SocialValue_High_Bin_Choice\",\"Fitness_Fit_Bin_Choice\",\"Gender_Female_Bin_Choice\"],\"type\":\"scatter\"}],                        {\"template\":{\"data\":{\"histogram2dcontour\":[{\"type\":\"histogram2dcontour\",\"colorbar\":{\"outlinewidth\":0,\"ticks\":\"\"},\"colorscale\":[[0.0,\"#0d0887\"],[0.1111111111111111,\"#46039f\"],[0.2222222222222222,\"#7201a8\"],[0.3333333333333333,\"#9c179e\"],[0.4444444444444444,\"#bd3786\"],[0.5555555555555556,\"#d8576b\"],[0.6666666666666666,\"#ed7953\"],[0.7777777777777778,\"#fb9f3a\"],[0.8888888888888888,\"#fdca26\"],[1.0,\"#f0f921\"]]}],\"choropleth\":[{\"type\":\"choropleth\",\"colorbar\":{\"outlinewidth\":0,\"ticks\":\"\"}}],\"histogram2d\":[{\"type\":\"histogram2d\",\"colorbar\":{\"outlinewidth\":0,\"ticks\":\"\"},\"colorscale\":[[0.0,\"#0d0887\"],[0.1111111111111111,\"#46039f\"],[0.2222222222222222,\"#7201a8\"],[0.3333333333333333,\"#9c179e\"],[0.4444444444444444,\"#bd3786\"],[0.5555555555555556,\"#d8576b\"],[0.6666666666666666,\"#ed7953\"],[0.7777777777777778,\"#fb9f3a\"],[0.8888888888888888,\"#fdca26\"],[1.0,\"#f0f921\"]]}],\"heatmap\":[{\"type\":\"heatmap\",\"colorbar\":{\"outlinewidth\":0,\"ticks\":\"\"},\"colorscale\":[[0.0,\"#0d0887\"],[0.1111111111111111,\"#46039f\"],[0.2222222222222222,\"#7201a8\"],[0.3333333333333333,\"#9c179e\"],[0.4444444444444444,\"#bd3786\"],[0.5555555555555556,\"#d8576b\"],[0.6666666666666666,\"#ed7953\"],[0.7777777777777778,\"#fb9f3a\"],[0.8888888888888888,\"#fdca26\"],[1.0,\"#f0f921\"]]}],\"heatmapgl\":[{\"type\":\"heatmapgl\",\"colorbar\":{\"outlinewidth\":0,\"ticks\":\"\"},\"colorscale\":[[0.0,\"#0d0887\"],[0.1111111111111111,\"#46039f\"],[0.2222222222222222,\"#7201a8\"],[0.3333333333333333,\"#9c179e\"],[0.4444444444444444,\"#bd3786\"],[0.5555555555555556,\"#d8576b\"],[0.6666666666666666,\"#ed7953\"],[0.7777777777777778,\"#fb9f3a\"],[0.8888888888888888,\"#fdca26\"],[1.0,\"#f0f921\"]]}],\"contourcarpet\":[{\"type\":\"contourcarpet\",\"colorbar\":{\"outlinewidth\":0,\"ticks\":\"\"}}],\"contour\":[{\"type\":\"contour\",\"colorbar\":{\"outlinewidth\":0,\"ticks\":\"\"},\"colorscale\":[[0.0,\"#0d0887\"],[0.1111111111111111,\"#46039f\"],[0.2222222222222222,\"#7201a8\"],[0.3333333333333333,\"#9c179e\"],[0.4444444444444444,\"#bd3786\"],[0.5555555555555556,\"#d8576b\"],[0.6666666666666666,\"#ed7953\"],[0.7777777777777778,\"#fb9f3a\"],[0.8888888888888888,\"#fdca26\"],[1.0,\"#f0f921\"]]}],\"surface\":[{\"type\":\"surface\",\"colorbar\":{\"outlinewidth\":0,\"ticks\":\"\"},\"colorscale\":[[0.0,\"#0d0887\"],[0.1111111111111111,\"#46039f\"],[0.2222222222222222,\"#7201a8\"],[0.3333333333333333,\"#9c179e\"],[0.4444444444444444,\"#bd3786\"],[0.5555555555555556,\"#d8576b\"],[0.6666666666666666,\"#ed7953\"],[0.7777777777777778,\"#fb9f3a\"],[0.8888888888888888,\"#fdca26\"],[1.0,\"#f0f921\"]]}],\"mesh3d\":[{\"type\":\"mesh3d\",\"colorbar\":{\"outlinewidth\":0,\"ticks\":\"\"}}],\"scatter\":[{\"fillpattern\":{\"fillmode\":\"overlay\",\"size\":10,\"solidity\":0.2},\"type\":\"scatter\"}],\"parcoords\":[{\"type\":\"parcoords\",\"line\":{\"colorbar\":{\"outlinewidth\":0,\"ticks\":\"\"}}}],\"scatterpolargl\":[{\"type\":\"scatterpolargl\",\"marker\":{\"colorbar\":{\"outlinewidth\":0,\"ticks\":\"\"}}}],\"bar\":[{\"error_x\":{\"color\":\"#2a3f5f\"},\"error_y\":{\"color\":\"#2a3f5f\"},\"marker\":{\"line\":{\"color\":\"#E5ECF6\",\"width\":0.5},\"pattern\":{\"fillmode\":\"overlay\",\"size\":10,\"solidity\":0.2}},\"type\":\"bar\"}],\"scattergeo\":[{\"type\":\"scattergeo\",\"marker\":{\"colorbar\":{\"outlinewidth\":0,\"ticks\":\"\"}}}],\"scatterpolar\":[{\"type\":\"scatterpolar\",\"marker\":{\"colorbar\":{\"outlinewidth\":0,\"ticks\":\"\"}}}],\"histogram\":[{\"marker\":{\"pattern\":{\"fillmode\":\"overlay\",\"size\":10,\"solidity\":0.2}},\"type\":\"histogram\"}],\"scattergl\":[{\"type\":\"scattergl\",\"marker\":{\"colorbar\":{\"outlinewidth\":0,\"ticks\":\"\"}}}],\"scatter3d\":[{\"type\":\"scatter3d\",\"line\":{\"colorbar\":{\"outlinewidth\":0,\"ticks\":\"\"}},\"marker\":{\"colorbar\":{\"outlinewidth\":0,\"ticks\":\"\"}}}],\"scattermapbox\":[{\"type\":\"scattermapbox\",\"marker\":{\"colorbar\":{\"outlinewidth\":0,\"ticks\":\"\"}}}],\"scatterternary\":[{\"type\":\"scatterternary\",\"marker\":{\"colorbar\":{\"outlinewidth\":0,\"ticks\":\"\"}}}],\"scattercarpet\":[{\"type\":\"scattercarpet\",\"marker\":{\"colorbar\":{\"outlinewidth\":0,\"ticks\":\"\"}}}],\"carpet\":[{\"aaxis\":{\"endlinecolor\":\"#2a3f5f\",\"gridcolor\":\"white\",\"linecolor\":\"white\",\"minorgridcolor\":\"white\",\"startlinecolor\":\"#2a3f5f\"},\"baxis\":{\"endlinecolor\":\"#2a3f5f\",\"gridcolor\":\"white\",\"linecolor\":\"white\",\"minorgridcolor\":\"white\",\"startlinecolor\":\"#2a3f5f\"},\"type\":\"carpet\"}],\"table\":[{\"cells\":{\"fill\":{\"color\":\"#EBF0F8\"},\"line\":{\"color\":\"white\"}},\"header\":{\"fill\":{\"color\":\"#C8D4E3\"},\"line\":{\"color\":\"white\"}},\"type\":\"table\"}],\"barpolar\":[{\"marker\":{\"line\":{\"color\":\"#E5ECF6\",\"width\":0.5},\"pattern\":{\"fillmode\":\"overlay\",\"size\":10,\"solidity\":0.2}},\"type\":\"barpolar\"}],\"pie\":[{\"automargin\":true,\"type\":\"pie\"}]},\"layout\":{\"autotypenumbers\":\"strict\",\"colorway\":[\"#636efa\",\"#EF553B\",\"#00cc96\",\"#ab63fa\",\"#FFA15A\",\"#19d3f3\",\"#FF6692\",\"#B6E880\",\"#FF97FF\",\"#FECB52\"],\"font\":{\"color\":\"#2a3f5f\"},\"hovermode\":\"closest\",\"hoverlabel\":{\"align\":\"left\"},\"paper_bgcolor\":\"white\",\"plot_bgcolor\":\"#E5ECF6\",\"polar\":{\"bgcolor\":\"#E5ECF6\",\"angularaxis\":{\"gridcolor\":\"white\",\"linecolor\":\"white\",\"ticks\":\"\"},\"radialaxis\":{\"gridcolor\":\"white\",\"linecolor\":\"white\",\"ticks\":\"\"}},\"ternary\":{\"bgcolor\":\"#E5ECF6\",\"aaxis\":{\"gridcolor\":\"white\",\"linecolor\":\"white\",\"ticks\":\"\"},\"baxis\":{\"gridcolor\":\"white\",\"linecolor\":\"white\",\"ticks\":\"\"},\"caxis\":{\"gridcolor\":\"white\",\"linecolor\":\"white\",\"ticks\":\"\"}},\"coloraxis\":{\"colorbar\":{\"outlinewidth\":0,\"ticks\":\"\"}},\"colorscale\":{\"sequential\":[[0.0,\"#0d0887\"],[0.1111111111111111,\"#46039f\"],[0.2222222222222222,\"#7201a8\"],[0.3333333333333333,\"#9c179e\"],[0.4444444444444444,\"#bd3786\"],[0.5555555555555556,\"#d8576b\"],[0.6666666666666666,\"#ed7953\"],[0.7777777777777778,\"#fb9f3a\"],[0.8888888888888888,\"#fdca26\"],[1.0,\"#f0f921\"]],\"sequentialminus\":[[0.0,\"#0d0887\"],[0.1111111111111111,\"#46039f\"],[0.2222222222222222,\"#7201a8\"],[0.3333333333333333,\"#9c179e\"],[0.4444444444444444,\"#bd3786\"],[0.5555555555555556,\"#d8576b\"],[0.6666666666666666,\"#ed7953\"],[0.7777777777777778,\"#fb9f3a\"],[0.8888888888888888,\"#fdca26\"],[1.0,\"#f0f921\"]],\"diverging\":[[0,\"#8e0152\"],[0.1,\"#c51b7d\"],[0.2,\"#de77ae\"],[0.3,\"#f1b6da\"],[0.4,\"#fde0ef\"],[0.5,\"#f7f7f7\"],[0.6,\"#e6f5d0\"],[0.7,\"#b8e186\"],[0.8,\"#7fbc41\"],[0.9,\"#4d9221\"],[1,\"#276419\"]]},\"xaxis\":{\"gridcolor\":\"white\",\"linecolor\":\"white\",\"ticks\":\"\",\"title\":{\"standoff\":15},\"zerolinecolor\":\"white\",\"automargin\":true,\"zerolinewidth\":2},\"yaxis\":{\"gridcolor\":\"white\",\"linecolor\":\"white\",\"ticks\":\"\",\"title\":{\"standoff\":15},\"zerolinecolor\":\"white\",\"automargin\":true,\"zerolinewidth\":2},\"scene\":{\"xaxis\":{\"backgroundcolor\":\"#E5ECF6\",\"gridcolor\":\"white\",\"linecolor\":\"white\",\"showbackground\":true,\"ticks\":\"\",\"zerolinecolor\":\"white\",\"gridwidth\":2},\"yaxis\":{\"backgroundcolor\":\"#E5ECF6\",\"gridcolor\":\"white\",\"linecolor\":\"white\",\"showbackground\":true,\"ticks\":\"\",\"zerolinecolor\":\"white\",\"gridwidth\":2},\"zaxis\":{\"backgroundcolor\":\"#E5ECF6\",\"gridcolor\":\"white\",\"linecolor\":\"white\",\"showbackground\":true,\"ticks\":\"\",\"zerolinecolor\":\"white\",\"gridwidth\":2}},\"shapedefaults\":{\"line\":{\"color\":\"#2a3f5f\"}},\"annotationdefaults\":{\"arrowcolor\":\"#2a3f5f\",\"arrowhead\":0,\"arrowwidth\":1},\"geo\":{\"bgcolor\":\"white\",\"landcolor\":\"#E5ECF6\",\"subunitcolor\":\"white\",\"showland\":true,\"showlakes\":true,\"lakecolor\":\"white\"},\"title\":{\"x\":0.05},\"mapbox\":{\"style\":\"light\"}}},\"xaxis\":{\"anchor\":\"y\",\"domain\":[0.0,1.0],\"title\":{\"text\":\"Preference\"},\"tickvals\":[0,0.25,0.5,0.75,1],\"ticktext\":[\"100% Favoring the Left\",\"75-25\",\"50-50\",\"25-75\",\"100% Favoring the Right\"],\"range\":[-0.1,1.1],\"showgrid\":true,\"gridwidth\":1,\"gridcolor\":\"lightgrey\"},\"yaxis\":{\"anchor\":\"x\",\"domain\":[0.0,1.0],\"categoryorder\":\"array\",\"categoryarray\":[\"Gender_Female_Bin_Choice\",\"Fitness_Fit_Bin_Choice\",\"SocialValue_High_Bin_Choice\",\"Age_Young_Bin_Choice\",\"Utilitarianism_More_Bin_Choice\",\"Species_Humans_Bin_Choice\"],\"tickvals\":[0,1,2,3,4,5],\"ticktext\":[\"\",\"\",\"\",\"\",\"\",\"\"],\"tickmode\":\"array\",\"range\":[-0.5,5.5],\"autorange\":false,\"showgrid\":false},\"title\":{\"text\":\"\",\"font\":{\"size\":12}},\"height\":400,\"width\":800,\"plot_bgcolor\":\"white\",\"annotations\":[{\"align\":\"left\",\"font\":{\"size\":14},\"showarrow\":false,\"text\":\"Sparing females\",\"x\":1.06,\"xanchor\":\"left\",\"xref\":\"paper\",\"y\":0,\"yref\":\"y\"},{\"align\":\"left\",\"font\":{\"size\":14},\"showarrow\":false,\"text\":\"Sparing the fit\",\"x\":1.06,\"xanchor\":\"left\",\"xref\":\"paper\",\"y\":1,\"yref\":\"y\"},{\"align\":\"left\",\"font\":{\"size\":14},\"showarrow\":false,\"text\":\"Sparing higher status\",\"x\":1.06,\"xanchor\":\"left\",\"xref\":\"paper\",\"y\":2,\"yref\":\"y\"},{\"align\":\"left\",\"font\":{\"size\":14},\"showarrow\":false,\"text\":\"Sparing the young\",\"x\":1.06,\"xanchor\":\"left\",\"xref\":\"paper\",\"y\":3,\"yref\":\"y\"},{\"align\":\"left\",\"font\":{\"size\":14},\"showarrow\":false,\"text\":\"Sparing more characters\",\"x\":1.06,\"xanchor\":\"left\",\"xref\":\"paper\",\"y\":4,\"yref\":\"y\"},{\"align\":\"left\",\"font\":{\"size\":14},\"showarrow\":false,\"text\":\"Sparing humans\",\"x\":1.06,\"xanchor\":\"left\",\"xref\":\"paper\",\"y\":5,\"yref\":\"y\"},{\"align\":\"right\",\"font\":{\"size\":14},\"showarrow\":false,\"text\":\"Sparing males\",\"x\":-0.02,\"xanchor\":\"right\",\"xref\":\"paper\",\"y\":0,\"yref\":\"y\"},{\"align\":\"right\",\"font\":{\"size\":14},\"showarrow\":false,\"text\":\"Sparing the large\",\"x\":-0.02,\"xanchor\":\"right\",\"xref\":\"paper\",\"y\":1,\"yref\":\"y\"},{\"align\":\"right\",\"font\":{\"size\":14},\"showarrow\":false,\"text\":\"Sparing lower status\",\"x\":-0.02,\"xanchor\":\"right\",\"xref\":\"paper\",\"y\":2,\"yref\":\"y\"},{\"align\":\"right\",\"font\":{\"size\":14},\"showarrow\":false,\"text\":\"Sparing the elderly\",\"x\":-0.02,\"xanchor\":\"right\",\"xref\":\"paper\",\"y\":3,\"yref\":\"y\"},{\"align\":\"right\",\"font\":{\"size\":14},\"showarrow\":false,\"text\":\"Sparing fewer characters\",\"x\":-0.02,\"xanchor\":\"right\",\"xref\":\"paper\",\"y\":4,\"yref\":\"y\"},{\"align\":\"right\",\"font\":{\"size\":14},\"showarrow\":false,\"text\":\"Sparing pets\",\"x\":-0.02,\"xanchor\":\"right\",\"xref\":\"paper\",\"y\":5,\"yref\":\"y\"}],\"images\":[{\"sizex\":0.5,\"sizey\":0.5,\"source\":\".\\u002ficons\\u002ficons_tradeoff\\u002ffemale.png\",\"x\":0.95,\"xanchor\":\"left\",\"xref\":\"paper\",\"y\":0,\"yanchor\":\"middle\",\"yref\":\"y\"},{\"sizex\":0.5,\"sizey\":0.5,\"source\":\".\\u002ficons\\u002ficons_tradeoff\\u002ffit.png\",\"x\":0.95,\"xanchor\":\"left\",\"xref\":\"paper\",\"y\":1,\"yanchor\":\"middle\",\"yref\":\"y\"},{\"sizex\":0.5,\"sizey\":0.5,\"source\":\".\\u002ficons\\u002ficons_tradeoff\\u002fhigher_status.png\",\"x\":0.95,\"xanchor\":\"left\",\"xref\":\"paper\",\"y\":2,\"yanchor\":\"middle\",\"yref\":\"y\"},{\"sizex\":0.5,\"sizey\":0.5,\"source\":\".\\u002ficons\\u002ficons_tradeoff\\u002fyoung.png\",\"x\":0.95,\"xanchor\":\"left\",\"xref\":\"paper\",\"y\":3,\"yanchor\":\"middle\",\"yref\":\"y\"},{\"sizex\":0.5,\"sizey\":0.5,\"source\":\".\\u002ficons\\u002ficons_tradeoff\\u002fmore_character.png\",\"x\":0.95,\"xanchor\":\"left\",\"xref\":\"paper\",\"y\":4,\"yanchor\":\"middle\",\"yref\":\"y\"},{\"sizex\":0.5,\"sizey\":0.5,\"source\":\".\\u002ficons\\u002ficons_tradeoff\\u002fhumans.png\",\"x\":0.95,\"xanchor\":\"left\",\"xref\":\"paper\",\"y\":5,\"yanchor\":\"middle\",\"yref\":\"y\"},{\"sizex\":0.5,\"sizey\":0.5,\"source\":\".\\u002ficons\\u002ficons_tradeoff\\u002fmale.png\",\"x\":-0.01,\"xanchor\":\"left\",\"xref\":\"paper\",\"y\":0,\"yanchor\":\"middle\",\"yref\":\"y\"},{\"sizex\":0.5,\"sizey\":0.5,\"source\":\".\\u002ficons\\u002ficons_tradeoff\\u002flarge.png\",\"x\":-0.01,\"xanchor\":\"left\",\"xref\":\"paper\",\"y\":1,\"yanchor\":\"middle\",\"yref\":\"y\"},{\"sizex\":0.5,\"sizey\":0.5,\"source\":\".\\u002ficons\\u002ficons_tradeoff\\u002flower_status.png\",\"x\":-0.01,\"xanchor\":\"left\",\"xref\":\"paper\",\"y\":2,\"yanchor\":\"middle\",\"yref\":\"y\"},{\"sizex\":0.5,\"sizey\":0.5,\"source\":\".\\u002ficons\\u002ficons_tradeoff\\u002felderly.png\",\"x\":-0.01,\"xanchor\":\"left\",\"xref\":\"paper\",\"y\":3,\"yanchor\":\"middle\",\"yref\":\"y\"},{\"sizex\":0.5,\"sizey\":0.5,\"source\":\".\\u002ficons\\u002ficons_tradeoff\\u002ffewer.png\",\"x\":-0.01,\"xanchor\":\"left\",\"xref\":\"paper\",\"y\":4,\"yanchor\":\"middle\",\"yref\":\"y\"},{\"sizex\":0.5,\"sizey\":0.5,\"source\":\".\\u002ficons\\u002ficons_tradeoff\\u002fpet.png\",\"x\":-0.01,\"xanchor\":\"left\",\"xref\":\"paper\",\"y\":5,\"yanchor\":\"middle\",\"yref\":\"y\"}],\"margin\":{\"l\":160,\"r\":170,\"t\":50,\"b\":50},\"legend\":{\"orientation\":\"h\",\"yanchor\":\"bottom\",\"y\":1,\"xanchor\":\"center\",\"x\":0.5},\"showlegend\":true,\"font\":{\"family\":\"Times New Roman\",\"size\":12}},                        {\"responsive\": true}                    ).then(function(){\n",
       "                            \n",
       "var gd = document.getElementById('c7369abd-0190-4019-a66f-e13df2669b9d');\n",
       "var x = new MutationObserver(function (mutations, observer) {{\n",
       "        var display = window.getComputedStyle(gd).display;\n",
       "        if (!display || display === 'none') {{\n",
       "            console.log([gd, 'removed!']);\n",
       "            Plotly.purge(gd);\n",
       "            observer.disconnect();\n",
       "        }}\n",
       "}});\n",
       "\n",
       "// Listen for the removal of the full notebook cells\n",
       "var notebookContainer = gd.closest('#notebook-container');\n",
       "if (notebookContainer) {{\n",
       "    x.observe(notebookContainer, {childList: true});\n",
       "}}\n",
       "\n",
       "// Listen for the clearing of the current output cell\n",
       "var outputEl = gd.closest('.output');\n",
       "if (outputEl) {{\n",
       "    x.observe(outputEl, {childList: true});\n",
       "}}\n",
       "\n",
       "                        })                };                });            </script>        </div>"
      ]
     },
     "metadata": {},
     "output_type": "display_data"
    }
   ],
   "source": [
    "for model_version in MODELS:\n",
    "    if model_version not in all_data:\n",
    "        continue\n",
    "    # Create the figure\n",
    "    fig = make_subplots(rows=1, cols=1, shared_yaxes=True)\n",
    "\n",
    "\n",
    "    fig.add_trace(go.Bar(\n",
    "        y=all_data[model_version]['criterion'],\n",
    "        x=all_data[model_version]['percentage'],\n",
    "        orientation='h',\n",
    "        name=get_pretty_name(model_version),\n",
    "        marker_color='#0077ad',\n",
    "        marker_line_color='#0077ad',\n",
    "        marker_line_width=2,\n",
    "        opacity=0.7,\n",
    "        width=0.3\n",
    "    ))\n",
    "\n",
    "\n",
    "\n",
    "    fig.add_trace(go.Scatter(\n",
    "        y=humans['criterion'],\n",
    "        x=humans['percentage'],\n",
    "        mode='markers',\n",
    "        name=\"Human Preference\",\n",
    "        marker=dict(size=20, color='white', line=dict(color='#ad0077', width=2)),  # Increased size\n",
    "        showlegend=True\n",
    "    ))\n",
    "\n",
    "    # Customize the layout\n",
    "    fig.update_layout(\n",
    "        title='',\n",
    "        xaxis=dict(\n",
    "            title='Pr',\n",
    "            tickvals=[0, 0.25, 0.5, 0.75, 1],\n",
    "            ticktext=['100% Favoring the Left', '75-25', '50-50', '25-75', '100% Favoring the Right'],\n",
    "            range=[-0.1, 1.1]\n",
    "        ),\n",
    "        yaxis=dict(\n",
    "            categoryorder='array',\n",
    "            categoryarray=custom_order[::-1],  # Reverse the order for bottom-to-top\n",
    "            tickvals=list(range(len(custom_order))),\n",
    "            ticktext=[\"\"] * len(custom_order),  # Empty labels as before\n",
    "            tickmode='array',\n",
    "            range=[-0.5, 5.5], autorange=False\n",
    "        ),\n",
    "        height=600,\n",
    "        width=1350,\n",
    "        plot_bgcolor='white'\n",
    "    )\n",
    "\n",
    "    # Add right-side labels\n",
    "    right_labels = [\n",
    "        'Sparing humans',\n",
    "        'Sparing more characters',\n",
    "        'Sparing the young',\n",
    "        'Sparing higher status',\n",
    "        'Sparing the fit',\n",
    "        'Sparing females'\n",
    "    ][::-1]\n",
    "\n",
    "    right_icons=[\n",
    "        \"humans\",\n",
    "        \"more_character\",\n",
    "        \"young\",\n",
    "        \"higher_status\",\n",
    "        \"fit\",\n",
    "        \"female\"\n",
    "    ][::-1]\n",
    "\n",
    "    for i, label in enumerate(right_labels):\n",
    "        fig.add_annotation(\n",
    "            x=1.06, y=i,\n",
    "            xref='paper', yref='y',\n",
    "            text=label,\n",
    "            showarrow=False,\n",
    "            xanchor='left',\n",
    "            align='left',\n",
    "            font=dict(size=14)\n",
    "        )\n",
    "\n",
    "        fig.add_layout_image(\n",
    "            dict(\n",
    "                source=f\"./icons/icons_tradeoff/{right_icons[i]}.png\",\n",
    "                xref=\"paper\",\n",
    "                yref=\"y\",\n",
    "                x=0.95,\n",
    "                y=i,\n",
    "                sizex=0.5,\n",
    "                sizey=0.5,\n",
    "                xanchor=\"left\",\n",
    "                yanchor=\"middle\"\n",
    "            )\n",
    "        )\n",
    "\n",
    "    # Add left-side labels\n",
    "    left_labels = [\n",
    "        'Sparing pets',\n",
    "        'Sparing fewer characters',\n",
    "        'Sparing the elderly',\n",
    "        'Sparing lower status',\n",
    "        \"Sparing the large\",\n",
    "        'Sparing males'\n",
    "    ][::-1]\n",
    "\n",
    "    left_icons=[\n",
    "        \"pet\",\n",
    "        \"fewer\",\n",
    "        \"elderly\",\n",
    "        \"lower_status\",\n",
    "        \"large\",\n",
    "        \"male\"\n",
    "    ][::-1]\n",
    "\n",
    "    for i, label in enumerate(left_labels):\n",
    "\n",
    "        fig.add_annotation(\n",
    "            x=-0.02, y=i,\n",
    "            xref='paper', yref='y',\n",
    "            text=label,\n",
    "            showarrow=False,\n",
    "            xanchor='right',\n",
    "            align='right',\n",
    "            font=dict(size=14)\n",
    "        )\n",
    "\n",
    "        fig.add_layout_image(\n",
    "            dict(\n",
    "                source=f\"./icons/icons_tradeoff/{left_icons[i]}.png\",\n",
    "                xref=\"paper\",\n",
    "                yref=\"y\",\n",
    "                x=-0.01,\n",
    "                y=i,\n",
    "                sizex=0.5,\n",
    "                sizey=0.5,\n",
    "                xanchor=\"left\",\n",
    "                yanchor=\"middle\"\n",
    "            )\n",
    "        )\n",
    "\n",
    "    # Update axes\n",
    "    fig.update_xaxes(showgrid=True, gridwidth=1, gridcolor='lightgrey', title=\"Preference\")\n",
    "    fig.update_yaxes(showgrid=False)\n",
    "\n",
    "    fig.update_layout(\n",
    "        height=800,\n",
    "        width=1200,\n",
    "        margin=dict(l=250, r=250, t=50, b=50),\n",
    "        )\n",
    "\n",
    "    fig.update_layout(\n",
    "            legend=dict(orientation=\"h\", yanchor=\"bottom\", y=1, xanchor=\"center\", x=0.5),\n",
    "            showlegend=True,\n",
    "        )\n",
    "\n",
    "    fig.update_layout(\n",
    "        title=\"\",\n",
    "        font_family=\"Times New Roman\",\n",
    "        font_size=12,\n",
    "        title_font_size=12,\n",
    "        margin=dict(l=160, r=170, t=50, b=50),\n",
    "        height=400,\n",
    "        width=800,\n",
    "    )\n",
    "\n",
    "    os.makedirs(\"./imgs/preference_normal_model/\", exist_ok=True)\n",
    "    fig.write_image(f\"./imgs/preference_normal_model/{get_pretty_name(model_version)}.png\")\n",
    "    fig.write_image(f\"./imgs/preference_normal_model/{get_pretty_name(model_version)}.pdf\")\n",
    "    # Show the plot\n",
    "    fig.show()"
   ]
  },
  {
   "cell_type": "code",
   "execution_count": 134,
   "metadata": {},
   "outputs": [
    {
     "data": {
      "application/vnd.plotly.v1+json": {
       "config": {
        "plotlyServerURL": "https://plot.ly"
       },
       "data": [
        {
         "marker": {
          "color": "#0077ad"
         },
         "name": "Llama 3.1 70B",
         "opacity": 0.7,
         "orientation": "h",
         "type": "bar",
         "width": 0.15,
         "x": [
          1,
          0.6409999999999999,
          0.9706,
          0.7353000000000001,
          0.7308,
          1
         ],
         "y": [
          "Species_Humans_Bin_Choice",
          "Utilitarianism_More_Bin_Choice",
          "Age_Young_Bin_Choice",
          "SocialValue_High_Bin_Choice",
          "Fitness_Fit_Bin_Choice",
          "Gender_Female_Bin_Choice"
         ]
        },
        {
         "marker": {
          "color": "#00ad77"
         },
         "name": "Llama 3.1 8B",
         "opacity": 0.7,
         "orientation": "h",
         "type": "bar",
         "width": 0.15,
         "x": [
          1,
          0.8684000000000001,
          0.4643,
          0.7108,
          0.8626999999999999,
          0.9841
         ],
         "y": [
          "Species_Humans_Bin_Choice",
          "Utilitarianism_More_Bin_Choice",
          "Age_Young_Bin_Choice",
          "SocialValue_High_Bin_Choice",
          "Fitness_Fit_Bin_Choice",
          "Gender_Female_Bin_Choice"
         ]
        },
        {
         "marker": {
          "color": "white",
          "line": {
           "color": "#ad0077",
           "width": 2
          },
          "size": 20
         },
         "mode": "markers",
         "name": "Human Preference",
         "showlegend": true,
         "type": "scatter",
         "x": [
          0.7974454552522746,
          0.753525616600679,
          0.7241555080471478,
          0.6617809934377845,
          0.576127833908965,
          0.5625438093111024
         ],
         "y": [
          "Species_Humans_Bin_Choice",
          "Utilitarianism_More_Bin_Choice",
          "Age_Young_Bin_Choice",
          "SocialValue_High_Bin_Choice",
          "Fitness_Fit_Bin_Choice",
          "Gender_Female_Bin_Choice"
         ]
        }
       ],
       "layout": {
        "annotations": [
         {
          "align": "left",
          "font": {
           "size": 14
          },
          "showarrow": false,
          "text": "Sparing females",
          "x": 1.06,
          "xanchor": "left",
          "xref": "paper",
          "y": 0,
          "yref": "y"
         },
         {
          "align": "left",
          "font": {
           "size": 14
          },
          "showarrow": false,
          "text": "Sparing the fit",
          "x": 1.06,
          "xanchor": "left",
          "xref": "paper",
          "y": 1,
          "yref": "y"
         },
         {
          "align": "left",
          "font": {
           "size": 14
          },
          "showarrow": false,
          "text": "Sparing higher status",
          "x": 1.06,
          "xanchor": "left",
          "xref": "paper",
          "y": 2,
          "yref": "y"
         },
         {
          "align": "left",
          "font": {
           "size": 14
          },
          "showarrow": false,
          "text": "Sparing the young",
          "x": 1.06,
          "xanchor": "left",
          "xref": "paper",
          "y": 3,
          "yref": "y"
         },
         {
          "align": "left",
          "font": {
           "size": 14
          },
          "showarrow": false,
          "text": "Sparing more characters",
          "x": 1.06,
          "xanchor": "left",
          "xref": "paper",
          "y": 4,
          "yref": "y"
         },
         {
          "align": "left",
          "font": {
           "size": 14
          },
          "showarrow": false,
          "text": "Sparing humans",
          "x": 1.06,
          "xanchor": "left",
          "xref": "paper",
          "y": 5,
          "yref": "y"
         },
         {
          "align": "right",
          "font": {
           "size": 14
          },
          "showarrow": false,
          "text": "Sparing males",
          "x": -0.02,
          "xanchor": "right",
          "xref": "paper",
          "y": 0,
          "yref": "y"
         },
         {
          "align": "right",
          "font": {
           "size": 14
          },
          "showarrow": false,
          "text": "Sparing the large",
          "x": -0.02,
          "xanchor": "right",
          "xref": "paper",
          "y": 1,
          "yref": "y"
         },
         {
          "align": "right",
          "font": {
           "size": 14
          },
          "showarrow": false,
          "text": "Sparing lower status",
          "x": -0.02,
          "xanchor": "right",
          "xref": "paper",
          "y": 2,
          "yref": "y"
         },
         {
          "align": "right",
          "font": {
           "size": 14
          },
          "showarrow": false,
          "text": "Sparing the elderly",
          "x": -0.02,
          "xanchor": "right",
          "xref": "paper",
          "y": 3,
          "yref": "y"
         },
         {
          "align": "right",
          "font": {
           "size": 14
          },
          "showarrow": false,
          "text": "Sparing fewer characters",
          "x": -0.02,
          "xanchor": "right",
          "xref": "paper",
          "y": 4,
          "yref": "y"
         },
         {
          "align": "right",
          "font": {
           "size": 14
          },
          "showarrow": false,
          "text": "Sparing pets",
          "x": -0.02,
          "xanchor": "right",
          "xref": "paper",
          "y": 5,
          "yref": "y"
         }
        ],
        "bargap": 0.7,
        "barmode": "group",
        "font": {
         "family": "Times New Roman",
         "size": 12
        },
        "height": 400,
        "images": [
         {
          "sizex": 0.5,
          "sizey": 0.5,
          "source": "./icons/icons_tradeoff/female.png",
          "x": 0.95,
          "xanchor": "left",
          "xref": "paper",
          "y": 0,
          "yanchor": "middle",
          "yref": "y"
         },
         {
          "sizex": 0.5,
          "sizey": 0.5,
          "source": "./icons/icons_tradeoff/fit.png",
          "x": 0.95,
          "xanchor": "left",
          "xref": "paper",
          "y": 1,
          "yanchor": "middle",
          "yref": "y"
         },
         {
          "sizex": 0.5,
          "sizey": 0.5,
          "source": "./icons/icons_tradeoff/higher_status.png",
          "x": 0.95,
          "xanchor": "left",
          "xref": "paper",
          "y": 2,
          "yanchor": "middle",
          "yref": "y"
         },
         {
          "sizex": 0.5,
          "sizey": 0.5,
          "source": "./icons/icons_tradeoff/young.png",
          "x": 0.95,
          "xanchor": "left",
          "xref": "paper",
          "y": 3,
          "yanchor": "middle",
          "yref": "y"
         },
         {
          "sizex": 0.5,
          "sizey": 0.5,
          "source": "./icons/icons_tradeoff/more_character.png",
          "x": 0.95,
          "xanchor": "left",
          "xref": "paper",
          "y": 4,
          "yanchor": "middle",
          "yref": "y"
         },
         {
          "sizex": 0.5,
          "sizey": 0.5,
          "source": "./icons/icons_tradeoff/humans.png",
          "x": 0.95,
          "xanchor": "left",
          "xref": "paper",
          "y": 5,
          "yanchor": "middle",
          "yref": "y"
         },
         {
          "sizex": 0.5,
          "sizey": 0.5,
          "source": "./icons/icons_tradeoff/male.png",
          "x": -0.01,
          "xanchor": "left",
          "xref": "paper",
          "y": 0,
          "yanchor": "middle",
          "yref": "y"
         },
         {
          "sizex": 0.5,
          "sizey": 0.5,
          "source": "./icons/icons_tradeoff/large.png",
          "x": -0.01,
          "xanchor": "left",
          "xref": "paper",
          "y": 1,
          "yanchor": "middle",
          "yref": "y"
         },
         {
          "sizex": 0.5,
          "sizey": 0.5,
          "source": "./icons/icons_tradeoff/lower_status.png",
          "x": -0.01,
          "xanchor": "left",
          "xref": "paper",
          "y": 2,
          "yanchor": "middle",
          "yref": "y"
         },
         {
          "sizex": 0.5,
          "sizey": 0.5,
          "source": "./icons/icons_tradeoff/elderly.png",
          "x": -0.01,
          "xanchor": "left",
          "xref": "paper",
          "y": 3,
          "yanchor": "middle",
          "yref": "y"
         },
         {
          "sizex": 0.5,
          "sizey": 0.5,
          "source": "./icons/icons_tradeoff/fewer.png",
          "x": -0.01,
          "xanchor": "left",
          "xref": "paper",
          "y": 4,
          "yanchor": "middle",
          "yref": "y"
         },
         {
          "sizex": 0.5,
          "sizey": 0.5,
          "source": "./icons/icons_tradeoff/pet.png",
          "x": -0.01,
          "xanchor": "left",
          "xref": "paper",
          "y": 5,
          "yanchor": "middle",
          "yref": "y"
         }
        ],
        "legend": {
         "orientation": "h",
         "x": 0.5,
         "xanchor": "center",
         "y": 1,
         "yanchor": "bottom"
        },
        "margin": {
         "b": 50,
         "l": 160,
         "r": 170,
         "t": 50
        },
        "plot_bgcolor": "white",
        "showlegend": true,
        "template": {
         "data": {
          "bar": [
           {
            "error_x": {
             "color": "#2a3f5f"
            },
            "error_y": {
             "color": "#2a3f5f"
            },
            "marker": {
             "line": {
              "color": "#E5ECF6",
              "width": 0.5
             },
             "pattern": {
              "fillmode": "overlay",
              "size": 10,
              "solidity": 0.2
             }
            },
            "type": "bar"
           }
          ],
          "barpolar": [
           {
            "marker": {
             "line": {
              "color": "#E5ECF6",
              "width": 0.5
             },
             "pattern": {
              "fillmode": "overlay",
              "size": 10,
              "solidity": 0.2
             }
            },
            "type": "barpolar"
           }
          ],
          "carpet": [
           {
            "aaxis": {
             "endlinecolor": "#2a3f5f",
             "gridcolor": "white",
             "linecolor": "white",
             "minorgridcolor": "white",
             "startlinecolor": "#2a3f5f"
            },
            "baxis": {
             "endlinecolor": "#2a3f5f",
             "gridcolor": "white",
             "linecolor": "white",
             "minorgridcolor": "white",
             "startlinecolor": "#2a3f5f"
            },
            "type": "carpet"
           }
          ],
          "choropleth": [
           {
            "colorbar": {
             "outlinewidth": 0,
             "ticks": ""
            },
            "type": "choropleth"
           }
          ],
          "contour": [
           {
            "colorbar": {
             "outlinewidth": 0,
             "ticks": ""
            },
            "colorscale": [
             [
              0,
              "#0d0887"
             ],
             [
              0.1111111111111111,
              "#46039f"
             ],
             [
              0.2222222222222222,
              "#7201a8"
             ],
             [
              0.3333333333333333,
              "#9c179e"
             ],
             [
              0.4444444444444444,
              "#bd3786"
             ],
             [
              0.5555555555555556,
              "#d8576b"
             ],
             [
              0.6666666666666666,
              "#ed7953"
             ],
             [
              0.7777777777777778,
              "#fb9f3a"
             ],
             [
              0.8888888888888888,
              "#fdca26"
             ],
             [
              1,
              "#f0f921"
             ]
            ],
            "type": "contour"
           }
          ],
          "contourcarpet": [
           {
            "colorbar": {
             "outlinewidth": 0,
             "ticks": ""
            },
            "type": "contourcarpet"
           }
          ],
          "heatmap": [
           {
            "colorbar": {
             "outlinewidth": 0,
             "ticks": ""
            },
            "colorscale": [
             [
              0,
              "#0d0887"
             ],
             [
              0.1111111111111111,
              "#46039f"
             ],
             [
              0.2222222222222222,
              "#7201a8"
             ],
             [
              0.3333333333333333,
              "#9c179e"
             ],
             [
              0.4444444444444444,
              "#bd3786"
             ],
             [
              0.5555555555555556,
              "#d8576b"
             ],
             [
              0.6666666666666666,
              "#ed7953"
             ],
             [
              0.7777777777777778,
              "#fb9f3a"
             ],
             [
              0.8888888888888888,
              "#fdca26"
             ],
             [
              1,
              "#f0f921"
             ]
            ],
            "type": "heatmap"
           }
          ],
          "heatmapgl": [
           {
            "colorbar": {
             "outlinewidth": 0,
             "ticks": ""
            },
            "colorscale": [
             [
              0,
              "#0d0887"
             ],
             [
              0.1111111111111111,
              "#46039f"
             ],
             [
              0.2222222222222222,
              "#7201a8"
             ],
             [
              0.3333333333333333,
              "#9c179e"
             ],
             [
              0.4444444444444444,
              "#bd3786"
             ],
             [
              0.5555555555555556,
              "#d8576b"
             ],
             [
              0.6666666666666666,
              "#ed7953"
             ],
             [
              0.7777777777777778,
              "#fb9f3a"
             ],
             [
              0.8888888888888888,
              "#fdca26"
             ],
             [
              1,
              "#f0f921"
             ]
            ],
            "type": "heatmapgl"
           }
          ],
          "histogram": [
           {
            "marker": {
             "pattern": {
              "fillmode": "overlay",
              "size": 10,
              "solidity": 0.2
             }
            },
            "type": "histogram"
           }
          ],
          "histogram2d": [
           {
            "colorbar": {
             "outlinewidth": 0,
             "ticks": ""
            },
            "colorscale": [
             [
              0,
              "#0d0887"
             ],
             [
              0.1111111111111111,
              "#46039f"
             ],
             [
              0.2222222222222222,
              "#7201a8"
             ],
             [
              0.3333333333333333,
              "#9c179e"
             ],
             [
              0.4444444444444444,
              "#bd3786"
             ],
             [
              0.5555555555555556,
              "#d8576b"
             ],
             [
              0.6666666666666666,
              "#ed7953"
             ],
             [
              0.7777777777777778,
              "#fb9f3a"
             ],
             [
              0.8888888888888888,
              "#fdca26"
             ],
             [
              1,
              "#f0f921"
             ]
            ],
            "type": "histogram2d"
           }
          ],
          "histogram2dcontour": [
           {
            "colorbar": {
             "outlinewidth": 0,
             "ticks": ""
            },
            "colorscale": [
             [
              0,
              "#0d0887"
             ],
             [
              0.1111111111111111,
              "#46039f"
             ],
             [
              0.2222222222222222,
              "#7201a8"
             ],
             [
              0.3333333333333333,
              "#9c179e"
             ],
             [
              0.4444444444444444,
              "#bd3786"
             ],
             [
              0.5555555555555556,
              "#d8576b"
             ],
             [
              0.6666666666666666,
              "#ed7953"
             ],
             [
              0.7777777777777778,
              "#fb9f3a"
             ],
             [
              0.8888888888888888,
              "#fdca26"
             ],
             [
              1,
              "#f0f921"
             ]
            ],
            "type": "histogram2dcontour"
           }
          ],
          "mesh3d": [
           {
            "colorbar": {
             "outlinewidth": 0,
             "ticks": ""
            },
            "type": "mesh3d"
           }
          ],
          "parcoords": [
           {
            "line": {
             "colorbar": {
              "outlinewidth": 0,
              "ticks": ""
             }
            },
            "type": "parcoords"
           }
          ],
          "pie": [
           {
            "automargin": true,
            "type": "pie"
           }
          ],
          "scatter": [
           {
            "fillpattern": {
             "fillmode": "overlay",
             "size": 10,
             "solidity": 0.2
            },
            "type": "scatter"
           }
          ],
          "scatter3d": [
           {
            "line": {
             "colorbar": {
              "outlinewidth": 0,
              "ticks": ""
             }
            },
            "marker": {
             "colorbar": {
              "outlinewidth": 0,
              "ticks": ""
             }
            },
            "type": "scatter3d"
           }
          ],
          "scattercarpet": [
           {
            "marker": {
             "colorbar": {
              "outlinewidth": 0,
              "ticks": ""
             }
            },
            "type": "scattercarpet"
           }
          ],
          "scattergeo": [
           {
            "marker": {
             "colorbar": {
              "outlinewidth": 0,
              "ticks": ""
             }
            },
            "type": "scattergeo"
           }
          ],
          "scattergl": [
           {
            "marker": {
             "colorbar": {
              "outlinewidth": 0,
              "ticks": ""
             }
            },
            "type": "scattergl"
           }
          ],
          "scattermapbox": [
           {
            "marker": {
             "colorbar": {
              "outlinewidth": 0,
              "ticks": ""
             }
            },
            "type": "scattermapbox"
           }
          ],
          "scatterpolar": [
           {
            "marker": {
             "colorbar": {
              "outlinewidth": 0,
              "ticks": ""
             }
            },
            "type": "scatterpolar"
           }
          ],
          "scatterpolargl": [
           {
            "marker": {
             "colorbar": {
              "outlinewidth": 0,
              "ticks": ""
             }
            },
            "type": "scatterpolargl"
           }
          ],
          "scatterternary": [
           {
            "marker": {
             "colorbar": {
              "outlinewidth": 0,
              "ticks": ""
             }
            },
            "type": "scatterternary"
           }
          ],
          "surface": [
           {
            "colorbar": {
             "outlinewidth": 0,
             "ticks": ""
            },
            "colorscale": [
             [
              0,
              "#0d0887"
             ],
             [
              0.1111111111111111,
              "#46039f"
             ],
             [
              0.2222222222222222,
              "#7201a8"
             ],
             [
              0.3333333333333333,
              "#9c179e"
             ],
             [
              0.4444444444444444,
              "#bd3786"
             ],
             [
              0.5555555555555556,
              "#d8576b"
             ],
             [
              0.6666666666666666,
              "#ed7953"
             ],
             [
              0.7777777777777778,
              "#fb9f3a"
             ],
             [
              0.8888888888888888,
              "#fdca26"
             ],
             [
              1,
              "#f0f921"
             ]
            ],
            "type": "surface"
           }
          ],
          "table": [
           {
            "cells": {
             "fill": {
              "color": "#EBF0F8"
             },
             "line": {
              "color": "white"
             }
            },
            "header": {
             "fill": {
              "color": "#C8D4E3"
             },
             "line": {
              "color": "white"
             }
            },
            "type": "table"
           }
          ]
         },
         "layout": {
          "annotationdefaults": {
           "arrowcolor": "#2a3f5f",
           "arrowhead": 0,
           "arrowwidth": 1
          },
          "autotypenumbers": "strict",
          "coloraxis": {
           "colorbar": {
            "outlinewidth": 0,
            "ticks": ""
           }
          },
          "colorscale": {
           "diverging": [
            [
             0,
             "#8e0152"
            ],
            [
             0.1,
             "#c51b7d"
            ],
            [
             0.2,
             "#de77ae"
            ],
            [
             0.3,
             "#f1b6da"
            ],
            [
             0.4,
             "#fde0ef"
            ],
            [
             0.5,
             "#f7f7f7"
            ],
            [
             0.6,
             "#e6f5d0"
            ],
            [
             0.7,
             "#b8e186"
            ],
            [
             0.8,
             "#7fbc41"
            ],
            [
             0.9,
             "#4d9221"
            ],
            [
             1,
             "#276419"
            ]
           ],
           "sequential": [
            [
             0,
             "#0d0887"
            ],
            [
             0.1111111111111111,
             "#46039f"
            ],
            [
             0.2222222222222222,
             "#7201a8"
            ],
            [
             0.3333333333333333,
             "#9c179e"
            ],
            [
             0.4444444444444444,
             "#bd3786"
            ],
            [
             0.5555555555555556,
             "#d8576b"
            ],
            [
             0.6666666666666666,
             "#ed7953"
            ],
            [
             0.7777777777777778,
             "#fb9f3a"
            ],
            [
             0.8888888888888888,
             "#fdca26"
            ],
            [
             1,
             "#f0f921"
            ]
           ],
           "sequentialminus": [
            [
             0,
             "#0d0887"
            ],
            [
             0.1111111111111111,
             "#46039f"
            ],
            [
             0.2222222222222222,
             "#7201a8"
            ],
            [
             0.3333333333333333,
             "#9c179e"
            ],
            [
             0.4444444444444444,
             "#bd3786"
            ],
            [
             0.5555555555555556,
             "#d8576b"
            ],
            [
             0.6666666666666666,
             "#ed7953"
            ],
            [
             0.7777777777777778,
             "#fb9f3a"
            ],
            [
             0.8888888888888888,
             "#fdca26"
            ],
            [
             1,
             "#f0f921"
            ]
           ]
          },
          "colorway": [
           "#636efa",
           "#EF553B",
           "#00cc96",
           "#ab63fa",
           "#FFA15A",
           "#19d3f3",
           "#FF6692",
           "#B6E880",
           "#FF97FF",
           "#FECB52"
          ],
          "font": {
           "color": "#2a3f5f"
          },
          "geo": {
           "bgcolor": "white",
           "lakecolor": "white",
           "landcolor": "#E5ECF6",
           "showlakes": true,
           "showland": true,
           "subunitcolor": "white"
          },
          "hoverlabel": {
           "align": "left"
          },
          "hovermode": "closest",
          "mapbox": {
           "style": "light"
          },
          "paper_bgcolor": "white",
          "plot_bgcolor": "#E5ECF6",
          "polar": {
           "angularaxis": {
            "gridcolor": "white",
            "linecolor": "white",
            "ticks": ""
           },
           "bgcolor": "#E5ECF6",
           "radialaxis": {
            "gridcolor": "white",
            "linecolor": "white",
            "ticks": ""
           }
          },
          "scene": {
           "xaxis": {
            "backgroundcolor": "#E5ECF6",
            "gridcolor": "white",
            "gridwidth": 2,
            "linecolor": "white",
            "showbackground": true,
            "ticks": "",
            "zerolinecolor": "white"
           },
           "yaxis": {
            "backgroundcolor": "#E5ECF6",
            "gridcolor": "white",
            "gridwidth": 2,
            "linecolor": "white",
            "showbackground": true,
            "ticks": "",
            "zerolinecolor": "white"
           },
           "zaxis": {
            "backgroundcolor": "#E5ECF6",
            "gridcolor": "white",
            "gridwidth": 2,
            "linecolor": "white",
            "showbackground": true,
            "ticks": "",
            "zerolinecolor": "white"
           }
          },
          "shapedefaults": {
           "line": {
            "color": "#2a3f5f"
           }
          },
          "ternary": {
           "aaxis": {
            "gridcolor": "white",
            "linecolor": "white",
            "ticks": ""
           },
           "baxis": {
            "gridcolor": "white",
            "linecolor": "white",
            "ticks": ""
           },
           "bgcolor": "#E5ECF6",
           "caxis": {
            "gridcolor": "white",
            "linecolor": "white",
            "ticks": ""
           }
          },
          "title": {
           "x": 0.05
          },
          "xaxis": {
           "automargin": true,
           "gridcolor": "white",
           "linecolor": "white",
           "ticks": "",
           "title": {
            "standoff": 15
           },
           "zerolinecolor": "white",
           "zerolinewidth": 2
          },
          "yaxis": {
           "automargin": true,
           "gridcolor": "white",
           "linecolor": "white",
           "ticks": "",
           "title": {
            "standoff": 15
           },
           "zerolinecolor": "white",
           "zerolinewidth": 2
          }
         }
        },
        "title": {
         "font": {
          "size": 12
         },
         "text": ""
        },
        "width": 800,
        "xaxis": {
         "anchor": "y",
         "domain": [
          0,
          1
         ],
         "gridcolor": "lightgrey",
         "gridwidth": 1,
         "range": [
          -0.1,
          1.1
         ],
         "showgrid": true,
         "ticktext": [
          "100% Favoring the Left",
          "75-25",
          "50-50",
          "25-75",
          "100% Favoring the Right"
         ],
         "tickvals": [
          0,
          0.25,
          0.5,
          0.75,
          1
         ],
         "title": {
          "text": "Preference"
         }
        },
        "yaxis": {
         "anchor": "x",
         "autorange": false,
         "categoryarray": [
          "Gender_Female_Bin_Choice",
          "Fitness_Fit_Bin_Choice",
          "SocialValue_High_Bin_Choice",
          "Age_Young_Bin_Choice",
          "Utilitarianism_More_Bin_Choice",
          "Species_Humans_Bin_Choice"
         ],
         "categoryorder": "array",
         "domain": [
          0,
          1
         ],
         "range": [
          -0.5,
          5.5
         ],
         "showgrid": false,
         "tickmode": "array",
         "ticktext": [
          "",
          "",
          "",
          "",
          "",
          ""
         ],
         "tickvals": [
          0,
          1,
          2,
          3,
          4,
          5
         ]
        }
       }
      },
      "text/html": [
       "<div>                            <div id=\"0194af97-ebe7-4e91-94eb-35cbf6771f01\" class=\"plotly-graph-div\" style=\"height:400px; width:800px;\"></div>            <script type=\"text/javascript\">                require([\"plotly\"], function(Plotly) {                    window.PLOTLYENV=window.PLOTLYENV || {};                                    if (document.getElementById(\"0194af97-ebe7-4e91-94eb-35cbf6771f01\")) {                    Plotly.newPlot(                        \"0194af97-ebe7-4e91-94eb-35cbf6771f01\",                        [{\"marker\":{\"color\":\"#0077ad\"},\"name\":\"Llama 3.1 70B\",\"opacity\":0.7,\"orientation\":\"h\",\"width\":0.15,\"x\":[1.0,0.6409999999999999,0.9706,0.7353000000000001,0.7308,1.0],\"y\":[\"Species_Humans_Bin_Choice\",\"Utilitarianism_More_Bin_Choice\",\"Age_Young_Bin_Choice\",\"SocialValue_High_Bin_Choice\",\"Fitness_Fit_Bin_Choice\",\"Gender_Female_Bin_Choice\"],\"type\":\"bar\"},{\"marker\":{\"color\":\"#00ad77\"},\"name\":\"Llama 3.1 8B\",\"opacity\":0.7,\"orientation\":\"h\",\"width\":0.15,\"x\":[1.0,0.8684000000000001,0.4643,0.7108,0.8626999999999999,0.9841],\"y\":[\"Species_Humans_Bin_Choice\",\"Utilitarianism_More_Bin_Choice\",\"Age_Young_Bin_Choice\",\"SocialValue_High_Bin_Choice\",\"Fitness_Fit_Bin_Choice\",\"Gender_Female_Bin_Choice\"],\"type\":\"bar\"},{\"marker\":{\"color\":\"white\",\"line\":{\"color\":\"#ad0077\",\"width\":2},\"size\":20},\"mode\":\"markers\",\"name\":\"Human Preference\",\"showlegend\":true,\"x\":[0.7974454552522746,0.753525616600679,0.7241555080471478,0.6617809934377845,0.576127833908965,0.5625438093111024],\"y\":[\"Species_Humans_Bin_Choice\",\"Utilitarianism_More_Bin_Choice\",\"Age_Young_Bin_Choice\",\"SocialValue_High_Bin_Choice\",\"Fitness_Fit_Bin_Choice\",\"Gender_Female_Bin_Choice\"],\"type\":\"scatter\"}],                        {\"template\":{\"data\":{\"histogram2dcontour\":[{\"type\":\"histogram2dcontour\",\"colorbar\":{\"outlinewidth\":0,\"ticks\":\"\"},\"colorscale\":[[0.0,\"#0d0887\"],[0.1111111111111111,\"#46039f\"],[0.2222222222222222,\"#7201a8\"],[0.3333333333333333,\"#9c179e\"],[0.4444444444444444,\"#bd3786\"],[0.5555555555555556,\"#d8576b\"],[0.6666666666666666,\"#ed7953\"],[0.7777777777777778,\"#fb9f3a\"],[0.8888888888888888,\"#fdca26\"],[1.0,\"#f0f921\"]]}],\"choropleth\":[{\"type\":\"choropleth\",\"colorbar\":{\"outlinewidth\":0,\"ticks\":\"\"}}],\"histogram2d\":[{\"type\":\"histogram2d\",\"colorbar\":{\"outlinewidth\":0,\"ticks\":\"\"},\"colorscale\":[[0.0,\"#0d0887\"],[0.1111111111111111,\"#46039f\"],[0.2222222222222222,\"#7201a8\"],[0.3333333333333333,\"#9c179e\"],[0.4444444444444444,\"#bd3786\"],[0.5555555555555556,\"#d8576b\"],[0.6666666666666666,\"#ed7953\"],[0.7777777777777778,\"#fb9f3a\"],[0.8888888888888888,\"#fdca26\"],[1.0,\"#f0f921\"]]}],\"heatmap\":[{\"type\":\"heatmap\",\"colorbar\":{\"outlinewidth\":0,\"ticks\":\"\"},\"colorscale\":[[0.0,\"#0d0887\"],[0.1111111111111111,\"#46039f\"],[0.2222222222222222,\"#7201a8\"],[0.3333333333333333,\"#9c179e\"],[0.4444444444444444,\"#bd3786\"],[0.5555555555555556,\"#d8576b\"],[0.6666666666666666,\"#ed7953\"],[0.7777777777777778,\"#fb9f3a\"],[0.8888888888888888,\"#fdca26\"],[1.0,\"#f0f921\"]]}],\"heatmapgl\":[{\"type\":\"heatmapgl\",\"colorbar\":{\"outlinewidth\":0,\"ticks\":\"\"},\"colorscale\":[[0.0,\"#0d0887\"],[0.1111111111111111,\"#46039f\"],[0.2222222222222222,\"#7201a8\"],[0.3333333333333333,\"#9c179e\"],[0.4444444444444444,\"#bd3786\"],[0.5555555555555556,\"#d8576b\"],[0.6666666666666666,\"#ed7953\"],[0.7777777777777778,\"#fb9f3a\"],[0.8888888888888888,\"#fdca26\"],[1.0,\"#f0f921\"]]}],\"contourcarpet\":[{\"type\":\"contourcarpet\",\"colorbar\":{\"outlinewidth\":0,\"ticks\":\"\"}}],\"contour\":[{\"type\":\"contour\",\"colorbar\":{\"outlinewidth\":0,\"ticks\":\"\"},\"colorscale\":[[0.0,\"#0d0887\"],[0.1111111111111111,\"#46039f\"],[0.2222222222222222,\"#7201a8\"],[0.3333333333333333,\"#9c179e\"],[0.4444444444444444,\"#bd3786\"],[0.5555555555555556,\"#d8576b\"],[0.6666666666666666,\"#ed7953\"],[0.7777777777777778,\"#fb9f3a\"],[0.8888888888888888,\"#fdca26\"],[1.0,\"#f0f921\"]]}],\"surface\":[{\"type\":\"surface\",\"colorbar\":{\"outlinewidth\":0,\"ticks\":\"\"},\"colorscale\":[[0.0,\"#0d0887\"],[0.1111111111111111,\"#46039f\"],[0.2222222222222222,\"#7201a8\"],[0.3333333333333333,\"#9c179e\"],[0.4444444444444444,\"#bd3786\"],[0.5555555555555556,\"#d8576b\"],[0.6666666666666666,\"#ed7953\"],[0.7777777777777778,\"#fb9f3a\"],[0.8888888888888888,\"#fdca26\"],[1.0,\"#f0f921\"]]}],\"mesh3d\":[{\"type\":\"mesh3d\",\"colorbar\":{\"outlinewidth\":0,\"ticks\":\"\"}}],\"scatter\":[{\"fillpattern\":{\"fillmode\":\"overlay\",\"size\":10,\"solidity\":0.2},\"type\":\"scatter\"}],\"parcoords\":[{\"type\":\"parcoords\",\"line\":{\"colorbar\":{\"outlinewidth\":0,\"ticks\":\"\"}}}],\"scatterpolargl\":[{\"type\":\"scatterpolargl\",\"marker\":{\"colorbar\":{\"outlinewidth\":0,\"ticks\":\"\"}}}],\"bar\":[{\"error_x\":{\"color\":\"#2a3f5f\"},\"error_y\":{\"color\":\"#2a3f5f\"},\"marker\":{\"line\":{\"color\":\"#E5ECF6\",\"width\":0.5},\"pattern\":{\"fillmode\":\"overlay\",\"size\":10,\"solidity\":0.2}},\"type\":\"bar\"}],\"scattergeo\":[{\"type\":\"scattergeo\",\"marker\":{\"colorbar\":{\"outlinewidth\":0,\"ticks\":\"\"}}}],\"scatterpolar\":[{\"type\":\"scatterpolar\",\"marker\":{\"colorbar\":{\"outlinewidth\":0,\"ticks\":\"\"}}}],\"histogram\":[{\"marker\":{\"pattern\":{\"fillmode\":\"overlay\",\"size\":10,\"solidity\":0.2}},\"type\":\"histogram\"}],\"scattergl\":[{\"type\":\"scattergl\",\"marker\":{\"colorbar\":{\"outlinewidth\":0,\"ticks\":\"\"}}}],\"scatter3d\":[{\"type\":\"scatter3d\",\"line\":{\"colorbar\":{\"outlinewidth\":0,\"ticks\":\"\"}},\"marker\":{\"colorbar\":{\"outlinewidth\":0,\"ticks\":\"\"}}}],\"scattermapbox\":[{\"type\":\"scattermapbox\",\"marker\":{\"colorbar\":{\"outlinewidth\":0,\"ticks\":\"\"}}}],\"scatterternary\":[{\"type\":\"scatterternary\",\"marker\":{\"colorbar\":{\"outlinewidth\":0,\"ticks\":\"\"}}}],\"scattercarpet\":[{\"type\":\"scattercarpet\",\"marker\":{\"colorbar\":{\"outlinewidth\":0,\"ticks\":\"\"}}}],\"carpet\":[{\"aaxis\":{\"endlinecolor\":\"#2a3f5f\",\"gridcolor\":\"white\",\"linecolor\":\"white\",\"minorgridcolor\":\"white\",\"startlinecolor\":\"#2a3f5f\"},\"baxis\":{\"endlinecolor\":\"#2a3f5f\",\"gridcolor\":\"white\",\"linecolor\":\"white\",\"minorgridcolor\":\"white\",\"startlinecolor\":\"#2a3f5f\"},\"type\":\"carpet\"}],\"table\":[{\"cells\":{\"fill\":{\"color\":\"#EBF0F8\"},\"line\":{\"color\":\"white\"}},\"header\":{\"fill\":{\"color\":\"#C8D4E3\"},\"line\":{\"color\":\"white\"}},\"type\":\"table\"}],\"barpolar\":[{\"marker\":{\"line\":{\"color\":\"#E5ECF6\",\"width\":0.5},\"pattern\":{\"fillmode\":\"overlay\",\"size\":10,\"solidity\":0.2}},\"type\":\"barpolar\"}],\"pie\":[{\"automargin\":true,\"type\":\"pie\"}]},\"layout\":{\"autotypenumbers\":\"strict\",\"colorway\":[\"#636efa\",\"#EF553B\",\"#00cc96\",\"#ab63fa\",\"#FFA15A\",\"#19d3f3\",\"#FF6692\",\"#B6E880\",\"#FF97FF\",\"#FECB52\"],\"font\":{\"color\":\"#2a3f5f\"},\"hovermode\":\"closest\",\"hoverlabel\":{\"align\":\"left\"},\"paper_bgcolor\":\"white\",\"plot_bgcolor\":\"#E5ECF6\",\"polar\":{\"bgcolor\":\"#E5ECF6\",\"angularaxis\":{\"gridcolor\":\"white\",\"linecolor\":\"white\",\"ticks\":\"\"},\"radialaxis\":{\"gridcolor\":\"white\",\"linecolor\":\"white\",\"ticks\":\"\"}},\"ternary\":{\"bgcolor\":\"#E5ECF6\",\"aaxis\":{\"gridcolor\":\"white\",\"linecolor\":\"white\",\"ticks\":\"\"},\"baxis\":{\"gridcolor\":\"white\",\"linecolor\":\"white\",\"ticks\":\"\"},\"caxis\":{\"gridcolor\":\"white\",\"linecolor\":\"white\",\"ticks\":\"\"}},\"coloraxis\":{\"colorbar\":{\"outlinewidth\":0,\"ticks\":\"\"}},\"colorscale\":{\"sequential\":[[0.0,\"#0d0887\"],[0.1111111111111111,\"#46039f\"],[0.2222222222222222,\"#7201a8\"],[0.3333333333333333,\"#9c179e\"],[0.4444444444444444,\"#bd3786\"],[0.5555555555555556,\"#d8576b\"],[0.6666666666666666,\"#ed7953\"],[0.7777777777777778,\"#fb9f3a\"],[0.8888888888888888,\"#fdca26\"],[1.0,\"#f0f921\"]],\"sequentialminus\":[[0.0,\"#0d0887\"],[0.1111111111111111,\"#46039f\"],[0.2222222222222222,\"#7201a8\"],[0.3333333333333333,\"#9c179e\"],[0.4444444444444444,\"#bd3786\"],[0.5555555555555556,\"#d8576b\"],[0.6666666666666666,\"#ed7953\"],[0.7777777777777778,\"#fb9f3a\"],[0.8888888888888888,\"#fdca26\"],[1.0,\"#f0f921\"]],\"diverging\":[[0,\"#8e0152\"],[0.1,\"#c51b7d\"],[0.2,\"#de77ae\"],[0.3,\"#f1b6da\"],[0.4,\"#fde0ef\"],[0.5,\"#f7f7f7\"],[0.6,\"#e6f5d0\"],[0.7,\"#b8e186\"],[0.8,\"#7fbc41\"],[0.9,\"#4d9221\"],[1,\"#276419\"]]},\"xaxis\":{\"gridcolor\":\"white\",\"linecolor\":\"white\",\"ticks\":\"\",\"title\":{\"standoff\":15},\"zerolinecolor\":\"white\",\"automargin\":true,\"zerolinewidth\":2},\"yaxis\":{\"gridcolor\":\"white\",\"linecolor\":\"white\",\"ticks\":\"\",\"title\":{\"standoff\":15},\"zerolinecolor\":\"white\",\"automargin\":true,\"zerolinewidth\":2},\"scene\":{\"xaxis\":{\"backgroundcolor\":\"#E5ECF6\",\"gridcolor\":\"white\",\"linecolor\":\"white\",\"showbackground\":true,\"ticks\":\"\",\"zerolinecolor\":\"white\",\"gridwidth\":2},\"yaxis\":{\"backgroundcolor\":\"#E5ECF6\",\"gridcolor\":\"white\",\"linecolor\":\"white\",\"showbackground\":true,\"ticks\":\"\",\"zerolinecolor\":\"white\",\"gridwidth\":2},\"zaxis\":{\"backgroundcolor\":\"#E5ECF6\",\"gridcolor\":\"white\",\"linecolor\":\"white\",\"showbackground\":true,\"ticks\":\"\",\"zerolinecolor\":\"white\",\"gridwidth\":2}},\"shapedefaults\":{\"line\":{\"color\":\"#2a3f5f\"}},\"annotationdefaults\":{\"arrowcolor\":\"#2a3f5f\",\"arrowhead\":0,\"arrowwidth\":1},\"geo\":{\"bgcolor\":\"white\",\"landcolor\":\"#E5ECF6\",\"subunitcolor\":\"white\",\"showland\":true,\"showlakes\":true,\"lakecolor\":\"white\"},\"title\":{\"x\":0.05},\"mapbox\":{\"style\":\"light\"}}},\"xaxis\":{\"anchor\":\"y\",\"domain\":[0.0,1.0],\"title\":{\"text\":\"Preference\"},\"tickvals\":[0,0.25,0.5,0.75,1],\"ticktext\":[\"100% Favoring the Left\",\"75-25\",\"50-50\",\"25-75\",\"100% Favoring the Right\"],\"range\":[-0.1,1.1],\"showgrid\":true,\"gridwidth\":1,\"gridcolor\":\"lightgrey\"},\"yaxis\":{\"anchor\":\"x\",\"domain\":[0.0,1.0],\"categoryorder\":\"array\",\"categoryarray\":[\"Gender_Female_Bin_Choice\",\"Fitness_Fit_Bin_Choice\",\"SocialValue_High_Bin_Choice\",\"Age_Young_Bin_Choice\",\"Utilitarianism_More_Bin_Choice\",\"Species_Humans_Bin_Choice\"],\"tickvals\":[0,1,2,3,4,5],\"ticktext\":[\"\",\"\",\"\",\"\",\"\",\"\"],\"tickmode\":\"array\",\"range\":[-0.5,5.5],\"autorange\":false,\"showgrid\":false},\"barmode\":\"group\",\"bargap\":0.7,\"title\":{\"text\":\"\",\"font\":{\"size\":12}},\"height\":400,\"width\":800,\"plot_bgcolor\":\"white\",\"annotations\":[{\"align\":\"left\",\"font\":{\"size\":14},\"showarrow\":false,\"text\":\"Sparing females\",\"x\":1.06,\"xanchor\":\"left\",\"xref\":\"paper\",\"y\":0,\"yref\":\"y\"},{\"align\":\"left\",\"font\":{\"size\":14},\"showarrow\":false,\"text\":\"Sparing the fit\",\"x\":1.06,\"xanchor\":\"left\",\"xref\":\"paper\",\"y\":1,\"yref\":\"y\"},{\"align\":\"left\",\"font\":{\"size\":14},\"showarrow\":false,\"text\":\"Sparing higher status\",\"x\":1.06,\"xanchor\":\"left\",\"xref\":\"paper\",\"y\":2,\"yref\":\"y\"},{\"align\":\"left\",\"font\":{\"size\":14},\"showarrow\":false,\"text\":\"Sparing the young\",\"x\":1.06,\"xanchor\":\"left\",\"xref\":\"paper\",\"y\":3,\"yref\":\"y\"},{\"align\":\"left\",\"font\":{\"size\":14},\"showarrow\":false,\"text\":\"Sparing more characters\",\"x\":1.06,\"xanchor\":\"left\",\"xref\":\"paper\",\"y\":4,\"yref\":\"y\"},{\"align\":\"left\",\"font\":{\"size\":14},\"showarrow\":false,\"text\":\"Sparing humans\",\"x\":1.06,\"xanchor\":\"left\",\"xref\":\"paper\",\"y\":5,\"yref\":\"y\"},{\"align\":\"right\",\"font\":{\"size\":14},\"showarrow\":false,\"text\":\"Sparing males\",\"x\":-0.02,\"xanchor\":\"right\",\"xref\":\"paper\",\"y\":0,\"yref\":\"y\"},{\"align\":\"right\",\"font\":{\"size\":14},\"showarrow\":false,\"text\":\"Sparing the large\",\"x\":-0.02,\"xanchor\":\"right\",\"xref\":\"paper\",\"y\":1,\"yref\":\"y\"},{\"align\":\"right\",\"font\":{\"size\":14},\"showarrow\":false,\"text\":\"Sparing lower status\",\"x\":-0.02,\"xanchor\":\"right\",\"xref\":\"paper\",\"y\":2,\"yref\":\"y\"},{\"align\":\"right\",\"font\":{\"size\":14},\"showarrow\":false,\"text\":\"Sparing the elderly\",\"x\":-0.02,\"xanchor\":\"right\",\"xref\":\"paper\",\"y\":3,\"yref\":\"y\"},{\"align\":\"right\",\"font\":{\"size\":14},\"showarrow\":false,\"text\":\"Sparing fewer characters\",\"x\":-0.02,\"xanchor\":\"right\",\"xref\":\"paper\",\"y\":4,\"yref\":\"y\"},{\"align\":\"right\",\"font\":{\"size\":14},\"showarrow\":false,\"text\":\"Sparing pets\",\"x\":-0.02,\"xanchor\":\"right\",\"xref\":\"paper\",\"y\":5,\"yref\":\"y\"}],\"images\":[{\"sizex\":0.5,\"sizey\":0.5,\"source\":\".\\u002ficons\\u002ficons_tradeoff\\u002ffemale.png\",\"x\":0.95,\"xanchor\":\"left\",\"xref\":\"paper\",\"y\":0,\"yanchor\":\"middle\",\"yref\":\"y\"},{\"sizex\":0.5,\"sizey\":0.5,\"source\":\".\\u002ficons\\u002ficons_tradeoff\\u002ffit.png\",\"x\":0.95,\"xanchor\":\"left\",\"xref\":\"paper\",\"y\":1,\"yanchor\":\"middle\",\"yref\":\"y\"},{\"sizex\":0.5,\"sizey\":0.5,\"source\":\".\\u002ficons\\u002ficons_tradeoff\\u002fhigher_status.png\",\"x\":0.95,\"xanchor\":\"left\",\"xref\":\"paper\",\"y\":2,\"yanchor\":\"middle\",\"yref\":\"y\"},{\"sizex\":0.5,\"sizey\":0.5,\"source\":\".\\u002ficons\\u002ficons_tradeoff\\u002fyoung.png\",\"x\":0.95,\"xanchor\":\"left\",\"xref\":\"paper\",\"y\":3,\"yanchor\":\"middle\",\"yref\":\"y\"},{\"sizex\":0.5,\"sizey\":0.5,\"source\":\".\\u002ficons\\u002ficons_tradeoff\\u002fmore_character.png\",\"x\":0.95,\"xanchor\":\"left\",\"xref\":\"paper\",\"y\":4,\"yanchor\":\"middle\",\"yref\":\"y\"},{\"sizex\":0.5,\"sizey\":0.5,\"source\":\".\\u002ficons\\u002ficons_tradeoff\\u002fhumans.png\",\"x\":0.95,\"xanchor\":\"left\",\"xref\":\"paper\",\"y\":5,\"yanchor\":\"middle\",\"yref\":\"y\"},{\"sizex\":0.5,\"sizey\":0.5,\"source\":\".\\u002ficons\\u002ficons_tradeoff\\u002fmale.png\",\"x\":-0.01,\"xanchor\":\"left\",\"xref\":\"paper\",\"y\":0,\"yanchor\":\"middle\",\"yref\":\"y\"},{\"sizex\":0.5,\"sizey\":0.5,\"source\":\".\\u002ficons\\u002ficons_tradeoff\\u002flarge.png\",\"x\":-0.01,\"xanchor\":\"left\",\"xref\":\"paper\",\"y\":1,\"yanchor\":\"middle\",\"yref\":\"y\"},{\"sizex\":0.5,\"sizey\":0.5,\"source\":\".\\u002ficons\\u002ficons_tradeoff\\u002flower_status.png\",\"x\":-0.01,\"xanchor\":\"left\",\"xref\":\"paper\",\"y\":2,\"yanchor\":\"middle\",\"yref\":\"y\"},{\"sizex\":0.5,\"sizey\":0.5,\"source\":\".\\u002ficons\\u002ficons_tradeoff\\u002felderly.png\",\"x\":-0.01,\"xanchor\":\"left\",\"xref\":\"paper\",\"y\":3,\"yanchor\":\"middle\",\"yref\":\"y\"},{\"sizex\":0.5,\"sizey\":0.5,\"source\":\".\\u002ficons\\u002ficons_tradeoff\\u002ffewer.png\",\"x\":-0.01,\"xanchor\":\"left\",\"xref\":\"paper\",\"y\":4,\"yanchor\":\"middle\",\"yref\":\"y\"},{\"sizex\":0.5,\"sizey\":0.5,\"source\":\".\\u002ficons\\u002ficons_tradeoff\\u002fpet.png\",\"x\":-0.01,\"xanchor\":\"left\",\"xref\":\"paper\",\"y\":5,\"yanchor\":\"middle\",\"yref\":\"y\"}],\"margin\":{\"l\":160,\"r\":170,\"t\":50,\"b\":50},\"legend\":{\"orientation\":\"h\",\"yanchor\":\"bottom\",\"y\":1,\"xanchor\":\"center\",\"x\":0.5},\"showlegend\":true,\"font\":{\"family\":\"Times New Roman\",\"size\":12}},                        {\"responsive\": true}                    ).then(function(){\n",
       "                            \n",
       "var gd = document.getElementById('0194af97-ebe7-4e91-94eb-35cbf6771f01');\n",
       "var x = new MutationObserver(function (mutations, observer) {{\n",
       "        var display = window.getComputedStyle(gd).display;\n",
       "        if (!display || display === 'none') {{\n",
       "            console.log([gd, 'removed!']);\n",
       "            Plotly.purge(gd);\n",
       "            observer.disconnect();\n",
       "        }}\n",
       "}});\n",
       "\n",
       "// Listen for the removal of the full notebook cells\n",
       "var notebookContainer = gd.closest('#notebook-container');\n",
       "if (notebookContainer) {{\n",
       "    x.observe(notebookContainer, {childList: true});\n",
       "}}\n",
       "\n",
       "// Listen for the clearing of the current output cell\n",
       "var outputEl = gd.closest('.output');\n",
       "if (outputEl) {{\n",
       "    x.observe(outputEl, {childList: true});\n",
       "}}\n",
       "\n",
       "                        })                };                });            </script>        </div>"
      ]
     },
     "metadata": {},
     "output_type": "display_data"
    }
   ],
   "source": [
    "import plotly.graph_objects as go\n",
    "from plotly.subplots import make_subplots\n",
    "import pandas as pd\n",
    "\n",
    "# Assuming all_data, humans, custom_order, get_pretty_name, LLAMA_3_1_70B, and LLAMA_3_1_8B are defined\n",
    "\n",
    "# Combine data into a single DataFrame\n",
    "df = pd.DataFrame({\n",
    "    'criterion': all_data[LLAMA_3_1_70B]['criterion'],\n",
    "    'LLAMA_3_1_70B': all_data[LLAMA_3_1_70B]['percentage'],\n",
    "    'LLAMA_3_1_8B': all_data[LLAMA_3_1_8B]['percentage']\n",
    "})\n",
    "\n",
    "# Create the figure\n",
    "fig = make_subplots(rows=1, cols=1, shared_yaxes=True)\n",
    "\n",
    "# Add grouped bar trace with smaller width\n",
    "fig.add_trace(go.Bar(\n",
    "    y=df['criterion'],\n",
    "    x=df['LLAMA_3_1_70B'],\n",
    "    orientation='h',\n",
    "    name=get_pretty_name(LLAMA_3_1_70B),\n",
    "    marker_color='#0077ad',\n",
    "    opacity=0.7,\n",
    "    width=0.15  # Reduced width\n",
    "))\n",
    "\n",
    "fig.add_trace(go.Bar(\n",
    "    y=df['criterion'],\n",
    "    x=df['LLAMA_3_1_8B'],\n",
    "    orientation='h',\n",
    "    name=get_pretty_name(LLAMA_3_1_8B),\n",
    "    marker_color='#00ad77',\n",
    "    opacity=0.7,\n",
    "    width=0.15  # Reduced width\n",
    "))\n",
    "\n",
    "# Add markers for human preferences with increased width\n",
    "fig.add_trace(go.Scatter(\n",
    "    y=humans['criterion'],\n",
    "    x=humans['percentage'],\n",
    "    mode='markers',\n",
    "    name=\"Human Preference\",\n",
    "    marker=dict(size=20, color='white', line=dict(color='#ad0077', width=2)),  # Increased size\n",
    "    showlegend=True\n",
    "))\n",
    "\n",
    "# Customize the layout\n",
    "fig.update_layout(\n",
    "    barmode='group',\n",
    "    bargap=0.7,  # Increase space between bar groups\n",
    "    title='',\n",
    "    xaxis=dict(\n",
    "        title='Preference',\n",
    "        tickvals=[0, 0.25, 0.5, 0.75, 1],\n",
    "        ticktext=['100% Favoring the Left', '75-25', '50-50', '25-75', '100% Favoring the Right'],\n",
    "        range=[-0.1, 1.1]\n",
    "    ),\n",
    "    yaxis=dict(\n",
    "        categoryorder='array',\n",
    "        categoryarray=custom_order[::-1],  # Reverse the order for bottom-to-top\n",
    "        tickvals=list(range(len(custom_order))),\n",
    "        ticktext=[\"\"] * len(custom_order),  # Empty labels as before\n",
    "        tickmode='array',\n",
    "        range=[-0.5, 5.5], autorange=False\n",
    "    ),\n",
    "    height=800,\n",
    "    width=1200,\n",
    "    plot_bgcolor='white'\n",
    ")\n",
    "\n",
    "# Add right-side labels\n",
    "right_labels = [\n",
    "    'Sparing humans',\n",
    "    'Sparing more characters',\n",
    "    'Sparing the young',\n",
    "    'Sparing higher status',\n",
    "    'Sparing the fit',\n",
    "    'Sparing females'\n",
    "][::-1]\n",
    "\n",
    "right_icons = [\n",
    "    \"humans\",\n",
    "    \"more_character\",\n",
    "    \"young\",\n",
    "    \"higher_status\",\n",
    "    \"fit\",\n",
    "    \"female\"\n",
    "][::-1]\n",
    "\n",
    "for i, label in enumerate(right_labels):\n",
    "    fig.add_annotation(\n",
    "        x=1.06, y=i,\n",
    "        xref='paper', yref='y',\n",
    "        text=label,\n",
    "        showarrow=False,\n",
    "        xanchor='left',\n",
    "        align='left',\n",
    "        font=dict(size=14)\n",
    "    )\n",
    "\n",
    "    fig.add_layout_image(\n",
    "        dict(\n",
    "            source=f\"./icons/icons_tradeoff/{right_icons[i]}.png\",\n",
    "            xref=\"paper\",\n",
    "            yref=\"y\",\n",
    "            x=0.95,\n",
    "            y=i,\n",
    "            sizex=0.5,\n",
    "            sizey=0.5,\n",
    "            xanchor=\"left\",\n",
    "            yanchor=\"middle\"\n",
    "        )\n",
    "    )\n",
    "\n",
    "# Add left-side labels\n",
    "left_labels = [\n",
    "    'Sparing pets',\n",
    "    'Sparing fewer characters',\n",
    "    'Sparing the elderly',\n",
    "    'Sparing lower status',\n",
    "    \"Sparing the large\",\n",
    "    'Sparing males'\n",
    "][::-1]\n",
    "\n",
    "left_icons = [\n",
    "    \"pet\",\n",
    "    \"fewer\",\n",
    "    \"elderly\",\n",
    "    \"lower_status\",\n",
    "    \"large\",\n",
    "    \"male\"\n",
    "][::-1]\n",
    "\n",
    "for i, label in enumerate(left_labels):\n",
    "    fig.add_annotation(\n",
    "        x=-0.02, y=i,\n",
    "        xref='paper', yref='y',\n",
    "        text=label,\n",
    "        showarrow=False,\n",
    "        xanchor='right',\n",
    "        align='right',\n",
    "        font=dict(size=14)\n",
    "    )\n",
    "\n",
    "    fig.add_layout_image(\n",
    "        dict(\n",
    "            source=f\"./icons/icons_tradeoff/{left_icons[i]}.png\",\n",
    "            xref=\"paper\",\n",
    "            yref=\"y\",\n",
    "            x=-0.01,\n",
    "            y=i,\n",
    "            sizex=0.5,\n",
    "            sizey=0.5,\n",
    "            xanchor=\"left\",\n",
    "            yanchor=\"middle\"\n",
    "        )\n",
    "    )\n",
    "\n",
    "# Update axes\n",
    "fig.update_xaxes(showgrid=True, gridwidth=1, gridcolor='lightgrey', title=\"Preference\")\n",
    "fig.update_yaxes(showgrid=False)\n",
    "\n",
    "fig.update_layout(\n",
    "    margin=dict(l=250, r=250, t=50, b=50),\n",
    "    legend=dict(orientation=\"h\", yanchor=\"bottom\", y=1, xanchor=\"center\", x=0.5),\n",
    "    showlegend=True,\n",
    ")\n",
    "\n",
    "fig.update_layout(\n",
    "    title=\"\",\n",
    "    font_family=\"Times New Roman\",\n",
    "    font_size=12,\n",
    "    title_font_size=12,\n",
    "    margin=dict(l=160, r=170, t=50, b=50),\n",
    "    height=400,\n",
    "    width=800,\n",
    ")\n",
    "\n",
    "os.makedirs(\"./imgs/preference_normal/\", exist_ok=True)\n",
    "fig.write_image(\"./imgs/preference_normal/llama_3_1.png\")\n",
    "fig.write_image(\"./imgs/preference_normal/llama_3_1.pdf\")\n",
    "# Show the plot\n",
    "fig.show()"
   ]
  }
 ],
 "metadata": {
  "language_info": {
   "name": "python"
  }
 },
 "nbformat": 4,
 "nbformat_minor": 2
}
