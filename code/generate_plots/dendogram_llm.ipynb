{
 "cells": [
  {
   "cell_type": "markdown",
   "id": "2ebf25fc-12bd-4e9e-b1c9-890fe94ea1c9",
   "metadata": {},
   "source": [
    "## Code to plot dendogram.\n",
    "### This script generates the csv file with the structure. Then the csv is used by the html file\n",
    "### The coloring of the clusters has to be set manually according to the resulting clusters, the names and structure of the clusters changes when the data change\n",
    "### the code was taken from the moral machine project https://osf.io/3hvt2/?view_only=4bb49492edee4a8eb1758552a362a2cf"
   ]
  },
  {
   "cell_type": "code",
   "execution_count": 1,
   "id": "832d8c1b-43b0-4440-a787-7e592affb00e",
   "metadata": {
    "tags": []
   },
   "outputs": [],
   "source": [
    "import numpy as np\n",
    "import pandas as pd\n",
    "import matplotlib.pyplot as plt\n",
    "import seaborn as sns\n",
    "\n",
    "import matplotlib.font_manager as fm\n",
    "from scipy.cluster import hierarchy as hch\n",
    "import matplotlib.patches as mpatches\n",
    "\n"
   ]
  },
  {
   "cell_type": "code",
   "execution_count": 2,
   "id": "09256071-12e9-43ee-a65e-dbc131d7326f",
   "metadata": {
    "tags": []
   },
   "outputs": [],
   "source": [
    "\n",
    "def vectorize(df,col_start):\n",
    "    \"\"\"\n",
    "        Returns N x F Numpy Array representing F dimensions of ACME values\n",
    "        of N Countries.\n",
    "\n",
    "        Input: Pandas DataFrame\n",
    "\n",
    "        Output: Numpy Array\n",
    "    \"\"\"\n",
    "\n",
    "    X = df.values[:, col_start:].astype(float)\n",
    "\n",
    "    #Normalize Values\n",
    "    X = (X - np.mean(X, axis=0)) / np.std(X, axis=0)\n",
    "\n",
    "    return X\n",
    "\n",
    "\n",
    "def create_d3_dendogram(df, leaf_color=None, save_csv=True,col_start=1):\n",
    "    \"\"\"\n",
    "        Returns schema for D3 Radial Dendrogram Plot\n",
    "    \"\"\"\n",
    "    prefs = df.columns[col_start:]\n",
    "    X = vectorize(df,col_start)\n",
    "    Z = hch.linkage(X, method='ward')\n",
    "    #print(len(Z))\n",
    "    rootnode, node_list = hch.to_tree(Z, rd=True)\n",
    "    N = len(node_list) - 1\n",
    "    #print(N)\n",
    "    geneology = dict()\n",
    "    node_hierarchy = list()\n",
    "    node_culture = list()\n",
    "    node_continent = list()\n",
    "    for node in node_list[::-1]:\n",
    "        id_ = N - node.id\n",
    "        if id_ == 0:\n",
    "            geneology[id_] = str(id_)\n",
    "\n",
    "        if id_ not in geneology:\n",
    "            for node2 in node_list:\n",
    "                if (node2.count != 1):\n",
    "                    if (node.id == node2.left.id) or (node.id == node2.right.id):\n",
    "                        id2 = N - node2.id\n",
    "                        if (node.dist == 0) & (node.right is None) & (node.left is None):\n",
    "                            #print(node.right)\n",
    "                            #print(node.left)\n",
    "                            #print(node.id)\n",
    "                            row = df.iloc[node.id]\n",
    "                            lang_name = row[\"name\"]\n",
    "                            geneology[id_] = geneology[id2] + \".\" + lang_name\n",
    "                        else:\n",
    "                            geneology[id_] = geneology[id2] + \".\" + str(id_)\n",
    "                        break\n",
    "\n",
    "        hierarchy = geneology[id_]\n",
    "        #print(hierarchy)\n",
    "        if (node.dist == 0) & (node.right is None) & (node.left is None):\n",
    "            \n",
    "            row = df.iloc[node.id]\n",
    "            family = row[\"family\"]\n",
    "            language = row[\"name\"]\n",
    "            node_hierarchy.append([hierarchy, family, language])\n",
    "        else:\n",
    "            node_hierarchy.append([hierarchy, None, None])\n",
    "\n",
    "    d3_dendo_tree_df = pd.DataFrame(node_hierarchy)\n",
    "    d3_dendo_tree_df.columns = [\"id\", \"family\", \"language\"]\n",
    "\n",
    "    if save_csv:\n",
    "        if leaf_color:\n",
    "            d3_dendo_tree_df.to_csv('data/dendrogram_llm_{}.csv'.format(leaf_color))\n",
    "        else:\n",
    "            d3_dendo_tree_df.to_csv('dendrogram_llm.csv')\n",
    "\n",
    "    return d3_dendo_tree_df\n",
    "\n"
   ]
  },
  {
   "cell_type": "markdown",
   "id": "ff818a60-5922-46de-80cf-3e1bdbb93a6e",
   "metadata": {},
   "source": [
    "## read file and drop incomplete rows "
   ]
  },
  {
   "cell_type": "code",
   "execution_count": 3,
   "id": "fe7e37e1-bc72-4ae4-bd16-ddc0a68688f1",
   "metadata": {
    "tags": []
   },
   "outputs": [],
   "source": [
    "df = pd.read_csv(\"./cluster_data/model_preferences_by_lang_gpt4.csv\")\n",
    "\n",
    "mask = df.apply(lambda x: x.astype(str).str.contains('---')).any()\n",
    "\n",
    "df = df.drop(columns=mask[mask].index)\n",
    "\n",
    "df=df.set_index('criterion')\n",
    "\n",
    "df=df.T.reset_index()\n",
    "\n",
    "df=df.rename(columns={'index':'lang'})\n",
    "\n",
    "df.iloc[:,1:]=df.iloc[:,1:].astype(float)\n",
    "\n",
    "df=df.loc[~((df['Species_Humans']==0) & (df['Age_Young']==0) & (df['Fitness_Fit']==0) & (df['Gender_Female']==0) & (df['SocialValue_High']==0)& (df['Utilitarianism_More']==0))].reset_index(drop=True)"
   ]
  },
  {
   "cell_type": "markdown",
   "id": "cbee809b-2dbe-4202-b93f-14d05648e642",
   "metadata": {},
   "source": [
    "## merge with family names which will give the color"
   ]
  },
  {
   "cell_type": "code",
   "execution_count": 4,
   "id": "37702944-ef4f-4444-8fee-e786b1351a93",
   "metadata": {
    "tags": []
   },
   "outputs": [],
   "source": [
    "family=pd.read_csv(\"./cluster_data/lang_track_progress_family.csv\")\n",
    "\n",
    "family=family.loc[:,['family','name','lang']]\n",
    "\n",
    "family.name=family.name.str.replace(\"Modern Greek \\(1453-\\)\",\"Modern Greek\",regex=True)\n",
    "\n",
    "family.name=family.name.str.replace(\"Traditional\",\"Trad\",regex=True)\n",
    "family.name=family.name.str.replace(\"Simplified\",\"Simp\",regex=True)\n",
    "\n",
    "df=df.merge(family,on=['lang'])"
   ]
  },
  {
   "cell_type": "code",
   "execution_count": 5,
   "id": "93f91a39-ef3e-4bec-a040-bc6fb063cbae",
   "metadata": {
    "tags": []
   },
   "outputs": [],
   "source": [
    "df=df.loc[:,['lang', 'family', 'name', 'Species_Humans', 'Age_Young', 'Fitness_Fit', 'Gender_Female',\n",
    "       'SocialValue_High', 'Utilitarianism_More']]"
   ]
  },
  {
   "cell_type": "code",
   "execution_count": 6,
   "id": "2b8d84bf-64e6-4549-a674-07a4d1207d48",
   "metadata": {
    "tags": []
   },
   "outputs": [],
   "source": [
    "df=df.drop_duplicates(subset='name').reset_index(drop=True)"
   ]
  },
  {
   "cell_type": "markdown",
   "id": "62f1fe69-9d60-4ec4-b1d4-72636c722c71",
   "metadata": {
    "tags": []
   },
   "source": [
    "df.to_csv(\"dendogram_df_gpt.csv\",index=False)"
   ]
  },
  {
   "cell_type": "code",
   "execution_count": 7,
   "id": "d6a22427-2b96-4d9e-b932-fee118dcf312",
   "metadata": {
    "tags": []
   },
   "outputs": [],
   "source": [
    "den=create_d3_dendogram(df, leaf_color=\"family\",col_start=3)"
   ]
  },
  {
   "cell_type": "markdown",
   "id": "1f5e525e-1f9e-4b3a-9913-42e5beb4be5d",
   "metadata": {},
   "source": [
    "## Exploration of the clusters because they are mannually entered in the javascript plot"
   ]
  },
  {
   "cell_type": "code",
   "execution_count": 9,
   "id": "b8575ead-dca6-4fd9-bb1e-3bb6dae46d28",
   "metadata": {
    "tags": []
   },
   "outputs": [],
   "source": [
    "den['clus']=den.id.str[:7]"
   ]
  },
  {
   "cell_type": "code",
   "execution_count": 10,
   "id": "686c14d1-8782-453f-ae38-244e429a7175",
   "metadata": {
    "tags": []
   },
   "outputs": [
    {
     "data": {
      "text/plain": [
       "0.5.7.8    107\n",
       "0.1.3.4     29\n",
       "0.1.3.9     15\n",
       "0.5.7.3     11\n",
       "0.5.22.     10\n",
       "0.1.2.2      5\n",
       "0.1.2.1      3\n",
       "0            1\n",
       "0.1          1\n",
       "0.1.2        1\n",
       "0.1.3        1\n",
       "0.5          1\n",
       "0.5.7        1\n",
       "0.5.22       1\n",
       "Name: clus, dtype: int64"
      ]
     },
     "execution_count": 10,
     "metadata": {},
     "output_type": "execute_result"
    }
   ],
   "source": [
    "den.clus.value_counts()"
   ]
  },
  {
   "cell_type": "code",
   "execution_count": 11,
   "id": "3622e55c-d7f5-4a42-80e6-32fb68a0bea1",
   "metadata": {
    "tags": []
   },
   "outputs": [],
   "source": [
    "den['clus']=den.id.str[:9]"
   ]
  },
  {
   "cell_type": "code",
   "execution_count": 12,
   "id": "304c3974-86ae-466e-a487-918d229f3808",
   "metadata": {
    "tags": []
   },
   "outputs": [
    {
     "data": {
      "text/plain": [
       "0.5.7.8.1    106\n",
       "0.1.3.4.6     21\n",
       "0.1.3.9.1     13\n",
       "0.5.7.32.     10\n",
       "0.1.3.4.1      7\n",
       "0.5.22.30      7\n",
       "0.1.2.23.      4\n",
       "0.5.22.28      3\n",
       "0.1.2.12.      2\n",
       "0.1.3.9        1\n",
       "0.5.7.8        1\n",
       "0.1            1\n",
       "0.1.2.12       1\n",
       "0.5.7          1\n",
       "0.5.22         1\n",
       "0.1.2.23       1\n",
       "0.5            1\n",
       "0.1.3.4        1\n",
       "0.5.7.32       1\n",
       "0.1.3          1\n",
       "0.1.2          1\n",
       "0.1.3.9.Y      1\n",
       "0              1\n",
       "Name: clus, dtype: int64"
      ]
     },
     "execution_count": 12,
     "metadata": {},
     "output_type": "execute_result"
    }
   ],
   "source": [
    "den.clus.value_counts()"
   ]
  },
  {
   "cell_type": "code",
   "execution_count": 13,
   "id": "8829fbda-ce98-43d3-a43b-9ee2caefaac2",
   "metadata": {
    "tags": []
   },
   "outputs": [],
   "source": [
    "den['clus']=den.id.str[:13]"
   ]
  },
  {
   "cell_type": "code",
   "execution_count": 14,
   "id": "87b7de3e-f69c-4db0-b5ff-ca0af7080081",
   "metadata": {
    "tags": []
   },
   "outputs": [
    {
     "data": {
      "text/plain": [
       "0.5.7.8.15.18    63\n",
       "0.5.7.8.15.47    19\n",
       "0.1.3.4.6.14.    16\n",
       "0.5.7.8.16.33    15\n",
       "0.1.3.9.11.29     7\n",
       "0.5.7.8.16.26     7\n",
       "0.1.3.9.11.37     5\n",
       "0.5.7.32.36.4     5\n",
       "0.1.3.4.10.13     5\n",
       "0.5.22.30.41.     4\n",
       "0.1.3.4.6.17.     2\n",
       "0.5.22.28.Zul     1\n",
       "0.5.22.30.41      1\n",
       "0.5.7.32.51       1\n",
       "0.1.2.23.91       1\n",
       "0                 1\n",
       "0.5.7.32.36       1\n",
       "0.1.2.23.91.T     1\n",
       "0.1.2.12.Push     1\n",
       "0.1.2.23.Panj     1\n",
       "0.1.2.23.91.B     1\n",
       "0.5.22.28.Mao     1\n",
       "0.1.2.12.Kirg     1\n",
       "0.5.7.32.51.C     1\n",
       "0.5.7.32.51.G     1\n",
       "0.5.7.32.36.H     1\n",
       "0.5.22.30.Haw     1\n",
       "0.1.3.9.Yiddi     1\n",
       "0.5.22.30         1\n",
       "0.5.7.32          1\n",
       "0.1.3.4.10        1\n",
       "0.1.2             1\n",
       "0.1.3             1\n",
       "0.1.3.4           1\n",
       "0.5               1\n",
       "0.1.3.4.6         1\n",
       "0.5.7             1\n",
       "0.5.7.8           1\n",
       "0.1.3.9           1\n",
       "0.1.3.9.11        1\n",
       "0.1               1\n",
       "0.1.2.12          1\n",
       "0.1.3.4.6.14      1\n",
       "0.5.7.8.15        1\n",
       "0.5.7.8.16        1\n",
       "0.1.3.4.6.17      1\n",
       "0.5.22            1\n",
       "0.1.2.23          1\n",
       "0.5.22.28         1\n",
       "0.1.3.4.10.Pe     1\n",
       "Name: clus, dtype: int64"
      ]
     },
     "execution_count": 14,
     "metadata": {},
     "output_type": "execute_result"
    }
   ],
   "source": [
    "den.clus.value_counts()"
   ]
  },
  {
   "cell_type": "code",
   "execution_count": 20,
   "id": "044394e7-cd0a-4a9b-b76d-e2c4cd0e48bf",
   "metadata": {
    "tags": []
   },
   "outputs": [
    {
     "data": {
      "text/html": [
       "<div>\n",
       "<style scoped>\n",
       "    .dataframe tbody tr th:only-of-type {\n",
       "        vertical-align: middle;\n",
       "    }\n",
       "\n",
       "    .dataframe tbody tr th {\n",
       "        vertical-align: top;\n",
       "    }\n",
       "\n",
       "    .dataframe thead th {\n",
       "        text-align: right;\n",
       "    }\n",
       "</style>\n",
       "<table border=\"1\" class=\"dataframe\">\n",
       "  <thead>\n",
       "    <tr style=\"text-align: right;\">\n",
       "      <th></th>\n",
       "      <th>id</th>\n",
       "      <th>family</th>\n",
       "      <th>language</th>\n",
       "      <th>clus</th>\n",
       "    </tr>\n",
       "  </thead>\n",
       "  <tbody>\n",
       "    <tr>\n",
       "      <th>122</th>\n",
       "      <td>0.5.7.8.15.47.59.75.86.Romanian</td>\n",
       "      <td>Indo-European</td>\n",
       "      <td>Romanian</td>\n",
       "      <td>0.5.7.8.15.47</td>\n",
       "    </tr>\n",
       "  </tbody>\n",
       "</table>\n",
       "</div>"
      ],
      "text/plain": [
       "                                  id         family  language           clus\n",
       "122  0.5.7.8.15.47.59.75.86.Romanian  Indo-European  Romanian  0.5.7.8.15.47"
      ]
     },
     "execution_count": 20,
     "metadata": {},
     "output_type": "execute_result"
    }
   ],
   "source": [
    "den.loc[den.language=='Romanian']"
   ]
  },
  {
   "cell_type": "code",
   "execution_count": null,
   "id": "03a9dc02-cf9e-4aca-9a55-96c492cf3d83",
   "metadata": {},
   "outputs": [],
   "source": []
  }
 ],
 "metadata": {
  "kernelspec": {
   "display_name": "Python 3 (ipykernel)",
   "language": "python",
   "name": "python3"
  },
  "language_info": {
   "codemirror_mode": {
    "name": "ipython",
    "version": 3
   },
   "file_extension": ".py",
   "mimetype": "text/x-python",
   "name": "python",
   "nbconvert_exporter": "python",
   "pygments_lexer": "ipython3",
   "version": "3.8.3"
  }
 },
 "nbformat": 4,
 "nbformat_minor": 5
}
