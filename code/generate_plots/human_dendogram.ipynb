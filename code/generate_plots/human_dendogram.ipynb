{
 "cells": [
  {
   "cell_type": "markdown",
   "id": "a77dc9c6-b969-4fd4-98ca-54b14e74e0ee",
   "metadata": {},
   "source": [
    "## Code to plot dendogram.\n",
    "### This script generates the csv file with the structure. Then the csv is used by the html file\n",
    "### The coloring of the clusters has to be set manually according to the resulting clusters, the names and structure of the clusters changes when the data change\n",
    "### To be able to visualize the dendogram run \"python3 -m http.server\" and open the culture_human.html file \n",
    "### the code was taken from the moral machine project https://osf.io/3hvt2/?view_only=4bb49492edee4a8eb1758552a362a2cf"
   ]
  },
  {
   "cell_type": "code",
   "execution_count": 1,
   "id": "832d8c1b-43b0-4440-a787-7e592affb00e",
   "metadata": {
    "tags": []
   },
   "outputs": [],
   "source": [
    "import numpy as np\n",
    "import pandas as pd\n",
    "import matplotlib.pyplot as plt\n",
    "import seaborn as sns\n",
    "\n",
    "import matplotlib.font_manager as fm\n",
    "from scipy.cluster import hierarchy as hch\n",
    "import matplotlib.patches as mpatches\n"
   ]
  },
  {
   "cell_type": "code",
   "execution_count": 2,
   "id": "09256071-12e9-43ee-a65e-dbc131d7326f",
   "metadata": {
    "tags": []
   },
   "outputs": [],
   "source": [
    "\n",
    "def vectorize(df,col_start):\n",
    "    \"\"\"\n",
    "        Returns N x F Numpy Array representing F dimensions of ACME values\n",
    "        of N Countries.\n",
    "\n",
    "        Input: Pandas DataFrame\n",
    "\n",
    "        Output: Numpy Array\n",
    "    \"\"\"\n",
    "\n",
    "    X = df.values[:, col_start:].astype(float)\n",
    "\n",
    "    #Normalize Values\n",
    "    X = (X - np.mean(X, axis=0)) / np.std(X, axis=0)\n",
    "\n",
    "    return X\n",
    "\n",
    "\n",
    "def create_d3_dendogram(df, leaf_color=None, save_csv=True,col_start=1):\n",
    "    \"\"\"\n",
    "        Returns schema for D3 Radial Dendrogram Plot\n",
    "    \"\"\"\n",
    "    prefs = df.columns[col_start:]\n",
    "    X = vectorize(df,col_start)\n",
    "    Z = hch.linkage(X, method='ward')\n",
    "    #print(len(Z))\n",
    "    rootnode, node_list = hch.to_tree(Z, rd=True)\n",
    "    N = len(node_list) - 1\n",
    "    #print(N)\n",
    "    geneology = dict()\n",
    "    node_hierarchy = list()\n",
    "    node_culture = list()\n",
    "    node_continent = list()\n",
    "    for node in node_list[::-1]:\n",
    "        id_ = N - node.id\n",
    "        if id_ == 0:\n",
    "            geneology[id_] = str(id_)\n",
    "\n",
    "        if id_ not in geneology:\n",
    "            for node2 in node_list:\n",
    "                if (node2.count != 1):\n",
    "                    if (node.id == node2.left.id) or (node.id == node2.right.id):\n",
    "                        id2 = N - node2.id\n",
    "                        if (node.dist == 0) & (node.right is None) & (node.left is None):\n",
    "                            #print(node.right)\n",
    "                            #print(node.left)\n",
    "                            #print(node.id)\n",
    "                            row = df.iloc[node.id]\n",
    "                            lang_name = row[\"name\"]\n",
    "                            geneology[id_] = geneology[id2] + \".\" + lang_name\n",
    "                        else:\n",
    "                            geneology[id_] = geneology[id2] + \".\" + str(id_)\n",
    "                        break\n",
    "\n",
    "        hierarchy = geneology[id_]\n",
    "        #print(hierarchy)\n",
    "        if (node.dist == 0) & (node.right is None) & (node.left is None):\n",
    "            \n",
    "            row = df.iloc[node.id]\n",
    "            family = row[\"family\"]\n",
    "            language = row[\"name\"]\n",
    "            node_hierarchy.append([hierarchy, family, language])\n",
    "        else:\n",
    "            node_hierarchy.append([hierarchy, None, None])\n",
    "\n",
    "    d3_dendo_tree_df = pd.DataFrame(node_hierarchy)\n",
    "    d3_dendo_tree_df.columns = [\"id\", \"family\", \"language\"]\n",
    "\n",
    "    if save_csv:\n",
    "        if leaf_color:\n",
    "            d3_dendo_tree_df.to_csv('./cluster_data/dendrogram_human_{}.csv'.format(leaf_color))\n",
    "        else:\n",
    "            d3_dendo_tree_df.to_csv('./cluster_data/dendrogram_human.csv')\n",
    "\n",
    "    return d3_dendo_tree_df\n",
    "\n"
   ]
  },
  {
   "cell_type": "markdown",
   "id": "c7bab01a-a53b-4c58-a3fe-63363510373c",
   "metadata": {},
   "source": [
    "## read file and drop incomplete rows "
   ]
  },
  {
   "cell_type": "code",
   "execution_count": 3,
   "id": "67bcc5c6-dd78-4d22-8c6a-6a7d2561ccb5",
   "metadata": {
    "tags": []
   },
   "outputs": [],
   "source": [
    "df = pd.read_csv(\"./cluster_data/human_preferences_by_lang_unpivoted.csv\")\n",
    "\n",
    "df=pd.pivot_table(df,values='final_est',index=['Languages'],columns=['Label']).reset_index()\n",
    "\n",
    "df=df.rename(columns={'Languages':'lang'})\n",
    "\n",
    "df.iloc[:,1:]=df.iloc[:,1:].astype(float)"
   ]
  },
  {
   "cell_type": "markdown",
   "id": "9b842529-d27d-498c-9d6b-97cd73b2d2b4",
   "metadata": {},
   "source": [
    "## merge with family names which will give the color"
   ]
  },
  {
   "cell_type": "code",
   "execution_count": 4,
   "id": "b58df3cc-417e-4506-817a-34a98b8410c9",
   "metadata": {
    "tags": []
   },
   "outputs": [],
   "source": [
    "family=pd.read_csv(\"./cluster_data/lang_track_progress_family.csv\")\n",
    "\n",
    "family=family.loc[:,['family','name','lang']]\n",
    "\n",
    "family.name=family.name.str.replace(\"Modern Greek \\(1453-\\)\",\"Modern Greek\",regex=True)\n",
    "\n",
    "family.name=family.name.str.replace(\"Traditional\",\"Trad\",regex=True)\n",
    "family.name=family.name.str.replace(\"Simplified\",\"Simp\",regex=True)\n",
    "\n",
    "df=df.merge(family,on=['lang'])\n",
    "\n"
   ]
  },
  {
   "cell_type": "code",
   "execution_count": 5,
   "id": "93f91a39-ef3e-4bec-a040-bc6fb063cbae",
   "metadata": {
    "tags": []
   },
   "outputs": [],
   "source": [
    "df=df.loc[:,['lang', 'family', 'name', 'Species', 'Age', 'Fitness', 'Gender',\n",
    "       'Social Status', 'No. Characters']]"
   ]
  },
  {
   "cell_type": "code",
   "execution_count": 6,
   "id": "4230debc-3b1a-456e-8386-dd9b7690bcf6",
   "metadata": {
    "tags": []
   },
   "outputs": [],
   "source": [
    "den=create_d3_dendogram(df, leaf_color=\"family\",col_start=3)"
   ]
  },
  {
   "cell_type": "markdown",
   "id": "99fe5beb-04ad-4eb2-b8f8-9eedfa38d560",
   "metadata": {},
   "source": [
    "## Exploration of the clusters because they are mannually entered in the javascript plot"
   ]
  },
  {
   "cell_type": "code",
   "execution_count": 7,
   "id": "b8575ead-dca6-4fd9-bb1e-3bb6dae46d28",
   "metadata": {
    "tags": []
   },
   "outputs": [],
   "source": [
    "den['clus']=den.id.str[:7]"
   ]
  },
  {
   "cell_type": "code",
   "execution_count": 8,
   "id": "4efbbcc6-d7e7-4607-aef4-e6f307f4a52b",
   "metadata": {},
   "outputs": [
    {
     "data": {
      "text/plain": [
       "clus\n",
       "0.2.3.4    85\n",
       "0.2.6.8    31\n",
       "0.1.5.7    28\n",
       "0.2.3.1     3\n",
       "0.1.10.     2\n",
       "0           1\n",
       "0.1         1\n",
       "0.2         1\n",
       "0.2.3       1\n",
       "0.1.5       1\n",
       "0.2.6       1\n",
       "0.1.10      1\n",
       "0.2.6.M     1\n",
       "Name: count, dtype: int64"
      ]
     },
     "execution_count": 8,
     "metadata": {},
     "output_type": "execute_result"
    }
   ],
   "source": [
    "den.clus.value_counts()"
   ]
  },
  {
   "cell_type": "code",
   "execution_count": 9,
   "id": "c500fe79-8172-4038-8d8f-35af0d067e28",
   "metadata": {
    "tags": []
   },
   "outputs": [],
   "source": [
    "den['clus']=den.id.str[:9]"
   ]
  },
  {
   "cell_type": "code",
   "execution_count": 10,
   "id": "50651014-e77f-400b-b5c2-9192700b68bd",
   "metadata": {
    "tags": []
   },
   "outputs": [
    {
     "data": {
      "text/plain": [
       "clus\n",
       "0.2.3.4.9    75\n",
       "0.2.6.8.1    30\n",
       "0.1.5.7.1    24\n",
       "0.2.3.4.2     9\n",
       "0.2.3.14.     2\n",
       "0.1.5.76.     2\n",
       "0             1\n",
       "0.1.10.Or     1\n",
       "0.1.10.Sh     1\n",
       "0.1.5.76      1\n",
       "0.2.3.14      1\n",
       "0.1.10        1\n",
       "0.1           1\n",
       "0.2.6.8       1\n",
       "0.1.5.7       1\n",
       "0.2.6         1\n",
       "0.1.5         1\n",
       "0.2.3.4       1\n",
       "0.2.3         1\n",
       "0.2           1\n",
       "0.2.6.Mal     1\n",
       "Name: count, dtype: int64"
      ]
     },
     "execution_count": 10,
     "metadata": {},
     "output_type": "execute_result"
    }
   ],
   "source": [
    "den.clus.value_counts()"
   ]
  },
  {
   "cell_type": "code",
   "execution_count": 12,
   "id": "ea61d66b-0c21-4c8a-9320-e06be580b998",
   "metadata": {
    "tags": []
   },
   "outputs": [
    {
     "data": {
      "text/html": [
       "<div>\n",
       "<style scoped>\n",
       "    .dataframe tbody tr th:only-of-type {\n",
       "        vertical-align: middle;\n",
       "    }\n",
       "\n",
       "    .dataframe tbody tr th {\n",
       "        vertical-align: top;\n",
       "    }\n",
       "\n",
       "    .dataframe thead th {\n",
       "        text-align: right;\n",
       "    }\n",
       "</style>\n",
       "<table border=\"1\" class=\"dataframe\">\n",
       "  <thead>\n",
       "    <tr style=\"text-align: right;\">\n",
       "      <th></th>\n",
       "      <th>id</th>\n",
       "      <th>family</th>\n",
       "      <th>language</th>\n",
       "      <th>clus</th>\n",
       "    </tr>\n",
       "  </thead>\n",
       "  <tbody>\n",
       "    <tr>\n",
       "      <th>105</th>\n",
       "      <td>0.3.4.Malagasy</td>\n",
       "      <td>Austronesian</td>\n",
       "      <td>Malagasy</td>\n",
       "      <td>0.3.4.Mal</td>\n",
       "    </tr>\n",
       "  </tbody>\n",
       "</table>\n",
       "</div>"
      ],
      "text/plain": [
       "                 id        family  language       clus\n",
       "105  0.3.4.Malagasy  Austronesian  Malagasy  0.3.4.Mal"
      ]
     },
     "execution_count": 12,
     "metadata": {},
     "output_type": "execute_result"
    }
   ],
   "source": [
    "den.loc[den.language=='Malagasy']"
   ]
  },
  {
   "cell_type": "code",
   "execution_count": null,
   "id": "95c6158b-4e31-4425-b93e-7808e4b85ddd",
   "metadata": {},
   "outputs": [],
   "source": []
  }
 ],
 "metadata": {
  "kernelspec": {
   "display_name": "Python 3 (ipykernel)",
   "language": "python",
   "name": "python3"
  },
  "language_info": {
   "codemirror_mode": {
    "name": "ipython",
    "version": 3
   },
   "file_extension": ".py",
   "mimetype": "text/x-python",
   "name": "python",
   "nbconvert_exporter": "python",
   "pygments_lexer": "ipython3",
   "version": "3.11.3"
  }
 },
 "nbformat": 4,
 "nbformat_minor": 5
}
